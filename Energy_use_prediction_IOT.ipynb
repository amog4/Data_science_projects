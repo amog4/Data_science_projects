{
 "cells": [
  {
   "cell_type": "markdown",
   "metadata": {},
   "source": [
    "#predict energy usage of application\n",
    "Data used include measurements of temperature and humidity sensors from a wireless network, whether from a nearby airport station and recorded energy use of lighting fixtures. The project discusses data filtering to remove non-predictive parameters and feature ranking. The data set is at 10 min for about 4.5 months. The house temperature and humidity conditions were monitored with a ZigBee wireless sensor network. Each wireless node transmitted the temperature and humidity conditions around 3.3 min. Then, the wireless data was averaged for 10 minutes periods. The energy data was logged every 10 minutes with m-bus energy meters. Weather from the nearest airport weather station (Chievres Airport, Belgium) was downloaded from a public data set from Reliable Prognosis (rp5.ru) and merged together with the experimental data sets using the date and time column. Two random variables have been included in the data set for testing the regression models and to filter out non-predictive attributes (parameters).\n"
   ]
  },
  {
   "cell_type": "markdown",
   "metadata": {},
   "source": [
    "#Attribute Information:\n",
    "\n",
    "#date time year-month-day hour:minute:second \n",
    "#Appliances, energy use in Wh \n",
    "#lights, energy use of light fixtures in the house in Wh \n",
    "#T1, Temperature in kitchen area, in Celsius \n",
    "#RH_1, Humidity in kitchen area, in % \n",
    "#T2, Temperature in living room area, in Celsius \n",
    "#RH_2, Humidity in living room area, in % \n",
    "#T3, Temperature in laundry room area \n",
    "#RH_3, Humidity in laundry room area, in % \n",
    "#T4, Temperature in office room, in Celsius \n",
    "#RH_4, Humidity in office room, in % \n",
    "#T5, Temperature in bathroom, in Celsius \n",
    "#RH_5, Humidity in bathroom, in % \n",
    "#T6, Temperature outside the building (north side), in Celsius \n",
    "#RH_6, Humidity outside the building (north side), in % \n",
    "#T7, Temperature in ironing room , in Celsius \n",
    "#RH_7, Humidity in ironing room, in % \n",
    "#T8, Temperature in teenager room 2, in Celsius \n",
    "#RH_8, Humidity in teenager room 2, in % \n",
    "#T9, Temperature in parents room, in Celsius \n",
    "#RH_9, Humidity in parents room, in % \n",
    "#To, Temperature outside (from Chievres weather station), in Celsius \n",
    "#Pressure (from Chievres weather station), in mm Hg \n",
    "#RH_out, Humidity outside (from Chievres weather station), in % \n",
    "#Wind speed (from Chievres weather station), in m/s \n",
    "#Visibility (from Chievres weather station), in km \n",
    "#Tdewpoint (from Chievres weather station), Â°C \n",
    "#rv1, Random variable 1, nondimensional \n",
    "#rv2, Random variable 2, nondimensional "
   ]
  },
  {
   "cell_type": "code",
   "execution_count": null,
   "metadata": {
    "collapsed": true
   },
   "outputs": [],
   "source": [
    "# road map\n",
    "\n",
    "# import data set\n",
    "# data preprocessing\n",
    "# feature creation\n",
    "# EDA\n",
    "# model creation \n",
    "# validation \n",
    "# prediction\n",
    "\n",
    "#regression based model and other supervised models"
   ]
  },
  {
   "cell_type": "code",
   "execution_count": 2,
   "metadata": {
    "collapsed": true
   },
   "outputs": [],
   "source": [
    "# import data"
   ]
  },
  {
   "cell_type": "code",
   "execution_count": 1,
   "metadata": {
    "collapsed": true
   },
   "outputs": [],
   "source": [
    "data_train = read.csv('training.csv')"
   ]
  },
  {
   "cell_type": "code",
   "execution_count": 2,
   "metadata": {
    "collapsed": true
   },
   "outputs": [],
   "source": [
    "data_test = read.csv('testing.csv')"
   ]
  },
  {
   "cell_type": "code",
   "execution_count": 6,
   "metadata": {},
   "outputs": [
    {
     "data": {
      "text/html": [
       "<table>\n",
       "<thead><tr><th scope=col>date</th><th scope=col>Appliances</th><th scope=col>lights</th><th scope=col>T1</th><th scope=col>RH_1</th><th scope=col>T2</th><th scope=col>RH_2</th><th scope=col>T3</th><th scope=col>RH_3</th><th scope=col>T4</th><th scope=col>...</th><th scope=col>Press_mm_hg</th><th scope=col>RH_out</th><th scope=col>Windspeed</th><th scope=col>Visibility</th><th scope=col>Tdewpoint</th><th scope=col>rv1</th><th scope=col>rv2</th><th scope=col>NSM</th><th scope=col>WeekStatus</th><th scope=col>Day_of_week</th></tr></thead>\n",
       "<tbody>\n",
       "\t<tr><td>2016-01-11 17:00:00</td><td>60                 </td><td>30                 </td><td>19.89000           </td><td>47.59667           </td><td>19.2               </td><td>44.79000           </td><td>19.79              </td><td>44.73000           </td><td>19.00000           </td><td>...                </td><td>733.5000           </td><td>92.00000           </td><td>7.000000           </td><td>63.00000           </td><td>5.300000           </td><td>13.27543           </td><td>13.27543           </td><td>61200              </td><td>Weekday            </td><td>Monday             </td></tr>\n",
       "\t<tr><td>2016-01-11 17:10:00</td><td>60                 </td><td>30                 </td><td>19.89000           </td><td>46.69333           </td><td>19.2               </td><td>44.72250           </td><td>19.79              </td><td>44.79000           </td><td>19.00000           </td><td>...                </td><td>733.6000           </td><td>92.00000           </td><td>6.666667           </td><td>59.16667           </td><td>5.200000           </td><td>18.60619           </td><td>18.60619           </td><td>61800              </td><td>Weekday            </td><td>Monday             </td></tr>\n",
       "\t<tr><td>2016-01-11 17:20:00</td><td>50                 </td><td>30                 </td><td>19.89000           </td><td>46.30000           </td><td>19.2               </td><td>44.62667           </td><td>19.79              </td><td>44.93333           </td><td>18.92667           </td><td>...                </td><td>733.7000           </td><td>92.00000           </td><td>6.333333           </td><td>55.33333           </td><td>5.100000           </td><td>28.64267           </td><td>28.64267           </td><td>62400              </td><td>Weekday            </td><td>Monday             </td></tr>\n",
       "\t<tr><td>2016-01-11 17:40:00</td><td>60                 </td><td>40                 </td><td>19.89000           </td><td>46.33333           </td><td>19.2               </td><td>44.53000           </td><td>19.79              </td><td>45.00000           </td><td>18.89000           </td><td>...                </td><td>733.9000           </td><td>92.00000           </td><td>5.666667           </td><td>47.66667           </td><td>4.900000           </td><td>10.08410           </td><td>10.08410           </td><td>63600              </td><td>Weekday            </td><td>Monday             </td></tr>\n",
       "\t<tr><td>2016-01-11 17:50:00</td><td>50                 </td><td>40                 </td><td>19.89000           </td><td>46.02667           </td><td>19.2               </td><td>44.50000           </td><td>19.79              </td><td>44.93333           </td><td>18.89000           </td><td>...                </td><td>734.0000           </td><td>92.00000           </td><td>5.333333           </td><td>43.83333           </td><td>4.800000           </td><td>44.91948           </td><td>44.91948           </td><td>64200              </td><td>Weekday            </td><td>Monday             </td></tr>\n",
       "\t<tr><td>2016-01-11 18:10:00</td><td>60                 </td><td>50                 </td><td>19.85667           </td><td>45.56000           </td><td>19.2               </td><td>44.50000           </td><td>19.73              </td><td>44.90000           </td><td>18.89000           </td><td>...                </td><td>734.1667           </td><td>91.83333           </td><td>5.166667           </td><td>40.00000           </td><td>4.683333           </td><td>33.03989           </td><td>33.03989           </td><td>65400              </td><td>Weekday            </td><td>Monday             </td></tr>\n",
       "</tbody>\n",
       "</table>\n"
      ],
      "text/latex": [
       "\\begin{tabular}{r|llllllllllllllllllllllllllllllll}\n",
       " date & Appliances & lights & T1 & RH\\_1 & T2 & RH\\_2 & T3 & RH\\_3 & T4 & ... & Press\\_mm\\_hg & RH\\_out & Windspeed & Visibility & Tdewpoint & rv1 & rv2 & NSM & WeekStatus & Day\\_of\\_week\\\\\n",
       "\\hline\n",
       "\t 2016-01-11 17:00:00 & 60                  & 30                  & 19.89000            & 47.59667            & 19.2                & 44.79000            & 19.79               & 44.73000            & 19.00000            & ...                 & 733.5000            & 92.00000            & 7.000000            & 63.00000            & 5.300000            & 13.27543            & 13.27543            & 61200               & Weekday             & Monday             \\\\\n",
       "\t 2016-01-11 17:10:00 & 60                  & 30                  & 19.89000            & 46.69333            & 19.2                & 44.72250            & 19.79               & 44.79000            & 19.00000            & ...                 & 733.6000            & 92.00000            & 6.666667            & 59.16667            & 5.200000            & 18.60619            & 18.60619            & 61800               & Weekday             & Monday             \\\\\n",
       "\t 2016-01-11 17:20:00 & 50                  & 30                  & 19.89000            & 46.30000            & 19.2                & 44.62667            & 19.79               & 44.93333            & 18.92667            & ...                 & 733.7000            & 92.00000            & 6.333333            & 55.33333            & 5.100000            & 28.64267            & 28.64267            & 62400               & Weekday             & Monday             \\\\\n",
       "\t 2016-01-11 17:40:00 & 60                  & 40                  & 19.89000            & 46.33333            & 19.2                & 44.53000            & 19.79               & 45.00000            & 18.89000            & ...                 & 733.9000            & 92.00000            & 5.666667            & 47.66667            & 4.900000            & 10.08410            & 10.08410            & 63600               & Weekday             & Monday             \\\\\n",
       "\t 2016-01-11 17:50:00 & 50                  & 40                  & 19.89000            & 46.02667            & 19.2                & 44.50000            & 19.79               & 44.93333            & 18.89000            & ...                 & 734.0000            & 92.00000            & 5.333333            & 43.83333            & 4.800000            & 44.91948            & 44.91948            & 64200               & Weekday             & Monday             \\\\\n",
       "\t 2016-01-11 18:10:00 & 60                  & 50                  & 19.85667            & 45.56000            & 19.2                & 44.50000            & 19.73               & 44.90000            & 18.89000            & ...                 & 734.1667            & 91.83333            & 5.166667            & 40.00000            & 4.683333            & 33.03989            & 33.03989            & 65400               & Weekday             & Monday             \\\\\n",
       "\\end{tabular}\n"
      ],
      "text/markdown": [
       "\n",
       "date | Appliances | lights | T1 | RH_1 | T2 | RH_2 | T3 | RH_3 | T4 | ... | Press_mm_hg | RH_out | Windspeed | Visibility | Tdewpoint | rv1 | rv2 | NSM | WeekStatus | Day_of_week | \n",
       "|---|---|---|---|---|---|\n",
       "| 2016-01-11 17:00:00 | 60                  | 30                  | 19.89000            | 47.59667            | 19.2                | 44.79000            | 19.79               | 44.73000            | 19.00000            | ...                 | 733.5000            | 92.00000            | 7.000000            | 63.00000            | 5.300000            | 13.27543            | 13.27543            | 61200               | Weekday             | Monday              | \n",
       "| 2016-01-11 17:10:00 | 60                  | 30                  | 19.89000            | 46.69333            | 19.2                | 44.72250            | 19.79               | 44.79000            | 19.00000            | ...                 | 733.6000            | 92.00000            | 6.666667            | 59.16667            | 5.200000            | 18.60619            | 18.60619            | 61800               | Weekday             | Monday              | \n",
       "| 2016-01-11 17:20:00 | 50                  | 30                  | 19.89000            | 46.30000            | 19.2                | 44.62667            | 19.79               | 44.93333            | 18.92667            | ...                 | 733.7000            | 92.00000            | 6.333333            | 55.33333            | 5.100000            | 28.64267            | 28.64267            | 62400               | Weekday             | Monday              | \n",
       "| 2016-01-11 17:40:00 | 60                  | 40                  | 19.89000            | 46.33333            | 19.2                | 44.53000            | 19.79               | 45.00000            | 18.89000            | ...                 | 733.9000            | 92.00000            | 5.666667            | 47.66667            | 4.900000            | 10.08410            | 10.08410            | 63600               | Weekday             | Monday              | \n",
       "| 2016-01-11 17:50:00 | 50                  | 40                  | 19.89000            | 46.02667            | 19.2                | 44.50000            | 19.79               | 44.93333            | 18.89000            | ...                 | 734.0000            | 92.00000            | 5.333333            | 43.83333            | 4.800000            | 44.91948            | 44.91948            | 64200               | Weekday             | Monday              | \n",
       "| 2016-01-11 18:10:00 | 60                  | 50                  | 19.85667            | 45.56000            | 19.2                | 44.50000            | 19.73               | 44.90000            | 18.89000            | ...                 | 734.1667            | 91.83333            | 5.166667            | 40.00000            | 4.683333            | 33.03989            | 33.03989            | 65400               | Weekday             | Monday              | \n",
       "\n",
       "\n"
      ],
      "text/plain": [
       "  date                Appliances lights T1       RH_1     T2   RH_2     T3   \n",
       "1 2016-01-11 17:00:00 60         30     19.89000 47.59667 19.2 44.79000 19.79\n",
       "2 2016-01-11 17:10:00 60         30     19.89000 46.69333 19.2 44.72250 19.79\n",
       "3 2016-01-11 17:20:00 50         30     19.89000 46.30000 19.2 44.62667 19.79\n",
       "4 2016-01-11 17:40:00 60         40     19.89000 46.33333 19.2 44.53000 19.79\n",
       "5 2016-01-11 17:50:00 50         40     19.89000 46.02667 19.2 44.50000 19.79\n",
       "6 2016-01-11 18:10:00 60         50     19.85667 45.56000 19.2 44.50000 19.73\n",
       "  RH_3     T4       ... Press_mm_hg RH_out   Windspeed Visibility Tdewpoint\n",
       "1 44.73000 19.00000 ... 733.5000    92.00000 7.000000  63.00000   5.300000 \n",
       "2 44.79000 19.00000 ... 733.6000    92.00000 6.666667  59.16667   5.200000 \n",
       "3 44.93333 18.92667 ... 733.7000    92.00000 6.333333  55.33333   5.100000 \n",
       "4 45.00000 18.89000 ... 733.9000    92.00000 5.666667  47.66667   4.900000 \n",
       "5 44.93333 18.89000 ... 734.0000    92.00000 5.333333  43.83333   4.800000 \n",
       "6 44.90000 18.89000 ... 734.1667    91.83333 5.166667  40.00000   4.683333 \n",
       "  rv1      rv2      NSM   WeekStatus Day_of_week\n",
       "1 13.27543 13.27543 61200 Weekday    Monday     \n",
       "2 18.60619 18.60619 61800 Weekday    Monday     \n",
       "3 28.64267 28.64267 62400 Weekday    Monday     \n",
       "4 10.08410 10.08410 63600 Weekday    Monday     \n",
       "5 44.91948 44.91948 64200 Weekday    Monday     \n",
       "6 33.03989 33.03989 65400 Weekday    Monday     "
      ]
     },
     "metadata": {},
     "output_type": "display_data"
    }
   ],
   "source": [
    "head(data_train)"
   ]
  },
  {
   "cell_type": "code",
   "execution_count": 7,
   "metadata": {},
   "outputs": [
    {
     "data": {
      "text/html": [
       "<ol class=list-inline>\n",
       "\t<li>'date'</li>\n",
       "\t<li>'Appliances'</li>\n",
       "\t<li>'lights'</li>\n",
       "\t<li>'T1'</li>\n",
       "\t<li>'RH_1'</li>\n",
       "\t<li>'T2'</li>\n",
       "\t<li>'RH_2'</li>\n",
       "\t<li>'T3'</li>\n",
       "\t<li>'RH_3'</li>\n",
       "\t<li>'T4'</li>\n",
       "\t<li>'RH_4'</li>\n",
       "\t<li>'T5'</li>\n",
       "\t<li>'RH_5'</li>\n",
       "\t<li>'T6'</li>\n",
       "\t<li>'RH_6'</li>\n",
       "\t<li>'T7'</li>\n",
       "\t<li>'RH_7'</li>\n",
       "\t<li>'T8'</li>\n",
       "\t<li>'RH_8'</li>\n",
       "\t<li>'T9'</li>\n",
       "\t<li>'RH_9'</li>\n",
       "\t<li>'T_out'</li>\n",
       "\t<li>'Press_mm_hg'</li>\n",
       "\t<li>'RH_out'</li>\n",
       "\t<li>'Windspeed'</li>\n",
       "\t<li>'Visibility'</li>\n",
       "\t<li>'Tdewpoint'</li>\n",
       "\t<li>'rv1'</li>\n",
       "\t<li>'rv2'</li>\n",
       "\t<li>'NSM'</li>\n",
       "\t<li>'WeekStatus'</li>\n",
       "\t<li>'Day_of_week'</li>\n",
       "</ol>\n"
      ],
      "text/latex": [
       "\\begin{enumerate*}\n",
       "\\item 'date'\n",
       "\\item 'Appliances'\n",
       "\\item 'lights'\n",
       "\\item 'T1'\n",
       "\\item 'RH\\_1'\n",
       "\\item 'T2'\n",
       "\\item 'RH\\_2'\n",
       "\\item 'T3'\n",
       "\\item 'RH\\_3'\n",
       "\\item 'T4'\n",
       "\\item 'RH\\_4'\n",
       "\\item 'T5'\n",
       "\\item 'RH\\_5'\n",
       "\\item 'T6'\n",
       "\\item 'RH\\_6'\n",
       "\\item 'T7'\n",
       "\\item 'RH\\_7'\n",
       "\\item 'T8'\n",
       "\\item 'RH\\_8'\n",
       "\\item 'T9'\n",
       "\\item 'RH\\_9'\n",
       "\\item 'T\\_out'\n",
       "\\item 'Press\\_mm\\_hg'\n",
       "\\item 'RH\\_out'\n",
       "\\item 'Windspeed'\n",
       "\\item 'Visibility'\n",
       "\\item 'Tdewpoint'\n",
       "\\item 'rv1'\n",
       "\\item 'rv2'\n",
       "\\item 'NSM'\n",
       "\\item 'WeekStatus'\n",
       "\\item 'Day\\_of\\_week'\n",
       "\\end{enumerate*}\n"
      ],
      "text/markdown": [
       "1. 'date'\n",
       "2. 'Appliances'\n",
       "3. 'lights'\n",
       "4. 'T1'\n",
       "5. 'RH_1'\n",
       "6. 'T2'\n",
       "7. 'RH_2'\n",
       "8. 'T3'\n",
       "9. 'RH_3'\n",
       "10. 'T4'\n",
       "11. 'RH_4'\n",
       "12. 'T5'\n",
       "13. 'RH_5'\n",
       "14. 'T6'\n",
       "15. 'RH_6'\n",
       "16. 'T7'\n",
       "17. 'RH_7'\n",
       "18. 'T8'\n",
       "19. 'RH_8'\n",
       "20. 'T9'\n",
       "21. 'RH_9'\n",
       "22. 'T_out'\n",
       "23. 'Press_mm_hg'\n",
       "24. 'RH_out'\n",
       "25. 'Windspeed'\n",
       "26. 'Visibility'\n",
       "27. 'Tdewpoint'\n",
       "28. 'rv1'\n",
       "29. 'rv2'\n",
       "30. 'NSM'\n",
       "31. 'WeekStatus'\n",
       "32. 'Day_of_week'\n",
       "\n",
       "\n"
      ],
      "text/plain": [
       " [1] \"date\"        \"Appliances\"  \"lights\"      \"T1\"          \"RH_1\"       \n",
       " [6] \"T2\"          \"RH_2\"        \"T3\"          \"RH_3\"        \"T4\"         \n",
       "[11] \"RH_4\"        \"T5\"          \"RH_5\"        \"T6\"          \"RH_6\"       \n",
       "[16] \"T7\"          \"RH_7\"        \"T8\"          \"RH_8\"        \"T9\"         \n",
       "[21] \"RH_9\"        \"T_out\"       \"Press_mm_hg\" \"RH_out\"      \"Windspeed\"  \n",
       "[26] \"Visibility\"  \"Tdewpoint\"   \"rv1\"         \"rv2\"         \"NSM\"        \n",
       "[31] \"WeekStatus\"  \"Day_of_week\""
      ]
     },
     "metadata": {},
     "output_type": "display_data"
    }
   ],
   "source": [
    "colnames(data_train)"
   ]
  },
  {
   "cell_type": "code",
   "execution_count": 11,
   "metadata": {
    "collapsed": true
   },
   "outputs": [],
   "source": [
    "#data_train$WeekStatus"
   ]
  },
  {
   "cell_type": "code",
   "execution_count": 12,
   "metadata": {},
   "outputs": [
    {
     "data": {
      "text/html": [
       "<table>\n",
       "<thead><tr><th scope=col>date</th><th scope=col>Appliances</th><th scope=col>lights</th><th scope=col>T1</th><th scope=col>RH_1</th><th scope=col>T2</th><th scope=col>RH_2</th><th scope=col>T3</th><th scope=col>RH_3</th><th scope=col>T4</th><th scope=col>...</th><th scope=col>Press_mm_hg</th><th scope=col>RH_out</th><th scope=col>Windspeed</th><th scope=col>Visibility</th><th scope=col>Tdewpoint</th><th scope=col>rv1</th><th scope=col>rv2</th><th scope=col>NSM</th><th scope=col>WeekStatus</th><th scope=col>Day_of_week</th></tr></thead>\n",
       "<tbody>\n",
       "\t<tr><td>2016-01-11 17:30:00</td><td> 50                </td><td>40                 </td><td>19.89000           </td><td>46.06667           </td><td>19.20000           </td><td>44.59              </td><td>19.79              </td><td>45.0               </td><td>18.89              </td><td>...                </td><td>733.8000           </td><td>92.00000           </td><td>6.000000           </td><td>51.5               </td><td>5.000000           </td><td>45.41039           </td><td>45.41039           </td><td>63000              </td><td>Weekday            </td><td>Monday             </td></tr>\n",
       "\t<tr><td>2016-01-11 18:00:00</td><td> 60                </td><td>50                 </td><td>19.89000           </td><td>45.76667           </td><td>19.20000           </td><td>44.50              </td><td>19.79              </td><td>44.9               </td><td>18.89              </td><td>...                </td><td>734.1000           </td><td>92.00000           </td><td>5.000000           </td><td>40.0               </td><td>4.700000           </td><td>47.23376           </td><td>47.23376           </td><td>64800              </td><td>Weekday            </td><td>Monday             </td></tr>\n",
       "\t<tr><td>2016-01-11 18:40:00</td><td>230                </td><td>70                 </td><td>19.92667           </td><td>45.86333           </td><td>19.35667           </td><td>44.40              </td><td>19.79              </td><td>44.9               </td><td>18.89              </td><td>...                </td><td>734.3667           </td><td>91.33333           </td><td>5.666667           </td><td>40.0               </td><td>4.633333           </td><td>10.29873           </td><td>10.29873           </td><td>67200              </td><td>Weekday            </td><td>Monday             </td></tr>\n",
       "</tbody>\n",
       "</table>\n"
      ],
      "text/latex": [
       "\\begin{tabular}{r|llllllllllllllllllllllllllllllll}\n",
       " date & Appliances & lights & T1 & RH\\_1 & T2 & RH\\_2 & T3 & RH\\_3 & T4 & ... & Press\\_mm\\_hg & RH\\_out & Windspeed & Visibility & Tdewpoint & rv1 & rv2 & NSM & WeekStatus & Day\\_of\\_week\\\\\n",
       "\\hline\n",
       "\t 2016-01-11 17:30:00 &  50                 & 40                  & 19.89000            & 46.06667            & 19.20000            & 44.59               & 19.79               & 45.0                & 18.89               & ...                 & 733.8000            & 92.00000            & 6.000000            & 51.5                & 5.000000            & 45.41039            & 45.41039            & 63000               & Weekday             & Monday             \\\\\n",
       "\t 2016-01-11 18:00:00 &  60                 & 50                  & 19.89000            & 45.76667            & 19.20000            & 44.50               & 19.79               & 44.9                & 18.89               & ...                 & 734.1000            & 92.00000            & 5.000000            & 40.0                & 4.700000            & 47.23376            & 47.23376            & 64800               & Weekday             & Monday             \\\\\n",
       "\t 2016-01-11 18:40:00 & 230                 & 70                  & 19.92667            & 45.86333            & 19.35667            & 44.40               & 19.79               & 44.9                & 18.89               & ...                 & 734.3667            & 91.33333            & 5.666667            & 40.0                & 4.633333            & 10.29873            & 10.29873            & 67200               & Weekday             & Monday             \\\\\n",
       "\\end{tabular}\n"
      ],
      "text/markdown": [
       "\n",
       "date | Appliances | lights | T1 | RH_1 | T2 | RH_2 | T3 | RH_3 | T4 | ... | Press_mm_hg | RH_out | Windspeed | Visibility | Tdewpoint | rv1 | rv2 | NSM | WeekStatus | Day_of_week | \n",
       "|---|---|---|\n",
       "| 2016-01-11 17:30:00 |  50                 | 40                  | 19.89000            | 46.06667            | 19.20000            | 44.59               | 19.79               | 45.0                | 18.89               | ...                 | 733.8000            | 92.00000            | 6.000000            | 51.5                | 5.000000            | 45.41039            | 45.41039            | 63000               | Weekday             | Monday              | \n",
       "| 2016-01-11 18:00:00 |  60                 | 50                  | 19.89000            | 45.76667            | 19.20000            | 44.50               | 19.79               | 44.9                | 18.89               | ...                 | 734.1000            | 92.00000            | 5.000000            | 40.0                | 4.700000            | 47.23376            | 47.23376            | 64800               | Weekday             | Monday              | \n",
       "| 2016-01-11 18:40:00 | 230                 | 70                  | 19.92667            | 45.86333            | 19.35667            | 44.40               | 19.79               | 44.9                | 18.89               | ...                 | 734.3667            | 91.33333            | 5.666667            | 40.0                | 4.633333            | 10.29873            | 10.29873            | 67200               | Weekday             | Monday              | \n",
       "\n",
       "\n"
      ],
      "text/plain": [
       "  date                Appliances lights T1       RH_1     T2       RH_2  T3   \n",
       "1 2016-01-11 17:30:00  50        40     19.89000 46.06667 19.20000 44.59 19.79\n",
       "2 2016-01-11 18:00:00  60        50     19.89000 45.76667 19.20000 44.50 19.79\n",
       "3 2016-01-11 18:40:00 230        70     19.92667 45.86333 19.35667 44.40 19.79\n",
       "  RH_3 T4    ... Press_mm_hg RH_out   Windspeed Visibility Tdewpoint rv1     \n",
       "1 45.0 18.89 ... 733.8000    92.00000 6.000000  51.5       5.000000  45.41039\n",
       "2 44.9 18.89 ... 734.1000    92.00000 5.000000  40.0       4.700000  47.23376\n",
       "3 44.9 18.89 ... 734.3667    91.33333 5.666667  40.0       4.633333  10.29873\n",
       "  rv2      NSM   WeekStatus Day_of_week\n",
       "1 45.41039 63000 Weekday    Monday     \n",
       "2 47.23376 64800 Weekday    Monday     \n",
       "3 10.29873 67200 Weekday    Monday     "
      ]
     },
     "metadata": {},
     "output_type": "display_data"
    }
   ],
   "source": [
    "head(data_test,3)"
   ]
  },
  {
   "cell_type": "code",
   "execution_count": 13,
   "metadata": {},
   "outputs": [
    {
     "data": {
      "text/html": [
       "<ol class=list-inline>\n",
       "\t<li>14803</li>\n",
       "\t<li>32</li>\n",
       "</ol>\n"
      ],
      "text/latex": [
       "\\begin{enumerate*}\n",
       "\\item 14803\n",
       "\\item 32\n",
       "\\end{enumerate*}\n"
      ],
      "text/markdown": [
       "1. 14803\n",
       "2. 32\n",
       "\n",
       "\n"
      ],
      "text/plain": [
       "[1] 14803    32"
      ]
     },
     "metadata": {},
     "output_type": "display_data"
    }
   ],
   "source": [
    "dim(data_train)"
   ]
  },
  {
   "cell_type": "code",
   "execution_count": 14,
   "metadata": {},
   "outputs": [
    {
     "data": {
      "text/html": [
       "<ol class=list-inline>\n",
       "\t<li>4932</li>\n",
       "\t<li>32</li>\n",
       "</ol>\n"
      ],
      "text/latex": [
       "\\begin{enumerate*}\n",
       "\\item 4932\n",
       "\\item 32\n",
       "\\end{enumerate*}\n"
      ],
      "text/markdown": [
       "1. 4932\n",
       "2. 32\n",
       "\n",
       "\n"
      ],
      "text/plain": [
       "[1] 4932   32"
      ]
     },
     "metadata": {},
     "output_type": "display_data"
    }
   ],
   "source": [
    "dim(data_test)"
   ]
  },
  {
   "cell_type": "code",
   "execution_count": 15,
   "metadata": {},
   "outputs": [
    {
     "name": "stdout",
     "output_type": "stream",
     "text": [
      "'data.frame':\t14803 obs. of  32 variables:\n",
      " $ date       : Factor w/ 14803 levels \"2016-01-11 17:00:00\",..: 1 2 3 4 5 6 7 8 9 10 ...\n",
      " $ Appliances : int  60 60 50 60 50 60 60 70 430 250 ...\n",
      " $ lights     : int  30 30 30 40 40 50 40 40 50 40 ...\n",
      " $ T1         : num  19.9 19.9 19.9 19.9 19.9 ...\n",
      " $ RH_1       : num  47.6 46.7 46.3 46.3 46 ...\n",
      " $ T2         : num  19.2 19.2 19.2 19.2 19.2 ...\n",
      " $ RH_2       : num  44.8 44.7 44.6 44.5 44.5 ...\n",
      " $ T3         : num  19.8 19.8 19.8 19.8 19.8 ...\n",
      " $ RH_3       : num  44.7 44.8 44.9 45 44.9 ...\n",
      " $ T4         : num  19 19 18.9 18.9 18.9 ...\n",
      " $ RH_4       : num  45.6 46 45.9 45.5 45.7 ...\n",
      " $ T5         : num  17.2 17.2 17.2 17.2 17.1 ...\n",
      " $ RH_5       : num  55.2 55.2 55.1 55.1 55 ...\n",
      " $ T6         : num  7.03 6.83 6.56 6.37 6.3 ...\n",
      " $ RH_6       : num  84.3 84.1 83.2 84.9 85.8 ...\n",
      " $ T7         : num  17.2 17.2 17.2 17.2 17.1 ...\n",
      " $ RH_7       : num  41.6 41.6 41.4 41.2 41.3 ...\n",
      " $ T8         : num  18.2 18.2 18.2 18.1 18.1 ...\n",
      " $ RH_8       : num  48.9 48.9 48.7 48.6 48.6 ...\n",
      " $ T9         : num  17 17.1 17 17 17 ...\n",
      " $ RH_9       : num  45.5 45.6 45.5 45.4 45.3 ...\n",
      " $ T_out      : num  6.6 6.48 6.37 6.13 6.02 ...\n",
      " $ Press_mm_hg: num  734 734 734 734 734 ...\n",
      " $ RH_out     : num  92 92 92 92 92 ...\n",
      " $ Windspeed  : num  7 6.67 6.33 5.67 5.33 ...\n",
      " $ Visibility : num  63 59.2 55.3 47.7 43.8 ...\n",
      " $ Tdewpoint  : num  5.3 5.2 5.1 4.9 4.8 ...\n",
      " $ rv1        : num  13.3 18.6 28.6 10.1 44.9 ...\n",
      " $ rv2        : num  13.3 18.6 28.6 10.1 44.9 ...\n",
      " $ NSM        : int  61200 61800 62400 63600 64200 65400 66000 66600 68400 69000 ...\n",
      " $ WeekStatus : Factor w/ 2 levels \"Weekday\",\"Weekend\": 1 1 1 1 1 1 1 1 1 1 ...\n",
      " $ Day_of_week: Factor w/ 7 levels \"Friday\",\"Monday\",..: 2 2 2 2 2 2 2 2 2 2 ...\n"
     ]
    }
   ],
   "source": [
    "str(data_train)"
   ]
  },
  {
   "cell_type": "code",
   "execution_count": 13,
   "metadata": {},
   "outputs": [
    {
     "name": "stderr",
     "output_type": "stream",
     "text": [
      "Warning message:\n",
      "\"package 'gbm' was built under R version 3.4.3\"Loading required package: survival\n",
      "\n",
      "Attaching package: 'survival'\n",
      "\n",
      "The following object is masked from 'package:caret':\n",
      "\n",
      "    cluster\n",
      "\n",
      "Loading required package: splines\n",
      "Loading required package: parallel\n",
      "Loaded gbm 2.1.3\n",
      "Warning message:\n",
      "\"package 'doParallel' was built under R version 3.4.3\"Loading required package: foreach\n",
      "Warning message:\n",
      "\"package 'foreach' was built under R version 3.4.3\"Loading required package: iterators\n",
      "Warning message:\n",
      "\"package 'iterators' was built under R version 3.4.3\"Warning message:\n",
      "\"package 'pROC' was built under R version 3.4.3\"Type 'citation(\"pROC\")' for a citation.\n",
      "\n",
      "Attaching package: 'pROC'\n",
      "\n",
      "The following objects are masked from 'package:stats':\n",
      "\n",
      "    cov, smooth, var\n",
      "\n",
      "Warning message:\n",
      "\"package 'corrplot' was built under R version 3.4.3\"corrplot 0.84 loaded\n",
      "Warning message:\n",
      "\"package 'psych' was built under R version 3.4.3\"\n",
      "Attaching package: 'psych'\n",
      "\n",
      "The following objects are masked from 'package:ggplot2':\n",
      "\n",
      "    %+%, alpha\n",
      "\n",
      "Warning message:\n",
      "\"package 'lubridate' was built under R version 3.4.3\"\n",
      "Attaching package: 'lubridate'\n",
      "\n",
      "The following object is masked from 'package:base':\n",
      "\n",
      "    date\n",
      "\n"
     ]
    }
   ],
   "source": [
    "library(rpart)\n",
    "library(gbm)\n",
    "library(doParallel)\n",
    "library(pROC)\n",
    "\n",
    "library(corrplot)\n",
    "library(psych)\n",
    "library(lubridate)"
   ]
  },
  {
   "cell_type": "code",
   "execution_count": null,
   "metadata": {
    "collapsed": true
   },
   "outputs": [],
   "source": [
    "# modifying date"
   ]
  },
  {
   "cell_type": "code",
   "execution_count": 4,
   "metadata": {
    "collapsed": true
   },
   "outputs": [],
   "source": [
    "df = rbind(data_train,data_test)"
   ]
  },
  {
   "cell_type": "code",
   "execution_count": 5,
   "metadata": {},
   "outputs": [
    {
     "data": {
      "text/html": [
       "<ol class=list-inline>\n",
       "\t<li>19735</li>\n",
       "\t<li>32</li>\n",
       "</ol>\n"
      ],
      "text/latex": [
       "\\begin{enumerate*}\n",
       "\\item 19735\n",
       "\\item 32\n",
       "\\end{enumerate*}\n"
      ],
      "text/markdown": [
       "1. 19735\n",
       "2. 32\n",
       "\n",
       "\n"
      ],
      "text/plain": [
       "[1] 19735    32"
      ]
     },
     "metadata": {},
     "output_type": "display_data"
    }
   ],
   "source": [
    "dim(df)"
   ]
  },
  {
   "cell_type": "code",
   "execution_count": 6,
   "metadata": {
    "collapsed": true
   },
   "outputs": [],
   "source": [
    "df$date = as.character(df$date)"
   ]
  },
  {
   "cell_type": "code",
   "execution_count": 7,
   "metadata": {
    "collapsed": true
   },
   "outputs": [],
   "source": [
    "df$date = strptime(df$date,format = \"%Y-%m-%d %H:%M:%S\")"
   ]
  },
  {
   "cell_type": "code",
   "execution_count": 8,
   "metadata": {
    "collapsed": true
   },
   "outputs": [],
   "source": [
    "df$date = as.POSIXct(df$date,tz = \"UTC\")"
   ]
  },
  {
   "cell_type": "code",
   "execution_count": 9,
   "metadata": {},
   "outputs": [
    {
     "data": {
      "text/html": [
       "<ol class=list-inline>\n",
       "\t<li>'POSIXct'</li>\n",
       "\t<li>'POSIXt'</li>\n",
       "</ol>\n"
      ],
      "text/latex": [
       "\\begin{enumerate*}\n",
       "\\item 'POSIXct'\n",
       "\\item 'POSIXt'\n",
       "\\end{enumerate*}\n"
      ],
      "text/markdown": [
       "1. 'POSIXct'\n",
       "2. 'POSIXt'\n",
       "\n",
       "\n"
      ],
      "text/plain": [
       "[1] \"POSIXct\" \"POSIXt\" "
      ]
     },
     "metadata": {},
     "output_type": "display_data"
    }
   ],
   "source": [
    "class(df$date)"
   ]
  },
  {
   "cell_type": "code",
   "execution_count": 10,
   "metadata": {
    "collapsed": true
   },
   "outputs": [],
   "source": [
    "second_day <- function(x){\n",
    "    s <- hour(x)*3600+minute(x)*60+second(x)\n",
    "}"
   ]
  },
  {
   "cell_type": "code",
   "execution_count": 11,
   "metadata": {
    "collapsed": true
   },
   "outputs": [],
   "source": [
    "weekend <- function(x){\n",
    "    ind <- weekdays(x)\n",
    "    if( ind == 'Saturday' | ind == 'Sunday' ) {\n",
    "        ind2 = 'Weekend'\n",
    "    }\n",
    "    else {\n",
    "        ind2 = 'Weekday'\n",
    "    }\n",
    "    return(ind2)\n",
    "}"
   ]
  },
  {
   "cell_type": "code",
   "execution_count": 12,
   "metadata": {
    "collapsed": true
   },
   "outputs": [],
   "source": [
    "df1 = second_day(df$date)"
   ]
  },
  {
   "cell_type": "code",
   "execution_count": 13,
   "metadata": {},
   "outputs": [
    {
     "data": {
      "text/html": [
       "<ol class=list-inline>\n",
       "\t<li>61200</li>\n",
       "\t<li>61800</li>\n",
       "\t<li>62400</li>\n",
       "\t<li>63600</li>\n",
       "\t<li>64200</li>\n",
       "\t<li>65400</li>\n",
       "</ol>\n"
      ],
      "text/latex": [
       "\\begin{enumerate*}\n",
       "\\item 61200\n",
       "\\item 61800\n",
       "\\item 62400\n",
       "\\item 63600\n",
       "\\item 64200\n",
       "\\item 65400\n",
       "\\end{enumerate*}\n"
      ],
      "text/markdown": [
       "1. 61200\n",
       "2. 61800\n",
       "3. 62400\n",
       "4. 63600\n",
       "5. 64200\n",
       "6. 65400\n",
       "\n",
       "\n"
      ],
      "text/plain": [
       "[1] 61200 61800 62400 63600 64200 65400"
      ]
     },
     "metadata": {},
     "output_type": "display_data"
    }
   ],
   "source": [
    "head(df1)"
   ]
  },
  {
   "cell_type": "code",
   "execution_count": 14,
   "metadata": {},
   "outputs": [
    {
     "data": {
      "text/html": [
       "<ol class=list-inline>\n",
       "\t<li>Weekday</li>\n",
       "\t<li>Weekend</li>\n",
       "</ol>\n"
      ],
      "text/latex": [
       "\\begin{enumerate*}\n",
       "\\item Weekday\n",
       "\\item Weekend\n",
       "\\end{enumerate*}\n"
      ],
      "text/markdown": [
       "1. Weekday\n",
       "2. Weekend\n",
       "\n",
       "\n"
      ],
      "text/plain": [
       "[1] Weekday Weekend\n",
       "Levels: Weekday Weekend"
      ]
     },
     "metadata": {},
     "output_type": "display_data"
    }
   ],
   "source": [
    "unique(df$WeekStatus)"
   ]
  },
  {
   "cell_type": "code",
   "execution_count": 45,
   "metadata": {},
   "outputs": [
    {
     "data": {
      "text/html": [
       "<ol class=list-inline>\n",
       "\t<li>Monday</li>\n",
       "\t<li>Tuesday</li>\n",
       "\t<li>Wednesday</li>\n",
       "\t<li>Thursday</li>\n",
       "\t<li>Friday</li>\n",
       "\t<li>Saturday</li>\n",
       "\t<li>Sunday</li>\n",
       "</ol>\n"
      ],
      "text/latex": [
       "\\begin{enumerate*}\n",
       "\\item Monday\n",
       "\\item Tuesday\n",
       "\\item Wednesday\n",
       "\\item Thursday\n",
       "\\item Friday\n",
       "\\item Saturday\n",
       "\\item Sunday\n",
       "\\end{enumerate*}\n"
      ],
      "text/markdown": [
       "1. Monday\n",
       "2. Tuesday\n",
       "3. Wednesday\n",
       "4. Thursday\n",
       "5. Friday\n",
       "6. Saturday\n",
       "7. Sunday\n",
       "\n",
       "\n"
      ],
      "text/plain": [
       "[1] Monday    Tuesday   Wednesday Thursday  Friday    Saturday  Sunday   \n",
       "Levels: Friday Monday Saturday Sunday Thursday Tuesday Wednesday"
      ]
     },
     "metadata": {},
     "output_type": "display_data"
    }
   ],
   "source": [
    "unique(df$Day_of_week)"
   ]
  },
  {
   "cell_type": "code",
   "execution_count": 46,
   "metadata": {},
   "outputs": [
    {
     "data": {
      "text/plain": [
       "      date                       Appliances          lights      \n",
       " Min.   :2016-01-11 17:00:00   Min.   :  10.00   Min.   : 0.000  \n",
       " 1st Qu.:2016-02-14 23:15:00   1st Qu.:  50.00   1st Qu.: 0.000  \n",
       " Median :2016-03-20 05:30:00   Median :  60.00   Median : 0.000  \n",
       " Mean   :2016-03-20 05:30:00   Mean   :  97.69   Mean   : 3.802  \n",
       " 3rd Qu.:2016-04-23 11:45:00   3rd Qu.: 100.00   3rd Qu.: 0.000  \n",
       " Max.   :2016-05-27 18:00:00   Max.   :1080.00   Max.   :70.000  \n",
       "                                                                 \n",
       "       T1             RH_1             T2             RH_2      \n",
       " Min.   :16.79   Min.   :27.02   Min.   :16.10   Min.   :20.46  \n",
       " 1st Qu.:20.76   1st Qu.:37.33   1st Qu.:18.79   1st Qu.:37.90  \n",
       " Median :21.60   Median :39.66   Median :20.00   Median :40.50  \n",
       " Mean   :21.69   Mean   :40.26   Mean   :20.34   Mean   :40.42  \n",
       " 3rd Qu.:22.60   3rd Qu.:43.07   3rd Qu.:21.50   3rd Qu.:43.26  \n",
       " Max.   :26.26   Max.   :63.36   Max.   :29.86   Max.   :56.03  \n",
       "                                                                \n",
       "       T3             RH_3             T4             RH_4      \n",
       " Min.   :17.20   Min.   :28.77   Min.   :15.10   Min.   :27.66  \n",
       " 1st Qu.:20.79   1st Qu.:36.90   1st Qu.:19.53   1st Qu.:35.53  \n",
       " Median :22.10   Median :38.53   Median :20.67   Median :38.40  \n",
       " Mean   :22.27   Mean   :39.24   Mean   :20.86   Mean   :39.03  \n",
       " 3rd Qu.:23.29   3rd Qu.:41.76   3rd Qu.:22.10   3rd Qu.:42.16  \n",
       " Max.   :29.24   Max.   :50.16   Max.   :26.20   Max.   :51.09  \n",
       "                                                                \n",
       "       T5             RH_5             T6              RH_6      \n",
       " Min.   :15.33   Min.   :29.82   Min.   :-6.065   Min.   : 1.00  \n",
       " 1st Qu.:18.28   1st Qu.:45.40   1st Qu.: 3.627   1st Qu.:30.02  \n",
       " Median :19.39   Median :49.09   Median : 7.300   Median :55.29  \n",
       " Mean   :19.59   Mean   :50.95   Mean   : 7.911   Mean   :54.61  \n",
       " 3rd Qu.:20.62   3rd Qu.:53.66   3rd Qu.:11.256   3rd Qu.:83.23  \n",
       " Max.   :25.80   Max.   :96.32   Max.   :28.290   Max.   :99.90  \n",
       "                                                                 \n",
       "       T7             RH_7             T8             RH_8      \n",
       " Min.   :15.39   Min.   :23.20   Min.   :16.31   Min.   :29.60  \n",
       " 1st Qu.:18.70   1st Qu.:31.50   1st Qu.:20.79   1st Qu.:39.07  \n",
       " Median :20.03   Median :34.86   Median :22.10   Median :42.38  \n",
       " Mean   :20.27   Mean   :35.39   Mean   :22.03   Mean   :42.94  \n",
       " 3rd Qu.:21.60   3rd Qu.:39.00   3rd Qu.:23.39   3rd Qu.:46.54  \n",
       " Max.   :26.00   Max.   :51.40   Max.   :27.23   Max.   :58.78  \n",
       "                                                                \n",
       "       T9             RH_9           T_out         Press_mm_hg   \n",
       " Min.   :14.89   Min.   :29.17   Min.   :-5.000   Min.   :729.3  \n",
       " 1st Qu.:18.00   1st Qu.:38.50   1st Qu.: 3.667   1st Qu.:750.9  \n",
       " Median :19.39   Median :40.90   Median : 6.917   Median :756.1  \n",
       " Mean   :19.49   Mean   :41.55   Mean   : 7.412   Mean   :755.5  \n",
       " 3rd Qu.:20.60   3rd Qu.:44.34   3rd Qu.:10.408   3rd Qu.:760.9  \n",
       " Max.   :24.50   Max.   :53.33   Max.   :26.100   Max.   :772.3  \n",
       "                                                                 \n",
       "     RH_out         Windspeed        Visibility      Tdewpoint     \n",
       " Min.   : 24.00   Min.   : 0.000   Min.   : 1.00   Min.   :-6.600  \n",
       " 1st Qu.: 70.33   1st Qu.: 2.000   1st Qu.:29.00   1st Qu.: 0.900  \n",
       " Median : 83.67   Median : 3.667   Median :40.00   Median : 3.433  \n",
       " Mean   : 79.75   Mean   : 4.040   Mean   :38.33   Mean   : 3.761  \n",
       " 3rd Qu.: 91.67   3rd Qu.: 5.500   3rd Qu.:40.00   3rd Qu.: 6.567  \n",
       " Max.   :100.00   Max.   :14.000   Max.   :66.00   Max.   :15.500  \n",
       "                                                                   \n",
       "      rv1                rv2                NSM          WeekStatus   \n",
       " Min.   : 0.00532   Min.   : 0.00532   Min.   :    0   Weekday:14263  \n",
       " 1st Qu.:12.49789   1st Qu.:12.49789   1st Qu.:21600   Weekend: 5472  \n",
       " Median :24.89765   Median :24.89765   Median :43200                  \n",
       " Mean   :24.98803   Mean   :24.98803   Mean   :42907                  \n",
       " 3rd Qu.:37.58377   3rd Qu.:37.58377   3rd Qu.:64200                  \n",
       " Max.   :49.99653   Max.   :49.99653   Max.   :85800                  \n",
       "                                                                      \n",
       "    Day_of_week  \n",
       " Friday   :2845  \n",
       " Monday   :2778  \n",
       " Saturday :2736  \n",
       " Sunday   :2736  \n",
       " Thursday :2880  \n",
       " Tuesday  :2880  \n",
       " Wednesday:2880  "
      ]
     },
     "metadata": {},
     "output_type": "display_data"
    }
   ],
   "source": [
    "summary(df)"
   ]
  },
  {
   "cell_type": "code",
   "execution_count": 47,
   "metadata": {
    "collapsed": true
   },
   "outputs": [],
   "source": [
    "# ploting importent varibles"
   ]
  },
  {
   "cell_type": "code",
   "execution_count": 48,
   "metadata": {},
   "outputs": [
    {
     "data": {
      "image/png": "[encoded data removed]",
      "text/plain": [
       "Plot with title \"density.default(x = df$Appliances)\""
      ]
     },
     "metadata": {},
     "output_type": "display_data"
    }
   ],
   "source": [
    "plot(density(df$Appliances))"
   ]
  },
  {
   "cell_type": "code",
   "execution_count": 49,
   "metadata": {},
   "outputs": [
    {
     "data": {
      "image/png": "[encoded data removed]",
      "text/plain": [
       "Plot with title \"density.default(x = df$light)\""
      ]
     },
     "metadata": {},
     "output_type": "display_data"
    }
   ],
   "source": [
    "plot(density(df$light))"
   ]
  },
  {
   "cell_type": "code",
   "execution_count": 50,
   "metadata": {},
   "outputs": [
    {
     "data": {
      "image/png": "[encoded data removed]",
      "text/plain": [
       "Plot with title \"density.default(x = df$T1)\""
      ]
     },
     "metadata": {},
     "output_type": "display_data"
    }
   ],
   "source": [
    "plot(density(df$T1))"
   ]
  },
  {
   "cell_type": "code",
   "execution_count": 51,
   "metadata": {},
   "outputs": [
    {
     "data": {
      "image/png": "[encoded data removed]",
      "text/plain": [
       "Plot with title \"density.default(x = df$T6)\""
      ]
     },
     "metadata": {},
     "output_type": "display_data"
    }
   ],
   "source": [
    "plot(density(df$T6))"
   ]
  },
  {
   "cell_type": "code",
   "execution_count": 52,
   "metadata": {},
   "outputs": [
    {
     "data": {
      "image/png": "[encoded data removed]",
      "text/plain": [
       "Plot with title \"density.default(x = df$RH_6)\""
      ]
     },
     "metadata": {},
     "output_type": "display_data"
    }
   ],
   "source": [
    "plot(density(df$RH_6))"
   ]
  },
  {
   "cell_type": "code",
   "execution_count": 53,
   "metadata": {},
   "outputs": [
    {
     "data": {
      "image/png": "[encoded data removed]",
      "text/plain": [
       "Plot with title \"density.default(x = df$Press_mm_hg)\""
      ]
     },
     "metadata": {},
     "output_type": "display_data"
    }
   ],
   "source": [
    "plot(density(df$Press_mm_hg))"
   ]
  },
  {
   "cell_type": "code",
   "execution_count": 15,
   "metadata": {},
   "outputs": [
    {
     "name": "stderr",
     "output_type": "stream",
     "text": [
      "Warning message:\n",
      "\"package 'ggplot2' was built under R version 3.4.3\"\n",
      "Attaching package: 'ggplot2'\n",
      "\n",
      "The following objects are masked from 'package:psych':\n",
      "\n",
      "    %+%, alpha\n",
      "\n",
      "Warning message:\n",
      "\"package 'gridExtra' was built under R version 3.4.3\""
     ]
    }
   ],
   "source": [
    "library(ggplot2)\n",
    "library(gridExtra)"
   ]
  },
  {
   "cell_type": "code",
   "execution_count": 60,
   "metadata": {},
   "outputs": [
    {
     "data": {},
     "metadata": {},
     "output_type": "display_data"
    },
    {
     "data": {
      "image/png": "[encoded data removed]",
      "text/plain": [
       "plot without title"
      ]
     },
     "metadata": {},
     "output_type": "display_data"
    }
   ],
   "source": [
    "qplot(df$date,df$Appliances,xlab = 'Time',ylab = 'Application',geom = 'line')"
   ]
  },
  {
   "cell_type": "code",
   "execution_count": 63,
   "metadata": {},
   "outputs": [
    {
     "data": {},
     "metadata": {},
     "output_type": "display_data"
    },
    {
     "data": {
      "image/png": "[encoded data removed]",
      "text/plain": [
       "plot without title"
      ]
     },
     "metadata": {},
     "output_type": "display_data"
    }
   ],
   "source": [
    "qplot(df$date[1:100],df$Appliances[1:100], geom='line',xlab='Time',ylab='Application')"
   ]
  },
  {
   "cell_type": "code",
   "execution_count": 64,
   "metadata": {
    "collapsed": true
   },
   "outputs": [],
   "source": [
    "# define and compute the outlines"
   ]
  },
  {
   "cell_type": "code",
   "execution_count": 65,
   "metadata": {
    "collapsed": true
   },
   "outputs": [],
   "source": [
    "# interquatile range "
   ]
  },
  {
   "cell_type": "code",
   "execution_count": 70,
   "metadata": {},
   "outputs": [
    {
     "data": {
      "text/html": [
       "2138"
      ],
      "text/latex": [
       "2138"
      ],
      "text/markdown": [
       "2138"
      ],
      "text/plain": [
       "[1] 2138"
      ]
     },
     "metadata": {},
     "output_type": "display_data"
    },
    {
     "data": {
      "image/png": "[encoded data removed]",
      "text/plain": [
       "plot without title"
      ]
     },
     "metadata": {},
     "output_type": "display_data"
    }
   ],
   "source": [
    "length((boxplot(df$Appliances))$out)"
   ]
  },
  {
   "cell_type": "code",
   "execution_count": 75,
   "metadata": {},
   "outputs": [
    {
     "data": {
      "text/html": [
       "4483"
      ],
      "text/latex": [
       "4483"
      ],
      "text/markdown": [
       "4483"
      ],
      "text/plain": [
       "[1] 4483"
      ]
     },
     "metadata": {},
     "output_type": "display_data"
    },
    {
     "data": {
      "image/png": "[encoded data removed]",
      "text/plain": [
       "plot without title"
      ]
     },
     "metadata": {},
     "output_type": "display_data"
    }
   ],
   "source": [
    "length((boxplot(df$lights))$out)"
   ]
  },
  {
   "cell_type": "code",
   "execution_count": 87,
   "metadata": {},
   "outputs": [
    {
     "data": {
      "text/html": [
       "<ol class=list-inline>\n",
       "\t<li>19735</li>\n",
       "\t<li>32</li>\n",
       "</ol>\n"
      ],
      "text/latex": [
       "\\begin{enumerate*}\n",
       "\\item 19735\n",
       "\\item 32\n",
       "\\end{enumerate*}\n"
      ],
      "text/markdown": [
       "1. 19735\n",
       "2. 32\n",
       "\n",
       "\n"
      ],
      "text/plain": [
       "[1] 19735    32"
      ]
     },
     "metadata": {},
     "output_type": "display_data"
    },
    {
     "data": {
      "text/html": [
       "515"
      ],
      "text/latex": [
       "515"
      ],
      "text/markdown": [
       "515"
      ],
      "text/plain": [
       "[1] 515"
      ]
     },
     "metadata": {},
     "output_type": "display_data"
    },
    {
     "data": {
      "text/html": [
       "546"
      ],
      "text/latex": [
       "546"
      ],
      "text/markdown": [
       "546"
      ],
      "text/plain": [
       "[1] 546"
      ]
     },
     "metadata": {},
     "output_type": "display_data"
    },
    {
     "data": {
      "text/html": [
       "217"
      ],
      "text/latex": [
       "217"
      ],
      "text/markdown": [
       "217"
      ],
      "text/plain": [
       "[1] 217"
      ]
     },
     "metadata": {},
     "output_type": "display_data"
    },
    {
     "data": {
      "text/html": [
       "186"
      ],
      "text/latex": [
       "186"
      ],
      "text/markdown": [
       "186"
      ],
      "text/plain": [
       "[1] 186"
      ]
     },
     "metadata": {},
     "output_type": "display_data"
    },
    {
     "data": {
      "image/png": "[encoded data removed]",
      "text/plain": [
       "plot without title"
      ]
     },
     "metadata": {},
     "output_type": "display_data"
    }
   ],
   "source": [
    "par(mfrow = c(2,2))\n",
    "dim(df)\n",
    "length((boxplot(df$T1))$out)\n",
    "length(boxplot(df$T2)$out)\n",
    "length(boxplot(df$T3)$out)\n",
    "length(boxplot(df$T4)$out)"
   ]
  },
  {
   "cell_type": "code",
   "execution_count": null,
   "metadata": {
    "collapsed": true
   },
   "outputs": [],
   "source": [
    "# now lets see energy usage by hour and week "
   ]
  },
  {
   "cell_type": "code",
   "execution_count": 16,
   "metadata": {
    "collapsed": true
   },
   "outputs": [],
   "source": [
    "df$month = floor_date(df$date,'month')"
   ]
  },
  {
   "cell_type": "code",
   "execution_count": 17,
   "metadata": {
    "collapsed": true
   },
   "outputs": [],
   "source": [
    "df$hour = floor_date(df$date,'hour')"
   ]
  },
  {
   "cell_type": "code",
   "execution_count": 18,
   "metadata": {},
   "outputs": [
    {
     "name": "stderr",
     "output_type": "stream",
     "text": [
      "Warning message:\n",
      "\"package 'plyr' was built under R version 3.4.3\"\n",
      "Attaching package: 'plyr'\n",
      "\n",
      "The following object is masked from 'package:lubridate':\n",
      "\n",
      "    here\n",
      "\n"
     ]
    }
   ],
   "source": [
    "library('plyr') # Tools for Splitting, Applying and Combining Data"
   ]
  },
  {
   "cell_type": "code",
   "execution_count": 4,
   "metadata": {
    "collapsed": true
   },
   "outputs": [],
   "source": [
    "#ddply(df,'hour',summarise,Appliances = sum(Appliances))"
   ]
  },
  {
   "cell_type": "code",
   "execution_count": 21,
   "metadata": {},
   "outputs": [
    {
     "data": {
      "text/html": [
       "<ol class=list-inline>\n",
       "\t<li>Mon</li>\n",
       "\t<li>Mon</li>\n",
       "\t<li>Mon</li>\n",
       "\t<li>Mon</li>\n",
       "\t<li>Mon</li>\n",
       "\t<li>Mon</li>\n",
       "</ol>\n"
      ],
      "text/latex": [
       "\\begin{enumerate*}\n",
       "\\item Mon\n",
       "\\item Mon\n",
       "\\item Mon\n",
       "\\item Mon\n",
       "\\item Mon\n",
       "\\item Mon\n",
       "\\end{enumerate*}\n"
      ],
      "text/markdown": [
       "1. Mon\n",
       "2. Mon\n",
       "3. Mon\n",
       "4. Mon\n",
       "5. Mon\n",
       "6. Mon\n",
       "\n",
       "\n"
      ],
      "text/plain": [
       "[1] Mon Mon Mon Mon Mon Mon\n",
       "Levels: Sun < Mon < Tue < Wed < Thu < Fri < Sat"
      ]
     },
     "metadata": {},
     "output_type": "display_data"
    }
   ],
   "source": [
    "head(wday(df$hour,label = T))"
   ]
  },
  {
   "cell_type": "code",
   "execution_count": 22,
   "metadata": {},
   "outputs": [
    {
     "data": {
      "text/html": [
       "<ol class=list-inline>\n",
       "\t<li>2</li>\n",
       "\t<li>3</li>\n",
       "\t<li>4</li>\n",
       "\t<li>5</li>\n",
       "\t<li>6</li>\n",
       "\t<li>7</li>\n",
       "\t<li>8</li>\n",
       "\t<li>9</li>\n",
       "\t<li>10</li>\n",
       "\t<li>11</li>\n",
       "\t<li>12</li>\n",
       "\t<li>13</li>\n",
       "\t<li>14</li>\n",
       "\t<li>15</li>\n",
       "\t<li>16</li>\n",
       "\t<li>17</li>\n",
       "\t<li>18</li>\n",
       "\t<li>19</li>\n",
       "\t<li>20</li>\n",
       "\t<li>21</li>\n",
       "\t<li>22</li>\n",
       "</ol>\n"
      ],
      "text/latex": [
       "\\begin{enumerate*}\n",
       "\\item 2\n",
       "\\item 3\n",
       "\\item 4\n",
       "\\item 5\n",
       "\\item 6\n",
       "\\item 7\n",
       "\\item 8\n",
       "\\item 9\n",
       "\\item 10\n",
       "\\item 11\n",
       "\\item 12\n",
       "\\item 13\n",
       "\\item 14\n",
       "\\item 15\n",
       "\\item 16\n",
       "\\item 17\n",
       "\\item 18\n",
       "\\item 19\n",
       "\\item 20\n",
       "\\item 21\n",
       "\\item 22\n",
       "\\end{enumerate*}\n"
      ],
      "text/markdown": [
       "1. 2\n",
       "2. 3\n",
       "3. 4\n",
       "4. 5\n",
       "5. 6\n",
       "6. 7\n",
       "7. 8\n",
       "8. 9\n",
       "9. 10\n",
       "10. 11\n",
       "11. 12\n",
       "12. 13\n",
       "13. 14\n",
       "14. 15\n",
       "15. 16\n",
       "16. 17\n",
       "17. 18\n",
       "18. 19\n",
       "19. 20\n",
       "20. 21\n",
       "21. 22\n",
       "\n",
       "\n"
      ],
      "text/plain": [
       " [1]  2  3  4  5  6  7  8  9 10 11 12 13 14 15 16 17 18 19 20 21 22"
      ]
     },
     "metadata": {},
     "output_type": "display_data"
    }
   ],
   "source": [
    "unique(week(df$hour))"
   ]
  },
  {
   "cell_type": "code",
   "execution_count": 23,
   "metadata": {},
   "outputs": [
    {
     "name": "stderr",
     "output_type": "stream",
     "text": [
      "`stat_bin()` using `bins = 30`. Pick better value with `binwidth`.\n"
     ]
    },
    {
     "data": {},
     "metadata": {},
     "output_type": "display_data"
    },
    {
     "data": {
      "image/png": "[encoded data removed]",
      "text/plain": [
       "plot without title"
      ]
     },
     "metadata": {},
     "output_type": "display_data"
    }
   ],
   "source": [
    "ggplot(df,aes(x = Appliances)) + geom_histogram()"
   ]
  },
  {
   "cell_type": "code",
   "execution_count": 24,
   "metadata": {},
   "outputs": [
    {
     "name": "stderr",
     "output_type": "stream",
     "text": [
      "Warning message:\n",
      "\"package 'dplyr' was built under R version 3.4.3\"\n",
      "Attaching package: 'dplyr'\n",
      "\n",
      "The following objects are masked from 'package:plyr':\n",
      "\n",
      "    arrange, count, desc, failwith, id, mutate, rename, summarise,\n",
      "    summarize\n",
      "\n",
      "The following object is masked from 'package:gridExtra':\n",
      "\n",
      "    combine\n",
      "\n",
      "The following objects are masked from 'package:lubridate':\n",
      "\n",
      "    intersect, setdiff, union\n",
      "\n",
      "The following objects are masked from 'package:stats':\n",
      "\n",
      "    filter, lag\n",
      "\n",
      "The following objects are masked from 'package:base':\n",
      "\n",
      "    intersect, setdiff, setequal, union\n",
      "\n"
     ]
    }
   ],
   "source": [
    "library(dplyr)"
   ]
  },
  {
   "cell_type": "code",
   "execution_count": 25,
   "metadata": {},
   "outputs": [
    {
     "data": {
      "text/html": [
       "<ol class=list-inline>\n",
       "\t<li>'date'</li>\n",
       "\t<li>'Appliances'</li>\n",
       "\t<li>'lights'</li>\n",
       "\t<li>'T1'</li>\n",
       "\t<li>'RH_1'</li>\n",
       "\t<li>'T2'</li>\n",
       "\t<li>'RH_2'</li>\n",
       "\t<li>'T3'</li>\n",
       "\t<li>'RH_3'</li>\n",
       "\t<li>'T4'</li>\n",
       "\t<li>'RH_4'</li>\n",
       "\t<li>'T5'</li>\n",
       "\t<li>'RH_5'</li>\n",
       "\t<li>'T6'</li>\n",
       "\t<li>'RH_6'</li>\n",
       "\t<li>'T7'</li>\n",
       "\t<li>'RH_7'</li>\n",
       "\t<li>'T8'</li>\n",
       "\t<li>'RH_8'</li>\n",
       "\t<li>'T9'</li>\n",
       "\t<li>'RH_9'</li>\n",
       "\t<li>'T_out'</li>\n",
       "\t<li>'Press_mm_hg'</li>\n",
       "\t<li>'RH_out'</li>\n",
       "\t<li>'Windspeed'</li>\n",
       "\t<li>'Visibility'</li>\n",
       "\t<li>'Tdewpoint'</li>\n",
       "\t<li>'rv1'</li>\n",
       "\t<li>'rv2'</li>\n",
       "\t<li>'NSM'</li>\n",
       "\t<li>'WeekStatus'</li>\n",
       "\t<li>'Day_of_week'</li>\n",
       "\t<li>'month'</li>\n",
       "\t<li>'hour'</li>\n",
       "</ol>\n"
      ],
      "text/latex": [
       "\\begin{enumerate*}\n",
       "\\item 'date'\n",
       "\\item 'Appliances'\n",
       "\\item 'lights'\n",
       "\\item 'T1'\n",
       "\\item 'RH\\_1'\n",
       "\\item 'T2'\n",
       "\\item 'RH\\_2'\n",
       "\\item 'T3'\n",
       "\\item 'RH\\_3'\n",
       "\\item 'T4'\n",
       "\\item 'RH\\_4'\n",
       "\\item 'T5'\n",
       "\\item 'RH\\_5'\n",
       "\\item 'T6'\n",
       "\\item 'RH\\_6'\n",
       "\\item 'T7'\n",
       "\\item 'RH\\_7'\n",
       "\\item 'T8'\n",
       "\\item 'RH\\_8'\n",
       "\\item 'T9'\n",
       "\\item 'RH\\_9'\n",
       "\\item 'T\\_out'\n",
       "\\item 'Press\\_mm\\_hg'\n",
       "\\item 'RH\\_out'\n",
       "\\item 'Windspeed'\n",
       "\\item 'Visibility'\n",
       "\\item 'Tdewpoint'\n",
       "\\item 'rv1'\n",
       "\\item 'rv2'\n",
       "\\item 'NSM'\n",
       "\\item 'WeekStatus'\n",
       "\\item 'Day\\_of\\_week'\n",
       "\\item 'month'\n",
       "\\item 'hour'\n",
       "\\end{enumerate*}\n"
      ],
      "text/markdown": [
       "1. 'date'\n",
       "2. 'Appliances'\n",
       "3. 'lights'\n",
       "4. 'T1'\n",
       "5. 'RH_1'\n",
       "6. 'T2'\n",
       "7. 'RH_2'\n",
       "8. 'T3'\n",
       "9. 'RH_3'\n",
       "10. 'T4'\n",
       "11. 'RH_4'\n",
       "12. 'T5'\n",
       "13. 'RH_5'\n",
       "14. 'T6'\n",
       "15. 'RH_6'\n",
       "16. 'T7'\n",
       "17. 'RH_7'\n",
       "18. 'T8'\n",
       "19. 'RH_8'\n",
       "20. 'T9'\n",
       "21. 'RH_9'\n",
       "22. 'T_out'\n",
       "23. 'Press_mm_hg'\n",
       "24. 'RH_out'\n",
       "25. 'Windspeed'\n",
       "26. 'Visibility'\n",
       "27. 'Tdewpoint'\n",
       "28. 'rv1'\n",
       "29. 'rv2'\n",
       "30. 'NSM'\n",
       "31. 'WeekStatus'\n",
       "32. 'Day_of_week'\n",
       "33. 'month'\n",
       "34. 'hour'\n",
       "\n",
       "\n"
      ],
      "text/plain": [
       " [1] \"date\"        \"Appliances\"  \"lights\"      \"T1\"          \"RH_1\"       \n",
       " [6] \"T2\"          \"RH_2\"        \"T3\"          \"RH_3\"        \"T4\"         \n",
       "[11] \"RH_4\"        \"T5\"          \"RH_5\"        \"T6\"          \"RH_6\"       \n",
       "[16] \"T7\"          \"RH_7\"        \"T8\"          \"RH_8\"        \"T9\"         \n",
       "[21] \"RH_9\"        \"T_out\"       \"Press_mm_hg\" \"RH_out\"      \"Windspeed\"  \n",
       "[26] \"Visibility\"  \"Tdewpoint\"   \"rv1\"         \"rv2\"         \"NSM\"        \n",
       "[31] \"WeekStatus\"  \"Day_of_week\" \"month\"       \"hour\"       "
      ]
     },
     "metadata": {},
     "output_type": "display_data"
    }
   ],
   "source": [
    "names(df)\n",
    "\n",
    "#select()\n",
    "#filter()\n",
    "#arrange()"
   ]
  },
  {
   "cell_type": "code",
   "execution_count": 35,
   "metadata": {
    "collapsed": true
   },
   "outputs": [],
   "source": [
    "d = select(df,Appliances,Day_of_week)"
   ]
  },
  {
   "cell_type": "code",
   "execution_count": 36,
   "metadata": {},
   "outputs": [
    {
     "data": {
      "text/html": [
       "<table>\n",
       "<thead><tr><th scope=col>Appliances</th><th scope=col>Day_of_week</th></tr></thead>\n",
       "<tbody>\n",
       "\t<tr><td>60    </td><td>Monday</td></tr>\n",
       "\t<tr><td>60    </td><td>Monday</td></tr>\n",
       "\t<tr><td>50    </td><td>Monday</td></tr>\n",
       "\t<tr><td>60    </td><td>Monday</td></tr>\n",
       "\t<tr><td>50    </td><td>Monday</td></tr>\n",
       "\t<tr><td>60    </td><td>Monday</td></tr>\n",
       "</tbody>\n",
       "</table>\n"
      ],
      "text/latex": [
       "\\begin{tabular}{r|ll}\n",
       " Appliances & Day\\_of\\_week\\\\\n",
       "\\hline\n",
       "\t 60     & Monday\\\\\n",
       "\t 60     & Monday\\\\\n",
       "\t 50     & Monday\\\\\n",
       "\t 60     & Monday\\\\\n",
       "\t 50     & Monday\\\\\n",
       "\t 60     & Monday\\\\\n",
       "\\end{tabular}\n"
      ],
      "text/markdown": [
       "\n",
       "Appliances | Day_of_week | \n",
       "|---|---|---|---|---|---|\n",
       "| 60     | Monday | \n",
       "| 60     | Monday | \n",
       "| 50     | Monday | \n",
       "| 60     | Monday | \n",
       "| 50     | Monday | \n",
       "| 60     | Monday | \n",
       "\n",
       "\n"
      ],
      "text/plain": [
       "  Appliances Day_of_week\n",
       "1 60         Monday     \n",
       "2 60         Monday     \n",
       "3 50         Monday     \n",
       "4 60         Monday     \n",
       "5 50         Monday     \n",
       "6 60         Monday     "
      ]
     },
     "metadata": {},
     "output_type": "display_data"
    }
   ],
   "source": [
    "head(d)"
   ]
  },
  {
   "cell_type": "code",
   "execution_count": 34,
   "metadata": {
    "collapsed": true
   },
   "outputs": [],
   "source": [
    "#select(df,NSM:hour)"
   ]
  },
  {
   "cell_type": "code",
   "execution_count": 31,
   "metadata": {
    "collapsed": true
   },
   "outputs": [],
   "source": [
    "c = df %>% select(NSM:hour) %>% filter(Day_of_week == 'Monday',NSM >= 65000)"
   ]
  },
  {
   "cell_type": "code",
   "execution_count": 33,
   "metadata": {},
   "outputs": [
    {
     "data": {
      "text/html": [
       "<table>\n",
       "<thead><tr><th scope=col>NSM</th><th scope=col>WeekStatus</th><th scope=col>Day_of_week</th><th scope=col>month</th><th scope=col>hour</th></tr></thead>\n",
       "<tbody>\n",
       "\t<tr><td>65400              </td><td>Weekday            </td><td>Monday             </td><td>2016-01-01         </td><td>2016-01-11 18:00:00</td></tr>\n",
       "\t<tr><td>66000              </td><td>Weekday            </td><td>Monday             </td><td>2016-01-01         </td><td>2016-01-11 18:00:00</td></tr>\n",
       "\t<tr><td>66600              </td><td>Weekday            </td><td>Monday             </td><td>2016-01-01         </td><td>2016-01-11 18:00:00</td></tr>\n",
       "\t<tr><td>68400              </td><td>Weekday            </td><td>Monday             </td><td>2016-01-01         </td><td>2016-01-11 19:00:00</td></tr>\n",
       "\t<tr><td>69000              </td><td>Weekday            </td><td>Monday             </td><td>2016-01-01         </td><td>2016-01-11 19:00:00</td></tr>\n",
       "\t<tr><td>69600              </td><td>Weekday            </td><td>Monday             </td><td>2016-01-01         </td><td>2016-01-11 19:00:00</td></tr>\n",
       "</tbody>\n",
       "</table>\n"
      ],
      "text/latex": [
       "\\begin{tabular}{r|lllll}\n",
       " NSM & WeekStatus & Day\\_of\\_week & month & hour\\\\\n",
       "\\hline\n",
       "\t 65400               & Weekday             & Monday              & 2016-01-01          & 2016-01-11 18:00:00\\\\\n",
       "\t 66000               & Weekday             & Monday              & 2016-01-01          & 2016-01-11 18:00:00\\\\\n",
       "\t 66600               & Weekday             & Monday              & 2016-01-01          & 2016-01-11 18:00:00\\\\\n",
       "\t 68400               & Weekday             & Monday              & 2016-01-01          & 2016-01-11 19:00:00\\\\\n",
       "\t 69000               & Weekday             & Monday              & 2016-01-01          & 2016-01-11 19:00:00\\\\\n",
       "\t 69600               & Weekday             & Monday              & 2016-01-01          & 2016-01-11 19:00:00\\\\\n",
       "\\end{tabular}\n"
      ],
      "text/markdown": [
       "\n",
       "NSM | WeekStatus | Day_of_week | month | hour | \n",
       "|---|---|---|---|---|---|\n",
       "| 65400               | Weekday             | Monday              | 2016-01-01          | 2016-01-11 18:00:00 | \n",
       "| 66000               | Weekday             | Monday              | 2016-01-01          | 2016-01-11 18:00:00 | \n",
       "| 66600               | Weekday             | Monday              | 2016-01-01          | 2016-01-11 18:00:00 | \n",
       "| 68400               | Weekday             | Monday              | 2016-01-01          | 2016-01-11 19:00:00 | \n",
       "| 69000               | Weekday             | Monday              | 2016-01-01          | 2016-01-11 19:00:00 | \n",
       "| 69600               | Weekday             | Monday              | 2016-01-01          | 2016-01-11 19:00:00 | \n",
       "\n",
       "\n"
      ],
      "text/plain": [
       "  NSM   WeekStatus Day_of_week month      hour               \n",
       "1 65400 Weekday    Monday      2016-01-01 2016-01-11 18:00:00\n",
       "2 66000 Weekday    Monday      2016-01-01 2016-01-11 18:00:00\n",
       "3 66600 Weekday    Monday      2016-01-01 2016-01-11 18:00:00\n",
       "4 68400 Weekday    Monday      2016-01-01 2016-01-11 19:00:00\n",
       "5 69000 Weekday    Monday      2016-01-01 2016-01-11 19:00:00\n",
       "6 69600 Weekday    Monday      2016-01-01 2016-01-11 19:00:00"
      ]
     },
     "metadata": {},
     "output_type": "display_data"
    }
   ],
   "source": [
    "head(c)"
   ]
  },
  {
   "cell_type": "code",
   "execution_count": 30,
   "metadata": {
    "collapsed": true
   },
   "outputs": [],
   "source": [
    "# lets do some more visulaization"
   ]
  },
  {
   "cell_type": "code",
   "execution_count": 38,
   "metadata": {
    "collapsed": true
   },
   "outputs": [],
   "source": [
    "energy_usage_per_hour = ddply(df,'hour',summarise,Appliances = sum(Appliances))"
   ]
  },
  {
   "cell_type": "code",
   "execution_count": 39,
   "metadata": {
    "collapsed": true
   },
   "outputs": [],
   "source": [
    "energy_usage_per_hour$wday <- wday(energy_usage_per_hour$hour,label = T)"
   ]
  },
  {
   "cell_type": "code",
   "execution_count": 40,
   "metadata": {},
   "outputs": [
    {
     "data": {
      "text/html": [
       "<table>\n",
       "<thead><tr><th scope=col>hour</th><th scope=col>Appliances</th><th scope=col>wday</th></tr></thead>\n",
       "<tbody>\n",
       "\t<tr><td>2016-01-11 17:00:00</td><td> 330               </td><td>Mon                </td></tr>\n",
       "\t<tr><td>2016-01-11 18:00:00</td><td>1060               </td><td>Mon                </td></tr>\n",
       "\t<tr><td>2016-01-11 19:00:00</td><td>1040               </td><td>Mon                </td></tr>\n",
       "\t<tr><td>2016-01-11 20:00:00</td><td> 750               </td><td>Mon                </td></tr>\n",
       "\t<tr><td>2016-01-11 21:00:00</td><td> 620               </td><td>Mon                </td></tr>\n",
       "\t<tr><td>2016-01-11 22:00:00</td><td>1600               </td><td>Mon                </td></tr>\n",
       "</tbody>\n",
       "</table>\n"
      ],
      "text/latex": [
       "\\begin{tabular}{r|lll}\n",
       " hour & Appliances & wday\\\\\n",
       "\\hline\n",
       "\t 2016-01-11 17:00:00 &  330                & Mon                \\\\\n",
       "\t 2016-01-11 18:00:00 & 1060                & Mon                \\\\\n",
       "\t 2016-01-11 19:00:00 & 1040                & Mon                \\\\\n",
       "\t 2016-01-11 20:00:00 &  750                & Mon                \\\\\n",
       "\t 2016-01-11 21:00:00 &  620                & Mon                \\\\\n",
       "\t 2016-01-11 22:00:00 & 1600                & Mon                \\\\\n",
       "\\end{tabular}\n"
      ],
      "text/markdown": [
       "\n",
       "hour | Appliances | wday | \n",
       "|---|---|---|---|---|---|\n",
       "| 2016-01-11 17:00:00 |  330                | Mon                 | \n",
       "| 2016-01-11 18:00:00 | 1060                | Mon                 | \n",
       "| 2016-01-11 19:00:00 | 1040                | Mon                 | \n",
       "| 2016-01-11 20:00:00 |  750                | Mon                 | \n",
       "| 2016-01-11 21:00:00 |  620                | Mon                 | \n",
       "| 2016-01-11 22:00:00 | 1600                | Mon                 | \n",
       "\n",
       "\n"
      ],
      "text/plain": [
       "  hour                Appliances wday\n",
       "1 2016-01-11 17:00:00  330       Mon \n",
       "2 2016-01-11 18:00:00 1060       Mon \n",
       "3 2016-01-11 19:00:00 1040       Mon \n",
       "4 2016-01-11 20:00:00  750       Mon \n",
       "5 2016-01-11 21:00:00  620       Mon \n",
       "6 2016-01-11 22:00:00 1600       Mon "
      ]
     },
     "metadata": {},
     "output_type": "display_data"
    }
   ],
   "source": [
    "head(energy_usage_per_hour)"
   ]
  },
  {
   "cell_type": "code",
   "execution_count": 41,
   "metadata": {
    "collapsed": true
   },
   "outputs": [],
   "source": [
    "df$Day_of_week <- as.factor(df$Day_of_week)"
   ]
  },
  {
   "cell_type": "code",
   "execution_count": 42,
   "metadata": {
    "collapsed": true
   },
   "outputs": [],
   "source": [
    "df$WeekStatus <- as.factor(df$WeekStatus)"
   ]
  },
  {
   "cell_type": "code",
   "execution_count": 44,
   "metadata": {
    "collapsed": true
   },
   "outputs": [],
   "source": [
    "# lets impove the previous plot"
   ]
  },
  {
   "cell_type": "code",
   "execution_count": 45,
   "metadata": {
    "collapsed": true
   },
   "outputs": [],
   "source": [
    "require(gridExtra)"
   ]
  },
  {
   "cell_type": "code",
   "execution_count": 46,
   "metadata": {
    "collapsed": true
   },
   "outputs": [],
   "source": [
    "plot1 <- qplot(df$date,df$Appliances,xlab = 'Time' ,ylab= 'Appliances',geom = 'line')"
   ]
  },
  {
   "cell_type": "code",
   "execution_count": 47,
   "metadata": {
    "collapsed": true
   },
   "outputs": [],
   "source": [
    "plot2 <- qplot(df$date[1:1008],df$Appliances[1:1008],xlab = 'Time' ,ylab= 'Appliances',geom = 'line')"
   ]
  },
  {
   "cell_type": "code",
   "execution_count": 48,
   "metadata": {},
   "outputs": [
    {
     "data": {
      "image/png": "[encoded data removed]",
      "text/plain": [
       "plot without title"
      ]
     },
     "metadata": {},
     "output_type": "display_data"
    }
   ],
   "source": [
    "grid.arrange(plot1,plot2)"
   ]
  },
  {
   "cell_type": "code",
   "execution_count": 51,
   "metadata": {},
   "outputs": [
    {
     "data": {
      "text/plain": [
       "      hour                       Appliances    wday    \n",
       " Min.   :2016-01-11 17:00:00   Min.   : 170   Sun:456  \n",
       " 1st Qu.:2016-02-14 23:15:00   1st Qu.: 300   Mon:463  \n",
       " Median :2016-03-20 05:30:00   Median : 380   Tue:480  \n",
       " Mean   :2016-03-20 05:30:00   Mean   : 586   Wed:480  \n",
       " 3rd Qu.:2016-04-23 11:45:00   3rd Qu.: 660   Thu:480  \n",
       " Max.   :2016-05-27 18:00:00   Max.   :3650   Fri:475  \n",
       "                                              Sat:456  "
      ]
     },
     "metadata": {},
     "output_type": "display_data"
    }
   ],
   "source": [
    "summary(energy_usage_per_hour)"
   ]
  },
  {
   "cell_type": "code",
   "execution_count": 52,
   "metadata": {
    "collapsed": true
   },
   "outputs": [],
   "source": [
    "energy_usage_per_hour$week_of_year <- week(energy_usage_per_hour$hour)"
   ]
  },
  {
   "cell_type": "code",
   "execution_count": 54,
   "metadata": {},
   "outputs": [
    {
     "data": {
      "text/html": [
       "<ol class=list-inline>\n",
       "\t<li>2</li>\n",
       "\t<li>3</li>\n",
       "\t<li>4</li>\n",
       "\t<li>5</li>\n",
       "\t<li>6</li>\n",
       "\t<li>7</li>\n",
       "\t<li>8</li>\n",
       "\t<li>9</li>\n",
       "\t<li>10</li>\n",
       "\t<li>11</li>\n",
       "\t<li>12</li>\n",
       "\t<li>13</li>\n",
       "\t<li>14</li>\n",
       "\t<li>15</li>\n",
       "\t<li>16</li>\n",
       "\t<li>17</li>\n",
       "\t<li>18</li>\n",
       "\t<li>19</li>\n",
       "\t<li>20</li>\n",
       "\t<li>21</li>\n",
       "\t<li>22</li>\n",
       "</ol>\n"
      ],
      "text/latex": [
       "\\begin{enumerate*}\n",
       "\\item 2\n",
       "\\item 3\n",
       "\\item 4\n",
       "\\item 5\n",
       "\\item 6\n",
       "\\item 7\n",
       "\\item 8\n",
       "\\item 9\n",
       "\\item 10\n",
       "\\item 11\n",
       "\\item 12\n",
       "\\item 13\n",
       "\\item 14\n",
       "\\item 15\n",
       "\\item 16\n",
       "\\item 17\n",
       "\\item 18\n",
       "\\item 19\n",
       "\\item 20\n",
       "\\item 21\n",
       "\\item 22\n",
       "\\end{enumerate*}\n"
      ],
      "text/markdown": [
       "1. 2\n",
       "2. 3\n",
       "3. 4\n",
       "4. 5\n",
       "5. 6\n",
       "6. 7\n",
       "7. 8\n",
       "8. 9\n",
       "9. 10\n",
       "10. 11\n",
       "11. 12\n",
       "12. 13\n",
       "13. 14\n",
       "14. 15\n",
       "15. 16\n",
       "16. 17\n",
       "17. 18\n",
       "18. 19\n",
       "19. 20\n",
       "20. 21\n",
       "21. 22\n",
       "\n",
       "\n"
      ],
      "text/plain": [
       " [1]  2  3  4  5  6  7  8  9 10 11 12 13 14 15 16 17 18 19 20 21 22"
      ]
     },
     "metadata": {},
     "output_type": "display_data"
    }
   ],
   "source": [
    "unique(energy_usage_per_hour$week_of_year)"
   ]
  },
  {
   "cell_type": "code",
   "execution_count": 56,
   "metadata": {
    "collapsed": true
   },
   "outputs": [],
   "source": [
    "energy_usage_per_hour$hour_date <- hour(energy_usage_per_hour$hour)"
   ]
  },
  {
   "cell_type": "code",
   "execution_count": 57,
   "metadata": {},
   "outputs": [
    {
     "data": {
      "text/html": [
       "3650"
      ],
      "text/latex": [
       "3650"
      ],
      "text/markdown": [
       "3650"
      ],
      "text/plain": [
       "[1] 3650"
      ]
     },
     "metadata": {},
     "output_type": "display_data"
    }
   ],
   "source": [
    "max(energy_usage_per_hour$Appliances)"
   ]
  },
  {
   "cell_type": "code",
   "execution_count": 58,
   "metadata": {},
   "outputs": [
    {
     "data": {
      "text/html": [
       "170"
      ],
      "text/latex": [
       "170"
      ],
      "text/markdown": [
       "170"
      ],
      "text/plain": [
       "[1] 170"
      ]
     },
     "metadata": {},
     "output_type": "display_data"
    }
   ],
   "source": [
    "min(energy_usage_per_hour$Appliances)"
   ]
  },
  {
   "cell_type": "code",
   "execution_count": 63,
   "metadata": {},
   "outputs": [
    {
     "data": {
      "text/html": [
       "<table>\n",
       "<thead><tr><th scope=col>hour</th><th scope=col>Appliances</th><th scope=col>wday</th><th scope=col>week_of_year</th><th scope=col>hour_date</th></tr></thead>\n",
       "<tbody>\n",
       "\t<tr><td>2016-01-11 17:00:00</td><td> 330               </td><td>Mon                </td><td>2                  </td><td>17                 </td></tr>\n",
       "\t<tr><td>2016-01-11 18:00:00</td><td>1060               </td><td>Mon                </td><td>2                  </td><td>18                 </td></tr>\n",
       "\t<tr><td>2016-01-11 19:00:00</td><td>1040               </td><td>Mon                </td><td>2                  </td><td>19                 </td></tr>\n",
       "\t<tr><td>2016-01-11 20:00:00</td><td> 750               </td><td>Mon                </td><td>2                  </td><td>20                 </td></tr>\n",
       "\t<tr><td>2016-01-11 21:00:00</td><td> 620               </td><td>Mon                </td><td>2                  </td><td>21                 </td></tr>\n",
       "\t<tr><td>2016-01-11 22:00:00</td><td>1600               </td><td>Mon                </td><td>2                  </td><td>22                 </td></tr>\n",
       "</tbody>\n",
       "</table>\n"
      ],
      "text/latex": [
       "\\begin{tabular}{r|lllll}\n",
       " hour & Appliances & wday & week\\_of\\_year & hour\\_date\\\\\n",
       "\\hline\n",
       "\t 2016-01-11 17:00:00 &  330                & Mon                 & 2                   & 17                 \\\\\n",
       "\t 2016-01-11 18:00:00 & 1060                & Mon                 & 2                   & 18                 \\\\\n",
       "\t 2016-01-11 19:00:00 & 1040                & Mon                 & 2                   & 19                 \\\\\n",
       "\t 2016-01-11 20:00:00 &  750                & Mon                 & 2                   & 20                 \\\\\n",
       "\t 2016-01-11 21:00:00 &  620                & Mon                 & 2                   & 21                 \\\\\n",
       "\t 2016-01-11 22:00:00 & 1600                & Mon                 & 2                   & 22                 \\\\\n",
       "\\end{tabular}\n"
      ],
      "text/markdown": [
       "\n",
       "hour | Appliances | wday | week_of_year | hour_date | \n",
       "|---|---|---|---|---|---|\n",
       "| 2016-01-11 17:00:00 |  330                | Mon                 | 2                   | 17                  | \n",
       "| 2016-01-11 18:00:00 | 1060                | Mon                 | 2                   | 18                  | \n",
       "| 2016-01-11 19:00:00 | 1040                | Mon                 | 2                   | 19                  | \n",
       "| 2016-01-11 20:00:00 |  750                | Mon                 | 2                   | 20                  | \n",
       "| 2016-01-11 21:00:00 |  620                | Mon                 | 2                   | 21                  | \n",
       "| 2016-01-11 22:00:00 | 1600                | Mon                 | 2                   | 22                  | \n",
       "\n",
       "\n"
      ],
      "text/plain": [
       "  hour                Appliances wday week_of_year hour_date\n",
       "1 2016-01-11 17:00:00  330       Mon  2            17       \n",
       "2 2016-01-11 18:00:00 1060       Mon  2            18       \n",
       "3 2016-01-11 19:00:00 1040       Mon  2            19       \n",
       "4 2016-01-11 20:00:00  750       Mon  2            20       \n",
       "5 2016-01-11 21:00:00  620       Mon  2            21       \n",
       "6 2016-01-11 22:00:00 1600       Mon  2            22       "
      ]
     },
     "metadata": {},
     "output_type": "display_data"
    }
   ],
   "source": [
    "head(energy_usage_per_hour)"
   ]
  },
  {
   "cell_type": "code",
   "execution_count": 65,
   "metadata": {
    "collapsed": true
   },
   "outputs": [],
   "source": [
    "\n",
    "gg1 <-ggplot(energy_usage_per_hour,aes(x=wday,y=hour_date,\n",
    "                                                          fill=Appliances)) \n"
   ]
  },
  {
   "cell_type": "code",
   "execution_count": 68,
   "metadata": {},
   "outputs": [
    {
     "data": {},
     "metadata": {},
     "output_type": "display_data"
    },
    {
     "data": {
      "image/png": "[encoded data removed]",
      "text/plain": [
       "plot without title"
      ]
     },
     "metadata": {},
     "output_type": "display_data"
    }
   ],
   "source": [
    "gg1 + geom_tile(color = 'white') + scale_fill_gradient(low = 'yellow',high ='red',limit = c(150,3800))+coord_equal()"
   ]
  },
  {
   "cell_type": "code",
   "execution_count": 69,
   "metadata": {
    "collapsed": true
   },
   "outputs": [],
   "source": [
    "# per week "
   ]
  },
  {
   "cell_type": "code",
   "execution_count": 77,
   "metadata": {
    "collapsed": true
   },
   "outputs": [],
   "source": [
    "energy_usage_per_hour_wk1 <- energy_usage_per_hour[energy_usage_per_hour$week_of_year == 3,]"
   ]
  },
  {
   "cell_type": "code",
   "execution_count": 79,
   "metadata": {
    "collapsed": true
   },
   "outputs": [],
   "source": [
    "gg1 <- ggplot(energy_usage_per_hour_wk1,aes(x=wday,y=hour_date,\n",
    "                                                          fill=Appliances)) "
   ]
  },
  {
   "cell_type": "code",
   "execution_count": 88,
   "metadata": {},
   "outputs": [
    {
     "data": {},
     "metadata": {},
     "output_type": "display_data"
    },
    {
     "data": {
      "image/png": "[encoded data removed]",
      "text/plain": [
       "plot without title"
      ]
     },
     "metadata": {},
     "output_type": "display_data"
    }
   ],
   "source": [
    "gg1 + geom_tile(color = 'white',size = 0.5) + scale_fill_gradient(low = 'yellow',high ='red',limit = c(150,3800))+coord_equal() \n"
   ]
  },
  {
   "cell_type": "code",
   "execution_count": 89,
   "metadata": {
    "collapsed": true
   },
   "outputs": [],
   "source": [
    "energy_usage_per_hour_wk2 <- energy_usage_per_hour[energy_usage_per_hour$week_of_year == 4,]"
   ]
  },
  {
   "cell_type": "code",
   "execution_count": 91,
   "metadata": {
    "collapsed": true
   },
   "outputs": [],
   "source": [
    "gg1 <- ggplot(energy_usage_per_hour_wk2,aes(x=wday,y=hour_date,\n",
    "                                                          fill=Appliances)) "
   ]
  },
  {
   "cell_type": "code",
   "execution_count": 93,
   "metadata": {},
   "outputs": [
    {
     "data": {},
     "metadata": {},
     "output_type": "display_data"
    },
    {
     "data": {
      "image/png": "[encoded data removed]",
      "text/plain": [
       "plot without title"
      ]
     },
     "metadata": {},
     "output_type": "display_data"
    }
   ],
   "source": [
    "gg1  + geom_tile(color = 'white',size = 0.5) + scale_fill_gradient(low = 'yellow',high ='red',limit = c(150,3800))+coord_equal() "
   ]
  },
  {
   "cell_type": "code",
   "execution_count": 95,
   "metadata": {
    "collapsed": true
   },
   "outputs": [],
   "source": [
    "energy_usage_per_hour_wk3 <- energy_usage_per_hour[energy_usage_per_hour$week_of_year == 5,]"
   ]
  },
  {
   "cell_type": "code",
   "execution_count": 96,
   "metadata": {
    "collapsed": true
   },
   "outputs": [],
   "source": [
    "gg1 <- ggplot(energy_usage_per_hour_wk3,aes(x=wday,y=hour_date,\n",
    "                                                          fill=Appliances)) "
   ]
  },
  {
   "cell_type": "code",
   "execution_count": 97,
   "metadata": {},
   "outputs": [
    {
     "data": {},
     "metadata": {},
     "output_type": "display_data"
    },
    {
     "data": {
      "image/png": "[encoded data removed]",
      "text/plain": [
       "plot without title"
      ]
     },
     "metadata": {},
     "output_type": "display_data"
    }
   ],
   "source": [
    "gg1  + geom_tile(color = 'white',size = 0.5) + scale_fill_gradient(low = 'yellow',high ='red',limit = c(150,3800))+coord_equal() "
   ]
  },
  {
   "cell_type": "code",
   "execution_count": 105,
   "metadata": {},
   "outputs": [
    {
     "data": {
      "image/png": "[encoded data removed]",
      "text/plain": [
       "plot without title"
      ]
     },
     "metadata": {},
     "output_type": "display_data"
    }
   ],
   "source": [
    "pairs.panels(df[,c(2,3,4,5,6,7,8,9,10)],lm = T)"
   ]
  },
  {
   "cell_type": "code",
   "execution_count": 106,
   "metadata": {
    "collapsed": true
   },
   "outputs": [],
   "source": [
    "help(pairs.panels)"
   ]
  },
  {
   "cell_type": "code",
   "execution_count": 5,
   "metadata": {},
   "outputs": [
    {
     "name": "stderr",
     "output_type": "stream",
     "text": [
      "Warning message:\n",
      "\"package 'Boruta' was built under R version 3.4.3\"Loading required package: ranger\n",
      "Warning message:\n",
      "\"package 'ranger' was built under R version 3.4.3\""
     ]
    }
   ],
   "source": [
    "library(Boruta) # feature importance"
   ]
  },
  {
   "cell_type": "code",
   "execution_count": 6,
   "metadata": {
    "collapsed": true
   },
   "outputs": [],
   "source": [
    "set.seed(1234)\n",
    "train_data_imp <- data_train[,c(2:32)][sample(1:nrow(data_train),4400,replace = F),]"
   ]
  },
  {
   "cell_type": "code",
   "execution_count": 12,
   "metadata": {
    "collapsed": true
   },
   "outputs": [],
   "source": [
    "#Boruta_feature <- Boruta(Appliances ~., data = train_data_imp,doTrace = 2,ntree = 50)"
   ]
  },
  {
   "cell_type": "code",
   "execution_count": 11,
   "metadata": {},
   "outputs": [
    {
     "data": {
      "text/plain": [
       "Boruta performed 99 iterations in 5.558925 mins.\n",
       " 27 attributes confirmed important: Day_of_week, lights, NSM,\n",
       "Press_mm_hg, RH_1 and 22 more;\n",
       " 2 attributes confirmed unimportant: rv1, rv2;\n",
       " 1 tentative attributes left: WeekStatus;"
      ]
     },
     "metadata": {},
     "output_type": "display_data"
    }
   ],
   "source": [
    "Boruta_feature"
   ]
  },
  {
   "cell_type": "code",
   "execution_count": 12,
   "metadata": {
    "collapsed": true
   },
   "outputs": [],
   "source": [
    "train <- subset(data_train,select = -c(rv1,rv2))"
   ]
  },
  {
   "cell_type": "code",
   "execution_count": 13,
   "metadata": {
    "collapsed": true
   },
   "outputs": [],
   "source": [
    "test <- subset(data_test,select = -c(rv1,rv2))"
   ]
  },
  {
   "cell_type": "code",
   "execution_count": 16,
   "metadata": {
    "collapsed": true
   },
   "outputs": [],
   "source": [
    "# dummy variables"
   ]
  },
  {
   "cell_type": "code",
   "execution_count": 3,
   "metadata": {},
   "outputs": [
    {
     "name": "stderr",
     "output_type": "stream",
     "text": [
      "dummies-1.5.6 provided by Decision Patterns\n",
      "\n"
     ]
    }
   ],
   "source": [
    "library(dummies)"
   ]
  },
  {
   "cell_type": "code",
   "execution_count": 20,
   "metadata": {},
   "outputs": [
    {
     "data": {
      "text/html": [
       "<ol class=list-inline>\n",
       "\t<li>'date'</li>\n",
       "\t<li>'Appliances'</li>\n",
       "\t<li>'lights'</li>\n",
       "\t<li>'T1'</li>\n",
       "\t<li>'RH_1'</li>\n",
       "\t<li>'T2'</li>\n",
       "\t<li>'RH_2'</li>\n",
       "\t<li>'T3'</li>\n",
       "\t<li>'RH_3'</li>\n",
       "\t<li>'T4'</li>\n",
       "\t<li>'RH_4'</li>\n",
       "\t<li>'T5'</li>\n",
       "\t<li>'RH_5'</li>\n",
       "\t<li>'T6'</li>\n",
       "\t<li>'RH_6'</li>\n",
       "\t<li>'T7'</li>\n",
       "\t<li>'RH_7'</li>\n",
       "\t<li>'T8'</li>\n",
       "\t<li>'RH_8'</li>\n",
       "\t<li>'T9'</li>\n",
       "\t<li>'RH_9'</li>\n",
       "\t<li>'T_out'</li>\n",
       "\t<li>'Press_mm_hg'</li>\n",
       "\t<li>'RH_out'</li>\n",
       "\t<li>'Windspeed'</li>\n",
       "\t<li>'Visibility'</li>\n",
       "\t<li>'Tdewpoint'</li>\n",
       "\t<li>'NSM'</li>\n",
       "\t<li>'WeekStatus'</li>\n",
       "\t<li>'Day_of_week'</li>\n",
       "</ol>\n"
      ],
      "text/latex": [
       "\\begin{enumerate*}\n",
       "\\item 'date'\n",
       "\\item 'Appliances'\n",
       "\\item 'lights'\n",
       "\\item 'T1'\n",
       "\\item 'RH\\_1'\n",
       "\\item 'T2'\n",
       "\\item 'RH\\_2'\n",
       "\\item 'T3'\n",
       "\\item 'RH\\_3'\n",
       "\\item 'T4'\n",
       "\\item 'RH\\_4'\n",
       "\\item 'T5'\n",
       "\\item 'RH\\_5'\n",
       "\\item 'T6'\n",
       "\\item 'RH\\_6'\n",
       "\\item 'T7'\n",
       "\\item 'RH\\_7'\n",
       "\\item 'T8'\n",
       "\\item 'RH\\_8'\n",
       "\\item 'T9'\n",
       "\\item 'RH\\_9'\n",
       "\\item 'T\\_out'\n",
       "\\item 'Press\\_mm\\_hg'\n",
       "\\item 'RH\\_out'\n",
       "\\item 'Windspeed'\n",
       "\\item 'Visibility'\n",
       "\\item 'Tdewpoint'\n",
       "\\item 'NSM'\n",
       "\\item 'WeekStatus'\n",
       "\\item 'Day\\_of\\_week'\n",
       "\\end{enumerate*}\n"
      ],
      "text/markdown": [
       "1. 'date'\n",
       "2. 'Appliances'\n",
       "3. 'lights'\n",
       "4. 'T1'\n",
       "5. 'RH_1'\n",
       "6. 'T2'\n",
       "7. 'RH_2'\n",
       "8. 'T3'\n",
       "9. 'RH_3'\n",
       "10. 'T4'\n",
       "11. 'RH_4'\n",
       "12. 'T5'\n",
       "13. 'RH_5'\n",
       "14. 'T6'\n",
       "15. 'RH_6'\n",
       "16. 'T7'\n",
       "17. 'RH_7'\n",
       "18. 'T8'\n",
       "19. 'RH_8'\n",
       "20. 'T9'\n",
       "21. 'RH_9'\n",
       "22. 'T_out'\n",
       "23. 'Press_mm_hg'\n",
       "24. 'RH_out'\n",
       "25. 'Windspeed'\n",
       "26. 'Visibility'\n",
       "27. 'Tdewpoint'\n",
       "28. 'NSM'\n",
       "29. 'WeekStatus'\n",
       "30. 'Day_of_week'\n",
       "\n",
       "\n"
      ],
      "text/plain": [
       " [1] \"date\"        \"Appliances\"  \"lights\"      \"T1\"          \"RH_1\"       \n",
       " [6] \"T2\"          \"RH_2\"        \"T3\"          \"RH_3\"        \"T4\"         \n",
       "[11] \"RH_4\"        \"T5\"          \"RH_5\"        \"T6\"          \"RH_6\"       \n",
       "[16] \"T7\"          \"RH_7\"        \"T8\"          \"RH_8\"        \"T9\"         \n",
       "[21] \"RH_9\"        \"T_out\"       \"Press_mm_hg\" \"RH_out\"      \"Windspeed\"  \n",
       "[26] \"Visibility\"  \"Tdewpoint\"   \"NSM\"         \"WeekStatus\"  \"Day_of_week\""
      ]
     },
     "metadata": {},
     "output_type": "display_data"
    }
   ],
   "source": [
    "names(train)"
   ]
  },
  {
   "cell_type": "code",
   "execution_count": 14,
   "metadata": {
    "collapsed": true
   },
   "outputs": [],
   "source": [
    "new_train <- dummy.data.frame(train,names = c('WeekStatus','Day_of_week'))"
   ]
  },
  {
   "cell_type": "code",
   "execution_count": 15,
   "metadata": {},
   "outputs": [
    {
     "data": {
      "text/html": [
       "<ol class=list-inline>\n",
       "\t<li>'date'</li>\n",
       "\t<li>'Appliances'</li>\n",
       "\t<li>'lights'</li>\n",
       "\t<li>'T1'</li>\n",
       "\t<li>'RH_1'</li>\n",
       "\t<li>'T2'</li>\n",
       "\t<li>'RH_2'</li>\n",
       "\t<li>'T3'</li>\n",
       "\t<li>'RH_3'</li>\n",
       "\t<li>'T4'</li>\n",
       "\t<li>'RH_4'</li>\n",
       "\t<li>'T5'</li>\n",
       "\t<li>'RH_5'</li>\n",
       "\t<li>'T6'</li>\n",
       "\t<li>'RH_6'</li>\n",
       "\t<li>'T7'</li>\n",
       "\t<li>'RH_7'</li>\n",
       "\t<li>'T8'</li>\n",
       "\t<li>'RH_8'</li>\n",
       "\t<li>'T9'</li>\n",
       "\t<li>'RH_9'</li>\n",
       "\t<li>'T_out'</li>\n",
       "\t<li>'Press_mm_hg'</li>\n",
       "\t<li>'RH_out'</li>\n",
       "\t<li>'Windspeed'</li>\n",
       "\t<li>'Visibility'</li>\n",
       "\t<li>'Tdewpoint'</li>\n",
       "\t<li>'NSM'</li>\n",
       "\t<li>'WeekStatusWeekday'</li>\n",
       "\t<li>'WeekStatusWeekend'</li>\n",
       "\t<li>'Day_of_weekFriday'</li>\n",
       "\t<li>'Day_of_weekMonday'</li>\n",
       "\t<li>'Day_of_weekSaturday'</li>\n",
       "\t<li>'Day_of_weekSunday'</li>\n",
       "\t<li>'Day_of_weekThursday'</li>\n",
       "\t<li>'Day_of_weekTuesday'</li>\n",
       "\t<li>'Day_of_weekWednesday'</li>\n",
       "</ol>\n"
      ],
      "text/latex": [
       "\\begin{enumerate*}\n",
       "\\item 'date'\n",
       "\\item 'Appliances'\n",
       "\\item 'lights'\n",
       "\\item 'T1'\n",
       "\\item 'RH\\_1'\n",
       "\\item 'T2'\n",
       "\\item 'RH\\_2'\n",
       "\\item 'T3'\n",
       "\\item 'RH\\_3'\n",
       "\\item 'T4'\n",
       "\\item 'RH\\_4'\n",
       "\\item 'T5'\n",
       "\\item 'RH\\_5'\n",
       "\\item 'T6'\n",
       "\\item 'RH\\_6'\n",
       "\\item 'T7'\n",
       "\\item 'RH\\_7'\n",
       "\\item 'T8'\n",
       "\\item 'RH\\_8'\n",
       "\\item 'T9'\n",
       "\\item 'RH\\_9'\n",
       "\\item 'T\\_out'\n",
       "\\item 'Press\\_mm\\_hg'\n",
       "\\item 'RH\\_out'\n",
       "\\item 'Windspeed'\n",
       "\\item 'Visibility'\n",
       "\\item 'Tdewpoint'\n",
       "\\item 'NSM'\n",
       "\\item 'WeekStatusWeekday'\n",
       "\\item 'WeekStatusWeekend'\n",
       "\\item 'Day\\_of\\_weekFriday'\n",
       "\\item 'Day\\_of\\_weekMonday'\n",
       "\\item 'Day\\_of\\_weekSaturday'\n",
       "\\item 'Day\\_of\\_weekSunday'\n",
       "\\item 'Day\\_of\\_weekThursday'\n",
       "\\item 'Day\\_of\\_weekTuesday'\n",
       "\\item 'Day\\_of\\_weekWednesday'\n",
       "\\end{enumerate*}\n"
      ],
      "text/markdown": [
       "1. 'date'\n",
       "2. 'Appliances'\n",
       "3. 'lights'\n",
       "4. 'T1'\n",
       "5. 'RH_1'\n",
       "6. 'T2'\n",
       "7. 'RH_2'\n",
       "8. 'T3'\n",
       "9. 'RH_3'\n",
       "10. 'T4'\n",
       "11. 'RH_4'\n",
       "12. 'T5'\n",
       "13. 'RH_5'\n",
       "14. 'T6'\n",
       "15. 'RH_6'\n",
       "16. 'T7'\n",
       "17. 'RH_7'\n",
       "18. 'T8'\n",
       "19. 'RH_8'\n",
       "20. 'T9'\n",
       "21. 'RH_9'\n",
       "22. 'T_out'\n",
       "23. 'Press_mm_hg'\n",
       "24. 'RH_out'\n",
       "25. 'Windspeed'\n",
       "26. 'Visibility'\n",
       "27. 'Tdewpoint'\n",
       "28. 'NSM'\n",
       "29. 'WeekStatusWeekday'\n",
       "30. 'WeekStatusWeekend'\n",
       "31. 'Day_of_weekFriday'\n",
       "32. 'Day_of_weekMonday'\n",
       "33. 'Day_of_weekSaturday'\n",
       "34. 'Day_of_weekSunday'\n",
       "35. 'Day_of_weekThursday'\n",
       "36. 'Day_of_weekTuesday'\n",
       "37. 'Day_of_weekWednesday'\n",
       "\n",
       "\n"
      ],
      "text/plain": [
       " [1] \"date\"                 \"Appliances\"           \"lights\"              \n",
       " [4] \"T1\"                   \"RH_1\"                 \"T2\"                  \n",
       " [7] \"RH_2\"                 \"T3\"                   \"RH_3\"                \n",
       "[10] \"T4\"                   \"RH_4\"                 \"T5\"                  \n",
       "[13] \"RH_5\"                 \"T6\"                   \"RH_6\"                \n",
       "[16] \"T7\"                   \"RH_7\"                 \"T8\"                  \n",
       "[19] \"RH_8\"                 \"T9\"                   \"RH_9\"                \n",
       "[22] \"T_out\"                \"Press_mm_hg\"          \"RH_out\"              \n",
       "[25] \"Windspeed\"            \"Visibility\"           \"Tdewpoint\"           \n",
       "[28] \"NSM\"                  \"WeekStatusWeekday\"    \"WeekStatusWeekend\"   \n",
       "[31] \"Day_of_weekFriday\"    \"Day_of_weekMonday\"    \"Day_of_weekSaturday\" \n",
       "[34] \"Day_of_weekSunday\"    \"Day_of_weekThursday\"  \"Day_of_weekTuesday\"  \n",
       "[37] \"Day_of_weekWednesday\""
      ]
     },
     "metadata": {},
     "output_type": "display_data"
    }
   ],
   "source": [
    "names(new_train)"
   ]
  },
  {
   "cell_type": "code",
   "execution_count": 16,
   "metadata": {
    "collapsed": true
   },
   "outputs": [],
   "source": [
    "new_test <- dummy.data.frame(test,names = c('WeekStatus','Day_of_week'))"
   ]
  },
  {
   "cell_type": "code",
   "execution_count": 6,
   "metadata": {},
   "outputs": [
    {
     "name": "stderr",
     "output_type": "stream",
     "text": [
      "Loading required package: lattice\n",
      "Loading required package: ggplot2\n",
      "Warning message:\n",
      "\"package 'ggplot2' was built under R version 3.4.3\""
     ]
    }
   ],
   "source": [
    "library(caret)"
   ]
  },
  {
   "cell_type": "code",
   "execution_count": 16,
   "metadata": {
    "collapsed": true
   },
   "outputs": [],
   "source": [
    "rfecontrol = rfeControl(functions = rfFuncs,method = 'cv',number = 2)"
   ]
  },
  {
   "cell_type": "code",
   "execution_count": 11,
   "metadata": {
    "collapsed": true
   },
   "outputs": [],
   "source": [
    "help(rfe)"
   ]
  },
  {
   "cell_type": "code",
   "execution_count": null,
   "metadata": {
    "collapsed": true
   },
   "outputs": [],
   "source": [
    "results <- rfe(new_train[,c(3:37)], new_train[,2] , sizes=c(1:35), rfeControl=rfecontrol)"
   ]
  },
  {
   "cell_type": "code",
   "execution_count": null,
   "metadata": {
    "collapsed": true
   },
   "outputs": [],
   "source": []
  },
  {
   "cell_type": "code",
   "execution_count": 67,
   "metadata": {},
   "outputs": [
    {
     "name": "stderr",
     "output_type": "stream",
     "text": [
      "Warning message in predict.lm(modelFit, newdata):\n",
      "\"prediction from a rank-deficient fit may be misleading\"Warning message in predict.lm(modelFit, newdata):\n",
      "\"prediction from a rank-deficient fit may be misleading\"Warning message in predict.lm(modelFit, newdata):\n",
      "\"prediction from a rank-deficient fit may be misleading\"Warning message in predict.lm(modelFit, newdata):\n",
      "\"prediction from a rank-deficient fit may be misleading\"Warning message in predict.lm(modelFit, newdata):\n",
      "\"prediction from a rank-deficient fit may be misleading\"Warning message in predict.lm(modelFit, newdata):\n",
      "\"prediction from a rank-deficient fit may be misleading\"Warning message in predict.lm(modelFit, newdata):\n",
      "\"prediction from a rank-deficient fit may be misleading\"Warning message in predict.lm(modelFit, newdata):\n",
      "\"prediction from a rank-deficient fit may be misleading\"Warning message in predict.lm(modelFit, newdata):\n",
      "\"prediction from a rank-deficient fit may be misleading\"Warning message in predict.lm(modelFit, newdata):\n",
      "\"prediction from a rank-deficient fit may be misleading\""
     ]
    }
   ],
   "source": [
    "lmcvFit <- train(Appliances~., data=new_train[,c(2:37)],  method=\"lm\",\n",
    "                 metric='RMSE',trControl = fitcontral)\n"
   ]
  },
  {
   "cell_type": "code",
   "execution_count": 68,
   "metadata": {},
   "outputs": [
    {
     "data": {
      "text/plain": [
       "\n",
       "Call:\n",
       "lm(formula = .outcome ~ ., data = dat)\n",
       "\n",
       "Residuals:\n",
       "    Min      1Q  Median      3Q     Max \n",
       "-250.01  -43.56  -18.68    8.00  883.51 \n",
       "\n",
       "Coefficients: (3 not defined because of singularities)\n",
       "                       Estimate Std. Error t value Pr(>|t|)    \n",
       "(Intercept)          -7.392e+01  1.096e+02  -0.675 0.499954    \n",
       "lights                1.855e+00  1.110e-01  16.713  < 2e-16 ***\n",
       "T1                   -5.916e+00  2.144e+00  -2.759 0.005799 ** \n",
       "RH_1                  1.451e+01  7.778e-01  18.656  < 2e-16 ***\n",
       "T2                   -1.789e+01  1.884e+00  -9.494  < 2e-16 ***\n",
       "RH_2                 -1.384e+01  8.826e-01 -15.677  < 2e-16 ***\n",
       "T3                    2.637e+01  1.224e+00  21.540  < 2e-16 ***\n",
       "RH_3                  6.289e+00  7.891e-01   7.969 1.72e-15 ***\n",
       "T4                    9.245e-01  1.223e+00   0.756 0.449637    \n",
       "RH_4                 -4.849e-01  7.451e-01  -0.651 0.515160    \n",
       "T5                   -1.460e+00  1.356e+00  -1.077 0.281558    \n",
       "RH_5                  6.803e-02  1.007e-01   0.676 0.499199    \n",
       "T6                    7.074e+00  7.302e-01   9.687  < 2e-16 ***\n",
       "RH_6                  2.903e-01  7.808e-02   3.718 0.000201 ***\n",
       "T7                    1.411e+00  1.524e+00   0.926 0.354606    \n",
       "RH_7                 -1.626e+00  4.994e-01  -3.255 0.001136 ** \n",
       "T8                    8.346e+00  1.161e+00   7.191 6.76e-13 ***\n",
       "RH_8                 -4.135e+00  4.574e-01  -9.041  < 2e-16 ***\n",
       "T9                   -1.305e+01  2.064e+00  -6.322 2.66e-10 ***\n",
       "RH_9                 -3.801e-01  4.887e-01  -0.778 0.436718    \n",
       "T_out                -9.701e+00  1.746e+00  -5.555 2.82e-08 ***\n",
       "Press_mm_hg           1.805e-01  1.231e-01   1.467 0.142469    \n",
       "RH_out               -7.825e-01  3.627e-01  -2.157 0.030986 *  \n",
       "Windspeed             1.788e+00  4.050e-01   4.416 1.01e-05 ***\n",
       "Visibility            1.877e-01  6.664e-02   2.817 0.004859 ** \n",
       "Tdewpoint             3.632e+00  1.708e+00   2.126 0.033501 *  \n",
       "NSM                   2.883e-04  4.460e-05   6.463 1.06e-10 ***\n",
       "WeekStatusWeekday    -6.305e+00  2.987e+00  -2.111 0.034813 *  \n",
       "WeekStatusWeekend            NA         NA      NA       NA    \n",
       "Day_of_weekFriday     1.682e+01  3.010e+00   5.588 2.34e-08 ***\n",
       "Day_of_weekMonday     1.066e+01  2.929e+00   3.641 0.000272 ***\n",
       "Day_of_weekSaturday   1.630e+01  3.023e+00   5.392 7.09e-08 ***\n",
       "Day_of_weekSunday            NA         NA      NA       NA    \n",
       "Day_of_weekThursday  -2.570e-01  2.902e+00  -0.089 0.929428    \n",
       "Day_of_weekTuesday   -3.476e+00  2.895e+00  -1.201 0.229898    \n",
       "Day_of_weekWednesday         NA         NA      NA       NA    \n",
       "---\n",
       "Signif. codes:  0 '***' 0.001 '**' 0.01 '*' 0.05 '.' 0.1 ' ' 1\n",
       "\n",
       "Residual standard error: 93.31 on 14770 degrees of freedom\n",
       "Multiple R-squared:  0.1783,\tAdjusted R-squared:  0.1765 \n",
       "F-statistic: 100.2 on 32 and 14770 DF,  p-value: < 2.2e-16\n"
      ]
     },
     "metadata": {},
     "output_type": "display_data"
    }
   ],
   "source": [
    "summary(lmcvFit)"
   ]
  },
  {
   "cell_type": "code",
   "execution_count": 20,
   "metadata": {},
   "outputs": [
    {
     "name": "stderr",
     "output_type": "stream",
     "text": [
      "Warning message in predict.lm(modelFit, newdata):\n",
      "\"prediction from a rank-deficient fit may be misleading\""
     ]
    }
   ],
   "source": [
    "residuals<-resid(lmcvFit)\n",
    "\n",
    "predictedValues<-predict(lmcvFit)"
   ]
  },
  {
   "cell_type": "code",
   "execution_count": 69,
   "metadata": {},
   "outputs": [
    {
     "data": {
      "image/png": "[encoded data removed]",
      "text/plain": [
       "plot without title"
      ]
     },
     "metadata": {},
     "output_type": "display_data"
    }
   ],
   "source": [
    "plot(new_train$Appliances,residuals)"
   ]
  },
  {
   "cell_type": "code",
   "execution_count": 70,
   "metadata": {},
   "outputs": [
    {
     "data": {
      "image/png": "[encoded data removed]",
      "text/plain": [
       "plot without title"
      ]
     },
     "metadata": {},
     "output_type": "display_data"
    }
   ],
   "source": [
    "plot(new_train$Appliances,predictedValues)"
   ]
  },
  {
   "cell_type": "code",
   "execution_count": 23,
   "metadata": {},
   "outputs": [
    {
     "data": {
      "text/plain": [
       "\n",
       "Call:\n",
       "lm(formula = .outcome ~ ., data = dat)\n",
       "\n",
       "Coefficients:\n",
       "         (Intercept)                lights                    T1  \n",
       "          -7.392e+01             1.855e+00            -5.916e+00  \n",
       "                RH_1                    T2                  RH_2  \n",
       "           1.451e+01            -1.789e+01            -1.384e+01  \n",
       "                  T3                  RH_3                    T4  \n",
       "           2.637e+01             6.289e+00             9.245e-01  \n",
       "                RH_4                    T5                  RH_5  \n",
       "          -4.849e-01            -1.460e+00             6.803e-02  \n",
       "                  T6                  RH_6                    T7  \n",
       "           7.074e+00             2.903e-01             1.411e+00  \n",
       "                RH_7                    T8                  RH_8  \n",
       "          -1.626e+00             8.346e+00            -4.135e+00  \n",
       "                  T9                  RH_9                 T_out  \n",
       "          -1.305e+01            -3.801e-01            -9.701e+00  \n",
       "         Press_mm_hg                RH_out             Windspeed  \n",
       "           1.805e-01            -7.825e-01             1.788e+00  \n",
       "          Visibility             Tdewpoint                   NSM  \n",
       "           1.877e-01             3.632e+00             2.883e-04  \n",
       "   WeekStatusWeekday     WeekStatusWeekend     Day_of_weekFriday  \n",
       "          -6.305e+00                    NA             1.682e+01  \n",
       "   Day_of_weekMonday   Day_of_weekSaturday     Day_of_weekSunday  \n",
       "           1.066e+01             1.630e+01                    NA  \n",
       " Day_of_weekThursday    Day_of_weekTuesday  Day_of_weekWednesday  \n",
       "          -2.570e-01            -3.476e+00                    NA  \n"
      ]
     },
     "metadata": {},
     "output_type": "display_data"
    }
   ],
   "source": [
    "lmcvFit$finalModel"
   ]
  },
  {
   "cell_type": "code",
   "execution_count": 24,
   "metadata": {},
   "outputs": [
    {
     "data": {
      "text/plain": [
       "lm variable importance\n",
       "\n",
       "  only 20 most important variables shown (out of 32)\n",
       "\n",
       "                    Overall\n",
       "T3                   100.00\n",
       "RH_1                  86.56\n",
       "lights                77.50\n",
       "RH_2                  72.67\n",
       "T6                    44.74\n",
       "T2                    43.84\n",
       "RH_8                  41.73\n",
       "RH_3                  36.74\n",
       "T8                    33.11\n",
       "NSM                   29.72\n",
       "T9                    29.06\n",
       "Day_of_weekFriday     25.64\n",
       "T_out                 25.48\n",
       "Day_of_weekSaturday   24.72\n",
       "Windspeed             20.17\n",
       "RH_6                  16.92\n",
       "Day_of_weekMonday     16.56\n",
       "RH_7                  14.76\n",
       "Visibility            12.72\n",
       "T1                    12.45"
      ]
     },
     "metadata": {},
     "output_type": "display_data"
    }
   ],
   "source": [
    "varImp(lmcvFit)"
   ]
  },
  {
   "cell_type": "code",
   "execution_count": 71,
   "metadata": {},
   "outputs": [
    {
     "data": {},
     "metadata": {},
     "output_type": "display_data"
    },
    {
     "data": {
      "image/png": "[encoded data removed]",
      "text/plain": [
       "plot without title"
      ]
     },
     "metadata": {},
     "output_type": "display_data"
    }
   ],
   "source": [
    "plot(varImp(lmcvFit))"
   ]
  },
  {
   "cell_type": "code",
   "execution_count": 31,
   "metadata": {},
   "outputs": [],
   "source": [
    "fitcontral <- trainControl(method = 'repeatedcv',number = 5,repeats = 2,returnResamp = 'all')"
   ]
  },
  {
   "cell_type": "code",
   "execution_count": 36,
   "metadata": {
    "collapsed": true
   },
   "outputs": [],
   "source": [
    "\n",
    "gbmGrid <-  expand.grid(interaction.depth = c(1,3,5),\n",
    "                        n.trees = seq(100,400),\n",
    "                        shrinkage = 0.1,\n",
    "                        n.minobsinnode = c(10))"
   ]
  },
  {
   "cell_type": "code",
   "execution_count": 37,
   "metadata": {},
   "outputs": [
    {
     "name": "stdout",
     "output_type": "stream",
     "text": [
      "Iter   TrainDeviance   ValidDeviance   StepSize   Improve\n",
      "     1    10535.9709             nan     0.1000    2.1547\n",
      "     2    10533.1809             nan     0.1000    1.9569\n",
      "     3    10531.9351             nan     0.1000    1.3942\n",
      "     4    10530.7384             nan     0.1000    1.4150\n",
      "     5    10529.2917             nan     0.1000    0.0926\n",
      "     6    10527.9721             nan     0.1000   -0.6216\n",
      "     7    10527.3023             nan     0.1000    0.1630\n",
      "     8    10526.5631             nan     0.1000    0.1729\n",
      "     9    10525.9890             nan     0.1000    0.3940\n",
      "    10    10525.4918             nan     0.1000   -0.1709\n",
      "    20    10524.4591             nan     0.1000   -1.2898\n",
      "    40    10524.3547             nan     0.1000   -0.2495\n",
      "    60    10524.1981             nan     0.1000   -0.0124\n",
      "    80    10524.2413             nan     0.1000   -0.0317\n",
      "   100    10524.2618             nan     0.1000   -0.3325\n",
      "   120    10524.2265             nan     0.1000   -0.5192\n",
      "   140    10524.1827             nan     0.1000   -0.1146\n",
      "   160    10524.1821             nan     0.1000   -0.2563\n",
      "   180    10524.2715             nan     0.1000   -0.3261\n",
      "   200    10524.2198             nan     0.1000   -1.0468\n",
      "   220    10524.1894             nan     0.1000   -0.0065\n",
      "   240    10524.2965             nan     0.1000   -0.1687\n",
      "   260    10524.2467             nan     0.1000   -0.2242\n",
      "   280    10524.1990             nan     0.1000   -0.2450\n",
      "   300    10524.2767             nan     0.1000   -0.1700\n",
      "   320    10524.2303             nan     0.1000   -0.1076\n",
      "   340    10524.1808             nan     0.1000   -0.1189\n",
      "   360    10524.1825             nan     0.1000   -0.1263\n",
      "   380    10524.2586             nan     0.1000   -0.0996\n",
      "   400    10524.3940             nan     0.1000   -0.3329\n",
      "\n",
      "Iter   TrainDeviance   ValidDeviance   StepSize   Improve\n",
      "     1    10535.9604             nan     0.1000    2.6382\n",
      "     2    10533.9424             nan     0.1000    2.2277\n",
      "     3    10532.1386             nan     0.1000    1.7506\n",
      "     4    10530.5758             nan     0.1000    1.4916\n",
      "     5    10529.1084             nan     0.1000    0.7369\n",
      "     6    10528.4215             nan     0.1000    0.8483\n",
      "     7    10527.9034             nan     0.1000    0.4263\n",
      "     8    10527.3742             nan     0.1000   -0.2573\n",
      "     9    10526.5182             nan     0.1000   -0.3499\n",
      "    10    10526.0702             nan     0.1000    0.4285\n",
      "    20    10524.4132             nan     0.1000   -0.1905\n",
      "    40    10524.2210             nan     0.1000   -0.0629\n",
      "    60    10524.2532             nan     0.1000   -0.0119\n",
      "    80    10524.1945             nan     0.1000   -0.1100\n",
      "   100    10524.2550             nan     0.1000   -0.4234\n",
      "   120    10524.1863             nan     0.1000   -0.5382\n",
      "   140    10524.1924             nan     0.1000    0.0024\n",
      "   160    10524.2072             nan     0.1000   -0.1472\n",
      "   180    10524.3725             nan     0.1000   -0.2036\n",
      "   200    10524.2097             nan     0.1000    0.0024\n",
      "   220    10524.2807             nan     0.1000   -0.1029\n",
      "   240    10524.1903             nan     0.1000   -0.0375\n",
      "   260    10524.2329             nan     0.1000   -0.1941\n",
      "   280    10524.2532             nan     0.1000   -0.3537\n",
      "   300    10524.3239             nan     0.1000   -0.0909\n",
      "   320    10524.2474             nan     0.1000   -0.1120\n",
      "   340    10524.1868             nan     0.1000   -0.7378\n",
      "   360    10524.2672             nan     0.1000   -0.4203\n",
      "   380    10524.2291             nan     0.1000   -0.4451\n",
      "   400    10524.2157             nan     0.1000   -0.0333\n",
      "\n",
      "Iter   TrainDeviance   ValidDeviance   StepSize   Improve\n",
      "     1    10535.7348             nan     0.1000    1.9522\n",
      "     2    10533.7518             nan     0.1000    2.2092\n",
      "     3    10531.9276             nan     0.1000    1.8402\n",
      "     4    10530.1976             nan     0.1000    1.3358\n",
      "     5    10528.8559             nan     0.1000    1.0273\n",
      "     6    10527.6023             nan     0.1000    0.5720\n",
      "     7    10527.0332             nan     0.1000    0.6398\n",
      "     8    10526.8074             nan     0.1000   -1.3307\n",
      "     9    10526.7802             nan     0.1000   -0.0945\n",
      "    10    10526.3520             nan     0.1000    0.4697\n",
      "    20    10524.5577             nan     0.1000    0.0725\n",
      "    40    10524.2684             nan     0.1000   -0.0040\n",
      "    60    10524.3238             nan     0.1000   -0.0547\n",
      "    80    10524.2088             nan     0.1000   -0.1926\n",
      "   100    10524.1821             nan     0.1000   -0.1789\n",
      "   120    10524.2362             nan     0.1000    0.0023\n",
      "   140    10524.2701             nan     0.1000   -0.6826\n",
      "   160    10524.2391             nan     0.1000   -0.2960\n",
      "   180    10524.2872             nan     0.1000   -0.2100\n",
      "   200    10524.2016             nan     0.1000   -0.1477\n",
      "   220    10524.4965             nan     0.1000    0.0144\n",
      "   240    10524.3185             nan     0.1000   -0.2797\n",
      "   260    10524.2164             nan     0.1000   -0.0880\n",
      "   280    10524.1903             nan     0.1000   -0.0185\n",
      "   300    10524.1927             nan     0.1000   -0.7728\n",
      "   320    10524.1891             nan     0.1000   -0.2634\n",
      "   340    10524.2592             nan     0.1000   -0.1317\n",
      "   360    10524.3776             nan     0.1000   -0.2139\n",
      "   380    10524.2353             nan     0.1000   -0.0359\n",
      "   400    10524.2056             nan     0.1000   -0.2267\n",
      "\n",
      "Iter   TrainDeviance   ValidDeviance   StepSize   Improve\n",
      "     1    10485.6467             nan     0.1000    2.1458\n",
      "     2    10483.8022             nan     0.1000    1.8089\n",
      "     3    10482.0742             nan     0.1000    1.3385\n",
      "     4    10481.0955             nan     0.1000    1.0226\n",
      "     5    10480.4395             nan     0.1000    0.8817\n",
      "     6    10480.0203             nan     0.1000   -0.5667\n",
      "     7    10479.0199             nan     0.1000    0.3871\n",
      "     8    10478.3967             nan     0.1000    0.4841\n",
      "     9    10477.9100             nan     0.1000    0.3080\n",
      "    10    10477.5874             nan     0.1000    0.2592\n",
      "    20    10476.5730             nan     0.1000   -0.2901\n",
      "    40    10476.3518             nan     0.1000   -0.8181\n",
      "    60    10476.1983             nan     0.1000   -0.1411\n",
      "    80    10476.2287             nan     0.1000    0.0158\n",
      "   100    10476.1180             nan     0.1000   -0.0395\n",
      "   120    10476.1411             nan     0.1000   -0.0772\n",
      "   140    10476.1642             nan     0.1000   -0.0828\n",
      "   160    10476.1192             nan     0.1000    0.0004\n",
      "   180    10476.1442             nan     0.1000   -0.1456\n",
      "   200    10476.1552             nan     0.1000   -0.0464\n",
      "   220    10476.1705             nan     0.1000   -0.5200\n",
      "   240    10476.1379             nan     0.1000   -0.6072\n",
      "   260    10476.1482             nan     0.1000   -0.1913\n",
      "   280    10476.1716             nan     0.1000   -0.1461\n",
      "   300    10476.1855             nan     0.1000   -0.4194\n",
      "   320    10476.3079             nan     0.1000   -0.0024\n",
      "   340    10476.1392             nan     0.1000   -0.3076\n",
      "   360    10476.1285             nan     0.1000   -0.0273\n",
      "   380    10476.1357             nan     0.1000   -0.2000\n",
      "   400    10476.2172             nan     0.1000   -0.1881\n",
      "\n",
      "Iter   TrainDeviance   ValidDeviance   StepSize   Improve\n",
      "     1    10484.7145             nan     0.1000    1.9481\n",
      "     2    10482.6402             nan     0.1000    1.3194\n",
      "     3    10480.8736             nan     0.1000    0.7683\n",
      "     4    10480.0774             nan     0.1000    0.9000\n",
      "     5    10479.1647             nan     0.1000    0.5423\n",
      "     6    10478.3868             nan     0.1000    0.4688\n",
      "     7    10477.9117             nan     0.1000    0.4199\n",
      "     8    10477.7578             nan     0.1000   -0.0039\n",
      "     9    10477.7167             nan     0.1000    0.0109\n",
      "    10    10477.3920             nan     0.1000    0.2980\n",
      "    20    10476.4856             nan     0.1000   -0.1543\n",
      "    40    10476.1386             nan     0.1000   -0.0507\n",
      "    60    10476.2091             nan     0.1000   -0.4508\n",
      "    80    10476.1197             nan     0.1000   -0.5364\n",
      "   100    10476.2219             nan     0.1000   -0.0059\n",
      "   120    10476.2326             nan     0.1000   -0.0031\n",
      "   140    10476.1365             nan     0.1000   -0.3934\n",
      "   160    10476.1793             nan     0.1000   -0.3489\n",
      "   180    10476.1785             nan     0.1000   -0.6574\n",
      "   200    10476.1923             nan     0.1000   -0.0812\n",
      "   220    10476.2145             nan     0.1000   -0.1506\n",
      "   240    10476.1243             nan     0.1000   -0.0423\n",
      "   260    10476.4051             nan     0.1000   -1.1629\n",
      "   280    10476.3074             nan     0.1000   -0.6447\n",
      "   300    10476.1853             nan     0.1000   -0.2037\n",
      "   320    10476.1100             nan     0.1000   -0.1604\n",
      "   340    10476.1576             nan     0.1000   -0.2206\n",
      "   360    10476.2238             nan     0.1000   -0.8585\n",
      "   380    10476.1870             nan     0.1000   -0.1359\n",
      "   400    10476.1892             nan     0.1000   -0.0282\n",
      "\n",
      "Iter   TrainDeviance   ValidDeviance   StepSize   Improve\n",
      "     1    10485.4603             nan     0.1000    1.8483\n",
      "     2    10484.6285             nan     0.1000    1.0481\n",
      "     3    10481.9939             nan     0.1000    0.4355\n",
      "     4    10480.8262             nan     0.1000    1.0936\n",
      "     5    10479.7676             nan     0.1000    0.8215\n",
      "     6    10479.2089             nan     0.1000    0.5371\n",
      "     7    10478.3586             nan     0.1000    0.2818\n",
      "     8    10477.7414             nan     0.1000    0.0820\n",
      "     9    10477.4649             nan     0.1000    0.2816\n",
      "    10    10477.3004             nan     0.1000    0.2066\n",
      "    20    10476.5230             nan     0.1000   -0.1144\n",
      "    40    10476.2300             nan     0.1000   -0.2080\n",
      "    60    10476.3097             nan     0.1000   -0.7265\n",
      "    80    10476.1664             nan     0.1000   -0.2097\n",
      "   100    10476.1214             nan     0.1000   -0.0485\n",
      "   120    10476.1971             nan     0.1000   -0.0516\n",
      "   140    10476.1697             nan     0.1000   -0.2950\n",
      "   160    10476.1637             nan     0.1000    0.0046\n",
      "   180    10476.1481             nan     0.1000   -0.4261\n",
      "   200    10476.2248             nan     0.1000   -0.6096\n",
      "   220    10476.1956             nan     0.1000   -0.0568\n",
      "   240    10476.2810             nan     0.1000   -0.0280\n",
      "   260    10476.2688             nan     0.1000   -0.4288\n",
      "   280    10476.1189             nan     0.1000   -0.0953\n",
      "   300    10476.1631             nan     0.1000   -0.0448\n",
      "   320    10476.2430             nan     0.1000   -0.9280\n",
      "   340    10476.1156             nan     0.1000   -0.4112\n",
      "   360    10476.1239             nan     0.1000   -0.3077\n",
      "   380    10476.1225             nan     0.1000   -0.1940\n",
      "   400    10476.1860             nan     0.1000    0.0174\n",
      "\n",
      "Iter   TrainDeviance   ValidDeviance   StepSize   Improve\n",
      "     1    10641.0825             nan     0.1000    0.8020\n",
      "     2    10639.2456             nan     0.1000    2.2701\n",
      "     3    10638.1445             nan     0.1000    1.4463\n",
      "     4    10636.5187             nan     0.1000    1.7485\n",
      "     5    10635.2000             nan     0.1000    1.4296\n",
      "     6    10633.6339             nan     0.1000    0.9629\n",
      "     7    10632.6564             nan     0.1000    0.8652\n",
      "     8    10632.3106             nan     0.1000    0.5032\n",
      "     9    10631.6127             nan     0.1000    0.6550\n",
      "    10    10630.6188             nan     0.1000   -0.1789\n",
      "    20    10629.7707             nan     0.1000   -0.9190\n",
      "    40    10628.8540             nan     0.1000   -0.0227\n",
      "    60    10628.8760             nan     0.1000   -0.0321\n",
      "    80    10628.8218             nan     0.1000   -0.1543\n",
      "   100    10628.8402             nan     0.1000   -0.3109\n",
      "   120    10628.8778             nan     0.1000   -0.0872\n",
      "   140    10628.8309             nan     0.1000   -0.0330\n",
      "   160    10628.8285             nan     0.1000   -0.5499\n",
      "   180    10628.8178             nan     0.1000   -0.1270\n",
      "   200    10628.9179             nan     0.1000   -0.0259\n",
      "   220    10628.8474             nan     0.1000   -0.2032\n",
      "   240    10628.8580             nan     0.1000   -0.7199\n",
      "   260    10628.9479             nan     0.1000   -0.3023\n",
      "   280    10628.8700             nan     0.1000   -0.4212\n",
      "   300    10628.8393             nan     0.1000   -0.0490\n",
      "   320    10628.8504             nan     0.1000   -0.0119\n",
      "   340    10628.8154             nan     0.1000   -0.0785\n",
      "   360    10628.8835             nan     0.1000   -0.0989\n",
      "   380    10628.8261             nan     0.1000   -0.0895\n",
      "   400    10628.8604             nan     0.1000   -0.4211\n",
      "\n",
      "Iter   TrainDeviance   ValidDeviance   StepSize   Improve\n",
      "     1    10638.9152             nan     0.1000    2.2409\n",
      "     2    10637.0673             nan     0.1000    1.9901\n",
      "     3    10635.3002             nan     0.1000    1.1631\n",
      "     4    10634.0848             nan     0.1000    1.2579\n",
      "     5    10632.9827             nan     0.1000    0.9643\n",
      "     6    10632.3576             nan     0.1000    0.7452\n",
      "     7    10631.2327             nan     0.1000    0.0979\n",
      "     8    10630.6092             nan     0.1000    0.1477\n",
      "     9    10630.2287             nan     0.1000   -0.6542\n",
      "    10    10629.9068             nan     0.1000   -0.0154\n",
      "    20    10628.9954             nan     0.1000   -0.0043\n",
      "    40    10628.8557             nan     0.1000   -0.4009\n",
      "    60    10628.8327             nan     0.1000   -0.0311\n",
      "    80    10628.8543             nan     0.1000   -0.1370\n",
      "   100    10628.9164             nan     0.1000   -0.1489\n",
      "   120    10628.8242             nan     0.1000   -0.3733\n",
      "   140    10628.8098             nan     0.1000   -0.2130\n",
      "   160    10628.9158             nan     0.1000   -0.1559\n",
      "   180    10628.9450             nan     0.1000   -0.1927\n",
      "   200    10628.8471             nan     0.1000   -0.4675\n",
      "   220    10628.8342             nan     0.1000   -0.0052\n",
      "   240    10628.8581             nan     0.1000   -0.3150\n",
      "   260    10628.8129             nan     0.1000   -0.6552\n",
      "   280    10628.8297             nan     0.1000   -0.2496\n",
      "   300    10628.9502             nan     0.1000   -0.1992\n",
      "   320    10628.8920             nan     0.1000   -0.0189\n",
      "   340    10628.8723             nan     0.1000   -0.1361\n",
      "   360    10628.8548             nan     0.1000   -0.4680\n",
      "   380    10628.8083             nan     0.1000   -0.2019\n",
      "   400    10628.8486             nan     0.1000   -0.4023\n",
      "\n",
      "Iter   TrainDeviance   ValidDeviance   StepSize   Improve\n",
      "     1    10638.8657             nan     0.1000    2.2517\n",
      "     2    10636.5566             nan     0.1000    1.2016\n",
      "     3    10635.6303             nan     0.1000    1.2158\n",
      "     4    10634.7398             nan     0.1000    1.1335\n",
      "     5    10633.6560             nan     0.1000    1.1199\n",
      "     6    10632.5426             nan     0.1000    0.6971\n",
      "     7    10631.6833             nan     0.1000    0.6448\n",
      "     8    10631.0677             nan     0.1000    0.3291\n",
      "     9    10630.1566             nan     0.1000   -0.6564\n",
      "    10    10630.1045             nan     0.1000   -0.4495\n",
      "    20    10629.2091             nan     0.1000   -0.1141\n",
      "    40    10628.9869             nan     0.1000   -0.0535\n",
      "    60    10628.8384             nan     0.1000   -0.5239\n",
      "    80    10628.9046             nan     0.1000   -0.2303\n",
      "   100    10628.8543             nan     0.1000   -0.1392\n",
      "   120    10628.8122             nan     0.1000   -0.0063\n",
      "   140    10629.0174             nan     0.1000   -0.4413\n",
      "   160    10628.9991             nan     0.1000   -0.1419\n",
      "   180    10628.8326             nan     0.1000   -0.1587\n",
      "   200    10628.8607             nan     0.1000   -0.1996\n",
      "   220    10628.8952             nan     0.1000    0.0126\n",
      "   240    10628.8873             nan     0.1000   -0.0123\n",
      "   260    10628.8321             nan     0.1000   -0.0747\n",
      "   280    10628.8694             nan     0.1000   -0.1112\n",
      "   300    10629.1092             nan     0.1000    0.0672\n",
      "   320    10628.8140             nan     0.1000   -0.2058\n",
      "   340    10628.8792             nan     0.1000   -0.1235\n",
      "   360    10628.8248             nan     0.1000   -0.6620\n",
      "   380    10628.8325             nan     0.1000   -0.8425\n",
      "   400    10628.8284             nan     0.1000   -0.2888\n",
      "\n",
      "Iter   TrainDeviance   ValidDeviance   StepSize   Improve\n",
      "     1    10664.8445             nan     0.1000    2.5783\n",
      "     2    10662.2946             nan     0.1000    1.6902\n",
      "     3    10660.6516             nan     0.1000    1.6690\n",
      "     4    10658.9098             nan     0.1000    1.2678\n",
      "     5    10657.6258             nan     0.1000    0.7197\n",
      "     6    10656.6886             nan     0.1000    0.5459\n",
      "     7    10656.4839             nan     0.1000    0.3348\n",
      "     8    10656.2257             nan     0.1000    0.4057\n",
      "     9    10655.5707             nan     0.1000    0.3226\n",
      "    10    10655.5810             nan     0.1000   -0.0512\n",
      "    20    10653.7504             nan     0.1000    0.0389\n",
      "    40    10653.5337             nan     0.1000   -0.3551\n",
      "    60    10653.3689             nan     0.1000   -0.2430\n",
      "    80    10653.3519             nan     0.1000   -0.0076\n",
      "   100    10653.3514             nan     0.1000   -0.2968\n",
      "   120    10653.4310             nan     0.1000   -0.3124\n",
      "   140    10653.3805             nan     0.1000   -0.4085\n",
      "   160    10653.4391             nan     0.1000   -0.2202\n",
      "   180    10653.4377             nan     0.1000   -0.0773\n",
      "   200    10653.3904             nan     0.1000   -0.0139\n",
      "   220    10653.3797             nan     0.1000   -0.9562\n",
      "   240    10653.3711             nan     0.1000   -0.3191\n",
      "   260    10653.4476             nan     0.1000   -0.2252\n",
      "   280    10653.5892             nan     0.1000   -1.0051\n",
      "   300    10653.3939             nan     0.1000   -0.5217\n",
      "   320    10653.4089             nan     0.1000   -0.3951\n",
      "   340    10653.5073             nan     0.1000   -0.1665\n",
      "   360    10653.3627             nan     0.1000   -0.2773\n",
      "   380    10653.3616             nan     0.1000   -0.0292\n",
      "   400    10653.4830             nan     0.1000   -0.0067\n",
      "\n",
      "Iter   TrainDeviance   ValidDeviance   StepSize   Improve\n",
      "     1    10663.9284             nan     0.1000    2.0810\n",
      "     2    10662.3522             nan     0.1000    1.6725\n",
      "     3    10660.6661             nan     0.1000    1.5270\n",
      "     4    10659.2722             nan     0.1000    1.1956\n",
      "     5    10657.6027             nan     0.1000    0.5877\n",
      "     6    10656.4571             nan     0.1000    0.4318\n",
      "     7    10655.7320             nan     0.1000    0.5186\n",
      "     8    10655.2509             nan     0.1000    0.4184\n",
      "     9    10654.8160             nan     0.1000    0.3385\n",
      "    10    10654.4499             nan     0.1000    0.2133\n",
      "    20    10653.5532             nan     0.1000    0.0105\n",
      "    40    10653.3613             nan     0.1000   -0.7130\n",
      "    60    10653.4953             nan     0.1000   -0.4083\n",
      "    80    10653.3611             nan     0.1000   -0.6636\n",
      "   100    10653.5550             nan     0.1000    0.0412\n",
      "   120    10653.3861             nan     0.1000   -0.2128\n",
      "   140    10653.5827             nan     0.1000    0.0430\n",
      "   160    10653.4551             nan     0.1000   -0.0443\n",
      "   180    10653.3667             nan     0.1000   -0.3082\n",
      "   200    10653.4564             nan     0.1000   -0.5651\n",
      "   220    10653.3833             nan     0.1000   -0.4666\n",
      "   240    10653.3995             nan     0.1000   -0.0039\n",
      "   260    10653.4371             nan     0.1000   -0.1958\n",
      "   280    10653.3750             nan     0.1000   -0.2995\n",
      "   300    10653.5603             nan     0.1000   -0.0074\n",
      "   320    10653.4566             nan     0.1000   -0.1301\n",
      "   340    10653.5530             nan     0.1000   -0.0963\n",
      "   360    10653.3550             nan     0.1000   -0.0830\n",
      "   380    10653.4326             nan     0.1000   -0.1420\n",
      "   400    10653.5565             nan     0.1000    0.0404\n",
      "\n",
      "Iter   TrainDeviance   ValidDeviance   StepSize   Improve\n",
      "     1    10665.0669             nan     0.1000    2.4272\n",
      "     2    10662.2272             nan     0.1000    2.0521\n",
      "     3    10660.0642             nan     0.1000    1.4713\n",
      "     4    10659.3638             nan     0.1000    0.8293\n",
      "     5    10657.5721             nan     0.1000    0.5638\n",
      "     6    10656.8212             nan     0.1000    0.8060\n",
      "     7    10656.8743             nan     0.1000   -0.2654\n",
      "     8    10656.4068             nan     0.1000    0.5730\n",
      "     9    10655.6075             nan     0.1000    0.4263\n",
      "    10    10655.1013             nan     0.1000    0.3575\n",
      "    20    10653.5678             nan     0.1000   -0.0954\n",
      "    40    10653.6509             nan     0.1000   -0.6632\n",
      "    60    10653.4165             nan     0.1000   -0.1175\n",
      "    80    10653.4520             nan     0.1000   -0.5142\n",
      "   100    10653.4856             nan     0.1000   -1.0107\n",
      "   120    10653.3532             nan     0.1000   -0.0797\n",
      "   140    10653.5546             nan     0.1000   -0.4030\n",
      "   160    10653.5710             nan     0.1000   -0.1304\n",
      "   180    10653.4256             nan     0.1000   -0.6121\n",
      "   200    10653.5052             nan     0.1000   -1.2296\n",
      "   220    10653.3811             nan     0.1000   -0.2026\n",
      "   240    10653.4060             nan     0.1000   -0.0237\n",
      "   260    10653.4324             nan     0.1000   -0.6808\n",
      "   280    10653.3720             nan     0.1000   -0.0572\n",
      "   300    10653.4212             nan     0.1000   -0.1529\n",
      "   320    10653.4547             nan     0.1000   -0.3656\n",
      "   340    10653.3675             nan     0.1000   -0.2189\n",
      "   360    10653.3665             nan     0.1000   -0.0268\n",
      "   380    10653.4789             nan     0.1000   -0.0076\n",
      "   400    10653.3585             nan     0.1000   -0.0201\n",
      "\n",
      "Iter   TrainDeviance   ValidDeviance   StepSize   Improve\n",
      "     1    10526.9050             nan     0.1000    1.9375\n",
      "     2    10525.5597             nan     0.1000    1.5230\n",
      "     3    10523.3943             nan     0.1000    0.5421\n",
      "     4    10522.4624             nan     0.1000    0.4316\n",
      "     5    10522.2202             nan     0.1000   -0.1728\n",
      "     6    10522.1168             nan     0.1000   -0.1159\n",
      "     7    10521.2616             nan     0.1000    0.0527\n",
      "     8    10520.8308             nan     0.1000    0.1210\n",
      "     9    10520.3729             nan     0.1000    0.2140\n",
      "    10    10519.8756             nan     0.1000    0.1530\n",
      "    20    10518.7125             nan     0.1000   -0.1101\n",
      "    40    10518.7627             nan     0.1000   -0.0904\n",
      "    60    10518.7885             nan     0.1000   -0.7759\n",
      "    80    10518.7534             nan     0.1000   -0.0838\n",
      "   100    10518.6462             nan     0.1000   -0.4005\n",
      "   120    10518.6628             nan     0.1000   -0.2605\n",
      "   140    10518.6528             nan     0.1000   -0.5902\n",
      "   160    10518.7034             nan     0.1000   -0.4294\n",
      "   180    10518.6653             nan     0.1000   -0.0167\n",
      "   200    10518.8669             nan     0.1000   -0.1403\n",
      "   220    10518.6333             nan     0.1000   -0.0731\n",
      "   240    10518.6990             nan     0.1000   -0.0642\n",
      "   260    10518.6294             nan     0.1000   -0.3098\n",
      "   280    10518.6446             nan     0.1000   -0.0692\n",
      "   300    10518.6315             nan     0.1000   -0.0235\n",
      "   320    10518.6996             nan     0.1000   -0.6151\n",
      "   340    10518.7733             nan     0.1000    0.0070\n",
      "   360    10518.6480             nan     0.1000   -0.1238\n",
      "   380    10518.7097             nan     0.1000   -0.1491\n",
      "   400    10519.0236             nan     0.1000   -0.4187\n",
      "\n",
      "Iter   TrainDeviance   ValidDeviance   StepSize   Improve\n",
      "     1    10527.7844             nan     0.1000    1.7735\n",
      "     2    10526.4245             nan     0.1000    0.5905\n",
      "     3    10525.5540             nan     0.1000    1.0615\n",
      "     4    10524.6966             nan     0.1000    1.0386\n",
      "     5    10522.9829             nan     0.1000    0.6291\n",
      "     6    10521.9979             nan     0.1000    0.7284\n",
      "     7    10521.4838             nan     0.1000    0.6047\n",
      "     8    10520.9873             nan     0.1000    0.4181\n",
      "     9    10520.7443             nan     0.1000    0.2437\n",
      "    10    10520.2262             nan     0.1000    0.1714\n",
      "    20    10518.9057             nan     0.1000   -0.2059\n",
      "    40    10518.6883             nan     0.1000   -0.2273\n",
      "    60    10518.6946             nan     0.1000   -0.2062\n",
      "    80    10518.7049             nan     0.1000   -0.0619\n",
      "   100    10518.8740             nan     0.1000   -0.6979\n",
      "   120    10518.6369             nan     0.1000   -0.2364\n",
      "   140    10518.6670             nan     0.1000   -0.4286\n",
      "   160    10518.6391             nan     0.1000   -0.2166\n",
      "   180    10518.7257             nan     0.1000    0.0212\n",
      "   200    10518.7214             nan     0.1000   -0.2108\n",
      "   220    10518.7356             nan     0.1000   -0.5881\n",
      "   240    10518.6517             nan     0.1000   -0.4768\n",
      "   260    10518.7360             nan     0.1000    0.0147\n",
      "   280    10518.6843             nan     0.1000    0.0092\n",
      "   300    10518.7651             nan     0.1000   -0.1005\n",
      "   320    10518.6454             nan     0.1000   -0.0687\n",
      "   340    10518.8115             nan     0.1000   -0.1372\n",
      "   360    10518.6771             nan     0.1000   -0.0874\n",
      "   380    10518.6324             nan     0.1000   -0.2802\n",
      "   400    10518.7575             nan     0.1000   -0.1009\n",
      "\n",
      "Iter   TrainDeviance   ValidDeviance   StepSize   Improve\n",
      "     1    10527.6451             nan     0.1000    1.8732\n",
      "     2    10526.0777             nan     0.1000    1.6980\n",
      "     3    10524.7026             nan     0.1000    1.3392\n",
      "     4    10523.3500             nan     0.1000    1.0451\n",
      "     5    10522.0680             nan     0.1000    0.5360\n",
      "     6    10521.2271             nan     0.1000    0.0920\n",
      "     7    10520.7678             nan     0.1000    0.2716\n",
      "     8    10520.2747             nan     0.1000    0.3408\n",
      "     9    10520.1237             nan     0.1000   -0.0523\n",
      "    10    10519.7705             nan     0.1000    0.2014\n",
      "    20    10518.7590             nan     0.1000   -0.5874\n",
      "    40    10518.7253             nan     0.1000   -0.7075\n",
      "    60    10518.6753             nan     0.1000   -1.0212\n",
      "    80    10518.6666             nan     0.1000   -0.2557\n",
      "   100    10518.6920             nan     0.1000   -0.0598\n",
      "   120    10518.6527             nan     0.1000   -0.2432\n",
      "   140    10518.6438             nan     0.1000   -0.6457\n",
      "   160    10518.6764             nan     0.1000   -0.1008\n",
      "   180    10518.6368             nan     0.1000   -0.2480\n",
      "   200    10518.8856             nan     0.1000   -0.6305\n",
      "   220    10518.9677             nan     0.1000    0.0592\n",
      "   240    10518.6457             nan     0.1000   -0.1764\n",
      "   260    10518.7405             nan     0.1000    0.0023\n",
      "   280    10518.6300             nan     0.1000   -0.5207\n",
      "   300    10518.6767             nan     0.1000   -0.1491\n",
      "   320    10518.6618             nan     0.1000   -0.1635\n",
      "   340    10518.7666             nan     0.1000   -0.4214\n",
      "   360    10518.7093             nan     0.1000   -0.5490\n",
      "   380    10518.7330             nan     0.1000   -0.3877\n",
      "   400    10518.6978             nan     0.1000   -0.1858\n",
      "\n",
      "Iter   TrainDeviance   ValidDeviance   StepSize   Improve\n",
      "     1    10437.0236             nan     0.1000    1.8080\n",
      "     2    10435.3317             nan     0.1000    1.1504\n",
      "     3    10434.6886             nan     0.1000    0.9227\n",
      "     4    10433.2641             nan     0.1000    0.7208\n",
      "     5    10432.8530             nan     0.1000    0.5683\n",
      "     6    10432.5471             nan     0.1000    0.3629\n",
      "     7    10432.0997             nan     0.1000    0.3933\n",
      "     8    10431.5882             nan     0.1000    0.4973\n",
      "     9    10431.4690             nan     0.1000   -0.0500\n",
      "    10    10431.3181             nan     0.1000    0.1997\n",
      "    20    10429.9145             nan     0.1000    0.0321\n",
      "    40    10429.4468             nan     0.1000   -0.8554\n",
      "    60    10429.4326             nan     0.1000   -0.0350\n",
      "    80    10429.4617             nan     0.1000   -0.0774\n",
      "   100    10429.5300             nan     0.1000   -0.1151\n",
      "   120    10429.4471             nan     0.1000   -0.2213\n",
      "   140    10429.4957             nan     0.1000    0.0134\n",
      "   160    10429.5275             nan     0.1000   -0.6254\n",
      "   180    10429.4345             nan     0.1000   -0.2768\n",
      "   200    10429.4461             nan     0.1000   -0.0689\n",
      "   220    10429.5763             nan     0.1000   -0.2120\n",
      "   240    10429.4566             nan     0.1000   -0.0450\n",
      "   260    10429.4204             nan     0.1000   -0.2787\n",
      "   280    10429.5042             nan     0.1000   -0.6527\n",
      "   300    10429.4287             nan     0.1000   -0.3191\n",
      "   320    10429.4655             nan     0.1000   -0.4303\n",
      "   340    10429.5759             nan     0.1000   -0.1751\n",
      "   360    10429.4768             nan     0.1000   -0.3063\n",
      "   380    10429.8036             nan     0.1000    0.0404\n",
      "   400    10429.4746             nan     0.1000    0.0013\n",
      "\n",
      "Iter   TrainDeviance   ValidDeviance   StepSize   Improve\n",
      "     1    10437.5195             nan     0.1000    1.8637\n",
      "     2    10435.6866             nan     0.1000    1.3878\n",
      "     3    10434.5618             nan     0.1000    1.0613\n",
      "     4    10433.3136             nan     0.1000    0.8610\n",
      "     5    10432.3694             nan     0.1000    0.5938\n",
      "     6    10431.9602             nan     0.1000    0.4438\n",
      "     7    10431.5987             nan     0.1000    0.4298\n",
      "     8    10431.1665             nan     0.1000    0.3201\n",
      "     9    10430.8897             nan     0.1000    0.3211\n",
      "    10    10430.7874             nan     0.1000   -0.0348\n",
      "    20    10429.8732             nan     0.1000   -0.3650\n",
      "    40    10429.5842             nan     0.1000   -0.0543\n",
      "    60    10429.4291             nan     0.1000   -0.4077\n",
      "    80    10429.4195             nan     0.1000   -0.0497\n",
      "   100    10429.5386             nan     0.1000   -0.1222\n",
      "   120    10429.5162             nan     0.1000   -0.0321\n",
      "   140    10429.9322             nan     0.1000   -0.1543\n",
      "   160    10429.4201             nan     0.1000   -0.3384\n",
      "   180    10429.5747             nan     0.1000    0.0139\n",
      "   200    10429.4606             nan     0.1000   -0.0439\n",
      "   220    10429.5956             nan     0.1000   -0.0711\n",
      "   240    10429.4733             nan     0.1000   -0.0928\n",
      "   260    10429.4332             nan     0.1000   -0.0214\n",
      "   280    10429.4891             nan     0.1000   -0.0240\n",
      "   300    10429.4625             nan     0.1000   -0.0089\n",
      "   320    10429.5522             nan     0.1000   -0.0206\n",
      "   340    10429.4876             nan     0.1000   -0.1875\n",
      "   360    10429.4792             nan     0.1000   -0.2520\n",
      "   380    10429.8180             nan     0.1000   -0.3649\n",
      "   400    10429.4269             nan     0.1000   -0.3009\n",
      "\n",
      "Iter   TrainDeviance   ValidDeviance   StepSize   Improve\n",
      "     1    10437.9019             nan     0.1000    1.3341\n",
      "     2    10436.4092             nan     0.1000    1.5511\n",
      "     3    10434.9729             nan     0.1000    0.7844\n",
      "     4    10434.5819             nan     0.1000    0.6385\n",
      "     5    10433.3384             nan     0.1000    0.4698\n",
      "     6    10432.4830             nan     0.1000    0.6813\n",
      "     7    10431.9874             nan     0.1000    0.5765\n",
      "     8    10431.6363             nan     0.1000    0.1625\n",
      "     9    10431.3543             nan     0.1000   -0.1954\n",
      "    10    10430.9980             nan     0.1000    0.1448\n",
      "    20    10429.7990             nan     0.1000   -0.4207\n",
      "    40    10429.5268             nan     0.1000    0.0160\n",
      "    60    10429.4776             nan     0.1000   -0.0108\n",
      "    80    10429.4350             nan     0.1000   -0.3195\n",
      "   100    10429.4550             nan     0.1000   -0.1162\n",
      "   120    10429.4232             nan     0.1000   -0.0863\n",
      "   140    10429.4677             nan     0.1000   -0.0104\n",
      "   160    10429.8179             nan     0.1000   -1.6947\n",
      "   180    10429.4767             nan     0.1000   -0.4951\n",
      "   200    10429.4648             nan     0.1000   -0.1672\n",
      "   220    10429.4635             nan     0.1000    0.0008\n",
      "   240    10429.4682             nan     0.1000   -0.0439\n",
      "   260    10429.5233             nan     0.1000   -0.0362\n",
      "   280    10429.5448             nan     0.1000   -0.0228\n",
      "   300    10429.4281             nan     0.1000   -0.0494\n",
      "   320    10429.4378             nan     0.1000   -0.0086\n",
      "   340    10429.4495             nan     0.1000   -0.3504\n",
      "   360    10429.4348             nan     0.1000   -0.0152\n",
      "   380    10429.4255             nan     0.1000   -0.2642\n",
      "   400    10429.5045             nan     0.1000   -0.3449\n",
      "\n",
      "Iter   TrainDeviance   ValidDeviance   StepSize   Improve\n",
      "     1    10730.1270             nan     0.1000    3.0462\n",
      "     2    10728.3487             nan     0.1000    2.1462\n",
      "     3    10725.8333             nan     0.1000    2.0418\n",
      "     4    10724.5667             nan     0.1000    1.5661\n",
      "     5    10723.3839             nan     0.1000    1.3515\n",
      "     6    10722.0140             nan     0.1000    0.6331\n",
      "     7    10721.5824             nan     0.1000    0.6643\n",
      "     8    10720.3666             nan     0.1000    0.5838\n",
      "     9    10719.9956             nan     0.1000    0.5253\n",
      "    10    10719.5934             nan     0.1000    0.4436\n",
      "    20    10717.2865             nan     0.1000   -0.2608\n",
      "    40    10717.1663             nan     0.1000   -0.7704\n",
      "    60    10717.1959             nan     0.1000   -0.1796\n",
      "    80    10717.2071             nan     0.1000    0.0041\n",
      "   100    10717.2479             nan     0.1000   -0.0459\n",
      "   120    10717.2058             nan     0.1000   -0.0831\n",
      "   140    10717.3382             nan     0.1000   -0.1772\n",
      "   160    10717.1705             nan     0.1000   -0.0894\n",
      "   180    10717.2421             nan     0.1000   -0.1823\n",
      "   200    10717.1735             nan     0.1000   -0.7917\n",
      "   220    10717.1985             nan     0.1000    0.0030\n",
      "   240    10717.2498             nan     0.1000   -0.2748\n",
      "   260    10717.2951             nan     0.1000   -0.0125\n",
      "   280    10717.1565             nan     0.1000   -0.2983\n",
      "   300    10717.1816             nan     0.1000   -0.2641\n",
      "   320    10717.1723             nan     0.1000   -0.0046\n",
      "   340    10717.2340             nan     0.1000   -0.3099\n",
      "   360    10717.1988             nan     0.1000   -0.3589\n",
      "   380    10717.3375             nan     0.1000   -0.0486\n",
      "   400    10717.2304             nan     0.1000   -0.0440\n",
      "\n",
      "Iter   TrainDeviance   ValidDeviance   StepSize   Improve\n",
      "     1    10730.0482             nan     0.1000    2.9191\n",
      "     2    10727.4534             nan     0.1000    2.3669\n",
      "     3    10725.3803             nan     0.1000    1.5053\n",
      "     4    10723.7596             nan     0.1000    1.4419\n",
      "     5    10722.5818             nan     0.1000    1.2346\n",
      "     6    10721.6586             nan     0.1000    0.9782\n",
      "     7    10720.6391             nan     0.1000    0.6746\n",
      "     8    10720.2189             nan     0.1000    0.5768\n",
      "     9    10720.1444             nan     0.1000    0.0225\n",
      "    10    10719.0037             nan     0.1000   -0.4110\n",
      "    20    10717.3746             nan     0.1000   -0.8980\n",
      "    40    10717.1622             nan     0.1000   -0.2341\n",
      "    60    10717.2121             nan     0.1000   -0.0202\n",
      "    80    10717.1944             nan     0.1000   -0.2535\n",
      "   100    10717.1512             nan     0.1000   -0.4591\n",
      "   120    10717.2915             nan     0.1000   -0.3195\n",
      "   140    10717.1990             nan     0.1000   -0.3793\n",
      "   160    10717.1790             nan     0.1000   -0.0729\n",
      "   180    10717.3304             nan     0.1000   -0.4555\n",
      "   200    10717.1735             nan     0.1000   -0.2010\n",
      "   220    10717.1851             nan     0.1000   -0.0031\n",
      "   240    10717.1790             nan     0.1000   -0.6287\n",
      "   260    10717.1814             nan     0.1000   -0.8444\n",
      "   280    10717.1525             nan     0.1000   -0.8208\n",
      "   300    10717.1607             nan     0.1000   -0.5333\n",
      "   320    10717.2106             nan     0.1000   -0.3970\n",
      "   340    10717.3682             nan     0.1000   -0.5790\n",
      "   360    10717.1630             nan     0.1000   -0.3424\n",
      "   380    10717.3989             nan     0.1000   -0.8758\n",
      "   400    10717.1628             nan     0.1000   -0.1209\n",
      "\n",
      "Iter   TrainDeviance   ValidDeviance   StepSize   Improve\n",
      "     1    10731.0270             nan     0.1000    2.9653\n",
      "     2    10728.5328             nan     0.1000    2.6056\n",
      "     3    10725.7554             nan     0.1000    1.8285\n",
      "     4    10723.6276             nan     0.1000    0.7413\n",
      "     5    10722.2827             nan     0.1000    1.1223\n",
      "     6    10721.0419             nan     0.1000    0.3584\n",
      "     7    10720.3031             nan     0.1000    0.6371\n",
      "     8    10719.6792             nan     0.1000    0.6032\n",
      "     9    10719.1172             nan     0.1000   -0.5882\n",
      "    10    10718.5861             nan     0.1000    0.2757\n",
      "    20    10717.2309             nan     0.1000   -0.1079\n",
      "    40    10717.1638             nan     0.1000   -0.0627\n",
      "    60    10717.1884             nan     0.1000   -0.3769\n",
      "    80    10717.1832             nan     0.1000   -0.0947\n",
      "   100    10717.2041             nan     0.1000    0.0120\n",
      "   120    10717.1556             nan     0.1000   -0.0172\n",
      "   140    10717.2254             nan     0.1000    0.0122\n",
      "   160    10717.2640             nan     0.1000   -0.4828\n",
      "   180    10717.3154             nan     0.1000    0.0364\n",
      "   200    10717.2177             nan     0.1000   -0.1183\n",
      "   220    10717.2176             nan     0.1000   -0.0531\n",
      "   240    10717.1556             nan     0.1000   -0.1048\n",
      "   260    10717.2631             nan     0.1000   -0.9142\n",
      "   280    10717.2628             nan     0.1000   -0.3123\n",
      "   300    10717.2029             nan     0.1000   -0.2504\n",
      "   320    10717.5141             nan     0.1000   -0.4830\n",
      "   340    10717.1778             nan     0.1000   -0.1588\n",
      "   360    10717.1597             nan     0.1000   -0.2460\n",
      "   380    10717.1701             nan     0.1000   -0.1381\n",
      "   400    10717.2684             nan     0.1000   -0.2792\n",
      "\n",
      "Iter   TrainDeviance   ValidDeviance   StepSize   Improve\n",
      "     1    10614.7601             nan     0.1000    2.1376\n",
      "     2    10613.6214             nan     0.1000    1.5554\n",
      "     3    10612.2068             nan     0.1000    1.4617\n",
      "     4    10610.8254             nan     0.1000    0.6350\n",
      "     5    10609.9122             nan     0.1000    1.0471\n",
      "     6    10609.1436             nan     0.1000    0.7357\n",
      "     7    10608.7303             nan     0.1000    0.3523\n",
      "     8    10608.3079             nan     0.1000    0.5910\n",
      "     9    10607.7858             nan     0.1000    0.4649\n",
      "    10    10607.1599             nan     0.1000    0.3435\n",
      "    20    10605.5786             nan     0.1000   -0.0362\n",
      "    40    10605.3766             nan     0.1000    0.0304\n",
      "    60    10605.3008             nan     0.1000   -0.5194\n",
      "    80    10605.2879             nan     0.1000   -0.1198\n",
      "   100    10605.2492             nan     0.1000   -0.4663\n",
      "   120    10605.3057             nan     0.1000   -0.4340\n",
      "   140    10605.3093             nan     0.1000   -0.8795\n",
      "   160    10605.3111             nan     0.1000   -0.3339\n",
      "   180    10605.2492             nan     0.1000   -0.0370\n",
      "   200    10605.3571             nan     0.1000   -0.2963\n",
      "   220    10605.3244             nan     0.1000   -0.1878\n",
      "   240    10605.3189             nan     0.1000   -0.2926\n",
      "   260    10605.3121             nan     0.1000   -0.2386\n",
      "   280    10605.2567             nan     0.1000   -0.2450\n",
      "   300    10605.3086             nan     0.1000   -0.0514\n",
      "   320    10605.3971             nan     0.1000   -0.0761\n",
      "   340    10605.2973             nan     0.1000   -0.4385\n",
      "   360    10605.4414             nan     0.1000   -0.4510\n",
      "   380    10605.3078             nan     0.1000   -0.9520\n",
      "   400    10605.3868             nan     0.1000   -0.0234\n",
      "\n",
      "Iter   TrainDeviance   ValidDeviance   StepSize   Improve\n",
      "     1    10614.5819             nan     0.1000    2.2222\n",
      "     2    10613.4039             nan     0.1000    1.5694\n",
      "     3    10612.2648             nan     0.1000    0.1711\n",
      "     4    10610.6371             nan     0.1000    1.1474\n",
      "     5    10609.6629             nan     0.1000    1.0226\n",
      "     6    10608.8150             nan     0.1000    0.6773\n",
      "     7    10608.2092             nan     0.1000    0.5044\n",
      "     8    10607.9172             nan     0.1000    0.4182\n",
      "     9    10607.2950             nan     0.1000    0.4744\n",
      "    10    10606.9212             nan     0.1000    0.3836\n",
      "    20    10605.6182             nan     0.1000   -0.3571\n",
      "    40    10605.3251             nan     0.1000   -0.2862\n",
      "    60    10605.2944             nan     0.1000   -0.1335\n",
      "    80    10605.6875             nan     0.1000   -0.2971\n",
      "   100    10605.2504             nan     0.1000   -0.1397\n",
      "   120    10605.2479             nan     0.1000   -0.0548\n",
      "   140    10605.3004             nan     0.1000   -0.2301\n",
      "   160    10605.3294             nan     0.1000   -0.4342\n",
      "   180    10605.2485             nan     0.1000   -0.7621\n",
      "   200    10605.2452             nan     0.1000   -0.1209\n",
      "   220    10605.3211             nan     0.1000   -0.0057\n",
      "   240    10605.2494             nan     0.1000   -0.0262\n",
      "   260    10605.3836             nan     0.1000   -0.5209\n",
      "   280    10605.2574             nan     0.1000   -0.3472\n",
      "   300    10605.4199             nan     0.1000    0.0104\n",
      "   320    10605.2612             nan     0.1000   -0.0907\n",
      "   340    10605.3698             nan     0.1000   -0.2622\n",
      "   360    10605.2680             nan     0.1000    0.0014\n",
      "   380    10605.3888             nan     0.1000   -0.3257\n",
      "   400    10605.3656             nan     0.1000   -0.2269\n",
      "\n",
      "Iter   TrainDeviance   ValidDeviance   StepSize   Improve\n",
      "     1    10614.7306             nan     0.1000    1.9827\n",
      "     2    10613.0310             nan     0.1000    0.6116\n",
      "     3    10612.1111             nan     0.1000    1.2856\n",
      "     4    10609.9700             nan     0.1000    0.4365\n",
      "     5    10608.9923             nan     0.1000    0.5371\n",
      "     6    10607.8803             nan     0.1000    0.3794\n",
      "     7    10607.4755             nan     0.1000    0.4879\n",
      "     8    10607.1340             nan     0.1000   -0.0211\n",
      "     9    10606.6973             nan     0.1000    0.3141\n",
      "    10    10606.1283             nan     0.1000   -0.9743\n",
      "    20    10605.3722             nan     0.1000   -0.0688\n",
      "    40    10605.3428             nan     0.1000   -0.4098\n",
      "    60    10605.2751             nan     0.1000   -0.0938\n",
      "    80    10605.2668             nan     0.1000   -0.7687\n",
      "   100    10605.2651             nan     0.1000   -0.3837\n",
      "   120    10605.3369             nan     0.1000   -0.0739\n",
      "   140    10605.3350             nan     0.1000   -0.0316\n",
      "   160    10605.2688             nan     0.1000   -0.3141\n",
      "   180    10605.2804             nan     0.1000   -0.2571\n",
      "   200    10605.4511             nan     0.1000   -1.1942\n",
      "   220    10605.2784             nan     0.1000   -0.0520\n",
      "   240    10605.3270             nan     0.1000   -0.0013\n",
      "   260    10605.2528             nan     0.1000   -0.2326\n",
      "   280    10605.2637             nan     0.1000   -0.4817\n",
      "   300    10605.2642             nan     0.1000   -0.0280\n",
      "   320    10605.5214             nan     0.1000   -0.0085\n",
      "   340    10605.2984             nan     0.1000   -0.3111\n",
      "   360    10605.3468             nan     0.1000   -0.7691\n",
      "   380    10605.2780             nan     0.1000    0.0039\n",
      "   400    10605.4166             nan     0.1000   -1.0927\n",
      "\n",
      "Iter   TrainDeviance   ValidDeviance   StepSize   Improve\n",
      "     1    10507.7399             nan     0.1000    2.1056\n",
      "     2    10505.2110             nan     0.1000    1.5556\n",
      "     3    10503.4735             nan     0.1000    1.4497\n",
      "     4    10502.2083             nan     0.1000    1.1916\n",
      "     5    10501.4222             nan     0.1000    0.3448\n",
      "     6    10501.1108             nan     0.1000   -0.0657\n",
      "     7    10500.4287             nan     0.1000    0.7233\n",
      "     8    10499.9036             nan     0.1000    0.6394\n",
      "     9    10498.6753             nan     0.1000   -0.7295\n",
      "    10    10498.1730             nan     0.1000    0.2724\n",
      "    20    10497.0470             nan     0.1000    0.0222\n",
      "    40    10496.9166             nan     0.1000   -0.0570\n",
      "    60    10496.8151             nan     0.1000   -0.0477\n",
      "    80    10496.8585             nan     0.1000   -0.3882\n",
      "   100    10496.8310             nan     0.1000   -0.8263\n",
      "   120    10496.8121             nan     0.1000   -0.0921\n",
      "   140    10496.8388             nan     0.1000   -0.0135\n",
      "   160    10496.9162             nan     0.1000   -0.1744\n",
      "   180    10497.0557             nan     0.1000   -0.6184\n",
      "   200    10496.9008             nan     0.1000   -0.1937\n",
      "   220    10496.8551             nan     0.1000   -0.0733\n",
      "   240    10496.8302             nan     0.1000   -0.1965\n",
      "   260    10496.8686             nan     0.1000   -0.2334\n",
      "   280    10496.8050             nan     0.1000   -0.3836\n",
      "   300    10496.8049             nan     0.1000   -0.1986\n",
      "   320    10496.8486             nan     0.1000   -0.0014\n",
      "   340    10496.8136             nan     0.1000   -0.0104\n",
      "   360    10496.8063             nan     0.1000   -0.1352\n",
      "   380    10496.9908             nan     0.1000   -0.1307\n",
      "   400    10496.8814             nan     0.1000   -0.1921\n",
      "\n",
      "Iter   TrainDeviance   ValidDeviance   StepSize   Improve\n",
      "     1    10506.9435             nan     0.1000    2.3417\n",
      "     2    10505.7054             nan     0.1000    1.2737\n",
      "     3    10503.9835             nan     0.1000    1.4991\n",
      "     4    10502.6354             nan     0.1000    1.1377\n",
      "     5    10501.8081             nan     0.1000    1.0116\n",
      "     6    10500.9375             nan     0.1000    0.7001\n",
      "     7    10500.4071             nan     0.1000    0.7118\n",
      "     8    10499.5620             nan     0.1000    0.5804\n",
      "     9    10499.0646             nan     0.1000    0.5090\n",
      "    10    10498.3625             nan     0.1000   -0.1096\n",
      "    20    10496.9853             nan     0.1000    0.0297\n",
      "    40    10496.8072             nan     0.1000   -0.1082\n",
      "    60    10496.8784             nan     0.1000   -0.8342\n",
      "    80    10496.9047             nan     0.1000   -0.5737\n",
      "   100    10496.9090             nan     0.1000   -0.0553\n",
      "   120    10496.8043             nan     0.1000   -0.0168\n",
      "   140    10496.9038             nan     0.1000   -0.1577\n",
      "   160    10496.8536             nan     0.1000   -0.1062\n",
      "   180    10496.9037             nan     0.1000   -0.2229\n",
      "   200    10496.8593             nan     0.1000   -0.1648\n",
      "   220    10496.9182             nan     0.1000   -0.3637\n",
      "   240    10497.0005             nan     0.1000   -0.3992\n",
      "   260    10496.8266             nan     0.1000   -0.0859\n",
      "   280    10496.8538             nan     0.1000   -0.1515\n",
      "   300    10496.8446             nan     0.1000   -0.0907\n",
      "   320    10496.8245             nan     0.1000   -1.3110\n",
      "   340    10496.8500             nan     0.1000   -0.6444\n",
      "   360    10497.0033             nan     0.1000   -0.0638\n",
      "   380    10497.0601             nan     0.1000   -0.4191\n",
      "   400    10496.8717             nan     0.1000   -0.3026\n",
      "\n",
      "Iter   TrainDeviance   ValidDeviance   StepSize   Improve\n",
      "     1    10507.5624             nan     0.1000    2.3956\n",
      "     2    10504.7134             nan     0.1000    0.9635\n",
      "     3    10503.2553             nan     0.1000    1.4831\n",
      "     4    10501.9925             nan     0.1000    0.5532\n",
      "     5    10500.8679             nan     0.1000    0.8623\n",
      "     6    10499.5397             nan     0.1000    0.0504\n",
      "     7    10499.1637             nan     0.1000   -0.1488\n",
      "     8    10498.7169             nan     0.1000    0.2637\n",
      "     9    10498.4346             nan     0.1000    0.1480\n",
      "    10    10498.0930             nan     0.1000    0.2968\n",
      "    20    10497.0500             nan     0.1000   -0.2871\n",
      "    40    10496.8073             nan     0.1000   -0.0896\n",
      "    60    10496.8136             nan     0.1000   -0.0384\n",
      "    80    10496.9365             nan     0.1000   -0.7282\n",
      "   100    10496.8611             nan     0.1000   -0.0595\n",
      "   120    10496.8056             nan     0.1000   -0.0482\n",
      "   140    10496.8733             nan     0.1000   -0.1960\n",
      "   160    10496.8202             nan     0.1000   -0.0270\n",
      "   180    10496.8330             nan     0.1000   -0.0434\n",
      "   200    10496.8253             nan     0.1000   -0.2809\n",
      "   220    10496.8325             nan     0.1000   -0.2288\n",
      "   240    10496.8789             nan     0.1000   -0.2270\n",
      "   260    10496.8505             nan     0.1000   -0.0382\n",
      "   280    10496.8528             nan     0.1000   -0.4431\n",
      "   300    10496.8085             nan     0.1000   -0.0287\n",
      "   320    10496.9075             nan     0.1000   -0.1595\n",
      "   340    10496.8123             nan     0.1000   -0.1305\n",
      "   360    10496.8060             nan     0.1000   -0.1431\n",
      "   380    10496.8523             nan     0.1000   -0.1277\n",
      "   400    10496.8763             nan     0.1000    0.0031\n",
      "\n",
      "Iter   TrainDeviance   ValidDeviance   StepSize   Improve\n",
      "     1    10562.4700             nan     0.1000    2.3774\n",
      "     2    10560.7530             nan     0.1000    1.9748\n",
      "     3    10559.1157             nan     0.1000    0.9347\n",
      "     4    10558.1967             nan     0.1000    0.9869\n",
      "     5    10557.4412             nan     0.1000    1.0102\n",
      "     6    10556.5901             nan     0.1000    0.9774\n",
      "     7    10556.6427             nan     0.1000   -0.1551\n",
      "     8    10555.9554             nan     0.1000    0.7651\n",
      "     9    10555.2571             nan     0.1000    0.5930\n",
      "    10    10554.3094             nan     0.1000    0.2013\n",
      "    20    10552.2631             nan     0.1000   -0.1343\n",
      "    40    10552.1834             nan     0.1000   -0.2282\n",
      "    60    10552.2595             nan     0.1000   -1.7164\n",
      "    80    10552.0892             nan     0.1000    0.0093\n",
      "   100    10552.0946             nan     0.1000   -0.4075\n",
      "   120    10552.0135             nan     0.1000   -0.2003\n",
      "   140    10552.0036             nan     0.1000   -0.1924\n",
      "   160    10552.0324             nan     0.1000    0.0004\n",
      "   180    10552.0098             nan     0.1000   -0.0240\n",
      "   200    10552.0708             nan     0.1000   -1.5549\n",
      "   220    10552.0360             nan     0.1000   -0.1149\n",
      "   240    10552.2496             nan     0.1000   -0.1719\n",
      "   260    10551.9966             nan     0.1000   -0.0348\n",
      "   280    10552.0284             nan     0.1000   -0.0449\n",
      "   300    10552.1361             nan     0.1000   -0.3075\n",
      "   320    10552.2856             nan     0.1000   -0.6534\n",
      "   340    10552.0251             nan     0.1000   -0.1017\n",
      "   360    10551.9939             nan     0.1000   -0.0005\n",
      "   380    10552.0247             nan     0.1000   -0.2045\n",
      "   400    10552.0312             nan     0.1000   -0.0077\n",
      "\n",
      "Iter   TrainDeviance   ValidDeviance   StepSize   Improve\n",
      "     1    10562.3362             nan     0.1000    2.3414\n",
      "     2    10560.0422             nan     0.1000    1.7489\n",
      "     3    10558.6839             nan     0.1000    1.4644\n",
      "     4    10557.6063             nan     0.1000    1.1431\n",
      "     5    10556.5018             nan     0.1000    0.9359\n",
      "     6    10555.2038             nan     0.1000    0.2834\n",
      "     7    10554.4549             nan     0.1000    0.5474\n",
      "     8    10553.9942             nan     0.1000    0.4636\n",
      "     9    10553.6029             nan     0.1000    0.1725\n",
      "    10    10553.7802             nan     0.1000   -0.4674\n",
      "    20    10552.3043             nan     0.1000   -0.1170\n",
      "    40    10552.0155             nan     0.1000   -0.4729\n",
      "    60    10552.1303             nan     0.1000   -0.0363\n",
      "    80    10552.0189             nan     0.1000   -0.1027\n",
      "   100    10552.0115             nan     0.1000   -0.1473\n",
      "   120    10552.1125             nan     0.1000   -0.2272\n",
      "   140    10552.0217             nan     0.1000   -0.3441\n",
      "   160    10552.0167             nan     0.1000   -0.1061\n",
      "   180    10552.0715             nan     0.1000   -0.0671\n",
      "   200    10552.0785             nan     0.1000   -0.0905\n",
      "   220    10552.0862             nan     0.1000   -0.2384\n",
      "   240    10552.0837             nan     0.1000   -0.8138\n",
      "   260    10552.2132             nan     0.1000    0.0031\n",
      "   280    10552.0941             nan     0.1000   -0.1849\n",
      "   300    10552.0501             nan     0.1000   -0.1031\n",
      "   320    10552.0328             nan     0.1000   -0.2564\n",
      "   340    10552.2158             nan     0.1000   -0.5291\n",
      "   360    10552.0310             nan     0.1000   -0.4289\n",
      "   380    10552.0344             nan     0.1000   -0.4612\n",
      "   400    10552.1640             nan     0.1000   -0.1100\n",
      "\n",
      "Iter   TrainDeviance   ValidDeviance   StepSize   Improve\n",
      "     1    10562.5554             nan     0.1000    2.3640\n",
      "     2    10560.8647             nan     0.1000    1.1676\n",
      "     3    10558.7434             nan     0.1000    1.1328\n",
      "     4    10557.9121             nan     0.1000    1.1507\n",
      "     5    10557.1818             nan     0.1000    0.9956\n",
      "     6    10555.8637             nan     0.1000    0.8065\n",
      "     7    10555.3321             nan     0.1000    0.4392\n",
      "     8    10554.2911             nan     0.1000    0.1674\n",
      "     9    10553.9118             nan     0.1000    0.4317\n",
      "    10    10553.7246             nan     0.1000    0.1519\n",
      "    20    10552.1502             nan     0.1000   -0.7584\n",
      "    40    10552.2242             nan     0.1000   -1.4812\n",
      "    60    10552.0279             nan     0.1000   -1.1412\n",
      "    80    10552.1041             nan     0.1000   -0.4361\n",
      "   100    10552.0288             nan     0.1000   -0.0797\n",
      "   120    10552.1393             nan     0.1000   -0.4077\n",
      "   140    10552.2799             nan     0.1000   -0.7949\n",
      "   160    10552.2093             nan     0.1000   -0.6845\n",
      "   180    10551.9976             nan     0.1000   -0.0496\n",
      "   200    10552.0305             nan     0.1000   -0.2471\n",
      "   220    10552.0285             nan     0.1000   -0.3076\n",
      "   240    10552.0293             nan     0.1000   -0.1556\n",
      "   260    10552.0241             nan     0.1000   -0.4183\n",
      "   280    10551.9936             nan     0.1000   -0.2333\n",
      "   300    10552.0111             nan     0.1000   -0.1615\n",
      "   320    10552.0617             nan     0.1000   -0.7422\n",
      "   340    10552.0932             nan     0.1000    0.0117\n",
      "   360    10552.0053             nan     0.1000   -0.0942\n",
      "   380    10552.1173             nan     0.1000   -0.5628\n",
      "   400    10551.9968             nan     0.1000   -0.0337\n",
      "\n",
      "Iter   TrainDeviance   ValidDeviance   StepSize   Improve\n",
      "     1    10570.2365             nan     0.1000    2.2956\n",
      "     2    10568.7961             nan     0.1000    1.7825\n",
      "     3    10566.5452             nan     0.1000    1.2223\n",
      "     4    10565.4307             nan     0.1000    1.0575\n",
      "     5    10564.4810             nan     0.1000    0.8415\n",
      "     6    10563.8663             nan     0.1000    0.7553\n",
      "     7    10563.1527             nan     0.1000    0.5346\n",
      "     8    10562.8944             nan     0.1000    0.1448\n",
      "     9    10562.4646             nan     0.1000    0.4802\n",
      "    10    10562.0190             nan     0.1000   -0.0179\n",
      "    20    10560.3877             nan     0.1000   -0.0793\n",
      "    40    10560.2828             nan     0.1000   -0.5405\n",
      "    60    10560.2948             nan     0.1000   -0.2561\n",
      "    80    10560.3269             nan     0.1000   -0.0918\n",
      "   100    10560.3295             nan     0.1000   -0.3780\n",
      "   120    10560.3301             nan     0.1000   -0.4635\n",
      "   140    10560.2936             nan     0.1000   -0.0614\n",
      "   160    10560.2939             nan     0.1000   -0.0287\n",
      "   180    10560.3390             nan     0.1000   -0.1482\n",
      "   200    10560.3152             nan     0.1000   -0.6341\n",
      "   216    10560.3217             nan     0.1000   -0.2277\n",
      "\n"
     ]
    }
   ],
   "source": [
    "gbm <- train(Appliances ~. ,data = new_train[,c(2,37)],method = \"gbm\",metric = 'RMSE',trControl = fitcontral,tuneGrid = gbmGrid)"
   ]
  },
  {
   "cell_type": "code",
   "execution_count": 40,
   "metadata": {},
   "outputs": [
    {
     "data": {},
     "metadata": {},
     "output_type": "display_data"
    },
    {
     "data": {
      "image/png": "[encoded data removed]",
      "text/plain": [
       "plot without title"
      ]
     },
     "metadata": {},
     "output_type": "display_data"
    }
   ],
   "source": [
    "plot(gbm)"
   ]
  },
  {
   "cell_type": "code",
   "execution_count": 43,
   "metadata": {},
   "outputs": [
    {
     "data": {
      "text/html": [
       "<table>\n",
       "<thead><tr><th></th><th scope=col>n.trees</th><th scope=col>interaction.depth</th><th scope=col>shrinkage</th><th scope=col>n.minobsinnode</th></tr></thead>\n",
       "<tbody>\n",
       "\t<tr><th scope=row>418</th><td>216</td><td>3  </td><td>0.1</td><td>10 </td></tr>\n",
       "</tbody>\n",
       "</table>\n"
      ],
      "text/latex": [
       "\\begin{tabular}{r|llll}\n",
       "  & n.trees & interaction.depth & shrinkage & n.minobsinnode\\\\\n",
       "\\hline\n",
       "\t418 & 216 & 3   & 0.1 & 10 \\\\\n",
       "\\end{tabular}\n"
      ],
      "text/markdown": [
       "\n",
       "| <!--/--> | n.trees | interaction.depth | shrinkage | n.minobsinnode | \n",
       "|---|\n",
       "| 418 | 216 | 3   | 0.1 | 10  | \n",
       "\n",
       "\n"
      ],
      "text/plain": [
       "    n.trees interaction.depth shrinkage n.minobsinnode\n",
       "418 216     3                 0.1       10            "
      ]
     },
     "metadata": {},
     "output_type": "display_data"
    }
   ],
   "source": [
    "gbm$bestTune"
   ]
  },
  {
   "cell_type": "code",
   "execution_count": 45,
   "metadata": {},
   "outputs": [
    {
     "name": "stderr",
     "output_type": "stream",
     "text": [
      "Warning message:\n",
      "\"package 'Metrics' was built under R version 3.4.3\""
     ]
    }
   ],
   "source": [
    "library(Metrics)"
   ]
  },
  {
   "cell_type": "code",
   "execution_count": 62,
   "metadata": {},
   "outputs": [],
   "source": [
    "pred = predict(gbm,new_test[,c(3:37)])"
   ]
  },
  {
   "cell_type": "code",
   "execution_count": 63,
   "metadata": {},
   "outputs": [
    {
     "data": {
      "text/html": [
       "101.595621126746"
      ],
      "text/latex": [
       "101.595621126746"
      ],
      "text/markdown": [
       "101.595621126746"
      ],
      "text/plain": [
       "[1] 101.5956"
      ]
     },
     "metadata": {},
     "output_type": "display_data"
    }
   ],
   "source": [
    "rmse(new_test$Appliances,pred)"
   ]
  },
  {
   "cell_type": "code",
   "execution_count": 66,
   "metadata": {},
   "outputs": [
    {
     "data": {
      "text/html": [
       "102.763425979942"
      ],
      "text/latex": [
       "102.763425979942"
      ],
      "text/markdown": [
       "102.763425979942"
      ],
      "text/plain": [
       "[1] 102.7634"
      ]
     },
     "metadata": {},
     "output_type": "display_data"
    }
   ],
   "source": [
    "rmse(new_train$Appliances,predict(gbm,new_train[,c(3:37)]))"
   ]
  },
  {
   "cell_type": "code",
   "execution_count": null,
   "metadata": {},
   "outputs": [],
   "source": []
  },
  {
   "cell_type": "code",
   "execution_count": null,
   "metadata": {
    "collapsed": true
   },
   "outputs": [],
   "source": []
  },
  {
   "cell_type": "code",
   "execution_count": null,
   "metadata": {
    "collapsed": true
   },
   "outputs": [],
   "source": []
  },
  {
   "cell_type": "code",
   "execution_count": null,
   "metadata": {
    "collapsed": true
   },
   "outputs": [],
   "source": []
  },
  {
   "cell_type": "code",
   "execution_count": null,
   "metadata": {
    "collapsed": true
   },
   "outputs": [],
   "source": []
  },
  {
   "cell_type": "code",
   "execution_count": null,
   "metadata": {
    "collapsed": true
   },
   "outputs": [],
   "source": []
  },
  {
   "cell_type": "code",
   "execution_count": null,
   "metadata": {
    "collapsed": true
   },
   "outputs": [],
   "source": []
  },
  {
   "cell_type": "code",
   "execution_count": null,
   "metadata": {
    "collapsed": true
   },
   "outputs": [],
   "source": []
  },
  {
   "cell_type": "code",
   "execution_count": null,
   "metadata": {
    "collapsed": true
   },
   "outputs": [],
   "source": []
  },
  {
   "cell_type": "code",
   "execution_count": null,
   "metadata": {
    "collapsed": true
   },
   "outputs": [],
   "source": []
  },
  {
   "cell_type": "code",
   "execution_count": null,
   "metadata": {
    "collapsed": true
   },
   "outputs": [],
   "source": []
  }
 ],
 "metadata": {
  "kernelspec": {
   "display_name": "R",
   "language": "R",
   "name": "ir"
  },
  "language_info": {
   "codemirror_mode": "r",
   "file_extension": ".r",
   "mimetype": "text/x-r-source",
   "name": "R",
   "pygments_lexer": "r",
   "version": "3.4.2"
  }
 },
 "nbformat": 4,
 "nbformat_minor": 2
}
