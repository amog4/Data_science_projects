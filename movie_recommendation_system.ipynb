{
 "cells": [
  {
   "cell_type": "markdown",
   "metadata": {},
   "source": [
    "This data set allows you to build a recommendation engine. "
   ]
  },
  {
   "cell_type": "markdown",
   "metadata": {},
   "source": [
    "Road map \n",
    " "
   ]
  },
  {
   "cell_type": "code",
   "execution_count": 1,
   "metadata": {
    "collapsed": true
   },
   "outputs": [],
   "source": [
    "# packages and data"
   ]
  },
  {
   "cell_type": "code",
   "execution_count": 1,
   "metadata": {
    "collapsed": true
   },
   "outputs": [],
   "source": [
    "import numpy as np\n",
    "import pandas as pd\n",
    "import matplotlib.pyplot as plt\n",
    "import seaborn as sns"
   ]
  },
  {
   "cell_type": "code",
   "execution_count": 2,
   "metadata": {
    "collapsed": true
   },
   "outputs": [],
   "source": [
    "path = 'D:\\\\ml-1m\\\\ml-1m\\\\'"
   ]
  },
  {
   "cell_type": "code",
   "execution_count": 22,
   "metadata": {
    "collapsed": true
   },
   "outputs": [],
   "source": [
    "#for line in open(path+'movies.dat','r'):\n",
    "   # text += line.rstrip()"
   ]
  },
  {
   "cell_type": "code",
   "execution_count": 3,
   "metadata": {},
   "outputs": [
    {
     "name": "stderr",
     "output_type": "stream",
     "text": [
      "C:\\Users\\amogh\\Anaconda3\\lib\\site-packages\\ipykernel_launcher.py:1: ParserWarning: Falling back to the 'python' engine because the 'c' engine does not support regex separators (separators > 1 char and different from '\\s+' are interpreted as regex); you can avoid this warning by specifying engine='python'.\n",
      "  \"\"\"Entry point for launching an IPython kernel.\n"
     ]
    }
   ],
   "source": [
    "movies = pd.read_table(path+'movies.dat',encoding='latin-1',sep='::',names=['Id','Title','Genres'])"
   ]
  },
  {
   "cell_type": "code",
   "execution_count": 4,
   "metadata": {
    "scrolled": true
   },
   "outputs": [
    {
     "data": {
      "text/html": [
       "<div>\n",
       "<table border=\"1\" class=\"dataframe\">\n",
       "  <thead>\n",
       "    <tr style=\"text-align: right;\">\n",
       "      <th></th>\n",
       "      <th>Id</th>\n",
       "      <th>Title</th>\n",
       "      <th>Genres</th>\n",
       "    </tr>\n",
       "  </thead>\n",
       "  <tbody>\n",
       "    <tr>\n",
       "      <th>0</th>\n",
       "      <td>1</td>\n",
       "      <td>Toy Story (1995)</td>\n",
       "      <td>Animation|Children's|Comedy</td>\n",
       "    </tr>\n",
       "    <tr>\n",
       "      <th>1</th>\n",
       "      <td>2</td>\n",
       "      <td>Jumanji (1995)</td>\n",
       "      <td>Adventure|Children's|Fantasy</td>\n",
       "    </tr>\n",
       "    <tr>\n",
       "      <th>2</th>\n",
       "      <td>3</td>\n",
       "      <td>Grumpier Old Men (1995)</td>\n",
       "      <td>Comedy|Romance</td>\n",
       "    </tr>\n",
       "    <tr>\n",
       "      <th>3</th>\n",
       "      <td>4</td>\n",
       "      <td>Waiting to Exhale (1995)</td>\n",
       "      <td>Comedy|Drama</td>\n",
       "    </tr>\n",
       "    <tr>\n",
       "      <th>4</th>\n",
       "      <td>5</td>\n",
       "      <td>Father of the Bride Part II (1995)</td>\n",
       "      <td>Comedy</td>\n",
       "    </tr>\n",
       "  </tbody>\n",
       "</table>\n",
       "</div>"
      ],
      "text/plain": [
       "   Id                               Title                        Genres\n",
       "0   1                    Toy Story (1995)   Animation|Children's|Comedy\n",
       "1   2                      Jumanji (1995)  Adventure|Children's|Fantasy\n",
       "2   3             Grumpier Old Men (1995)                Comedy|Romance\n",
       "3   4            Waiting to Exhale (1995)                  Comedy|Drama\n",
       "4   5  Father of the Bride Part II (1995)                        Comedy"
      ]
     },
     "execution_count": 4,
     "metadata": {},
     "output_type": "execute_result"
    }
   ],
   "source": [
    "movies.head()"
   ]
  },
  {
   "cell_type": "code",
   "execution_count": 91,
   "metadata": {
    "collapsed": true
   },
   "outputs": [],
   "source": [
    "dummy = movies['Genres'].str.get_dummies(sep='|')"
   ]
  },
  {
   "cell_type": "code",
   "execution_count": 95,
   "metadata": {
    "collapsed": true
   },
   "outputs": [],
   "source": [
    "movies_concat = pd.concat([movies,dummy],axis=1)"
   ]
  },
  {
   "cell_type": "code",
   "execution_count": 4,
   "metadata": {},
   "outputs": [
    {
     "name": "stderr",
     "output_type": "stream",
     "text": [
      "C:\\Users\\amogh\\Anaconda3\\lib\\site-packages\\ipykernel_launcher.py:1: ParserWarning: Falling back to the 'python' engine because the 'c' engine does not support regex separators (separators > 1 char and different from '\\s+' are interpreted as regex); you can avoid this warning by specifying engine='python'.\n",
      "  \"\"\"Entry point for launching an IPython kernel.\n"
     ]
    }
   ],
   "source": [
    "rating = pd.read_table(path+'ratings.dat',names=['UserID','Id','Rating','Timestamp'],sep=\"::\")"
   ]
  },
  {
   "cell_type": "code",
   "execution_count": 5,
   "metadata": {},
   "outputs": [
    {
     "data": {
      "text/html": [
       "<div>\n",
       "<table border=\"1\" class=\"dataframe\">\n",
       "  <thead>\n",
       "    <tr style=\"text-align: right;\">\n",
       "      <th></th>\n",
       "      <th>UserID</th>\n",
       "      <th>Id</th>\n",
       "      <th>Rating</th>\n",
       "      <th>Timestamp</th>\n",
       "    </tr>\n",
       "  </thead>\n",
       "  <tbody>\n",
       "    <tr>\n",
       "      <th>0</th>\n",
       "      <td>1</td>\n",
       "      <td>1193</td>\n",
       "      <td>5</td>\n",
       "      <td>978300760</td>\n",
       "    </tr>\n",
       "    <tr>\n",
       "      <th>1</th>\n",
       "      <td>1</td>\n",
       "      <td>661</td>\n",
       "      <td>3</td>\n",
       "      <td>978302109</td>\n",
       "    </tr>\n",
       "    <tr>\n",
       "      <th>2</th>\n",
       "      <td>1</td>\n",
       "      <td>914</td>\n",
       "      <td>3</td>\n",
       "      <td>978301968</td>\n",
       "    </tr>\n",
       "    <tr>\n",
       "      <th>3</th>\n",
       "      <td>1</td>\n",
       "      <td>3408</td>\n",
       "      <td>4</td>\n",
       "      <td>978300275</td>\n",
       "    </tr>\n",
       "    <tr>\n",
       "      <th>4</th>\n",
       "      <td>1</td>\n",
       "      <td>2355</td>\n",
       "      <td>5</td>\n",
       "      <td>978824291</td>\n",
       "    </tr>\n",
       "  </tbody>\n",
       "</table>\n",
       "</div>"
      ],
      "text/plain": [
       "   UserID    Id  Rating  Timestamp\n",
       "0       1  1193       5  978300760\n",
       "1       1   661       3  978302109\n",
       "2       1   914       3  978301968\n",
       "3       1  3408       4  978300275\n",
       "4       1  2355       5  978824291"
      ]
     },
     "execution_count": 5,
     "metadata": {},
     "output_type": "execute_result"
    }
   ],
   "source": [
    "rating.head()"
   ]
  },
  {
   "cell_type": "code",
   "execution_count": 5,
   "metadata": {},
   "outputs": [
    {
     "name": "stderr",
     "output_type": "stream",
     "text": [
      "C:\\Users\\amogh\\Anaconda3\\lib\\site-packages\\ipykernel_launcher.py:1: ParserWarning: Falling back to the 'python' engine because the 'c' engine does not support regex separators (separators > 1 char and different from '\\s+' are interpreted as regex); you can avoid this warning by specifying engine='python'.\n",
      "  \"\"\"Entry point for launching an IPython kernel.\n"
     ]
    }
   ],
   "source": [
    "users = pd.read_table(path+'users.dat',sep='::',names=['UserID','Gender','Age','Occupation','Zip-codeAll'])"
   ]
  },
  {
   "cell_type": "code",
   "execution_count": 7,
   "metadata": {},
   "outputs": [
    {
     "data": {
      "text/html": [
       "<div>\n",
       "<table border=\"1\" class=\"dataframe\">\n",
       "  <thead>\n",
       "    <tr style=\"text-align: right;\">\n",
       "      <th></th>\n",
       "      <th>UserID</th>\n",
       "      <th>Gender</th>\n",
       "      <th>Age</th>\n",
       "      <th>Occupation</th>\n",
       "      <th>Zip-codeAll</th>\n",
       "    </tr>\n",
       "  </thead>\n",
       "  <tbody>\n",
       "    <tr>\n",
       "      <th>0</th>\n",
       "      <td>1</td>\n",
       "      <td>F</td>\n",
       "      <td>1</td>\n",
       "      <td>10</td>\n",
       "      <td>48067</td>\n",
       "    </tr>\n",
       "    <tr>\n",
       "      <th>1</th>\n",
       "      <td>2</td>\n",
       "      <td>M</td>\n",
       "      <td>56</td>\n",
       "      <td>16</td>\n",
       "      <td>70072</td>\n",
       "    </tr>\n",
       "    <tr>\n",
       "      <th>2</th>\n",
       "      <td>3</td>\n",
       "      <td>M</td>\n",
       "      <td>25</td>\n",
       "      <td>15</td>\n",
       "      <td>55117</td>\n",
       "    </tr>\n",
       "    <tr>\n",
       "      <th>3</th>\n",
       "      <td>4</td>\n",
       "      <td>M</td>\n",
       "      <td>45</td>\n",
       "      <td>7</td>\n",
       "      <td>02460</td>\n",
       "    </tr>\n",
       "    <tr>\n",
       "      <th>4</th>\n",
       "      <td>5</td>\n",
       "      <td>M</td>\n",
       "      <td>25</td>\n",
       "      <td>20</td>\n",
       "      <td>55455</td>\n",
       "    </tr>\n",
       "  </tbody>\n",
       "</table>\n",
       "</div>"
      ],
      "text/plain": [
       "   UserID Gender  Age  Occupation Zip-codeAll\n",
       "0       1      F    1          10       48067\n",
       "1       2      M   56          16       70072\n",
       "2       3      M   25          15       55117\n",
       "3       4      M   45           7       02460\n",
       "4       5      M   25          20       55455"
      ]
     },
     "execution_count": 7,
     "metadata": {},
     "output_type": "execute_result"
    }
   ],
   "source": [
    "users.head()"
   ]
  },
  {
   "cell_type": "code",
   "execution_count": 6,
   "metadata": {
    "collapsed": true
   },
   "outputs": [],
   "source": [
    "dataset1 = pd.merge(pd.merge(movies,rating),users)"
   ]
  },
  {
   "cell_type": "code",
   "execution_count": 9,
   "metadata": {},
   "outputs": [
    {
     "data": {
      "text/html": [
       "<div>\n",
       "<table border=\"1\" class=\"dataframe\">\n",
       "  <thead>\n",
       "    <tr style=\"text-align: right;\">\n",
       "      <th></th>\n",
       "      <th>Id</th>\n",
       "      <th>Title</th>\n",
       "      <th>Genres</th>\n",
       "      <th>UserID</th>\n",
       "      <th>Rating</th>\n",
       "      <th>Timestamp</th>\n",
       "      <th>Gender</th>\n",
       "      <th>Age</th>\n",
       "      <th>Occupation</th>\n",
       "      <th>Zip-codeAll</th>\n",
       "    </tr>\n",
       "  </thead>\n",
       "  <tbody>\n",
       "    <tr>\n",
       "      <th>0</th>\n",
       "      <td>1</td>\n",
       "      <td>Toy Story (1995)</td>\n",
       "      <td>Animation|Children's|Comedy</td>\n",
       "      <td>1</td>\n",
       "      <td>5</td>\n",
       "      <td>978824268</td>\n",
       "      <td>F</td>\n",
       "      <td>1</td>\n",
       "      <td>10</td>\n",
       "      <td>48067</td>\n",
       "    </tr>\n",
       "    <tr>\n",
       "      <th>1</th>\n",
       "      <td>48</td>\n",
       "      <td>Pocahontas (1995)</td>\n",
       "      <td>Animation|Children's|Musical|Romance</td>\n",
       "      <td>1</td>\n",
       "      <td>5</td>\n",
       "      <td>978824351</td>\n",
       "      <td>F</td>\n",
       "      <td>1</td>\n",
       "      <td>10</td>\n",
       "      <td>48067</td>\n",
       "    </tr>\n",
       "    <tr>\n",
       "      <th>2</th>\n",
       "      <td>150</td>\n",
       "      <td>Apollo 13 (1995)</td>\n",
       "      <td>Drama</td>\n",
       "      <td>1</td>\n",
       "      <td>5</td>\n",
       "      <td>978301777</td>\n",
       "      <td>F</td>\n",
       "      <td>1</td>\n",
       "      <td>10</td>\n",
       "      <td>48067</td>\n",
       "    </tr>\n",
       "    <tr>\n",
       "      <th>3</th>\n",
       "      <td>260</td>\n",
       "      <td>Star Wars: Episode IV - A New Hope (1977)</td>\n",
       "      <td>Action|Adventure|Fantasy|Sci-Fi</td>\n",
       "      <td>1</td>\n",
       "      <td>4</td>\n",
       "      <td>978300760</td>\n",
       "      <td>F</td>\n",
       "      <td>1</td>\n",
       "      <td>10</td>\n",
       "      <td>48067</td>\n",
       "    </tr>\n",
       "    <tr>\n",
       "      <th>4</th>\n",
       "      <td>527</td>\n",
       "      <td>Schindler's List (1993)</td>\n",
       "      <td>Drama|War</td>\n",
       "      <td>1</td>\n",
       "      <td>5</td>\n",
       "      <td>978824195</td>\n",
       "      <td>F</td>\n",
       "      <td>1</td>\n",
       "      <td>10</td>\n",
       "      <td>48067</td>\n",
       "    </tr>\n",
       "  </tbody>\n",
       "</table>\n",
       "</div>"
      ],
      "text/plain": [
       "    Id                                      Title  \\\n",
       "0    1                           Toy Story (1995)   \n",
       "1   48                          Pocahontas (1995)   \n",
       "2  150                           Apollo 13 (1995)   \n",
       "3  260  Star Wars: Episode IV - A New Hope (1977)   \n",
       "4  527                    Schindler's List (1993)   \n",
       "\n",
       "                                 Genres  UserID  Rating  Timestamp Gender  \\\n",
       "0           Animation|Children's|Comedy       1       5  978824268      F   \n",
       "1  Animation|Children's|Musical|Romance       1       5  978824351      F   \n",
       "2                                 Drama       1       5  978301777      F   \n",
       "3       Action|Adventure|Fantasy|Sci-Fi       1       4  978300760      F   \n",
       "4                             Drama|War       1       5  978824195      F   \n",
       "\n",
       "   Age  Occupation Zip-codeAll  \n",
       "0    1          10       48067  \n",
       "1    1          10       48067  \n",
       "2    1          10       48067  \n",
       "3    1          10       48067  \n",
       "4    1          10       48067  "
      ]
     },
     "execution_count": 9,
     "metadata": {},
     "output_type": "execute_result"
    }
   ],
   "source": [
    "dataset1.head()"
   ]
  },
  {
   "cell_type": "code",
   "execution_count": 116,
   "metadata": {},
   "outputs": [
    {
     "name": "stdout",
     "output_type": "stream",
     "text": [
      "<class 'pandas.core.frame.DataFrame'>\n",
      "RangeIndex: 3883 entries, 0 to 3882\n",
      "Data columns (total 3 columns):\n",
      "Id        3883 non-null int64\n",
      "Titel     3883 non-null object\n",
      "Genres    3883 non-null object\n",
      "dtypes: int64(1), object(2)\n",
      "memory usage: 91.1+ KB\n"
     ]
    }
   ],
   "source": [
    "movies.info()"
   ]
  },
  {
   "cell_type": "code",
   "execution_count": 117,
   "metadata": {},
   "outputs": [
    {
     "name": "stdout",
     "output_type": "stream",
     "text": [
      "<class 'pandas.core.frame.DataFrame'>\n",
      "RangeIndex: 6040 entries, 0 to 6039\n",
      "Data columns (total 5 columns):\n",
      "UserID         6040 non-null int64\n",
      "Gender         6040 non-null object\n",
      "Age            6040 non-null int64\n",
      "Occupation     6040 non-null int64\n",
      "Zip-codeAll    6040 non-null object\n",
      "dtypes: int64(3), object(2)\n",
      "memory usage: 236.0+ KB\n"
     ]
    }
   ],
   "source": [
    "users.info()"
   ]
  },
  {
   "cell_type": "code",
   "execution_count": 118,
   "metadata": {},
   "outputs": [
    {
     "name": "stdout",
     "output_type": "stream",
     "text": [
      "<class 'pandas.core.frame.DataFrame'>\n",
      "RangeIndex: 1000209 entries, 0 to 1000208\n",
      "Data columns (total 4 columns):\n",
      "UserID       1000209 non-null int64\n",
      "Id           1000209 non-null int64\n",
      "Rating       1000209 non-null int64\n",
      "Timestamp    1000209 non-null int64\n",
      "dtypes: int64(4)\n",
      "memory usage: 30.5 MB\n"
     ]
    }
   ],
   "source": [
    "rating.info()"
   ]
  },
  {
   "cell_type": "code",
   "execution_count": 29,
   "metadata": {
    "collapsed": true
   },
   "outputs": [],
   "source": [
    "rating_total1 = dataset1.groupby('Title').size()"
   ]
  },
  {
   "cell_type": "code",
   "execution_count": 30,
   "metadata": {},
   "outputs": [
    {
     "data": {
      "text/plain": [
       "Title\n",
       "$1,000,000 Duck (1971)            37\n",
       "'Night Mother (1986)              70\n",
       "'Til There Was You (1997)         52\n",
       "'burbs, The (1989)               303\n",
       "...And Justice for All (1979)    199\n",
       "dtype: int64"
      ]
     },
     "execution_count": 30,
     "metadata": {},
     "output_type": "execute_result"
    }
   ],
   "source": [
    "rating_total1.head()"
   ]
  },
  {
   "cell_type": "code",
   "execution_count": null,
   "metadata": {
    "collapsed": true
   },
   "outputs": [],
   "source": [
    "# Popular rating and movies "
   ]
  },
  {
   "cell_type": "code",
   "execution_count": null,
   "metadata": {
    "collapsed": true
   },
   "outputs": [],
   "source": [
    "# here recommendation is done by popularity of movie title and rating "
   ]
  },
  {
   "cell_type": "code",
   "execution_count": null,
   "metadata": {
    "collapsed": true
   },
   "outputs": [],
   "source": []
  },
  {
   "cell_type": "code",
   "execution_count": 7,
   "metadata": {
    "collapsed": true
   },
   "outputs": [],
   "source": [
    "rating_mean = dataset1.groupby('Title')['Title','Rating'].mean()"
   ]
  },
  {
   "cell_type": "code",
   "execution_count": 25,
   "metadata": {},
   "outputs": [
    {
     "data": {
      "text/html": [
       "<div>\n",
       "<table border=\"1\" class=\"dataframe\">\n",
       "  <thead>\n",
       "    <tr style=\"text-align: right;\">\n",
       "      <th></th>\n",
       "      <th>Rating</th>\n",
       "    </tr>\n",
       "    <tr>\n",
       "      <th>Title</th>\n",
       "      <th></th>\n",
       "    </tr>\n",
       "  </thead>\n",
       "  <tbody>\n",
       "    <tr>\n",
       "      <th>$1,000,000 Duck (1971)</th>\n",
       "      <td>3.027027</td>\n",
       "    </tr>\n",
       "    <tr>\n",
       "      <th>'Night Mother (1986)</th>\n",
       "      <td>3.371429</td>\n",
       "    </tr>\n",
       "    <tr>\n",
       "      <th>'Til There Was You (1997)</th>\n",
       "      <td>2.692308</td>\n",
       "    </tr>\n",
       "    <tr>\n",
       "      <th>'burbs, The (1989)</th>\n",
       "      <td>2.910891</td>\n",
       "    </tr>\n",
       "    <tr>\n",
       "      <th>...And Justice for All (1979)</th>\n",
       "      <td>3.713568</td>\n",
       "    </tr>\n",
       "  </tbody>\n",
       "</table>\n",
       "</div>"
      ],
      "text/plain": [
       "                                 Rating\n",
       "Title                                  \n",
       "$1,000,000 Duck (1971)         3.027027\n",
       "'Night Mother (1986)           3.371429\n",
       "'Til There Was You (1997)      2.692308\n",
       "'burbs, The (1989)             2.910891\n",
       "...And Justice for All (1979)  3.713568"
      ]
     },
     "execution_count": 25,
     "metadata": {},
     "output_type": "execute_result"
    }
   ],
   "source": [
    "rating_mean.head()"
   ]
  },
  {
   "cell_type": "code",
   "execution_count": 31,
   "metadata": {
    "collapsed": true
   },
   "outputs": [],
   "source": [
    "rating_total = pd.DataFrame({'movie_title':rating_total1.index,'total_rating':rating_total1.values})"
   ]
  },
  {
   "cell_type": "code",
   "execution_count": 32,
   "metadata": {
    "collapsed": true
   },
   "outputs": [],
   "source": [
    "rating_mean['movie_title'] = rating_mean.index"
   ]
  },
  {
   "cell_type": "code",
   "execution_count": 36,
   "metadata": {
    "collapsed": true
   },
   "outputs": [],
   "source": [
    "final2= pd.merge(rating_total,rating_mean)"
   ]
  },
  {
   "cell_type": "code",
   "execution_count": 37,
   "metadata": {
    "collapsed": true
   },
   "outputs": [],
   "source": [
    "#final.drop(['movie title'],axis=1,inplace= True)"
   ]
  },
  {
   "cell_type": "code",
   "execution_count": 39,
   "metadata": {
    "collapsed": true
   },
   "outputs": [],
   "source": [
    "final2 = final2.sort_values(by='total_rating',ascending=False)"
   ]
  },
  {
   "cell_type": "code",
   "execution_count": 40,
   "metadata": {},
   "outputs": [
    {
     "data": {
      "text/html": [
       "<div>\n",
       "<table border=\"1\" class=\"dataframe\">\n",
       "  <thead>\n",
       "    <tr style=\"text-align: right;\">\n",
       "      <th></th>\n",
       "      <th>total_rating</th>\n",
       "      <th>Rating</th>\n",
       "    </tr>\n",
       "  </thead>\n",
       "  <tbody>\n",
       "    <tr>\n",
       "      <th>count</th>\n",
       "      <td>3706.000000</td>\n",
       "      <td>3706.000000</td>\n",
       "    </tr>\n",
       "    <tr>\n",
       "      <th>mean</th>\n",
       "      <td>269.889099</td>\n",
       "      <td>3.238892</td>\n",
       "    </tr>\n",
       "    <tr>\n",
       "      <th>std</th>\n",
       "      <td>384.047838</td>\n",
       "      <td>0.672925</td>\n",
       "    </tr>\n",
       "    <tr>\n",
       "      <th>min</th>\n",
       "      <td>1.000000</td>\n",
       "      <td>1.000000</td>\n",
       "    </tr>\n",
       "    <tr>\n",
       "      <th>25%</th>\n",
       "      <td>33.000000</td>\n",
       "      <td>2.822705</td>\n",
       "    </tr>\n",
       "    <tr>\n",
       "      <th>50%</th>\n",
       "      <td>123.500000</td>\n",
       "      <td>3.331546</td>\n",
       "    </tr>\n",
       "    <tr>\n",
       "      <th>75%</th>\n",
       "      <td>350.000000</td>\n",
       "      <td>3.740741</td>\n",
       "    </tr>\n",
       "    <tr>\n",
       "      <th>max</th>\n",
       "      <td>3428.000000</td>\n",
       "      <td>5.000000</td>\n",
       "    </tr>\n",
       "  </tbody>\n",
       "</table>\n",
       "</div>"
      ],
      "text/plain": [
       "       total_rating       Rating\n",
       "count   3706.000000  3706.000000\n",
       "mean     269.889099     3.238892\n",
       "std      384.047838     0.672925\n",
       "min        1.000000     1.000000\n",
       "25%       33.000000     2.822705\n",
       "50%      123.500000     3.331546\n",
       "75%      350.000000     3.740741\n",
       "max     3428.000000     5.000000"
      ]
     },
     "execution_count": 40,
     "metadata": {},
     "output_type": "execute_result"
    }
   ],
   "source": [
    "final2.describe()"
   ]
  },
  {
   "cell_type": "code",
   "execution_count": 41,
   "metadata": {
    "collapsed": true
   },
   "outputs": [],
   "source": [
    "final = final2[:400].sort_values(by = 'Rating',ascending=False)"
   ]
  },
  {
   "cell_type": "code",
   "execution_count": 42,
   "metadata": {},
   "outputs": [
    {
     "data": {
      "text/html": [
       "<div>\n",
       "<table border=\"1\" class=\"dataframe\">\n",
       "  <thead>\n",
       "    <tr style=\"text-align: right;\">\n",
       "      <th></th>\n",
       "      <th>movie_title</th>\n",
       "      <th>total_rating</th>\n",
       "      <th>Rating</th>\n",
       "    </tr>\n",
       "  </thead>\n",
       "  <tbody>\n",
       "    <tr>\n",
       "      <th>2970</th>\n",
       "      <td>Shawshank Redemption, The (1994)</td>\n",
       "      <td>2227</td>\n",
       "      <td>4.554558</td>\n",
       "    </tr>\n",
       "    <tr>\n",
       "      <th>1354</th>\n",
       "      <td>Godfather, The (1972)</td>\n",
       "      <td>2223</td>\n",
       "      <td>4.524966</td>\n",
       "    </tr>\n",
       "    <tr>\n",
       "      <th>3504</th>\n",
       "      <td>Usual Suspects, The (1995)</td>\n",
       "      <td>1783</td>\n",
       "      <td>4.517106</td>\n",
       "    </tr>\n",
       "    <tr>\n",
       "      <th>2901</th>\n",
       "      <td>Schindler's List (1993)</td>\n",
       "      <td>2304</td>\n",
       "      <td>4.510417</td>\n",
       "    </tr>\n",
       "    <tr>\n",
       "      <th>3675</th>\n",
       "      <td>Wrong Trousers, The (1993)</td>\n",
       "      <td>882</td>\n",
       "      <td>4.507937</td>\n",
       "    </tr>\n",
       "  </tbody>\n",
       "</table>\n",
       "</div>"
      ],
      "text/plain": [
       "                           movie_title  total_rating    Rating\n",
       "2970  Shawshank Redemption, The (1994)          2227  4.554558\n",
       "1354             Godfather, The (1972)          2223  4.524966\n",
       "3504        Usual Suspects, The (1995)          1783  4.517106\n",
       "2901           Schindler's List (1993)          2304  4.510417\n",
       "3675        Wrong Trousers, The (1993)           882  4.507937"
      ]
     },
     "execution_count": 42,
     "metadata": {},
     "output_type": "execute_result"
    }
   ],
   "source": [
    "final.head()"
   ]
  },
  {
   "cell_type": "code",
   "execution_count": 100,
   "metadata": {},
   "outputs": [
    {
     "data": {
      "text/plain": [
       "6040"
      ]
     },
     "execution_count": 100,
     "metadata": {},
     "output_type": "execute_result"
    }
   ],
   "source": [
    "len(users['UserID'].unique())"
   ]
  },
  {
   "cell_type": "code",
   "execution_count": 44,
   "metadata": {},
   "outputs": [
    {
     "data": {
      "text/plain": [
       "25    395556\n",
       "35    199003\n",
       "18    183536\n",
       "45     83633\n",
       "50     72490\n",
       "56     38780\n",
       "1      27211\n",
       "Name: Age, dtype: int64"
      ]
     },
     "execution_count": 44,
     "metadata": {},
     "output_type": "execute_result"
    }
   ],
   "source": [
    "\n",
    "dataset1['Age'].value_counts()"
   ]
  },
  {
   "cell_type": "code",
   "execution_count": 48,
   "metadata": {},
   "outputs": [
    {
     "data": {
      "text/plain": [
       "<matplotlib.axes._subplots.AxesSubplot at 0x21f71f07f98>"
      ]
     },
     "execution_count": 48,
     "metadata": {},
     "output_type": "execute_result"
    },
    {
     "data": {
      "image/png": "[encoded data removed]",
      "text/plain": [
       "<matplotlib.figure.Figure at 0x21f71bfa198>"
      ]
     },
     "metadata": {},
     "output_type": "display_data"
    }
   ],
   "source": [
    "%matplotlib inline\n",
    "sns.countplot(dataset1['Age'])"
   ]
  },
  {
   "cell_type": "code",
   "execution_count": 49,
   "metadata": {},
   "outputs": [
    {
     "data": {
      "text/plain": [
       "<matplotlib.axes._subplots.AxesSubplot at 0x21f03d87f98>"
      ]
     },
     "execution_count": 49,
     "metadata": {},
     "output_type": "execute_result"
    },
    {
     "data": {
      "image/png": "[encoded data removed]",
      "text/plain": [
       "<matplotlib.figure.Figure at 0x21f03630780>"
      ]
     },
     "metadata": {},
     "output_type": "display_data"
    }
   ],
   "source": [
    "sns.countplot(dataset1['Gender'])"
   ]
  },
  {
   "cell_type": "code",
   "execution_count": 50,
   "metadata": {},
   "outputs": [
    {
     "data": {
      "text/plain": [
       "<matplotlib.axes._subplots.AxesSubplot at 0x21f71ef68d0>"
      ]
     },
     "execution_count": 50,
     "metadata": {},
     "output_type": "execute_result"
    },
    {
     "data": {
      "image/png": "[encoded data removed]",
      "text/plain": [
       "<matplotlib.figure.Figure at 0x21f02fa9630>"
      ]
     },
     "metadata": {},
     "output_type": "display_data"
    }
   ],
   "source": [
    "sns.countplot(dataset1['Occupation'])"
   ]
  },
  {
   "cell_type": "code",
   "execution_count": 53,
   "metadata": {},
   "outputs": [
    {
     "data": {
      "text/plain": [
       "Id             0\n",
       "Title          0\n",
       "Genres         0\n",
       "UserID         0\n",
       "Rating         0\n",
       "Timestamp      0\n",
       "Gender         0\n",
       "Age            0\n",
       "Occupation     0\n",
       "Zip-codeAll    0\n",
       "dtype: int64"
      ]
     },
     "execution_count": 53,
     "metadata": {},
     "output_type": "execute_result"
    }
   ],
   "source": [
    "dataset1.isnull().sum()"
   ]
  },
  {
   "cell_type": "code",
   "execution_count": 54,
   "metadata": {
    "collapsed": true
   },
   "outputs": [],
   "source": [
    "# Collaborative Filtering"
   ]
  },
  {
   "cell_type": "markdown",
   "metadata": {},
   "source": [
    "Most collaborative filtering systems apply the so called neighborhood-based technique. In the neighborhood-based approach a number of users is selected based on their similarity to the active user. \n",
    "A prediction for the active user is made by calculating a weighted average of the ratings of the selected users."
   ]
  },
  {
   "cell_type": "code",
   "execution_count": 8,
   "metadata": {
    "collapsed": true
   },
   "outputs": [],
   "source": [
    "from surprise import evaluate"
   ]
  },
  {
   "cell_type": "code",
   "execution_count": 9,
   "metadata": {
    "collapsed": true
   },
   "outputs": [],
   "source": [
    "from surprise import Dataset\n"
   ]
  },
  {
   "cell_type": "code",
   "execution_count": 164,
   "metadata": {
    "collapsed": true
   },
   "outputs": [],
   "source": [
    "#from sklearn.preprocessing import LabelEncoder"
   ]
  },
  {
   "cell_type": "code",
   "execution_count": null,
   "metadata": {
    "collapsed": true
   },
   "outputs": [],
   "source": []
  },
  {
   "cell_type": "code",
   "execution_count": 10,
   "metadata": {
    "collapsed": true
   },
   "outputs": [],
   "source": [
    "from surprise import KNNBasic"
   ]
  },
  {
   "cell_type": "code",
   "execution_count": 11,
   "metadata": {
    "collapsed": true
   },
   "outputs": [],
   "source": [
    "data = dataset1[['UserID','Title','Rating']]"
   ]
  },
  {
   "cell_type": "code",
   "execution_count": 12,
   "metadata": {
    "collapsed": true
   },
   "outputs": [],
   "source": [
    "from surprise import Reader"
   ]
  },
  {
   "cell_type": "code",
   "execution_count": 13,
   "metadata": {
    "collapsed": true
   },
   "outputs": [],
   "source": [
    "data_load = Dataset.load_from_df(data,reader=Reader(rating_scale = (1,5)))"
   ]
  },
  {
   "cell_type": "code",
   "execution_count": 14,
   "metadata": {
    "collapsed": true
   },
   "outputs": [],
   "source": [
    "sim_options = {\n",
    "    'name': 'cosine',\n",
    "    'user_based': False\n",
    "}\n",
    "knn = KNNBasic(sim_options=sim_options)"
   ]
  },
  {
   "cell_type": "code",
   "execution_count": 32,
   "metadata": {
    "collapsed": true
   },
   "outputs": [],
   "source": [
    "test= data_load.construct_testset?"
   ]
  },
  {
   "cell_type": "code",
   "execution_count": null,
   "metadata": {
    "collapsed": true
   },
   "outputs": [],
   "source": []
  },
  {
   "cell_type": "code",
   "execution_count": 15,
   "metadata": {
    "collapsed": true
   },
   "outputs": [],
   "source": [
    "threshold = int(.9 * len(data_load.raw_ratings))  "
   ]
  },
  {
   "cell_type": "code",
   "execution_count": 16,
   "metadata": {
    "collapsed": true
   },
   "outputs": [],
   "source": [
    "train= data_load.raw_ratings[:threshold]"
   ]
  },
  {
   "cell_type": "code",
   "execution_count": 17,
   "metadata": {
    "collapsed": true
   },
   "outputs": [],
   "source": [
    "train_ = data_load.construct_trainset(train)"
   ]
  },
  {
   "cell_type": "code",
   "execution_count": 18,
   "metadata": {
    "collapsed": true
   },
   "outputs": [],
   "source": [
    "threshold = int(.1 * len(data_load.raw_ratings))  "
   ]
  },
  {
   "cell_type": "code",
   "execution_count": 19,
   "metadata": {
    "collapsed": true
   },
   "outputs": [],
   "source": [
    "test = data_load.raw_ratings[:threshold]"
   ]
  },
  {
   "cell_type": "code",
   "execution_count": 20,
   "metadata": {
    "collapsed": true
   },
   "outputs": [],
   "source": [
    "test_ = data_load.construct_testset(test)"
   ]
  },
  {
   "cell_type": "code",
   "execution_count": 15,
   "metadata": {
    "collapsed": true
   },
   "outputs": [],
   "source": [
    "train = data_load.construct_testset"
   ]
  },
  {
   "cell_type": "code",
   "execution_count": 16,
   "metadata": {},
   "outputs": [
    {
     "data": {
      "text/plain": [
       "<bound method Dataset.construct_testset of <surprise.dataset.DatasetAutoFolds object at 0x00000206D0B844E0>>"
      ]
     },
     "execution_count": 16,
     "metadata": {},
     "output_type": "execute_result"
    }
   ],
   "source": [
    "train "
   ]
  },
  {
   "cell_type": "code",
   "execution_count": null,
   "metadata": {
    "collapsed": true
   },
   "outputs": [],
   "source": [
    "train = data_load.n_folds"
   ]
  },
  {
   "cell_type": "code",
   "execution_count": null,
   "metadata": {
    "collapsed": true
   },
   "outputs": [],
   "source": [
    "train = data_load.split"
   ]
  },
  {
   "cell_type": "code",
   "execution_count": 21,
   "metadata": {},
   "outputs": [
    {
     "name": "stdout",
     "output_type": "stream",
     "text": [
      "Computing the cosine similarity matrix...\n",
      "Done computing similarity matrix.\n"
     ]
    }
   ],
   "source": [
    "knn.train(train_)"
   ]
  },
  {
   "cell_type": "code",
   "execution_count": null,
   "metadata": {
    "collapsed": true
   },
   "outputs": [],
   "source": [
    "\n"
   ]
  },
  {
   "cell_type": "code",
   "execution_count": 22,
   "metadata": {
    "collapsed": true
   },
   "outputs": [],
   "source": [
    "predict = knn.test(test_)"
   ]
  },
  {
   "cell_type": "code",
   "execution_count": 23,
   "metadata": {
    "collapsed": true
   },
   "outputs": [],
   "source": [
    "from collections import defaultdict"
   ]
  },
  {
   "cell_type": "code",
   "execution_count": 41,
   "metadata": {
    "collapsed": true
   },
   "outputs": [],
   "source": [
    "def recommendations(predict,top=3):\n",
    "    top_recs = defaultdict(list)\n",
    "    for uid,iid,r_ui,est, _ in predict:\n",
    "        top_recs[uid].append((iid,est))\n",
    "        \n",
    "        \n",
    "    for uid, user_ratings in top_recs.items():\n",
    "        user_ratings.sort(key = lambda x: x[1], reverse = True)\n",
    "        top_recs[uid] = user_ratings[:top]\n",
    "    \n",
    "    return top_recs"
   ]
  },
  {
   "cell_type": "code",
   "execution_count": 42,
   "metadata": {},
   "outputs": [
    {
     "data": {
      "text/plain": [
       "defaultdict(list,\n",
       "            {1: [('Pocahontas (1995)', 4.3014248124818621),\n",
       "              ('Dumbo (1941)', 4.2764086048887995),\n",
       "              ('Titanic (1997)', 4.2757067487959812)],\n",
       "             6: [('Anastasia (1997)', 4.2768850262628018),\n",
       "              ('Pretty Woman (1990)', 4.2270063439203751),\n",
       "              ('Gypsy (1962)', 4.2025244441347844)],\n",
       "             8: [('Desperado (1995)', 4.4256825015962109),\n",
       "              ('Matrix, The (1999)', 4.4014672419079117),\n",
       "              ('Pulp Fiction (1994)', 4.3770918618887791)],\n",
       "             9: [('Chasing Amy (1997)', 4.2244425031095165),\n",
       "              (\"Wayne's World (1992)\", 4.20027147345297),\n",
       "              ('Silence of the Lambs, The (1991)', 4.1512848208939905)],\n",
       "             10: [('Inspector General, The (1949)', 4.6747578402401357),\n",
       "              (\"Darby O'Gill and the Little People (1959)\",\n",
       "               4.6010926299911974),\n",
       "              ('Men in Black (1997)', 4.600783367311716)],\n",
       "             18: [('Toy Story (1995)', 4.724480786344567),\n",
       "              ('Fifth Element, The (1997)', 4.7241376740608443),\n",
       "              ('Willow (1988)', 4.7007791809307617)],\n",
       "             19: [('Ghostbusters II (1989)', 4.226681757719887),\n",
       "              ('Willy Wonka and the Chocolate Factory (1971)',\n",
       "               4.2257983886260684),\n",
       "              ('Men in Black (1997)', 4.2254875703432049)],\n",
       "             21: [('Little Nemo: Adventures in Slumberland (1992)',\n",
       "               2.9614919293273152),\n",
       "              ('South Park: Bigger, Longer and Uncut (1999)',\n",
       "               2.9277709717203781),\n",
       "              ('Titan A.E. (2000)', 2.9213012151279609)],\n",
       "             23: [('Matrix, The (1999)', 4.0233936566053172),\n",
       "              ('Big Trouble in Little China (1986)', 4.0007297336340431),\n",
       "              ('From Dusk Till Dawn (1996)', 3.8999189956014102)],\n",
       "             26: [('Mr. Wonderful (1993)', 4.1246200799819608),\n",
       "              ('About Last Night... (1986)', 3.8760983048617299),\n",
       "              ('Program, The (1993)', 3.7766329798737512)],\n",
       "             28: [('Casablanca (1942)', 4.1760606673517451),\n",
       "              ('Amadeus (1984)', 4.175898874468265),\n",
       "              ('Say Anything... (1989)', 4.1747947119683317)],\n",
       "             34: [('Shawshank Redemption, The (1994)', 4.625339404964893),\n",
       "              ('Life Is Beautiful (La Vita è bella) (1997)',\n",
       "               4.6004064882689697),\n",
       "              ('When Harry Met Sally... (1989)', 4.5999612645080621)],\n",
       "             36: [('Do the Right Thing (1989)', 4.6752159202706869),\n",
       "              ('Princess Bride, The (1987)', 4.6743456334589286),\n",
       "              ('Braveheart (1995)', 4.6494753988296891)],\n",
       "             38: [('Sleeping Beauty (1959)', 4.0006957264342793),\n",
       "              ('Speed (1994)', 4.0002000511428379),\n",
       "              ('When Harry Met Sally... (1989)', 3.9770020208369119)],\n",
       "             44: [('Toy Story (1995)', 4.7254683600793301),\n",
       "              ('Wizard of Oz, The (1939)', 4.6753304488392686),\n",
       "              ('Wrong Trousers, The (1993)', 4.6503831305916474)],\n",
       "             45: [('Working Girl (1988)', 3.9005876825343035),\n",
       "              ('Private Benjamin (1980)', 3.8003774561409807),\n",
       "              ('Desperately Seeking Susan (1985)', 3.7768211925977506)],\n",
       "             48: [('Close Encounters of the Third Kind (1977)',\n",
       "               4.001283198937946),\n",
       "              ('Star Wars: Episode IV - A New Hope (1977)',\n",
       "               3.9766235190515471),\n",
       "              ('Jurassic Park (1993)', 3.9514638372584985)],\n",
       "             49: [('In the Line of Fire (1993)', 4.175545760230218),\n",
       "              (\"Schindler's List (1993)\", 4.1265935070760449),\n",
       "              ('Saving Private Ryan (1998)', 4.1264654844326589)],\n",
       "             51: [(\"Can't Hardly Wait (1998)\", 3.8397710115888666),\n",
       "              ('Gossip (2000)', 3.8361384463097394),\n",
       "              ('Fantasia 2000 (1999)', 3.8355147311353255)],\n",
       "             56: [('Clueless (1995)', 4.3495522740655765),\n",
       "              ('Waking Ned Devine (1998)', 4.3261720346172057),\n",
       "              ('Dead Man Walking (1995)', 4.3245939574643799)],\n",
       "             60: [('Far Off Place, A (1993)', 3.9780838711244995),\n",
       "              ('Twister (1996)', 3.9777290084418961),\n",
       "              ('Star Wars: Episode I - The Phantom Menace (1999)',\n",
       "               3.9506649187434095)],\n",
       "             65: [('Apollo 13 (1995)', 4.7505064153348115),\n",
       "              ('Pelican Brief, The (1993)', 4.7501046952853594),\n",
       "              ('Rainmaker, The (1997)', 4.7495040149000616)],\n",
       "             68: [(\"'Night Mother (1986)\", 4.2273409244471107),\n",
       "              ('Manhattan Murder Mystery (1993)', 4.2015362907937384),\n",
       "              ('Life Is Beautiful (La Vita è bella) (1997)',\n",
       "               4.2001813203576273)],\n",
       "             73: [('Big Lebowski, The (1998)', 4.3008704372296647),\n",
       "              ('Army of Darkness (1993)', 4.276792457286164),\n",
       "              ('Full Metal Jacket (1987)', 4.2510348024531845)],\n",
       "             75: [('Nutty Professor, The (1996)', 4.3998760748760271),\n",
       "              ('Doctor Dolittle (1998)', 4.3997774582167111),\n",
       "              ('Baby Geniuses (1999)', 4.3991472393703646)],\n",
       "             76: [('Professional, The (a.k.a. Leon: The Professional) (1994)',\n",
       "               4.700224108598638),\n",
       "              ('American Beauty (1999)', 4.6755351095925501),\n",
       "              ('Seven (Se7en) (1995)', 4.6754054507997935)],\n",
       "             78: [('Cabaret (1972)', 4.2019374072346398),\n",
       "              ('Last Summer in the Hamptons (1995)', 4.1993536086496306),\n",
       "              (\"God Said 'Ha!' (1998)\", 4.1775038945362102)],\n",
       "             80: [('Titanic (1953)', 4.0299331296069809),\n",
       "              ('Cider House Rules, The (1999)', 4.0295185374182427),\n",
       "              ('Forrest Gump (1994)', 4.0273335086837463)],\n",
       "             90: [(\"Jackie Chan's First Strike (1996)\", 4.2780028013051634),\n",
       "              ('Shanghai Noon (2000)', 4.2007979834965079),\n",
       "              ('Supercop (1992)', 4.1783237002367573)],\n",
       "             92: [('Lion King, The (1994)', 4.0012865837035703),\n",
       "              ('Beauty and the Beast (1991)', 3.9765726186126633),\n",
       "              ('Grease (1978)', 3.9519247557693058)],\n",
       "             96: [('Crimson Tide (1995)', 4.0015753670217684),\n",
       "              ('Princess Bride, The (1987)', 4.0010529320170427),\n",
       "              ('Mary Poppins (1964)', 4.0001488829619385)],\n",
       "             99: [('That Thing You Do! (1996)', 3.9013034418590524),\n",
       "              ('Ace Ventura: When Nature Calls (1995)', 3.9006342902190738),\n",
       "              ('Sixteen Candles (1984)', 3.8776746128268456)],\n",
       "             109: [('Small Soldiers (1998)', 4.2023619140155875),\n",
       "              ('Airplane II: The Sequel (1982)', 4.1534330229793266),\n",
       "              ('Austin Powers: International Man of Mystery (1997)',\n",
       "               4.1502472682524321)],\n",
       "             112: [('Jungle Book, The (1967)', 4.5012283408745803),\n",
       "              ('Pinocchio (1940)', 4.5007456085725588),\n",
       "              ('Sunset Blvd. (a.k.a. Sunset Boulevard) (1950)',\n",
       "               4.4996723416187843)],\n",
       "             114: [('Grapes of Wrath, The (1940)', 4.2266857105692885),\n",
       "              ('Fantasia (1940)', 4.2254655265917762),\n",
       "              ('Close Encounters of the Third Kind (1977)',\n",
       "               4.2250304640401053)],\n",
       "             117: [('Conan the Barbarian (1982)', 4.3502749648093717),\n",
       "              ('Army of Darkness (1993)', 4.325929944403752),\n",
       "              ('Adventures of Buckaroo Bonzai Across the 8th Dimension, The (1984)',\n",
       "               4.2524788714420145)],\n",
       "             118: [('Matrix, The (1999)', 4.3015523191146476),\n",
       "              ('Adventures of Robin Hood, The (1938)', 4.201437332428049),\n",
       "              ('Galaxy Quest (1999)', 4.1762605203924608)],\n",
       "             119: [('Bachelor, The (1999)', 4.0053745260823534),\n",
       "              ('Man Who Knew Too Little, The (1997)', 3.9528211648824279),\n",
       "              ('House on Haunted Hill, The (1999)', 3.8477748119334989)],\n",
       "             121: [('Barbarella (1968)', 4.7253437638248403),\n",
       "              ('Mad Max Beyond Thunderdome (1985)', 4.7010612587854128),\n",
       "              ('Close Encounters of the Third Kind (1977)',\n",
       "               4.700240488188836)],\n",
       "             123: [('Saving Private Ryan (1998)', 4.1740569896166679),\n",
       "              ('Silence of the Lambs, The (1991)', 4.0976174594746455),\n",
       "              ('Untouchables, The (1987)', 4.0723195520766859)],\n",
       "             131: [('My Son the Fanatic (1998)', 4.2996917073133982),\n",
       "              ('Player, The (1992)', 4.1506144408500862),\n",
       "              ('Henry V (1989)', 4.1503546002465708)],\n",
       "             132: [('Friday (1995)', 4.450381692885407),\n",
       "              ('Kentucky Fried Movie, The (1977)', 4.4004592564209322),\n",
       "              (\"There's Something About Mary (1998)\", 4.3756301953746437)],\n",
       "             134: [(\"Love's Labour's Lost (2000)\", 4.0765228327232803),\n",
       "              ('Galaxy Quest (1999)', 4.0263103347910185),\n",
       "              ('Toy Story 2 (1999)', 3.9997840828954812)],\n",
       "             136: [('Eyes Wide Shut (1999)', 4.2989399432868911),\n",
       "              ('Welcome to the Dollhouse (1995)', 4.2746644697814657),\n",
       "              ('Maurice (1987)', 4.2735537256630796)],\n",
       "             139: [('Dark Crystal, The (1982)', 4.6261483630664841),\n",
       "              ('Dune (1984)', 4.6013517759630878),\n",
       "              ('Dogma (1999)', 4.5760162355963105)],\n",
       "             142: [('Nightmare Before Christmas, The (1993)',\n",
       "               3.5992698197553334),\n",
       "              ('Opposite of Sex, The (1998)', 3.5746737567508609),\n",
       "              ('Fox and the Hound, The (1981)', 3.5529842724794487)],\n",
       "             146: [('Englishman Who Went Up a Hill, But Came Down a Mountain, The (1995)',\n",
       "               4.4511456826862652),\n",
       "              ('...And Justice for All (1979)', 4.4260663579855049),\n",
       "              ('West Side Story (1961)', 4.4013452473727366)],\n",
       "             147: [('Shawshank Redemption, The (1994)', 4.350540914378203),\n",
       "              ('Sixth Sense, The (1999)', 4.3006829103983701),\n",
       "              ('Braveheart (1995)', 4.2759305727496981)],\n",
       "             148: [('Jurassic Park (1993)', 4.5756393913794033),\n",
       "              ('Forrest Gump (1994)', 4.5250801317265799),\n",
       "              ('Backdraft (1991)', 4.5003446631118074)],\n",
       "             149: [('Jaws (1975)', 4.7507149122875143),\n",
       "              ('Butch Cassidy and the Sundance Kid (1969)',\n",
       "               4.7503558151830552),\n",
       "              ('Godfather, The (1972)', 4.7254745238578391)],\n",
       "             150: [('Brothers McMullen, The (1995)', 4.4492541283452915),\n",
       "              ('Dances with Wolves (1990)', 4.4254546776089976),\n",
       "              ('E.T. the Extra-Terrestrial (1982)', 4.4253593988970286)],\n",
       "             151: [('Being John Malkovich (1999)', 4.4505672022314426),\n",
       "              ('Grosse Pointe Blank (1997)', 4.3758685132526915),\n",
       "              ('Raising Arizona (1987)', 4.3739062516898333)],\n",
       "             152: [('Fear and Loathing in Las Vegas (1998)',\n",
       "               4.1526396249651913),\n",
       "              ('Half Baked (1998)', 4.1449390406423943),\n",
       "              ('Kids in the Hall: Brain Candy (1996)', 4.1419936639948034)],\n",
       "             156: [('French Kiss (1995)', 4.5256427987890824),\n",
       "              ('Speechless (1994)', 4.5018253841158682),\n",
       "              ('Anna and the King (1999)', 4.4760301552096209)],\n",
       "             157: [('Bridge on the River Kwai, The (1957)',\n",
       "               4.5501092512957264),\n",
       "              ('Gattaca (1997)', 4.5008461803153645),\n",
       "              ('Chinatown (1974)', 4.5004183486048008)],\n",
       "             162: [('Beauty and the Beast (1991)', 4.626248845011296),\n",
       "              ('Heat (1995)', 4.6253920558327177),\n",
       "              ('Gladiator (2000)', 4.6252169623340178)],\n",
       "             163: [('Matrix, The (1999)', 3.4015564892659955),\n",
       "              ('Terminator 2: Judgment Day (1991)', 3.3264982650719999),\n",
       "              ('Sixth Sense, The (1999)', 3.2501870401136155)],\n",
       "             168: [('Seven Years in Tibet (1997)', 3.8691777786630994),\n",
       "              ('Raising Arizona (1987)', 3.8667146943081425),\n",
       "              ('Rushmore (1998)', 3.865472560663703)],\n",
       "             169: [('Jurassic Park (1993)', 4.4506776969501214),\n",
       "              ('Back to the Future (1985)', 4.4008830570641644),\n",
       "              ('Back to the Future Part II (1989)', 4.4005130378941111)],\n",
       "             173: [('Duck Soup (1933)', 4.7246539480233958),\n",
       "              ('Third Man, The (1949)', 4.6747787957441638),\n",
       "              ('Maltese Falcon, The (1941)', 4.6741898680168523)],\n",
       "             175: [('Blade Runner (1982)', 4.7250440848834447),\n",
       "              ('Crooklyn (1994)', 4.6767135181969071),\n",
       "              ('Hideous Kinky (1998)', 4.6512349059961284)],\n",
       "             181: [('Fight Club (1999)', 4.6506089630091854),\n",
       "              ('Full Metal Jacket (1987)', 4.625447418019994),\n",
       "              ('Jerk, The (1979)', 4.6002784757469266)],\n",
       "             182: [('Contact (1997)', 4.2759871838268779),\n",
       "              ('What About Bob? (1991)', 4.227601769084699),\n",
       "              ('Austin Powers: International Man of Mystery (1997)',\n",
       "               4.2259216673822628)],\n",
       "             184: [('Babe (1995)', 4.7007876741578531),\n",
       "              ('Beauty and the Beast (1991)', 4.6507943430285614),\n",
       "              ('Bull Durham (1988)', 4.6001222341128658)],\n",
       "             186: [('Pulp Fiction (1994)', 4.8255919405961807),\n",
       "              ('Do the Right Thing (1989)', 4.8007508506676988),\n",
       "              ('Monty Python and the Holy Grail (1974)', 4.8004391621699556)],\n",
       "             187: [('Boogie Nights (1997)', 4.5248514790633525),\n",
       "              ('Sweet Hereafter, The (1997)', 4.523493679213157),\n",
       "              ('Slums of Beverly Hills, The (1998)', 4.4998521882979308)],\n",
       "             190: [('Alice in Wonderland (1951)', 4.4004011868426636),\n",
       "              ('Cape Fear (1962)', 4.3499755059193381),\n",
       "              ('Donnie Brasco (1997)', 4.2260149866805028)],\n",
       "             193: [('Election (1999)', 4.0495945278579315),\n",
       "              ('Blazing Saddles (1974)', 4.0001959125416047),\n",
       "              ('Toy Story (1995)', 4.0000141695523688)],\n",
       "             194: [('Center Stage (2000)', 4.2256772021954374),\n",
       "              ('Forget Paris (1995)', 4.2028501948217079),\n",
       "              ('Where the Heart Is (2000)', 4.1727168103778922)],\n",
       "             195: [('Babe (1995)', 4.674697674478189),\n",
       "              ('Wizard of Oz, The (1939)', 4.6743962105525778),\n",
       "              ('Run Lola Run (Lola rennt) (1998)', 4.6493961697831807)],\n",
       "             198: [('Princess Bride, The (1987)', 4.6507141864539552),\n",
       "              ('Toy Story (1995)', 4.6258071241781824),\n",
       "              ('Toy Story 2 (1999)', 4.6008485084080846)],\n",
       "             202: [('Jerry Maguire (1996)', 4.4005521736551421),\n",
       "              ('Braveheart (1995)', 4.4005054583152861),\n",
       "              ('Few Good Men, A (1992)', 4.4001709255790056)],\n",
       "             204: [('Star Wars: Episode V - The Empire Strikes Back (1980)',\n",
       "               4.5759922243314772),\n",
       "              ('Star Wars: Episode IV - A New Hope (1977)',\n",
       "               4.5758165465775607),\n",
       "              ('Star Wars: Episode VI - Return of the Jedi (1983)',\n",
       "               4.5756619676188119)],\n",
       "             213: [('Patch Adams (1998)', 4.2361363020300482),\n",
       "              ('Air Force One (1997)', 4.2311953943084397),\n",
       "              ('Aladdin (1992)', 4.2291688637111857)],\n",
       "             214: [('Fear and Loathing in Las Vegas (1998)',\n",
       "               4.2011978503616607),\n",
       "              ('Chicken Run (2000)', 4.2001516764910525),\n",
       "              ('High Fidelity (2000)', 4.1760659062765955)],\n",
       "             215: [('Man in the Iron Mask, The (1998)', 4.5647619572740492),\n",
       "              ('Pelican Brief, The (1993)', 4.5640909295596446),\n",
       "              ('Indiana Jones and the Temple of Doom (1984)',\n",
       "               4.5637527736851222)],\n",
       "             220: [('Blade Runner (1982)', 4.7253795169124997),\n",
       "              ('Ed Wood (1994)', 4.724887439119354),\n",
       "              ('This Is Spinal Tap (1984)', 4.6756102627162077)],\n",
       "             223: [('Jurassic Park (1993)', 4.3003137780833649),\n",
       "              ('Untouchables, The (1987)', 4.2740121351987641),\n",
       "              ('Natural, The (1984)', 4.2263489367248841)],\n",
       "             224: [('Lock, Stock & Two Smoking Barrels (1998)',\n",
       "               4.1007960655518065),\n",
       "              ('Willy Wonka and the Chocolate Factory (1971)',\n",
       "               4.099561711041698),\n",
       "              ('Breakfast Club, The (1985)', 4.0760329046877333)],\n",
       "             225: [('Full Metal Jacket (1987)', 4.1996332251205537),\n",
       "              ('Secrets & Lies (1996)', 4.1756938823479164),\n",
       "              ('Hilary and Jackie (1998)', 4.1493243549541798)],\n",
       "             230: [('Hunt for Red October, The (1990)', 4.5997112971158431),\n",
       "              ('Sixth Sense, The (1999)', 4.5755187121533449),\n",
       "              ('Groundhog Day (1993)', 4.5499684723871283)],\n",
       "             231: [('Willow (1988)', 4.8254297803387054),\n",
       "              ('Beetlejuice (1988)', 4.7754414910357053),\n",
       "              ('Say Anything... (1989)', 4.7501555500738863)],\n",
       "             232: [('Airplane! (1980)', 4.2496617964396881),\n",
       "              (\"Rosemary's Baby (1968)\", 4.2271114669026977),\n",
       "              ('Living in Oblivion (1995)', 4.2261987064467812)],\n",
       "             236: [('Simon Birch (1998)', 4.1008752414155207),\n",
       "              ('Abyss, The (1989)', 4.0724305897248803),\n",
       "              ('Stand by Me (1986)', 4.0501437673642862)],\n",
       "             237: [('True Lies (1994)', 4.1249970073629063),\n",
       "              ('Batman Returns (1992)', 4.0980239128510672),\n",
       "              ('French Kiss (1995)', 4.0752485209967011)],\n",
       "             239: [('Piano, The (1993)', 4.5985777719474683),\n",
       "              ('Postino, Il (The Postman) (1994)', 4.5507721267452492),\n",
       "              ('High Fidelity (2000)', 4.5501818064442103)],\n",
       "             243: [('To Catch a Thief (1955)', 3.6216606135739235),\n",
       "              ('Gone with the Wind (1939)', 3.6202775804607956),\n",
       "              ('Groundhog Day (1993)', 3.6183375916122307)],\n",
       "             246: [(\"Ferris Bueller's Day Off (1986)\", 4.0073694617229894),\n",
       "              ('Sixteen Candles (1984)', 4.0070836080779655),\n",
       "              (\"Bug's Life, A (1998)\", 4.0063000298645886)],\n",
       "             255: [('Field of Dreams (1989)', 4.4506408016684924),\n",
       "              ('Shawshank Redemption, The (1994)', 4.4247182239353773),\n",
       "              ('E.T. the Extra-Terrestrial (1982)', 4.399636854423159)],\n",
       "             258: [('Indiana Jones and the Last Crusade (1989)',\n",
       "               4.4261120498727777),\n",
       "              ('Jurassic Park (1993)', 4.4259874261811198),\n",
       "              ('Star Wars: Episode IV - A New Hope (1977)',\n",
       "               4.3762035094850429)],\n",
       "             263: [('Princess Bride, The (1987)', 4.2760229572234429),\n",
       "              (\"Wayne's World (1992)\", 4.2500743254825748),\n",
       "              ('Much Ado About Nothing (1993)', 4.249961060830608)],\n",
       "             264: [('Field of Dreams (1989)', 3.7004633611368023),\n",
       "              ('Doctor Zhivago (1965)', 3.6491016554771729),\n",
       "              ('Simple Twist of Fate, A (1994)', 3.6257103530374653)],\n",
       "             271: [('Better Off Dead... (1985)', 4.7503626933419651),\n",
       "              ('Tron (1982)', 4.7005436209002376),\n",
       "              ('Clerks (1994)', 4.6750466015379866)],\n",
       "             272: [('Terminator 2: Judgment Day (1991)', 4.8004502941098863),\n",
       "              ('Star Wars: Episode V - The Empire Strikes Back (1980)',\n",
       "               4.7257534874790128),\n",
       "              ('Matrix, The (1999)', 4.7255266677158829)],\n",
       "             273: [('Fallen (1998)', 4.3509326774938035),\n",
       "              ('Gladiator (2000)', 4.3506408056819819),\n",
       "              ('Sneakers (1992)', 4.3246132705400191)],\n",
       "             284: [(\"Monty Python's Life of Brian (1979)\", 4.5256579437190441),\n",
       "              ('Blues Brothers, The (1980)', 4.4503640213452567),\n",
       "              ('Big Lebowski, The (1998)', 4.4257471430851307)],\n",
       "             293: [(\"One Flew Over the Cuckoo's Nest (1975)\",\n",
       "               4.3464431882718193),\n",
       "              ('Graduate, The (1967)', 4.3209370071940878),\n",
       "              ('Fisher King, The (1991)', 4.2934686057367912)],\n",
       "             294: [('Sweet and Lowdown (1999)', 3.7274890369761633),\n",
       "              ('Being John Malkovich (1999)', 3.7034789373259627),\n",
       "              (\"One Flew Over the Cuckoo's Nest (1975)\", 3.7027735214531736)],\n",
       "             299: [('American Beauty (1999)', 4.625486413163852),\n",
       "              ('Clerks (1994)', 4.6253147899717879),\n",
       "              ('Best in Show (2000)', 4.6247913495206356)],\n",
       "             300: [('Rocky (1976)', 4.8502215097559533),\n",
       "              ('Raiders of the Lost Ark (1981)', 4.825254026745732),\n",
       "              ('Jurassic Park (1993)', 4.8004210436440271)],\n",
       "             301: [('Aliens (1986)', 4.8993420200654345),\n",
       "              ('Blues Brothers, The (1980)', 4.8752207825654725),\n",
       "              ('Star Wars: Episode V - The Empire Strikes Back (1980)',\n",
       "               4.8743387998833203)],\n",
       "             302: [('Star Wars: Episode V - The Empire Strikes Back (1980)',\n",
       "               4.4740380894730336),\n",
       "              ('Usual Suspects, The (1995)', 4.3990840972825733),\n",
       "              ('Ghostbusters (1984)', 4.3990589301270209)],\n",
       "             306: [('Misery (1990)', 4.500881505791261),\n",
       "              ('Jerry Maguire (1996)', 4.4753723898824216),\n",
       "              ('Silence of the Lambs, The (1991)', 4.451088830041777)],\n",
       "             307: [(\"Singin' in the Rain (1952)\", 5),\n",
       "              ('Duck Soup (1933)', 4.9500319285472338),\n",
       "              ('Mr. Smith Goes to Washington (1939)', 4.9500162668057692)],\n",
       "             308: [('Rushmore (1998)', 4.3256117124839877),\n",
       "              ('Taxi Driver (1976)', 4.2999586471980127),\n",
       "              ('Citizen Kane (1941)', 4.2759006004798952)],\n",
       "             310: [('Lord of the Flies (1963)', 4.3508084088816856),\n",
       "              ('Benny & Joon (1993)', 4.2754015800872676),\n",
       "              ('Willy Wonka and the Chocolate Factory (1971)',\n",
       "               4.2746432698633186)],\n",
       "             314: [('Strangers on a Train (1951)', 4.5254959043756102),\n",
       "              ('Double Indemnity (1944)', 4.5254789083758356),\n",
       "              ('Verdict, The (1982)', 4.5003172428636544)],\n",
       "             321: [('Pi (1998)', 4.3022269073100849),\n",
       "              ('Trainspotting (1996)', 4.3012819759949137),\n",
       "              ('Ice Storm, The (1997)', 4.2512859936019938)],\n",
       "             325: [('Lethal Weapon 3 (1992)', 4.254561016039351),\n",
       "              ('Renaissance Man (1994)', 4.2311986150043257),\n",
       "              ('Double Jeopardy (1999)', 4.2290935229796673)],\n",
       "             326: [('Princess Bride, The (1987)', 4.0251737814379043),\n",
       "              ('Field of Dreams (1989)', 4.0008806087319648),\n",
       "              ('Running Scared (1986)', 4.0008284225469399)],\n",
       "             329: [('Lion King, The (1994)', 3.8518731143834617),\n",
       "              ('Terminator, The (1984)', 3.8268084989808564),\n",
       "              ('Aliens (1986)', 3.8018994126794414)],\n",
       "             333: [('Trip to Bountiful, The (1985)', 4.1012656050392824),\n",
       "              ('Gypsy (1962)', 4.1007662860111029),\n",
       "              ('Creature Comforts (1990)', 4.076432598863776)],\n",
       "             337: [('Rumble in the Bronx (1995)', 4.3262408104390619),\n",
       "              ('Heavy Metal (1981)', 4.2789571138060447),\n",
       "              ('Groundhog Day (1993)', 4.2764265355259026)],\n",
       "             338: [('Glory (1989)', 4.6506267438381741),\n",
       "              ('Dead Poets Society (1989)', 4.6495733682728781),\n",
       "              ('Witness (1985)', 4.6256276322016934)],\n",
       "             340: [('Beauty and the Beast (1991)', 4.0253420785124749),\n",
       "              ('Gaslight (1944)', 3.9513505186224576),\n",
       "              ('Sound of Music, The (1965)', 3.9022020918651723)],\n",
       "             343: [('Little Mermaid, The (1989)', 4.7008543153853077),\n",
       "              ('Lady and the Tramp (1955)', 4.6755133902976924),\n",
       "              ('101 Dalmatians (1961)', 4.6753997949885528)],\n",
       "             346: [('Christmas Story, A (1983)', 4.8001279222376745),\n",
       "              ('Gladiator (2000)', 4.7754323899426101),\n",
       "              ('Chicken Run (2000)', 4.7750620414389759)],\n",
       "             350: [('Matrix, The (1999)', 4.3015091622748818),\n",
       "              ('Toy Story (1995)', 4.3009238035031094),\n",
       "              ('Silence of the Lambs, The (1991)', 4.2997870304474226)],\n",
       "             351: [('Chicken Run (2000)', 4.3274627508928578),\n",
       "              ('Close Shave, A (1995)', 4.3271627496851268),\n",
       "              ('Muppet Movie, The (1979)', 4.3269387012827032)],\n",
       "             352: [('GoodFellas (1990)', 4.6001976139917344),\n",
       "              ('Full Metal Jacket (1987)', 4.575122508169537),\n",
       "              ('Monty Python and the Holy Grail (1974)', 4.5502595427587789)],\n",
       "             355: [('Shawshank Redemption, The (1994)', 4.5755833611789223),\n",
       "              ('Braveheart (1995)', 4.5010088492072722),\n",
       "              ('Silence of the Lambs, The (1991)', 4.5007797665126237)],\n",
       "             366: [('Amadeus (1984)', 4.7003939251752724),\n",
       "              ('Easy Rider (1969)', 4.6996951354878362),\n",
       "              ('Bananas (1971)', 4.6501845628205931)],\n",
       "             368: [('Reservoir Dogs (1992)', 4.6503198724280521),\n",
       "              ('GoodFellas (1990)', 4.6503159878621307),\n",
       "              ('Pulp Fiction (1994)', 4.6009808204277505)],\n",
       "             369: [('Jerk, The (1979)', 3.6767996341651137),\n",
       "              ('Lethal Weapon (1987)', 3.673513743944997),\n",
       "              ('Wedding Singer, The (1998)', 3.6504701681106271)],\n",
       "             372: [('Congo (1995)', 4.8753382604009934),\n",
       "              ('First Kid (1996)', 4.8751435309275282),\n",
       "              ('Omega Code, The (1999)', 4.8751236675710361)],\n",
       "             376: [('Crimes and Misdemeanors (1989)', 4.6260591665190942),\n",
       "              ('Sleeper (1973)', 4.5761854998166678),\n",
       "              ('Take the Money and Run (1969)', 4.5760576437138774)],\n",
       "             378: [('Benji (1974)', 3.5329924491828009),\n",
       "              ('Rudy (1993)', 3.530798563808248),\n",
       "              ('Magnolia (1999)', 3.5282917480973741)],\n",
       "             380: [('Dazed and Confused (1993)', 4.4260351363542068),\n",
       "              ('Player, The (1992)', 4.3516758742636581),\n",
       "              ('L.A. Story (1991)', 4.351107137902047)],\n",
       "             385: [('Men in Black (1997)', 4.6754281016582135),\n",
       "              ('Speed (1994)', 4.6507558533224396),\n",
       "              ('Die Hard 2 (1990)', 4.650158830015469)],\n",
       "             386: [('True Romance (1993)', 4.375053053783498),\n",
       "              ('Army of Darkness (1993)', 4.3505330755566431),\n",
       "              ('Rushmore (1998)', 4.3250081383176351)],\n",
       "             389: [('Gladiator (2000)', 4.3016140061422599),\n",
       "              ('Tombstone (1993)', 4.3010720065459163),\n",
       "              ('Braveheart (1995)', 4.2528331814217699)],\n",
       "             392: [('Hoop Dreams (1994)', 4.6003877860086027),\n",
       "              ('Godfather, The (1972)', 4.5255741781088332),\n",
       "              ('Great Escape, The (1963)', 4.5255166116505823)],\n",
       "             395: [('Dumb & Dumber (1994)', 3.6256518415882915),\n",
       "              ('Happy Gilmore (1996)', 3.6214995392607503),\n",
       "              ('Clerks (1994)', 3.6197751286283437)],\n",
       "             402: [('Usual Suspects, The (1995)', 4.3249075501219227),\n",
       "              ('Swingers (1996)', 4.3009441992763975),\n",
       "              ('Animal House (1978)', 4.2998234829928723)],\n",
       "             403: [('Gladiator (2000)', 4.6754319379441629),\n",
       "              ('Indiana Jones and the Last Crusade (1989)',\n",
       "               4.6498389705728114),\n",
       "              ('Good Morning, Vietnam (1987)', 4.6255466889425936)],\n",
       "             411: [('Bull Durham (1988)', 4.149909947567104),\n",
       "              ('Princess Bride, The (1987)', 4.1257142255729029),\n",
       "              ('When Harry Met Sally... (1989)', 4.0755186497329277)],\n",
       "             412: [('Star Wars: Episode IV - A New Hope (1977)',\n",
       "               4.8494103892251319),\n",
       "              ('Dances with Wolves (1990)', 4.824637887117234),\n",
       "              ('Serpico (1973)', 4.8243486071446329)],\n",
       "             413: [('Casablanca (1942)', 4.7507710823960503),\n",
       "              ('Christmas Story, A (1983)', 4.7505165081882756),\n",
       "              ('Life Is Beautiful (La Vita è bella) (1997)',\n",
       "               4.750481301138981)],\n",
       "             417: [('Yellow Submarine (1968)', 4.0519747343907966),\n",
       "              ('Night of the Living Dead (1968)', 4.0508851233440843),\n",
       "              ('Akira (1988)', 4.0505337227818892)],\n",
       "             418: [(\"Jumpin' Jack Flash (1986)\", 3.9001115397413009),\n",
       "              ('Lethal Weapon 4 (1998)', 3.897986203318307),\n",
       "              ('Bodyguard, The (1992)', 3.874729846381626)],\n",
       "             420: [('Down by Law (1986)', 4.7003689532483746),\n",
       "              ('Henry: Portrait of a Serial Killer (1990)',\n",
       "               4.6242370753357438),\n",
       "              ('Drunken Master (Zui quan) (1979)', 4.600495782894547)],\n",
       "             424: [('Godfather: Part II, The (1974)', 4.8003955457075902),\n",
       "              ('Godfather, The (1972)', 4.7754128166430414),\n",
       "              ('Raging Bull (1980)', 4.7501252416341666)],\n",
       "             425: [('Larger Than Life (1996)', 4.0775970222598508),\n",
       "              ('Wonder Boys (2000)', 4.0256941593963633),\n",
       "              ('Poltergeist (1982)', 4.0251518364127712)],\n",
       "             428: [('Rushmore (1998)', 4.2033512944144293),\n",
       "              ('Pi (1998)', 4.1561577673118766),\n",
       "              ('Apocalypse Now (1979)', 4.1539158944764969)],\n",
       "             429: [('Boogie Nights (1997)', 4.5500804524325327),\n",
       "              ('Eyes Wide Shut (1999)', 4.5006009173671746),\n",
       "              ('Citizen Kane (1941)', 4.4757116574977234)],\n",
       "             434: [('Hype! (1996)', 4.1247620203495403),\n",
       "              ('American Werewolf in London, An (1981)', 4.1240510642257933),\n",
       "              ('Metropolis (1926)', 4.102748914648541)],\n",
       "             437: [('Saving Private Ryan (1998)', 4.5757848442201459),\n",
       "              ('Star Wars: Episode VI - Return of the Jedi (1983)',\n",
       "               4.5757126608622443),\n",
       "              ('Outlaw Josey Wales, The (1976)', 4.5755012133936415)],\n",
       "             438: [('Run Lola Run (Lola rennt) (1998)', 4.5997414123198634),\n",
       "              ('Monty Python and the Holy Grail (1974)', 4.5503712546015018),\n",
       "              ('Rushmore (1998)', 4.5502938604112648)],\n",
       "             444: [('Them! (1954)', 4.4510416676795916),\n",
       "              ('Man and a Woman, A (Un Homme et une Femme) (1966)',\n",
       "               4.450811423342552),\n",
       "              ('M*A*S*H (1970)', 4.4258506352858031)],\n",
       "             451: [('Shakespeare in Love (1998)', 4.8001405472642293),\n",
       "              ('Gone with the Wind (1939)', 4.7504008777573361),\n",
       "              ('Chinatown (1974)', 4.7251802709324711)],\n",
       "             453: [('Butch Cassidy and the Sundance Kid (1969)',\n",
       "               4.7505021091580071),\n",
       "              ('Insider, The (1999)', 4.7503774182151037),\n",
       "              ('Bridge on the River Kwai, The (1957)', 4.7498491489818626)],\n",
       "             456: [('Star Trek: First Contact (1996)', 4.0755756604257494),\n",
       "              (\"Bug's Life, A (1998)\", 4.0516102304658084),\n",
       "              ('Sixth Sense, The (1999)', 4.0501799973700381)],\n",
       "             462: [('Total Recall (1990)', 4.2514399526862983),\n",
       "              ('Terminator 2: Judgment Day (1991)', 4.2256856383621901),\n",
       "              ('Indiana Jones and the Last Crusade (1989)',\n",
       "               4.2016895854694383)],\n",
       "             463: [('Fish Called Wanda, A (1988)', 4.0505624370547064),\n",
       "              ('Groundhog Day (1993)', 4.0260375083148769),\n",
       "              ('Blazing Saddles (1974)', 4.0002805377565149)],\n",
       "             467: [('Far and Away (1992)', 3.7281633467022326),\n",
       "              ('Forrest Gump (1994)', 3.7035665060371605),\n",
       "              ('Other Sister, The (1999)', 3.7025493080949863)],\n",
       "             474: [('Unforgiven (1992)', 4.5011607160187497),\n",
       "              ('Bridge on the River Kwai, The (1957)', 4.5005197175632272),\n",
       "              ('Godfather: Part II, The (1974)', 4.4756406040511765)],\n",
       "             478: [('Grand Day Out, A (1992)', 4.0026530867565642),\n",
       "              ('East-West (Est-ouest) (1999)', 3.9999694136595547),\n",
       "              ('Apollo 13 (1995)', 3.9993473688310188)],\n",
       "             479: [('American President, The (1995)', 4.3257041835807577),\n",
       "              ('Men in Black (1997)', 4.2997845014689968),\n",
       "              ('Jurassic Park (1993)', 4.29973612914831)],\n",
       "             482: [('Pulp Fiction (1994)', 4.4009031140163435),\n",
       "              ('GoodFellas (1990)', 4.4005495564144503),\n",
       "              ('Best in Show (2000)', 4.4003363399540216)],\n",
       "             490: [('Air Force One (1997)', 4.4745692604573035),\n",
       "              ('October Sky (1999)', 4.4014452506109984),\n",
       "              ('White Christmas (1954)', 4.3755677986575616)],\n",
       "             491: [('American Beauty (1999)', 3.6884283648468319),\n",
       "              ('Last of the Mohicans, The (1992)', 3.6881388105119033),\n",
       "              ('Fear and Loathing in Las Vegas (1998)', 3.6872066341462428)],\n",
       "             495: [('X-Men (2000)', 4.0288938121982758),\n",
       "              ('Three Kings (1999)', 4.0251765418649184),\n",
       "              ('Mystery Science Theater 3000: The Movie (1996)',\n",
       "               4.00626680744843)],\n",
       "             496: [('Digimon: The Movie (2000)', 4.873821075695524),\n",
       "              ('Naked Gun: From the Files of Police Squad!, The (1988)',\n",
       "               4.7255697176810738),\n",
       "              ('Naked Gun 2 1/2: The Smell of Fear, The (1991)',\n",
       "               4.7009772186463161)],\n",
       "             499: [('Speed (1994)', 4.57543248706612),\n",
       "              ('Swiss Family Robinson (1960)', 4.5750732690776008),\n",
       "              ('Life Is Beautiful (La Vita è bella) (1997)',\n",
       "               4.5265225241307583)],\n",
       "             509: [('Dr. Strangelove or: How I Learned to Stop Worrying and Love the Bomb (1963)',\n",
       "               4.400695082691243),\n",
       "              ('This Is Spinal Tap (1984)', 4.3756479765742666),\n",
       "              ('Nightmare Before Christmas, The (1993)', 4.3262996767153838)],\n",
       "             516: [('Firm, The (1993)', 3.8497666186239368),\n",
       "              ('Jurassic Park (1993)', 3.8265366753884544),\n",
       "              ('Forrest Gump (1994)', 3.801630589221928)],\n",
       "             519: [('101 Dalmatians (1996)', 3.6765044654589127),\n",
       "              ('Center Stage (2000)', 3.6319612140817692),\n",
       "              ('All Dogs Go to Heaven (1989)', 3.6303690685073708)],\n",
       "             523: [('Chicken Run (2000)', 4.5010939080864549),\n",
       "              ('Babe (1995)', 4.4756635204370943),\n",
       "              ('Charade (1963)', 4.4746992111058912)],\n",
       "             524: [('Godfather, The (1972)', 4.825047942505087),\n",
       "              ('Godfather: Part II, The (1974)', 4.7753561476483508),\n",
       "              ('Rear Window (1954)', 4.750155894065351)],\n",
       "             528: [(\"Mr. Holland's Opus (1995)\", 4.2260207383096091),\n",
       "              ('Ever After: A Cinderella Story (1998)', 4.2015490042023931),\n",
       "              ('Green Mile, The (1999)', 4.2006464095319886)],\n",
       "             529: [('Blade Runner (1982)', 4.5754875166382494),\n",
       "              ('Seven Samurai (The Magnificent Seven) (Shichinin no samurai) (1954)',\n",
       "               4.5754041602513347),\n",
       "              ('Name of the Rose, The (1986)', 4.5751741806167203)],\n",
       "             531: [('Aladdin (1992)', 4.2250836967706746),\n",
       "              (\"Bug's Life, A (1998)\", 4.2009151703380043),\n",
       "              ('Little Mermaid, The (1989)', 4.2004053873707479)],\n",
       "             533: [('Blade Runner (1982)', 4.4754613772719081),\n",
       "              ('Young Frankenstein (1974)', 4.4754247492414398),\n",
       "              ('Raising Arizona (1987)', 4.4495547231744057)],\n",
       "             536: [('Aliens (1986)', 4.6001854181387571),\n",
       "              ('Terminator 2: Judgment Day (1991)', 4.5761326258516499),\n",
       "              ('Star Trek III: The Search for Spock (1984)',\n",
       "               4.5758116469882717)],\n",
       "             539: [('Adventures of Buckaroo Bonzai Across the 8th Dimension, The (1984)',\n",
       "               4.3511471580841832),\n",
       "              ('Watership Down (1978)', 4.3006265805231791),\n",
       "              (\"Smilla's Sense of Snow (1997)\", 4.2763294646195602)],\n",
       "             541: [('Tarzan (1999)', 4.0767505813776284),\n",
       "              ('Beauty and the Beast (1991)', 4.0270415679352265),\n",
       "              ('Star Wars: Episode VI - Return of the Jedi (1983)',\n",
       "               4.0252656839021626)],\n",
       "             543: [('Men in Black (1997)', 4.7752091869251467),\n",
       "              ('Lethal Weapon 2 (1989)', 4.7752033819236619),\n",
       "              ('Matrix, The (1999)', 4.7751230464225811)],\n",
       "             546: [('Brothers McMullen, The (1995)', 4.4740436201518259),\n",
       "              ('Graduate, The (1967)', 4.4507403721463312),\n",
       "              ('Some Like It Hot (1959)', 4.4255332738768027)],\n",
       "             549: [('Usual Suspects, The (1995)', 4.773719722144242),\n",
       "              ('L.A. Confidential (1997)', 4.7735099878863121),\n",
       "              ('Chicken Run (2000)', 4.7484588345858478)],\n",
       "             550: [('Princess Bride, The (1987)', 4.5007191112253233),\n",
       "              ('Matrix, The (1999)', 4.5005556165847276),\n",
       "              ('Fierce Creatures (1997)', 4.4751555235271656)],\n",
       "             555: [('Wrong Trousers, The (1993)', 3.8299201458942025),\n",
       "              ('Close Shave, A (1995)', 3.8295602791870089),\n",
       "              ('Chicken Run (2000)', 3.8294686476620519)],\n",
       "             556: [('Snow White and the Seven Dwarfs (1937)',\n",
       "               4.4499692484581344),\n",
       "              ('Sleeping Beauty (1959)', 4.3748591507590282),\n",
       "              ('Jungle Book, The (1967)', 4.3505610501029679)],\n",
       "             563: [('Star Wars: Episode V - The Empire Strikes Back (1980)',\n",
       "               4.0269178971867445),\n",
       "              ('Alien (1979)', 4.023698664562712),\n",
       "              ('Star Wars: Episode IV - A New Hope (1977)',\n",
       "               4.0019319552568859)],\n",
       "             566: [('South Park: Bigger, Longer and Uncut (1999)',\n",
       "               3.5258151364168651),\n",
       "              ('Kids in the Hall: Brain Candy (1996)', 3.4756785196915763),\n",
       "              ('Clockwork Orange, A (1971)', 3.424464696196158)],\n",
       "             574: [('Rosencrantz and Guildenstern Are Dead (1990)',\n",
       "               4.1112739175689965),\n",
       "              ('Pulp Fiction (1994)', 4.1091092928105732),\n",
       "              ('GoodFellas (1990)', 4.1077097570018841)],\n",
       "             575: [('Star Trek: First Contact (1996)', 4.2754708141603386),\n",
       "              ('Star Trek VI: The Undiscovered Country (1991)',\n",
       "               4.2265127875612682),\n",
       "              ('Star Trek III: The Search for Spock (1984)',\n",
       "               4.2254234005002616)],\n",
       "             576: [('Indian in the Cupboard, The (1995)', 4.0499101012194876),\n",
       "              ('Gone with the Wind (1939)', 4.0033703317353062),\n",
       "              ('E.T. the Extra-Terrestrial (1982)', 4.0003286283167458)],\n",
       "             577: [('Ronin (1998)', 4.9500059345565424),\n",
       "              ('Pulp Fiction (1994)', 4.9001334715674485),\n",
       "              ('Austin Powers: International Man of Mystery (1997)',\n",
       "               4.899806713890305)],\n",
       "             579: [('Matrix, The (1999)', 4.2516192631587035),\n",
       "              ('Lethal Weapon 2 (1989)', 4.2515714132314564),\n",
       "              ('Happy Gilmore (1996)', 4.250134293542394)],\n",
       "             583: [('My Fair Lady (1964)', 4.7252341607235389),\n",
       "              ('Toy Story (1995)', 4.7003935522844484),\n",
       "              ('Lion King, The (1994)', 4.7003256569974639)],\n",
       "             585: [('Big Lebowski, The (1998)', 4.2254435691671786),\n",
       "              ('Brazil (1985)', 4.201609399305533),\n",
       "              (\"Miller's Crossing (1990)\", 4.2002918226907084)],\n",
       "             588: [('Take the Money and Run (1969)', 4.5999342573976731),\n",
       "              ('Rebecca (1940)', 4.5755757966069952),\n",
       "              (\"Mo' Better Blues (1990)\", 4.5754332850756407)],\n",
       "             590: [(\"Boys Don't Cry (1999)\", 4.5745792016176861),\n",
       "              ('Nurse Betty (2000)', 4.5509811018681141),\n",
       "              ('Leaving Las Vegas (1995)', 4.5507894476569257)],\n",
       "             595: [('Adventures of Priscilla, Queen of the Desert, The (1994)',\n",
       "               4.4762757929919115),\n",
       "              ('Opposite of Sex, The (1998)', 4.3767224530132047),\n",
       "              ('And the Band Played On (1993)', 4.3520582704939885)],\n",
       "             601: [('Leaving Las Vegas (1995)', 3.9727671512138345),\n",
       "              ('Happiness (1998)', 3.9694028080868775),\n",
       "              ('Chasing Amy (1997)', 3.9234939630181085)],\n",
       "             605: [('Green Mile, The (1999)', 4.7751090981420061),\n",
       "              ('Aladdin (1992)', 4.7504153861501788),\n",
       "              ('Misérables, Les (1998)', 4.7257583802933558)],\n",
       "             606: [('Patch Adams (1998)', 4.0403919129070403),\n",
       "              ('Robin Hood: Men in Tights (1993)', 4.0400685440639323),\n",
       "              ('GoldenEye (1995)', 4.0364651478919189)],\n",
       "             610: [('Nineteen Eighty-Four (1984)', 4.4756488261273342),\n",
       "              ('Gandhi (1982)', 4.4511433606255189),\n",
       "              ('Say Anything... (1989)', 4.425920574489985)],\n",
       "             611: [('Planet of the Apes (1968)', 4.3756193578956069),\n",
       "              ('Aliens (1986)', 4.3016034706888684),\n",
       "              ('Alien (1979)', 4.3014376441686455)],\n",
       "             613: [('Twelve Monkeys (1995)', 4.0752211818836557),\n",
       "              ('Groundhog Day (1993)', 4.0021644863992369),\n",
       "              ('Boat, The (Das Boot) (1981)', 4.0005534770161759)],\n",
       "             615: [('Men in Black (1997)', 4.4999720871405797),\n",
       "              ('Groundhog Day (1993)', 4.4509034682888391),\n",
       "              ('Tomorrow Never Dies (1997)', 4.4504073151129564)],\n",
       "             620: [('Run Lola Run (Lola rennt) (1998)', 4.2505414391178524),\n",
       "              ('Notorious (1946)', 4.2504918326139238),\n",
       "              ('Touch of Evil (1958)', 4.250206824042114)],\n",
       "             623: [('Alien (1979)', 4.8500737751068259),\n",
       "              ('Airplane! (1980)', 4.8495870226617308),\n",
       "              ('Waiting for Guffman (1996)', 4.8491037797833263)],\n",
       "             624: [('Terminator, The (1984)', 4.4758565278270241),\n",
       "              ('Fugitive, The (1993)', 4.3754557006556309),\n",
       "              ('Barcelona (1994)', 4.3750160773582643)],\n",
       "             626: [('Lawrence of Arabia (1962)', 4.4508475133640832),\n",
       "              ('After Life (1998)', 4.4026429762073338),\n",
       "              ('2001: A Space Odyssey (1968)', 4.3528788247716399)],\n",
       "             628: [('Hurricane, The (1999)', 4.150928004182008),\n",
       "              ('Truth About Cats & Dogs, The (1996)', 4.1494985979650618),\n",
       "              ('Defending Your Life (1991)', 4.1277420689287707)],\n",
       "             629: [('Baby-Sitters Club, The (1995)', 3.9486404641040673),\n",
       "              ('Turn It Up (2000)', 3.8250000000000002),\n",
       "              ('Toy Story (1995)', 3.7253219172606165)],\n",
       "             630: [('Rebecca (1940)', 4.7005074762304613),\n",
       "              ('Sabrina (1954)', 4.6503070715208459),\n",
       "              ('Gone with the Wind (1939)', 4.6255127918094532)],\n",
       "             631: [('Cinderella (1950)', 4.5502782480372543),\n",
       "              ('Matrix, The (1999)', 4.5258003742459696),\n",
       "              ('NeverEnding Story, The (1984)', 4.5248420929319533)],\n",
       "             634: [('Parent Trap, The (1961)', 4.4006045585923887),\n",
       "              ('Newsies (1992)', 4.3517710558875207),\n",
       "              ('Mulan (1998)', 4.3513696356292595)],\n",
       "             635: [('My Left Foot (1989)', 4.7256491435893562),\n",
       "              ('Pal Joey (1957)', 4.7252334501820039),\n",
       "              ('Gandhi (1982)', 4.6998703622752895)],\n",
       "             637: [('Iron Giant, The (1999)', 4.6753723370987279),\n",
       "              ('Amistad (1997)', 4.5992780637536486),\n",
       "              ('Untouchables, The (1987)', 4.5752036261997064)],\n",
       "             641: [('And Now for Something Completely Different (1971)',\n",
       "               4.5509482204199827),\n",
       "              ('Groundhog Day (1993)', 4.4755424299373594),\n",
       "              ('Metropolitan (1990)', 4.4507344893664262)],\n",
       "             645: [('Roger & Me (1989)', 4.6247812680250409),\n",
       "              ('Wrong Trousers, The (1993)', 4.6006748625070317),\n",
       "              ('Star Wars: Episode IV - A New Hope (1977)',\n",
       "               4.6003976807356004)],\n",
       "             646: [('Bridge at Remagen, The (1969)', 4.4006979250401512),\n",
       "              ('Braveheart (1995)', 4.4006145918783988),\n",
       "              ('Jurassic Park (1993)', 4.4002776630843652)],\n",
       "             653: [(\"Angela's Ashes (1999)\", 4.1514217511973097),\n",
       "              ('Out of Africa (1985)', 4.1481927229808955),\n",
       "              ('Sliding Doors (1998)', 4.1476278691173167)],\n",
       "             656: [('Harvey (1950)', 4.2998834321500095),\n",
       "              ('Modern Times (1936)', 4.2756596689302793),\n",
       "              ('Wizard of Oz, The (1939)', 4.2505821671904576)],\n",
       "             660: [('Lawrence of Arabia (1962)', 3.8981217964106523),\n",
       "              ('Wizard of Oz, The (1939)', 3.8741951735354347),\n",
       "              ('Groundhog Day (1993)', 3.8735032108575229)],\n",
       "             662: [('Fifth Element, The (1997)', 3.7259390882106609),\n",
       "              ('Nightmare Before Christmas, The (1993)', 3.6774924277823922),\n",
       "              ('Addams Family Values (1993)', 3.6753813189635864)],\n",
       "             664: [('Shanghai Noon (2000)', 4.4757073167223727),\n",
       "              ('Life Is Beautiful (La Vita è bella) (1997)',\n",
       "               4.4242238145438364),\n",
       "              ('Chicken Run (2000)', 4.3757888705552359)],\n",
       "             669: [('Star Wars: Episode V - The Empire Strikes Back (1980)',\n",
       "               4.7750726931107987),\n",
       "              ('Ghostbusters (1984)', 4.7004886451528485),\n",
       "              ('Princess Bride, The (1987)', 4.67553303961434)],\n",
       "             676: [('Braveheart (1995)', 4.2005677942377027),\n",
       "              ('Saving Private Ryan (1998)', 4.1510471435691096),\n",
       "              ('Green Mile, The (1999)', 4.15094996537018)],\n",
       "             678: [('E.T. the Extra-Terrestrial (1982)', 4.4007633503330341),\n",
       "              ('Back to the Future (1985)', 4.4004488632313299),\n",
       "              ('Big (1988)', 4.3754614634271167)],\n",
       "             681: [('Yellow Submarine (1968)', 4.2602849707619326),\n",
       "              ('Annie Hall (1977)', 4.2595265475605419),\n",
       "              ('North by Northwest (1959)', 4.2585967024302223)],\n",
       "             685: [('Forrest Gump (1994)', 3.8769593046123494),\n",
       "              ('Mission: Impossible 2 (2000)', 3.8519657070311495),\n",
       "              ('U-571 (2000)', 3.8509054663671245)],\n",
       "             690: [('Pulp Fiction (1994)', 4.7752362401164374),\n",
       "              ('Airplane! (1980)', 4.7507594866521439),\n",
       "              ('Austin Powers: International Man of Mystery (1997)',\n",
       "               4.7256978138534276)],\n",
       "             691: [('Booty Call (1997)', 4.376931872672353),\n",
       "              ('Up in Smoke (1978)', 4.2758059330642144),\n",
       "              ('Navigator: A Mediaeval Odyssey, The (1988)',\n",
       "               4.2756426330626098)],\n",
       "             692: [('Citizen Kane (1941)', 4.6755971370590714),\n",
       "              ('Dr. Strangelove or: How I Learned to Stop Worrying and Love the Bomb (1963)',\n",
       "               4.6754567686026425),\n",
       "              ('Big Lebowski, The (1998)', 4.6737574782765101)],\n",
       "             696: [('Full Metal Jacket (1987)', 4.4746431188003504),\n",
       "              ('Rear Window (1954)', 4.4258026895540832),\n",
       "              ('Reservoir Dogs (1992)', 4.4252028924303453)],\n",
       "             697: [('Star Wars: Episode IV - A New Hope (1977)',\n",
       "               4.3257845367543295),\n",
       "              ('Victor/Victoria (1982)', 4.3251740866426918),\n",
       "              ('Raiders of the Lost Ark (1981)', 4.2759818283906457)],\n",
       "             698: [(\"Jacob's Ladder (1990)\", 4.4754630989504971),\n",
       "              ('eXistenZ (1999)', 4.4504603653612893),\n",
       "              ('Repo Man (1984)', 4.3755301610713815)],\n",
       "             699: [('American Beauty (1999)', 4.0739187432394157),\n",
       "              ('Green Mile, The (1999)', 3.9990476675034445),\n",
       "              ('Shining, The (1980)', 3.9981837549895327)],\n",
       "             701: [('Reality Bites (1994)', 3.803212463424503),\n",
       "              ('Sleepers (1996)', 3.7772158210058273),\n",
       "              ('Pink Floyd - The Wall (1982)', 3.7768573443317819)],\n",
       "             702: [('Mister Roberts (1955)', 4.4751523510219462),\n",
       "              ('Mr. Smith Goes to Washington (1939)', 4.425813413946603),\n",
       "              ('Casablanca (1942)', 4.4255447694616397)],\n",
       "             705: [('Aliens (1986)', 4.2013981407089362),\n",
       "              ('Alien (1979)', 4.1765306791399199),\n",
       "              ('Night of the Living Dead (1968)', 4.1759348249669834)],\n",
       "             707: [('Jagged Edge (1985)', 3.9279380632924057),\n",
       "              ('Titanic (1997)', 3.9035061517899625),\n",
       "              ('Hand That Rocks the Cradle, The (1992)', 3.9028809345914377)],\n",
       "             710: [('Star Wars: Episode V - The Empire Strikes Back (1980)',\n",
       "               4.475759564504239),\n",
       "              ('Terminator, The (1984)', 4.451027385969323),\n",
       "              ('Star Wars: Episode IV - A New Hope (1977)',\n",
       "               4.4508423649597377)],\n",
       "             712: [('Pulp Fiction (1994)', 4.3749001430298593),\n",
       "              ('Silence of the Lambs, The (1991)', 4.3504307065516921),\n",
       "              ('Planet of the Apes (1968)', 4.3484555944446726)],\n",
       "             714: [('Seven (Se7en) (1995)', 4.875286026484634),\n",
       "              ('Saving Private Ryan (1998)', 4.8752468466396568),\n",
       "              ('Full Metal Jacket (1987)', 4.8504588538942262)],\n",
       "             715: [('Producers, The (1968)', 4.4987693190457128),\n",
       "              ('Blood Simple (1984)', 4.4754641159442006),\n",
       "              ('Star Wars: Episode V - The Empire Strikes Back (1980)',\n",
       "               4.4752541098173548)],\n",
       "             716: [('Reservoir Dogs (1992)', 4.8503610301050433),\n",
       "              ('Full Metal Jacket (1987)', 4.8503483122984967),\n",
       "              ('Pulp Fiction (1994)', 4.8502938630142767)],\n",
       "             718: [('Aladdin (1992)', 4.4015644742004332),\n",
       "              ('Christmas Vacation (1989)', 4.4011557549260987),\n",
       "              ('Terminator 2: Judgment Day (1991)', 4.400923677115391)],\n",
       "             719: [('BASEketball (1998)', 3.5141062585201768),\n",
       "              ('Lock, Stock & Two Smoking Barrels (1998)', 3.5131174628914499),\n",
       "              ('Taxi Driver (1976)', 3.5125440666561611)],\n",
       "             721: [('Speed (1994)', 4.1758239646495277),\n",
       "              ('When Harry Met Sally... (1989)', 4.1506237196971725),\n",
       "              ('Star Wars: Episode VI - Return of the Jedi (1983)',\n",
       "               4.1503748587746152)],\n",
       "             722: [('Sixth Sense, The (1999)', 4.1008227413359473),\n",
       "              ('Waking Ned Devine (1998)', 4.1001179356617534),\n",
       "              ('Dances with Wolves (1990)', 4.0759453739907734)],\n",
       "             726: [('Shakespeare in Love (1998)', 4.2509073216350322),\n",
       "              ('Four Weddings and a Funeral (1994)', 4.2484159329245141),\n",
       "              ('While You Were Sleeping (1995)', 4.2006570392317482)],\n",
       "             729: [('7th Voyage of Sinbad, The (1958)', 4.2501096553587816),\n",
       "              ('Lion King, The (1994)', 4.1761173615537537),\n",
       "              ('Contact (1997)', 4.1758319415713778)],\n",
       "             731: [('Beetlejuice (1988)', 4.4975315086512566),\n",
       "              ('Babe (1995)', 4.4751107401220231),\n",
       "              ('Wag the Dog (1997)', 4.4505572806195337)],\n",
       "             733: [('American Beauty (1999)', 4.4509737717854874),\n",
       "              ('L.A. Confidential (1997)', 4.4499319523075211),\n",
       "              ('Monty Python and the Holy Grail (1974)', 4.4491352728213984)],\n",
       "             735: [('Blade Runner (1982)', 4.4497667720996725),\n",
       "              ('Wizard of Oz, The (1939)', 4.4008422695540226),\n",
       "              ('Close Encounters of the Third Kind (1977)',\n",
       "               4.3511092694958471)],\n",
       "             736: [('Fight Club (1999)', 4.6011658429156794),\n",
       "              ('American Beauty (1999)', 4.6009638847680137),\n",
       "              ('Pulp Fiction (1994)', 4.6008093251251427)],\n",
       "             737: [('South Park: Bigger, Longer and Uncut (1999)',\n",
       "               4.2260081716652618),\n",
       "              ('Blair Witch Project, The (1999)', 4.2243777510695377),\n",
       "              ('Magnolia (1999)', 4.2006531818030268)],\n",
       "             739: [('Twister (1996)', 4.6500852020249672),\n",
       "              ('Jurassic Park (1993)', 4.6247084791135755),\n",
       "              ('Star Wars: Episode I - The Phantom Menace (1999)',\n",
       "               4.6016083349272492)],\n",
       "             743: [('Night on Earth (1991)', 4.2261749835041362),\n",
       "              ('Sleeper (1973)', 4.224222449344774),\n",
       "              ('Rushmore (1998)', 4.2009888418721069)],\n",
       "             746: [('Green Mile, The (1999)', 3.8508035262976414),\n",
       "              ('Matrix, The (1999)', 3.8005705895596273),\n",
       "              ('Braveheart (1995)', 3.7765431501856161)],\n",
       "             749: [('Full Metal Jacket (1987)', 4.0251178787075395),\n",
       "              ('Patton (1970)', 4.0002976331449043),\n",
       "              ('Platoon (1986)', 3.9997543307055685)],\n",
       "             752: [('Wag the Dog (1997)', 4.2010007349969172),\n",
       "              ('Flawless (1999)', 4.2001522230987547),\n",
       "              ('Sling Blade (1996)', 4.1757423540141936)],\n",
       "             753: [('Galaxy Quest (1999)', 4.2002271782632175),\n",
       "              ('X-Men (2000)', 4.1498291624946573),\n",
       "              ('Mask, The (1994)', 4.149607555043282)],\n",
       "             754: [('Lethal Weapon 2 (1989)', 4.7005368435194299),\n",
       "              ('Lethal Weapon 3 (1992)', 4.6757188757525441),\n",
       "              ('Payback (1999)', 4.6756336971103716)],\n",
       "             755: [('Few Good Men, A (1992)', 4.4997295799875561),\n",
       "              ('Good Will Hunting (1997)', 4.4756678356688706),\n",
       "              ('Green Mile, The (1999)', 4.4752615958204558)],\n",
       "             757: [('Star Wars: Episode IV - A New Hope (1977)',\n",
       "               4.5260975530504268),\n",
       "              ('Star Wars: Episode V - The Empire Strikes Back (1980)',\n",
       "               4.5012407822512071),\n",
       "              ('Shawshank Redemption, The (1994)', 4.4508665970327614)],\n",
       "             761: [('2001: A Space Odyssey (1968)', 4.5548269885980197),\n",
       "              ('Orgazmo (1997)', 4.5536423753941921),\n",
       "              ('Matrix, The (1999)', 4.5536193836968533)],\n",
       "             765: [('Top Gun (1986)', 4.3995348400164929),\n",
       "              ('Die Hard (1988)', 4.3508155648642699),\n",
       "              ('Forrest Gump (1994)', 4.3259060186519855)],\n",
       "             770: [('Back to School (1986)', 4.4013185208755976),\n",
       "              ('Unforgiven (1992)', 4.4009093881020966),\n",
       "              ('Thing, The (1982)', 4.4005901692690506)],\n",
       "             774: [('Godfather, The (1972)', 4.12466510865905),\n",
       "              ('Aliens (1986)', 4.1005503295472225),\n",
       "              ('Usual Suspects, The (1995)', 4.0764289392030131)],\n",
       "             776: [('Nutty Professor, The (1963)', 4.4759021727592714),\n",
       "              ('Galaxy Quest (1999)', 4.4512322980785219),\n",
       "              ('Arachnophobia (1990)', 4.4494553643813948)],\n",
       "             777: [('Gladiator (2000)', 3.4256221157103046),\n",
       "              ('Saving Private Ryan (1998)', 3.4011201913799032),\n",
       "              ('Braveheart (1995)', 3.4004780874448621)],\n",
       "             780: [('Army of Darkness (1993)', 4.2264749851348391),\n",
       "              ('Highlander (1986)', 4.2257799460683989),\n",
       "              ('Big Trouble in Little China (1986)', 4.1764810407180954)],\n",
       "             781: [('Menace II Society (1993)', 4.6006028928104064),\n",
       "              ('Swingers (1996)', 4.5261848279898498),\n",
       "              ('True Romance (1993)', 4.5021720079188814)],\n",
       "             783: [('Out of Sight (1998)', 4.1513314935813135),\n",
       "              ('Blood Simple (1984)', 4.1502307556434754),\n",
       "              ('Buffalo 66 (1998)', 4.0771595476828901)],\n",
       "             788: [('Ladyhawke (1985)', 4.2256459798102437),\n",
       "              ('Fifth Element, The (1997)', 4.1501682077455477),\n",
       "              ('Labyrinth (1986)', 4.1253023872557142)],\n",
       "             791: [('E.T. the Extra-Terrestrial (1982)', 4.7503133110433717),\n",
       "              ('Christmas Story, A (1983)', 4.700429955794414),\n",
       "              ('Bull Durham (1988)', 4.6755394219602238)],\n",
       "             795: [('Shawshank Redemption, The (1994)', 4.0502842773456518),\n",
       "              ('Sixth Sense, The (1999)', 4.001020095249145),\n",
       "              ('Good Will Hunting (1997)', 3.9762190939252036)],\n",
       "             798: [('Garbage Pail Kids Movie, The (1987)', 4.3570209715877093),\n",
       "              ('Flubber (1997)', 4.325039645760711),\n",
       "              ('Anna and the King (1999)', 4.3204326751885054)],\n",
       "             801: [('Metroland (1997)', 4.3000419473579568),\n",
       "              ('Stand and Deliver (1987)', 4.2757094780000005),\n",
       "              ('West Side Story (1961)', 4.275377938251494)],\n",
       "             802: [('Sixth Sense, The (1999)', 4.6254783156039982),\n",
       "              ('Matrix, The (1999)', 4.6254779406343385),\n",
       "              ('Aliens (1986)', 4.6004392609420917)],\n",
       "             808: [('Terminator 2: Judgment Day (1991)', 4.3763021820794776),\n",
       "              ('Aliens (1986)', 4.2765611570556334),\n",
       "              ('Interview with the Vampire (1994)', 4.2755174297098009)],\n",
       "             809: [('So I Married an Axe Murderer (1993)', 4.5767079835354325),\n",
       "              ('Austin Powers: International Man of Mystery (1997)',\n",
       "               4.5518360321321731),\n",
       "              (\"There's Something About Mary (1998)\", 4.550658919792089)],\n",
       "             813: [('Cool Runnings (1993)', 3.827680071602328),\n",
       "              ('Toy Story (1995)', 3.8037264100872075),\n",
       "              ('Toy Story 2 (1999)', 3.8035505261789044)],\n",
       "             816: [('Fantasia (1940)', 4.2505258739598313),\n",
       "              ('Groundhog Day (1993)', 4.2257969197586061),\n",
       "              ('Star Trek III: The Search for Spock (1984)',\n",
       "               4.2007634785863637)],\n",
       "             817: [('Toy Story (1995)', 4.7999229003805963),\n",
       "              ('Bull Durham (1988)', 4.7502962417567964),\n",
       "              ('Back to the Future (1985)', 4.7257708829819585)],\n",
       "             822: [('Flight of the Navigator (1986)', 4.475740078212981),\n",
       "              (\"Ferris Bueller's Day Off (1986)\", 4.3756425357862234),\n",
       "              ('Life with Mikey (1993)', 4.3754950421347383)],\n",
       "             823: [('Living in Oblivion (1995)', 4.2247924260036678),\n",
       "              ('Do the Right Thing (1989)', 4.175553260996911),\n",
       "              ('Crumb (1994)', 4.1512299050845485)],\n",
       "             832: [('Nurse Betty (2000)', 4.0001941266263348),\n",
       "              (\"Bug's Life, A (1998)\", 3.9746584229926021),\n",
       "              ('Wag the Dog (1997)', 3.9517912340306363)],\n",
       "             839: [('Godfather, The (1972)', 4.9250985006180548),\n",
       "              ('Godfather: Part II, The (1974)', 4.8252276563940892),\n",
       "              ('Insider, The (1999)', 4.8000755499842791)],\n",
       "             840: [('Bull Durham (1988)', 4.7477669902185609),\n",
       "              ('Ghostbusters (1984)', 4.7252596837080771),\n",
       "              ('Best in Show (2000)', 4.7250877634944821)],\n",
       "             843: [('Austin Powers: The Spy Who Shagged Me (1999)',\n",
       "               4.4021190494114792),\n",
       "              ('Happy Gilmore (1996)', 4.3770018331502278),\n",
       "              ('American Pie (1999)', 4.3763336317809385)],\n",
       "             844: [('Nurse Betty (2000)', 4.1754397398302565),\n",
       "              ('Wrong Trousers, The (1993)', 4.1513685398695914),\n",
       "              ('Hamlet (1996)', 4.1510377648139425)],\n",
       "             849: [('Scrooged (1988)', 3.8254292781981381),\n",
       "              ('Meet the Parents (2000)', 3.8251999255184006),\n",
       "              (\"Ferris Bueller's Day Off (1986)\", 3.8016508541437686)],\n",
       "             851: [('Skulls, The (2000)', 3.8268620669601781),\n",
       "              ('Powder (1995)', 3.8260304600513972),\n",
       "              ('Species (1995)', 3.8237326269744449)],\n",
       "             854: [('Little Mermaid, The (1989)', 3.8515495368739869),\n",
       "              ('Beauty and the Beast (1991)', 3.751645340294977),\n",
       "              ('Sound of Music, The (1965)', 3.7504982452577522)],\n",
       "             855: [('Being John Malkovich (1999)', 4.2003292912000445),\n",
       "              ('Rushmore (1998)', 4.1749470989807209),\n",
       "              ('Election (1999)', 4.174832364220384)],\n",
       "             858: [('Exorcist, The (1973)', 4.8252749448473278),\n",
       "              ('Birds, The (1963)', 4.7750304747834651),\n",
       "              ('Village of the Damned (1960)', 4.7503892526027967)],\n",
       "             865: [('Airport 1975 (1974)', 3.9090466538702344),\n",
       "              ('Manhattan (1979)', 3.8527829791998758),\n",
       "              ('Producers, The (1968)', 3.8523456626872319)],\n",
       "             866: [('Nutty Professor II: The Klumps (2000)',\n",
       "               3.3769217876393891),\n",
       "              ('Being John Malkovich (1999)', 3.3732549730715085),\n",
       "              ('American Beauty (1999)', 3.3687971985012011)],\n",
       "             869: [('Truman Show, The (1998)', 4.4488093696278828),\n",
       "              ('Star Trek: First Contact (1996)', 4.3492188069387101),\n",
       "              ('Jurassic Park (1993)', 4.2996918114093194)],\n",
       "             877: [('Matrix, The (1999)', 4.6756658404558795),\n",
       "              ('Star Wars: Episode V - The Empire Strikes Back (1980)',\n",
       "               4.5506319774147688),\n",
       "              ('Terminator 2: Judgment Day (1991)', 4.5010432010858157)],\n",
       "             880: [(\"Monty Python's Life of Brian (1979)\", 4.5271132604693838),\n",
       "              ('Heavenly Creatures (1994)', 4.5018006017268082),\n",
       "              ('Twelve Monkeys (1995)', 4.4768600463610655)],\n",
       "             881: [('Aliens (1986)', 4.1754562578226606),\n",
       "              ('Usual Suspects, The (1995)', 4.1746348955843136),\n",
       "              ('Army of Darkness (1993)', 4.1251124860532959)],\n",
       "             885: [('Apollo 13 (1995)', 4.4513404121871849),\n",
       "              ('Galaxy Quest (1999)', 4.4501294675278933),\n",
       "              ('Princess Bride, The (1987)', 4.4498276775531513)],\n",
       "             888: [('Kid, The (2000)', 4.1028970429006462),\n",
       "              ('Anastasia (1997)', 4.050446806616387),\n",
       "              ('Glory (1989)', 4.0243548919145766)],\n",
       "             889: [('North by Northwest (1959)', 3.8986496219771718),\n",
       "              ('French Connection, The (1971)', 3.7975111800522656),\n",
       "              ('Casablanca (1942)', 3.7749315553241405)],\n",
       "             890: [('Sword in the Stone, The (1963)', 4.5500791764016135),\n",
       "              ('Saint, The (1997)', 4.5495198635723746),\n",
       "              ('Hercules (1997)', 4.525565882434317)],\n",
       "             891: [('Toy Story 2 (1999)', 4.6254582861398434),\n",
       "              ('Grifters, The (1990)', 4.5999885332135797),\n",
       "              ('Go (1999)', 4.5998588200724848)],\n",
       "             894: [('Scream (1996)', 4.7748486192471251),\n",
       "              ('Austin Powers: The Spy Who Shagged Me (1999)',\n",
       "               4.7518195418906801),\n",
       "              ('Braveheart (1995)', 4.7508534361770209)],\n",
       "             895: [('Commitments, The (1991)', 4.3494982935205151),\n",
       "              ('Ideal Husband, An (1999)', 4.3267257402373405),\n",
       "              ('Maltese Falcon, The (1941)', 4.3260544252267179)],\n",
       "             896: [('Scary Movie (2000)', 4.1985730675949231),\n",
       "              ('What Lies Beneath (2000)', 4.1798993513654681),\n",
       "              ('American Pie (1999)', 4.1766831316820179)],\n",
       "             899: [('When Harry Met Sally... (1989)', 4.3007476871149661),\n",
       "              ('Shawshank Redemption, The (1994)', 4.3003532803184727),\n",
       "              ('Few Good Men, A (1992)', 4.2754355640833559)],\n",
       "             918: [('Fugitive, The (1993)', 3.5770700458141231),\n",
       "              ('Stargate (1994)', 3.5760465374103489),\n",
       "              ('Toy Story 2 (1999)', 3.5758113099360163)],\n",
       "             924: [('Matrix, The (1999)', 4.375319690165175),\n",
       "              ('Silence of the Lambs, The (1991)', 4.351089664766568),\n",
       "              ('Terminator 2: Judgment Day (1991)', 4.3498270173755431)],\n",
       "             925: [('Somewhere in Time (1980)', 3.4763342231862673),\n",
       "              ('Free Willy (1993)', 3.4762279179146365),\n",
       "              ('D2: The Mighty Ducks (1994)', 3.4269559321437635)],\n",
       "             926: [('Sleepy Hollow (1999)', 4.6744996795249953),\n",
       "              ('Matrix, The (1999)', 4.626623346026653),\n",
       "              ('Rush Hour (1998)', 4.6257095168930507)],\n",
       "             929: [('Alien (1979)', 4.5506017445805709),\n",
       "              ('Shining, The (1980)', 4.5505953014072613),\n",
       "              ('Heat (1995)', 4.5504467097057786)],\n",
       "             931: [('Sense and Sensibility (1995)', 4.6243843729328624),\n",
       "              ('Spellbound (1945)', 4.6243413666207571),\n",
       "              ('Arsenic and Old Lace (1944)', 4.6240418262258425)],\n",
       "             933: [('Miracle on 34th Street (1994)', 4.273991859881269),\n",
       "              (\"I'll Be Home For Christmas (1998)\", 4.2503603006418915),\n",
       "              ('Mission: Impossible (1996)', 4.153221623220543)],\n",
       "             934: [('Rain Man (1988)', 4.1504654072472791),\n",
       "              ('Toy Story (1995)', 4.1012800423181632),\n",
       "              ('Silence of the Lambs, The (1991)', 4.0512403637019059)],\n",
       "             935: [('Clear and Present Danger (1994)', 4.4004800420595966),\n",
       "              ('Saving Private Ryan (1998)', 4.4004434206417846),\n",
       "              ('Green Mile, The (1999)', 4.3506156868214196)],\n",
       "             936: [('Varsity Blues (1999)', 3.9251647352248717),\n",
       "              ('Home Alone (1990)', 3.8754988561138179),\n",
       "              ('Titanic (1997)', 3.8523901979670296)],\n",
       "             938: [('Naked Gun: From the Files of Police Squad!, The (1988)',\n",
       "               3.8978199654101524),\n",
       "              ('Magnolia (1999)', 3.8961587742961723),\n",
       "              ('Wrong Trousers, The (1993)', 3.8960351139693712)],\n",
       "             940: [('Fight Club (1999)', 4.351122530391776),\n",
       "              ('Pulp Fiction (1994)', 4.3268248852358475),\n",
       "              ('American Beauty (1999)', 4.3262864302570971)],\n",
       "             946: [('Sound of Music, The (1965)', 4.3152973092642943),\n",
       "              ('Great Dictator, The (1940)', 4.3149948558553604),\n",
       "              ('Fantasia (1940)', 4.314267205434767)],\n",
       "             948: [('Shane (1953)', 4.7999830262782588),\n",
       "              ('From Russia with Love (1963)', 4.7752743324792197),\n",
       "              ('Superman II (1980)', 4.700416790106499)],\n",
       "             949: [('Blade Runner (1982)', 4.8004286613127469),\n",
       "              ('Day the Earth Stood Still, The (1951)', 4.7752285007339452),\n",
       "              ('Mutiny on the Bounty (1935)', 4.7506273075047964)],\n",
       "             951: [('Inspector General, The (1949)', 4.5495028227583596),\n",
       "              ('Grand Day Out, A (1992)', 4.5383575500079205),\n",
       "              ('Chicken Run (2000)', 4.5372690804421385)],\n",
       "             953: [('Rain Man (1988)', 4.9252189262103307),\n",
       "              ('Shining, The (1980)', 4.9251311265607427),\n",
       "              ('Reservoir Dogs (1992)', 4.9250386416828587)],\n",
       "             954: [('Losing Isaiah (1995)', 4.1990958918329051),\n",
       "              ('Jerk, The (1979)', 4.1506634328574519),\n",
       "              ('Clueless (1995)', 4.1500732217921428)],\n",
       "             955: [('Godfather, The (1972)', 4.6249414925330541),\n",
       "              ('Raiders of the Lost Ark (1981)', 4.6005856892895718),\n",
       "              ('Butch Cassidy and the Sundance Kid (1969)',\n",
       "               4.6003181832736413)],\n",
       "             956: [('Chicken Run (2000)', 4.2999166383961924),\n",
       "              ('It Conquered the World (1956)', 4.2766082032436739),\n",
       "              ('Galaxy Quest (1999)', 4.2759026266702378)],\n",
       "             957: [('Bridge on the River Kwai, The (1957)',\n",
       "               4.8744925886089563),\n",
       "              ('Godfather, The (1972)', 4.8001224294928431),\n",
       "              ('Jaws (1975)', 4.8000245564357229)],\n",
       "             963: [('Star Wars: Episode V - The Empire Strikes Back (1980)',\n",
       "               4.4258540784985767),\n",
       "              ('Saving Private Ryan (1998)', 4.4251637810062654),\n",
       "              ('Silence of the Lambs, The (1991)', 4.4008687172926511)],\n",
       "             967: [('Grumpy Old Men (1993)', 4.1019462855212465),\n",
       "              ('Liar Liar (1997)', 4.0512417335165347),\n",
       "              ('Ace Ventura: Pet Detective (1994)', 4.0509182925689515)],\n",
       "             973: [(\"I'm Not Rappaport (1996)\", 4.3263646208100317),\n",
       "              ('Philadelphia (1993)', 4.1754576155646452),\n",
       "              ('Gandhi (1982)', 4.1746204869348817)],\n",
       "             977: [('Misery (1990)', 4.5253446342170331),\n",
       "              ('Silence of the Lambs, The (1991)', 4.4504881183246425),\n",
       "              ('Poltergeist (1982)', 4.4499065555044437)],\n",
       "             979: [('Fletch Lives (1989)', 4.4749233312682657),\n",
       "              ('Wrongfully Accused (1998)', 4.3988942702078484),\n",
       "              ('Bean (1997)', 4.3785500077590376)],\n",
       "             980: [('2001: A Space Odyssey (1968)', 4.2260994113297929),\n",
       "              (\"One Flew Over the Cuckoo's Nest (1975)\", 4.1506076037389077),\n",
       "              ('Frankenstein (1931)', 4.0997996901473641)],\n",
       "             983: [('Star Trek V: The Final Frontier (1989)',\n",
       "               4.5273553845293728),\n",
       "              ('Never Been Kissed (1999)', 4.5249761374963686),\n",
       "              ('Cocoon: The Return (1988)', 4.5026965112898658)],\n",
       "             984: [('Casablanca (1942)', 4.3745859612934197),\n",
       "              ('Godfather, The (1972)', 4.3503066209071477),\n",
       "              ('Usual Suspects, The (1995)', 4.3255268449050357)],\n",
       "             985: [('Easy Rider (1969)', 4.5510775482288377),\n",
       "              ('Mariachi, El (1992)', 4.5496795568549473),\n",
       "              ('Blade Runner (1982)', 4.5256210386355447)],\n",
       "             990: [('Mortal Kombat (1995)', 3.9769243181729812),\n",
       "              ('Black Mask (Hak hap) (1996)', 3.9747576212663183),\n",
       "              (\"Jackie Chan's First Strike (1996)\", 3.9526541415225469)],\n",
       "             996: [('Close Encounters of the Third Kind (1977)',\n",
       "               4.6995672163814675),\n",
       "              (\"Schindler's List (1993)\", 4.6757639168477736),\n",
       "              ('Killing Fields, The (1984)', 4.6756905792728798)],\n",
       "             997: [('Forrest Gump (1994)', 3.9430731022873409),\n",
       "              ('Saving Private Ryan (1998)', 3.9427453223412079),\n",
       "              ('Silence of the Lambs, The (1991)', 3.9419382019629192)],\n",
       "             1000: [('Raiders of the Lost Ark (1981)', 4.5004388974561396),\n",
       "              ('Hunt for Red October, The (1990)', 4.4759464205362152),\n",
       "              ('Star Trek: The Wrath of Khan (1982)', 4.4751947575731013)],\n",
       "             1001: [('Jackie Brown (1997)', 4.4012018737052685),\n",
       "              ('Pleasantville (1998)', 4.3746146297029265),\n",
       "              ('Farewell My Concubine (1993)', 4.3511852322092111)],\n",
       "             1004: [('Matrix, The (1999)', 4.4512355975838496),\n",
       "              ('Ghostbusters (1984)', 4.3758644868137999),\n",
       "              ('Star Wars: Episode IV - A New Hope (1977)',\n",
       "               4.3014996807892913)],\n",
       "             1008: [('Animal House (1978)', 4.1031632798325735),\n",
       "              ('Doors, The (1991)', 4.1020486147367974),\n",
       "              ('Monty Python and the Holy Grail (1974)', 4.0782773177074754)],\n",
       "             1010: [('Casablanca (1942)', 4.1504596171145485),\n",
       "              ('L.A. Confidential (1997)', 4.149064286097004),\n",
       "              (\"One Flew Over the Cuckoo's Nest (1975)\", 4.0507123686978783)],\n",
       "             1014: [('Adventures of Buckaroo Bonzai Across the 8th Dimension, The (1984)',\n",
       "               3.5002993246419258),\n",
       "              ('Third Man, The (1949)', 3.4988716619949489),\n",
       "              ('Gods Must Be Crazy, The (1980)', 3.4984458962356566)],\n",
       "             1015: [('Myth of Fingerprints, The (1997)', 4.4239027922720373),\n",
       "              ('Some Like It Hot (1959)', 4.4236435654511848),\n",
       "              ('Raging Bull (1980)', 4.4236051692409806)],\n",
       "             1017: [('Dracula (1931)', 4.1240470237954856),\n",
       "              ('Matrix, The (1999)', 4.0711797737497246),\n",
       "              ('Exorcist III, The (1990)', 4.0432109105135146)],\n",
       "             1021: [('On the Waterfront (1954)', 4.9501116292174325),\n",
       "              ('Citizen Kane (1941)', 4.9498512912863921),\n",
       "              ('Midnight Cowboy (1969)', 4.9251016840807864)],\n",
       "             1029: [('All That Jazz (1979)', 4.250535591712997),\n",
       "              ('Trekkies (1997)', 4.2002402595221273),\n",
       "              ('Strictly Ballroom (1992)', 4.1770221437070632)],\n",
       "             1032: [('Dark City (1998)', 4.4995832380835816),\n",
       "              ('Gold Rush, The (1925)', 4.4508076159403869),\n",
       "              ('High Fidelity (2000)', 4.4507612870260003)],\n",
       "             1036: [('Fish Called Wanda, A (1988)', 4.4500709525726734),\n",
       "              ('Toy Story (1995)', 4.4253407375770468),\n",
       "              ('Silence of the Lambs, The (1991)', 4.4251385980854376)],\n",
       "             1044: [('Blade Runner (1982)', 4.2749686488804608),\n",
       "              ('Brazil (1985)', 4.2508148339012601),\n",
       "              ('Adventures of Buckaroo Bonzai Across the 8th Dimension, The (1984)',\n",
       "               4.1770762758376971)],\n",
       "             1045: [('Notting Hill (1999)', 3.5752300054188324),\n",
       "              ('Bicentennial Man (1999)', 3.5728600453417405),\n",
       "              ('Stuart Little (1999)', 3.5699978806908583)],\n",
       "             1050: [('Shawshank Redemption, The (1994)', 4.0002975883266014),\n",
       "              ('Terminator 2: Judgment Day (1991)', 3.9998152699858176),\n",
       "              ('Truman Show, The (1998)', 3.9750661862716288)],\n",
       "             1051: [('Ghostbusters (1984)', 4.8252713447316227),\n",
       "              ('Star Wars: Episode V - The Empire Strikes Back (1980)',\n",
       "               4.7755266103281375),\n",
       "              ('Star Wars: Episode IV - A New Hope (1977)',\n",
       "               4.7506183145875918)],\n",
       "             1054: [('Fugitive, The (1993)', 4.7010139941204123),\n",
       "              ('Life Is Beautiful (La Vita è bella) (1997)',\n",
       "               4.6513326624671576),\n",
       "              ('Men in Black (1997)', 4.6511958009935217)],\n",
       "             1055: [('Elizabeth (1998)', 4.0257087508051521),\n",
       "              ('Airplane! (1980)', 4.0010487774354511),\n",
       "              ('Go (1999)', 3.9778182824220014)],\n",
       "             1056: [('Friday the 13th Part VIII: Jason Takes Manhattan (1989)',\n",
       "               4.3266780857803724),\n",
       "              ('Prophecy II, The (1998)', 4.3007929652397188),\n",
       "              ('Prophecy, The (1995)', 4.153481104010031)],\n",
       "             1057: [('Mr. Smith Goes to Washington (1939)',\n",
       "               4.5756219967271727),\n",
       "              ('Toy Story 2 (1999)', 4.525875381563579),\n",
       "              ('Modern Times (1936)', 4.5253318063491461)],\n",
       "             1059: [('Fargo (1996)', 3.9757933499511329),\n",
       "              ('Raging Bull (1980)', 3.9501710775615262),\n",
       "              ('American Beauty (1999)', 3.9002681439428506)],\n",
       "             1061: [('Airplane II: The Sequel (1982)', 4.2256034909355114),\n",
       "              ('39 Steps, The (1935)', 4.2252080169602788),\n",
       "              ('Adventures in Babysitting (1987)', 4.2029685658576525)],\n",
       "             1062: [('Being John Malkovich (1999)', 4.8249689730345278),\n",
       "              (\"Boys Don't Cry (1999)\", 4.8246353793050503),\n",
       "              ('Streetcar Named Desire, A (1951)', 4.8001491510957752)],\n",
       "             1063: [('Star Trek: First Contact (1996)', 4.5511903875117268),\n",
       "              ('X-Men (2000)', 4.5260091272673506),\n",
       "              ('Star Trek: The Wrath of Khan (1982)', 4.5253660808031926)],\n",
       "             1068: [('Rainmaker, The (1997)', 4.6754620243824627),\n",
       "              ('Godfather, The (1972)', 4.6747281776307901),\n",
       "              ('Monty Python and the Holy Grail (1974)', 4.6745953221597993)],\n",
       "             1072: [('Rear Window (1954)', 4.4499755499646865),\n",
       "              ('Rebel Without a Cause (1955)', 4.3751527352433834),\n",
       "              ('Psycho (1960)', 4.3743826619434376)],\n",
       "             1074: [('Apollo 13 (1995)', 4.1761598657714698),\n",
       "              ('Paper Chase, The (1973)', 4.1254473827710356),\n",
       "              ('Top Gun (1986)', 4.0998094057340602)],\n",
       "             1076: [('Star Wars: Episode VI - Return of the Jedi (1983)',\n",
       "               3.3063811328476618),\n",
       "              ('Wedding Singer, The (1998)', 3.3061680729663867),\n",
       "              ('Pretty Woman (1990)', 3.3054406162351269)],\n",
       "             1077: [('My Best Fiend (Mein liebster Feind) (1999)',\n",
       "               4.5990234142058375),\n",
       "              ('Clockwork Orange, A (1971)', 4.5751458739933506),\n",
       "              ('Eyes Wide Shut (1999)', 4.550758648961625)],\n",
       "             1084: [('Platoon (1986)', 4.1263150514828819),\n",
       "              ('Austin Powers: International Man of Mystery (1997)',\n",
       "               4.1243354232148226),\n",
       "              ('Silence of the Lambs, The (1991)', 4.1014200111097914)],\n",
       "             1086: [(\"Wayne's World (1992)\", 4.6506684489459014),\n",
       "              (\"Ferris Bueller's Day Off (1986)\", 4.6007451672602642),\n",
       "              ('Austin Powers: The Spy Who Shagged Me (1999)',\n",
       "               4.5514013158626012)],\n",
       "             1087: [('Snow White and the Seven Dwarfs (1937)',\n",
       "               4.7498761228755946),\n",
       "              ('Christmas Story, A (1983)', 4.7252223633777781),\n",
       "              ('Airplane! (1980)', 4.7241975789154829)],\n",
       "             1088: [(\"One Flew Over the Cuckoo's Nest (1975)\",\n",
       "               4.4984203162898213),\n",
       "              ('Rear Window (1954)', 4.4730763149365682),\n",
       "              ('Godfather, The (1972)', 4.4486255323611248)],\n",
       "             1094: [('Dead Poets Society (1989)', 4.2513544725100463),\n",
       "              ('Life Is Beautiful (La Vita è bella) (1997)',\n",
       "               4.2264362370720283),\n",
       "              ('Cider House Rules, The (1999)', 4.176670500806531)],\n",
       "             1096: [('So I Married an Axe Murderer (1993)',\n",
       "               3.9234995183058796),\n",
       "              ('American Beauty (1999)', 3.9025883379931563),\n",
       "              ('Godfather, The (1972)', 3.9008256202475695)],\n",
       "             1097: [('Clerks (1994)', 4.2011827312749892),\n",
       "              ('Naked Gun 2 1/2: The Smell of Fear, The (1991)',\n",
       "               4.1745772898116043),\n",
       "              (\"There's Something About Mary (1998)\", 4.1260611187884724)],\n",
       "             1100: [('Hudsucker Proxy, The (1994)', 3.8744242813902932),\n",
       "              ('Ed Wood (1994)', 3.8253945706308921),\n",
       "              ('Nightmare Before Christmas, The (1993)', 3.8006928750074054)]})"
      ]
     },
     "execution_count": 42,
     "metadata": {},
     "output_type": "execute_result"
    }
   ],
   "source": [
    "recommendations(predict)"
   ]
  },
  {
   "cell_type": "code",
   "execution_count": null,
   "metadata": {
    "collapsed": true
   },
   "outputs": [],
   "source": []
  },
  {
   "cell_type": "code",
   "execution_count": null,
   "metadata": {
    "collapsed": true
   },
   "outputs": [],
   "source": []
  },
  {
   "cell_type": "code",
   "execution_count": null,
   "metadata": {
    "collapsed": true
   },
   "outputs": [],
   "source": []
  },
  {
   "cell_type": "code",
   "execution_count": null,
   "metadata": {
    "collapsed": true
   },
   "outputs": [],
   "source": []
  },
  {
   "cell_type": "code",
   "execution_count": null,
   "metadata": {
    "collapsed": true
   },
   "outputs": [],
   "source": []
  },
  {
   "cell_type": "code",
   "execution_count": null,
   "metadata": {
    "collapsed": true
   },
   "outputs": [],
   "source": []
  },
  {
   "cell_type": "code",
   "execution_count": null,
   "metadata": {
    "collapsed": true
   },
   "outputs": [],
   "source": []
  },
  {
   "cell_type": "code",
   "execution_count": null,
   "metadata": {
    "collapsed": true
   },
   "outputs": [],
   "source": []
  }
 ],
 "metadata": {
  "kernelspec": {
   "display_name": "Python 3",
   "language": "python",
   "name": "python3"
  },
  "language_info": {
   "codemirror_mode": {
    "name": "ipython",
    "version": 3
   },
   "file_extension": ".py",
   "mimetype": "text/x-python",
   "name": "python",
   "nbconvert_exporter": "python",
   "pygments_lexer": "ipython3",
   "version": "3.6.1"
  }
 },
 "nbformat": 4,
 "nbformat_minor": 2
}
