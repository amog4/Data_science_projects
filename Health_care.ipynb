{
 "cells": [
  {
   "cell_type": "markdown",
   "metadata": {},
   "source": [
    "Problem statement and Domain Knowledge:\n",
    "XYZ Health Services is a top ranked Health care provider in USA with stellar credentials and provides high quality-care with focus on end-to-end Health care services. The Heath Care Services range from basic medical diagnostics to critical emergency services. The provider follows a ticketing system for all the telephonic calls received across all the departments. Calls to the provider can be for New Appointment, Cancellation, Lab Queries, Medical Refills, Insurance Related, General Doctor Advise etc. The Tickets have the details of Summary of the call and description of the calls written by various staff members with no standard text guidelines.\n",
    "The challenge is, based on the Text in the Summary and Description of the call, the ticket is to be classified to Appropriate Category (out of 5 Categories) and Subcatego"
   ]
  },
  {
   "cell_type": "markdown",
   "metadata": {},
   "source": [
    "plan\n",
    "\n",
    "this is a text analysis problem,\n",
    "Understand the dataset,\n",
    "what each variable is describing,\n",
    "make some hypothesis,\n",
    "validate the hypothesis,\n",
    "visualization,\n",
    "prerocessing the data,\n",
    "\n",
    "\n",
    "model: classification\n",
    "apply logistic regression,naive bayes"
   ]
  },
  {
   "cell_type": "code",
   "execution_count": null,
   "metadata": {
    "collapsed": true
   },
   "outputs": [],
   "source": [
    "# load packages and data"
   ]
  },
  {
   "cell_type": "code",
   "execution_count": 2,
   "metadata": {
    "collapsed": true
   },
   "outputs": [],
   "source": [
    "import numpy as np\n",
    "import pandas as pd\n",
    "import matplotlib.pyplot as plt\n",
    "import seaborn as sns\n",
    "%matplotlib inline\n"
   ]
  },
  {
   "cell_type": "code",
   "execution_count": 3,
   "metadata": {
    "collapsed": true
   },
   "outputs": [],
   "source": [
    "data_set = pd.read_csv('C:\\\\Users\\\\amogh\\\\Downloads\\\\TextClassification_Data.csv',encoding='cp1252')"
   ]
  },
  {
   "cell_type": "code",
   "execution_count": null,
   "metadata": {
    "collapsed": true
   },
   "outputs": [],
   "source": []
  },
  {
   "cell_type": "code",
   "execution_count": 4,
   "metadata": {},
   "outputs": [
    {
     "data": {
      "text/plain": [
       "57280"
      ]
     },
     "execution_count": 4,
     "metadata": {},
     "output_type": "execute_result"
    }
   ],
   "source": [
    "len(data_set['fileid'].unique())"
   ]
  },
  {
   "cell_type": "code",
   "execution_count": 5,
   "metadata": {},
   "outputs": [
    {
     "data": {
      "text/plain": [
       "(57280, 7)"
      ]
     },
     "execution_count": 5,
     "metadata": {},
     "output_type": "execute_result"
    }
   ],
   "source": [
    "data_set.shape"
   ]
  },
  {
   "cell_type": "code",
   "execution_count": 6,
   "metadata": {},
   "outputs": [
    {
     "data": {
      "text/plain": [
       "57280"
      ]
     },
     "execution_count": 6,
     "metadata": {},
     "output_type": "execute_result"
    }
   ],
   "source": [
    "len(data_set['ID'].unique())"
   ]
  },
  {
   "cell_type": "code",
   "execution_count": 7,
   "metadata": {},
   "outputs": [
    {
     "data": {
      "text/plain": [
       "PRESCRIPTION     15096\n",
       "APPOINTMENTS     13872\n",
       "MISCELLANEOUS    12167\n",
       "ASK_A_DOCTOR     11799\n",
       "LAB               4321\n",
       "JUNK                21\n",
       "mISCELLANEOUS        3\n",
       "asK_A_DOCTOR         1\n",
       "Name: categories, dtype: int64"
      ]
     },
     "execution_count": 7,
     "metadata": {},
     "output_type": "execute_result"
    }
   ],
   "source": [
    "data_set['categories'].value_counts()"
   ]
  },
  {
   "cell_type": "code",
   "execution_count": 8,
   "metadata": {
    "collapsed": true
   },
   "outputs": [],
   "source": [
    "data_set['categories'].replace('JUNK','MISCELLANEOUS',inplace =True)"
   ]
  },
  {
   "cell_type": "code",
   "execution_count": 9,
   "metadata": {
    "collapsed": true
   },
   "outputs": [],
   "source": [
    "data_set['categories'].replace('mISCELLANEOUS','MISCELLANEOUS',inplace =True)"
   ]
  },
  {
   "cell_type": "code",
   "execution_count": 10,
   "metadata": {
    "collapsed": true
   },
   "outputs": [],
   "source": [
    "data_set['categories'].replace('asK_A_DOCTOR','ASK_A_DOCTOR',inplace =True)"
   ]
  },
  {
   "cell_type": "code",
   "execution_count": 11,
   "metadata": {},
   "outputs": [
    {
     "data": {
      "text/plain": [
       "PRESCRIPTION     15096\n",
       "APPOINTMENTS     13872\n",
       "MISCELLANEOUS    12191\n",
       "ASK_A_DOCTOR     11800\n",
       "LAB               4321\n",
       "Name: categories, dtype: int64"
      ]
     },
     "execution_count": 11,
     "metadata": {},
     "output_type": "execute_result"
    }
   ],
   "source": [
    "data_set['categories'].value_counts()"
   ]
  },
  {
   "cell_type": "code",
   "execution_count": 12,
   "metadata": {},
   "outputs": [
    {
     "data": {
      "text/plain": [
       "22"
      ]
     },
     "execution_count": 12,
     "metadata": {},
     "output_type": "execute_result"
    }
   ],
   "source": [
    "len(data_set['sub_categories'].value_counts())"
   ]
  },
  {
   "cell_type": "code",
   "execution_count": 13,
   "metadata": {},
   "outputs": [
    {
     "data": {
      "text/plain": [
       "MEDICATION RELATED                               10598\n",
       "NEW APPOINTMENT                                  10478\n",
       "REFILL                                            9819\n",
       "OTHERS                                            7356\n",
       "SHARING OF HEALTH RECORDS (FAX, E-MAIL, ETC.)     3550\n",
       "LAB RESULTS                                       2650\n",
       "PROVIDER                                          1972\n",
       "QUERIES FROM PHARMACY                             1722\n",
       "RESCHEDULING                                      1626\n",
       "SHARING OF LAB RECORDS (FAX, E-MAIL, ETC.)        1425\n",
       "PRIOR AUTHORIZATION                               1226\n",
       "SYMPTOMS                                          1201\n",
       "CHANGE OF PROVIDER                                 953\n",
       "RUNNING LATE TO APPOINTMENT                        694\n",
       "CANCELLATION                                       663\n",
       "QUERY ON CURRENT APPOINTMENT                       657\n",
       "FOLLOW UP ON PREVIOUS REQUEST                      357\n",
       "CHANGE OF HOSPITAL                                 149\n",
       "QUERIES FROM INSURANCE FIRM                        107\n",
       "CHANGE OF PHARMACY                                  55\n",
       "JUNK                                                21\n",
       "mEDICATION RELATED                                   1\n",
       "Name: sub_categories, dtype: int64"
      ]
     },
     "execution_count": 13,
     "metadata": {},
     "output_type": "execute_result"
    }
   ],
   "source": [
    "data_set['sub_categories'].value_counts()"
   ]
  },
  {
   "cell_type": "code",
   "execution_count": 14,
   "metadata": {
    "collapsed": true,
    "scrolled": true
   },
   "outputs": [],
   "source": [
    "data_set['sub_categories'].replace('mEDICATION RELATED','MEDICATION RELATED',inplace=True)"
   ]
  },
  {
   "cell_type": "code",
   "execution_count": 15,
   "metadata": {
    "collapsed": true
   },
   "outputs": [],
   "source": [
    "data_set['sub_categories'].replace('JUNK','OTHERS',inplace=True)"
   ]
  },
  {
   "cell_type": "code",
   "execution_count": 16,
   "metadata": {},
   "outputs": [
    {
     "data": {
      "text/plain": [
       "fileid                     0\n",
       "SUMMARY                 3347\n",
       "DATA                       0\n",
       "categories                 0\n",
       "sub_categories             0\n",
       "previous_appointment       2\n",
       "ID                         0\n",
       "dtype: int64"
      ]
     },
     "execution_count": 16,
     "metadata": {},
     "output_type": "execute_result"
    }
   ],
   "source": [
    "data_set.isnull().sum()"
   ]
  },
  {
   "cell_type": "code",
   "execution_count": null,
   "metadata": {
    "collapsed": true
   },
   "outputs": [],
   "source": [
    "\n"
   ]
  },
  {
   "cell_type": "code",
   "execution_count": 17,
   "metadata": {},
   "outputs": [
    {
     "name": "stderr",
     "output_type": "stream",
     "text": [
      "C:\\Users\\amogh\\Anaconda2\\lib\\site-packages\\ipykernel_launcher.py:1: DeprecationWarning: \n",
      ".ix is deprecated. Please use\n",
      ".loc for label based indexing or\n",
      ".iloc for positional indexing\n",
      "\n",
      "See the documentation here:\n",
      "http://pandas.pydata.org/pandas-docs/stable/indexing.html#ix-indexer-is-deprecated\n",
      "  \"\"\"Entry point for launching an IPython kernel.\n"
     ]
    }
   ],
   "source": [
    "data_set.ix[data_set['categories'] == 'APPOINTMENTS', 'SUMMARY'] = data_set.ix[data_set['categories'] == 'APPOINTMENTS', \n",
    " 'SUMMARY'].fillna('apptintment')"
   ]
  },
  {
   "cell_type": "code",
   "execution_count": 10,
   "metadata": {
    "collapsed": true
   },
   "outputs": [],
   "source": []
  },
  {
   "cell_type": "code",
   "execution_count": 18,
   "metadata": {
    "collapsed": true
   },
   "outputs": [],
   "source": [
    "data_set.ix[data_set['categories'] == 'PRESCRIPTION', 'SUMMARY'] = data_set.ix[data_set['categories'] == 'PRESCRIPTION', \n",
    " 'SUMMARY'].fillna('prescription')"
   ]
  },
  {
   "cell_type": "code",
   "execution_count": 19,
   "metadata": {
    "collapsed": true
   },
   "outputs": [],
   "source": [
    "data_set['SUMMARY'].fillna('notes',inplace = True)"
   ]
  },
  {
   "cell_type": "code",
   "execution_count": null,
   "metadata": {
    "collapsed": true
   },
   "outputs": [],
   "source": [
    "#data_APPOINTMENTS.to_csv('data_APPOINTMENTS.csv')"
   ]
  },
  {
   "cell_type": "code",
   "execution_count": null,
   "metadata": {
    "collapsed": true
   },
   "outputs": [],
   "source": [
    "#ata_set.loc[data_set['SUMMARY'].fillna('pt'),[data_set['categories'] == 'APPOINTMENT']]"
   ]
  },
  {
   "cell_type": "code",
   "execution_count": 56,
   "metadata": {
    "collapsed": true
   },
   "outputs": [],
   "source": [
    "# visualization"
   ]
  },
  {
   "cell_type": "code",
   "execution_count": 77,
   "metadata": {
    "collapsed": true
   },
   "outputs": [],
   "source": [
    "y = data_set['sub_categories'].index"
   ]
  },
  {
   "cell_type": "code",
   "execution_count": 76,
   "metadata": {},
   "outputs": [
    {
     "data": {
      "text/plain": [
       "(array([0, 1, 2, 3, 4]), <a list of 5 Text xticklabel objects>)"
      ]
     },
     "execution_count": 76,
     "metadata": {},
     "output_type": "execute_result"
    },
    {
     "data": {
      "image/png": "[encoded data removed]",
      "text/plain": [
       "<matplotlib.figure.Figure at 0x2d415c89fd0>"
      ]
     },
     "metadata": {},
     "output_type": "display_data"
    }
   ],
   "source": [
    "\n",
    "sns.barplot(data_set['categories'],y)\n",
    "\n",
    "plt.xticks(rotation ='45')"
   ]
  },
  {
   "cell_type": "code",
   "execution_count": 80,
   "metadata": {},
   "outputs": [
    {
     "data": {
      "text/plain": [
       "(array([ 0,  1,  2,  3,  4,  5,  6,  7,  8,  9, 10, 11, 12, 13, 14, 15, 16,\n",
       "        17, 18, 19]), <a list of 20 Text xticklabel objects>)"
      ]
     },
     "execution_count": 80,
     "metadata": {},
     "output_type": "execute_result"
    },
    {
     "data": {
      "image/png": "[encoded data removed]",
      "text/plain": [
       "<matplotlib.figure.Figure at 0x2d415e05f60>"
      ]
     },
     "metadata": {},
     "output_type": "display_data"
    }
   ],
   "source": [
    "sns.barplot(data_set['sub_categories'],y)\n",
    "plt.xticks(rotation = '90')"
   ]
  },
  {
   "cell_type": "code",
   "execution_count": 20,
   "metadata": {
    "collapsed": true
   },
   "outputs": [],
   "source": [
    "import re\n"
   ]
  },
  {
   "cell_type": "code",
   "execution_count": null,
   "metadata": {
    "collapsed": true,
    "scrolled": true
   },
   "outputs": [],
   "source": [
    "#e = data_set.iloc[20000:]"
   ]
  },
  {
   "cell_type": "code",
   "execution_count": null,
   "metadata": {
    "collapsed": true,
    "scrolled": false
   },
   "outputs": [],
   "source": [
    "#re.findall(r'\\b[^\\\\par\\\\plain\\\\fs20\\\\par\\\\cf3\\\\par\\\\plain\\\\fs20\\\\par ][a-z \\b0]\\w+',c)"
   ]
  },
  {
   "cell_type": "code",
   "execution_count": null,
   "metadata": {
    "collapsed": true
   },
   "outputs": [],
   "source": [
    "#len(data_set['DATA'][0].split(\" \"))"
   ]
  },
  {
   "cell_type": "code",
   "execution_count": null,
   "metadata": {
    "collapsed": true
   },
   "outputs": [],
   "source": []
  },
  {
   "cell_type": "code",
   "execution_count": 21,
   "metadata": {
    "collapsed": true
   },
   "outputs": [],
   "source": [
    "k = []"
   ]
  },
  {
   "cell_type": "code",
   "execution_count": 22,
   "metadata": {
    "collapsed": true
   },
   "outputs": [],
   "source": [
    "for x in data_set['SUMMARY']:\n",
    "\n",
    "    i = x.lower()\n",
    "    i = i.replace('r/s','reschedule')\n",
    "    i = i.replace('rx','prescription')\n",
    "    i = i.replace('xr','extended release')\n",
    "    #i = i.replace( 're-fill','refill')\n",
    "    #i = i.replace('rescheduleduling','reschedule')\n",
    "    k.append(i)\n",
    "    \n",
    "    \n",
    "   "
   ]
  },
  {
   "cell_type": "code",
   "execution_count": 23,
   "metadata": {
    "collapsed": true
   },
   "outputs": [],
   "source": [
    "data_set['SUMMARY'] = k"
   ]
  },
  {
   "cell_type": "code",
   "execution_count": 24,
   "metadata": {
    "collapsed": true
   },
   "outputs": [],
   "source": [
    "k = []"
   ]
  },
  {
   "cell_type": "code",
   "execution_count": 25,
   "metadata": {
    "collapsed": true
   },
   "outputs": [],
   "source": [
    "for x in data_set['DATA']:\n",
    "\n",
    "    i = x.lower()\n",
    "    i = i.replace('r/s','reschedule')\n",
    "    i = i.replace('rx','prescription')\n",
    "    i = i.replace('xr','extended release')\n",
    "    #i = i.replace( 're-fill','refill')\n",
    "    #i = i.replace('rescheduleduling','reschedule')\n",
    "    k.append(i)"
   ]
  },
  {
   "cell_type": "code",
   "execution_count": 26,
   "metadata": {
    "collapsed": true
   },
   "outputs": [],
   "source": [
    "data_set['DATA'] = k"
   ]
  },
  {
   "cell_type": "code",
   "execution_count": null,
   "metadata": {
    "collapsed": true
   },
   "outputs": [],
   "source": []
  },
  {
   "cell_type": "code",
   "execution_count": null,
   "metadata": {
    "collapsed": true
   },
   "outputs": [],
   "source": [
    "sched re-schedule scheduleduled rescheduledule 'scheduledule'scheduledulers' ' 'rescheduleduling'"
   ]
  },
  {
   "cell_type": "code",
   "execution_count": 82,
   "metadata": {
    "collapsed": true
   },
   "outputs": [],
   "source": [
    "k = []\n",
    "for i in data_set['DATA']:\n",
    "    i = i.lower()\n",
    "    o = (re.findall(r'[^x $x ^\\\\ ^{ ^} ^; ^@]+' ,i))\n",
    "    #h = re.findall(r'[^x $x]+', \n",
    "    k.append(' '.join(o))"
   ]
  },
  {
   "cell_type": "code",
   "execution_count": 83,
   "metadata": {
    "collapsed": true
   },
   "outputs": [],
   "source": [
    "data_set['sump'] = k"
   ]
  },
  {
   "cell_type": "code",
   "execution_count": null,
   "metadata": {
    "collapsed": true
   },
   "outputs": [],
   "source": [
    "k[0]"
   ]
  },
  {
   "cell_type": "markdown",
   "metadata": {
    "collapsed": true
   },
   "source": [
    "##### "
   ]
  },
  {
   "cell_type": "code",
   "execution_count": null,
   "metadata": {
    "collapsed": true
   },
   "outputs": [],
   "source": [
    "e.head()"
   ]
  },
  {
   "cell_type": "code",
   "execution_count": null,
   "metadata": {
    "collapsed": true
   },
   "outputs": [],
   "source": [
    "#a = re.findall(r'may \\d{1,2}[,] \\d{4} \\d{1,2}:\\d{1,2}',texts[2])"
   ]
  },
  {
   "cell_type": "code",
   "execution_count": null,
   "metadata": {
    "collapsed": true
   },
   "outputs": [],
   "source": [
    "a[1].split()il"
   ]
  },
  {
   "cell_type": "code",
   "execution_count": null,
   "metadata": {
    "collapsed": true
   },
   "outputs": [],
   "source": [
    "re.findall(r'\\d{1,2}:\\d{1,2} ?[ap]m',texts[0])"
   ]
  },
  {
   "cell_type": "code",
   "execution_count": null,
   "metadata": {
    "collapsed": true
   },
   "outputs": [],
   "source": [
    "may 27, 2015 8:54 am"
   ]
  },
  {
   "cell_type": "code",
   "execution_count": 42,
   "metadata": {
    "collapsed": true
   },
   "outputs": [],
   "source": [
    "y = [] \n",
    "for x in texts:\n",
    "    y.append(re.findall(r' (?:may|june|july|august|september|october|november|december|january|february|march|april) \\d{1,2}, \\d{1,4} \\d{1,2}:\\d{1,2} ?[ap]m',x\n",
    "                    ))"
   ]
  },
  {
   "cell_type": "code",
   "execution_count": null,
   "metadata": {
    "collapsed": true
   },
   "outputs": [],
   "source": [
    "                                                  \n"
   ]
  },
  {
   "cell_type": "code",
   "execution_count": 43,
   "metadata": {
    "collapsed": true
   },
   "outputs": [],
   "source": [
    "\n",
    "c = []\n",
    "\n",
    "for i in y:\n",
    "    z = []\n",
    "    for x in i:\n",
    "        z.append(x.split(',')[1])\n",
    "    c.append(z)\n",
    "        "
   ]
  },
  {
   "cell_type": "code",
   "execution_count": 44,
   "metadata": {
    "collapsed": true
   },
   "outputs": [],
   "source": [
    "z =[]\n",
    "for i in c:\n",
    "    s =[]\n",
    "    for x in i:\n",
    "        s.append(x.split(\" \")[2])\n",
    "    z.append(s)"
   ]
  },
  {
   "cell_type": "code",
   "execution_count": 45,
   "metadata": {
    "collapsed": true
   },
   "outputs": [],
   "source": [
    "data_set['z'] = z"
   ]
  },
  {
   "cell_type": "code",
   "execution_count": null,
   "metadata": {
    "collapsed": true
   },
   "outputs": [],
   "source": []
  },
  {
   "cell_type": "code",
   "execution_count": null,
   "metadata": {
    "collapsed": true
   },
   "outputs": [],
   "source": [
    "data_set"
   ]
  },
  {
   "cell_type": "code",
   "execution_count": null,
   "metadata": {
    "collapsed": true
   },
   "outputs": [],
   "source": [
    "data_set['p'] = data_set['z'].apply(lambda x : len(x))"
   ]
  },
  {
   "cell_type": "code",
   "execution_count": null,
   "metadata": {
    "collapsed": true
   },
   "outputs": [],
   "source": []
  },
  {
   "cell_type": "code",
   "execution_count": null,
   "metadata": {
    "collapsed": true
   },
   "outputs": [],
   "source": [
    "for i in texts:\n",
    "    j = re.findall(r'may \\d{1,2}[,] \\d{4} \\d{1,2}:\\d{1,2}',i)\n",
    "    c.append(j)"
   ]
  },
  {
   "cell_type": "code",
   "execution_count": null,
   "metadata": {
    "collapsed": true
   },
   "outputs": [],
   "source": [
    "data_set['z'] = c"
   ]
  },
  {
   "cell_type": "code",
   "execution_count": null,
   "metadata": {
    "collapsed": true
   },
   "outputs": [],
   "source": [
    "data_set.to_csv('y.csv')"
   ]
  },
  {
   "cell_type": "code",
   "execution_count": 30,
   "metadata": {
    "collapsed": true
   },
   "outputs": [],
   "source": [
    "unwanted = ['rtf','ansi','ftnbj','fonttb', 'f','fswiss','arial','colortb',\n",
    "            'red','green','blue','stylesheet','fs',\n",
    "            'cf3', 'cb', 'cs','additive','default', 'paragraph','font', 'margl','margr','margt','margb',\n",
    "            'headery','footery','formshade','sectd','marglsxn','margrsxn', 'margtsxn',\n",
    "            'margbsxn','headery', 'footery', 'sbkpage', 'pgncont', 'plain','fs','pard',  'cf', 'fs',\n",
    "           'sscharaux', 'b','cell', 'phonexxxx', 'xxxx', 'par','fs',  'name','bxxxx','bfs', 'other',\n",
    "       'xxxx','cf','sscharaux','xxx','xxxxlli','fax','xxxxauthorizedxxxx','par','xxxxwest','cf','cf','am','pm',\n",
    "              'ton','sscharaux','sscharaux','sscharaux','xxxxxxx','caller','06_smtpfaxq','marglsxn','rtf','ansi','ftnbj','fonttbl', 'f' ,'fswiss', 'arial', 'colortbl', 'stylesheet', 'fs', 'cf','cb', 'normal', 'cs', 'additive', 'cf', 'cb', 'default' 'paragraph', 'font', 'margl', 'margr','margt', 'margb','headery','footery', 'formshade',\n",
    "            'sectd', 'margls', 'n' ,'margrs', 'margbs' ,'sbkpage', 'pgncont', 'plain' ,'pard', 'sscharau' ,  'for', 'b','margts','sscharau',\n",
    "            'e','may','pt','ing','g','r','called','emg',\n",
    "'de','michelle','s','clld','and','mom','the','she','mike','pt','patients','TRUE','v','h'\n",
    "'clarks','samantha','would','like','get','her','he','mom','zzo',\n",
    "'fs','n','cf','a','and','at','pm','pa','time','y','hmmmmmm','phone','called','nurse','ring','patient','back',\n",
    "'harrry','velosa', 'jefferson','req','scheduledule','bella','japan','jas','jelly','jessie','jody','joel','jsut','juanita','bupap','scheduledulers','wednesday','wk','raleigh'\n",
    "'per','rescheduleduling', 'yearrequest','say','son', 'tomorrow' 'boice',  'calling' 'willis','walmart', 'home','ed', 'adderall','monday','thusday','friday','saturday','sunday','trusday','pamela','denny',\n",
    "'david','scooter','pavan','soccer','floor','call','called','cll',\n",
    "'follow','please','tab','week','print','say','pls','seen','go''said','hour','pamela','daughter','informed','denny','m','cook'\n",
    ",'thank','tomorrow','comment','u','lov','love','night','school','mohamed','morning','asked','portal','maureen','gonzales','family','brittany','following',\n",
    "'printed','minute','yesterday','com','h','harry','cheryl','arnold','yestaerday',\n",
    "'yesteda','yesterady','yesteray','yestersday','yestreday','mother','www','asap','atlanta',\n",
    "'yup','yyy','yw','yuoy','susannah','etc','enough','christy','sumatriptan','thru','mr','mrs',\n",
    "'zureikat','zumatto','zorn','zomg','day','weekend','weekly','qweek','lastweek','weekend','please','please','pleasse','plesae','plese','declineplease','tom','scott','meg','preschool','action','wood','mrichardson','nelson','nora','print','lmohamed','three',\n",
    "'par', 'pt', 'calilng','b','fs','red','blue','green','cf','plain','n','to','call','sscharau','f','cd','by','headery','footery','tab',\n",
    "'and','details','pm','the','for','at','she','fswiss','paragraph','arial','colortbl','font','am','thursday','friday','saturday','sunday','monday','tuesday','wednesday','margl','margr','margt','margb','formshade','sectd','margls','margrs','margts','margbs','pgncont','pard','sbkpage','stylesheet','of','r',\n",
    "'a','rn','is','january','april','may','sat','fri','study','wyant','th','february','her','i','s','po''tabs','if','fa','be','rtf','ansi''ftnbj','fonttbl','have','t','you','they','or','e','june','march','as','we','an','q','july','august','september','october','november','december',\n",
    "'o','d','lisa','c','him','h','ne','marry','david','ok','wilson','p','linda','jennifer','hrs','richardson','marcia',\n",
    "'ha','nicole','joyce','taylor','l','holly','rowley','okay','stacy','chery',\n",
    "'mead','norris','ashley','erica','iv','ivo','lori','hollie','j','tisha','carroll','boyce','rachel',\n",
    "'||','ing','clayton','vimpat','sheena','porter','lloyd','rebecca','mli','hello','krissy','ndi','k','ekland',\n",
    "'lousi','chalet','patt','donna','jo','susan','sarah','john','matthias','kevin','sheena','porter','lloyd',\n",
    "'rebecca','murdock','tammy','rikkena','bss','sjf','casemanger,johannes','mittie','u','wife','grandfather','husband','lindae','jewilson','smita','star','gabel','glean','kaytlin','annelle','bennett','porsch','lorena','ii','please','tankoos','harums','rn','po','l','r','june','q','iii','un','opffice','uncle','aunt','thomasina',\n",
    "'thompson','sussannah','sus','susa','susanah','susanna','susannan','jon','jonathan','joneth','josef','istant','ita','itchy','ivc','ivdhe',\n",
    "'ivi','iwth','jack','jail','jamaica','janel','janelle','janet','janice','janie','jari','tza','kadian','kahn','kapur','karaan','karam',\n",
    "'karem','kathresal','katie','katrice','kaufer','kay','kb','kcarnes','ke','keifer','keisha','kellee','jb','jc','jdwpt','jeannie,'\n",
    "'jeevan','jeffrey','jenn','jenna','jennie','jillian','jim','jimenez','jmao','joan','joana','jodie','joe','joel','johnathon','johnsont','joseffs','medfusion','secure','electronic', 'georgia', 'teachers',\n",
    "'Shanahan','Shannon','adams' 'rn', 'kimble''erica', 'mscn','josefs','joshi','joy','joyner','jt','jublia','jul','julia',\n",
    "'julianna','joyce', 'schwartz' ,'virginia', 'Jethro','pa','jennifer', 'ellis','depakote','taper', 'caller', 'verbalized','amy', 'gonzales', 'pingram','wendy','upchurch','fms',\n",
    "'julie','junel','note','concussrtp','jennifer','sachdeva','hmm','smiths','dr','jatfri','mom','dad','brother','sister','rhonda','mike','holly','starnes','angela','ginger','teresa','sheaffer','zinn','matthias','md','wgvant','durham','mann','jeffery','grandmother','amy','jackie','focalin','btbrown','margrat','perry',\n",
    "'lbain', 'brereton','lla','jh','charlie','carlla','ighsmith','clld','rathke','st','givre','gina','mp','liz','thinh','holly','jtacyd']"
   ]
  },
  {
   "cell_type": "code",
   "execution_count": 31,
   "metadata": {
    "collapsed": true
   },
   "outputs": [],
   "source": [
    "import nltk"
   ]
  },
  {
   "cell_type": "code",
   "execution_count": 32,
   "metadata": {
    "collapsed": true
   },
   "outputs": [],
   "source": [
    "from nltk import sent_tokenize,word_tokenize"
   ]
  },
  {
   "cell_type": "code",
   "execution_count": 33,
   "metadata": {
    "collapsed": true
   },
   "outputs": [],
   "source": [
    "from nltk.corpus import stopwords"
   ]
  },
  {
   "cell_type": "code",
   "execution_count": 34,
   "metadata": {
    "collapsed": true
   },
   "outputs": [],
   "source": [
    "stop_words = set(stopwords.words('english'))"
   ]
  },
  {
   "cell_type": "code",
   "execution_count": 35,
   "metadata": {
    "collapsed": true
   },
   "outputs": [],
   "source": [
    "stop_words.update(unwanted)"
   ]
  },
  {
   "cell_type": "code",
   "execution_count": 36,
   "metadata": {
    "collapsed": true
   },
   "outputs": [],
   "source": [
    "#token = word_tokenize(word)"
   ]
  },
  {
   "cell_type": "code",
   "execution_count": 37,
   "metadata": {},
   "outputs": [
    {
     "data": {
      "text/plain": [
       "<bound method WordListCorpusReader.words of <WordListCorpusReader in 'C:\\\\Users\\\\amogh\\\\AppData\\\\Roaming\\\\nltk_data\\\\corpora\\\\stopwords'>>"
      ]
     },
     "execution_count": 37,
     "metadata": {},
     "output_type": "execute_result"
    }
   ],
   "source": [
    "stopwords.words"
   ]
  },
  {
   "cell_type": "code",
   "execution_count": 38,
   "metadata": {
    "collapsed": true
   },
   "outputs": [],
   "source": [
    "from nltk.stem.wordnet import WordNetLemmatizer \n",
    "lem = WordNetLemmatizer()"
   ]
  },
  {
   "cell_type": "code",
   "execution_count": 39,
   "metadata": {
    "collapsed": true
   },
   "outputs": [],
   "source": [
    "stop_word =[]\n",
    "for i in stop_words:\n",
    "    stop_word.append(i)"
   ]
  },
  {
   "cell_type": "code",
   "execution_count": 84,
   "metadata": {
    "collapsed": true
   },
   "outputs": [],
   "source": [
    "texts = nltk.Text(data_set['sump'])"
   ]
  },
  {
   "cell_type": "code",
   "execution_count": 49,
   "metadata": {},
   "outputs": [
    {
     "data": {
      "text/plain": [
       "'mom wants to know if the focalin needs some dosage adjusting'"
      ]
     },
     "execution_count": 49,
     "metadata": {},
     "output_type": "execute_result"
    }
   ],
   "source": [
    "texts[1]"
   ]
  },
  {
   "cell_type": "markdown",
   "metadata": {
    "collapsed": true
   },
   "source": [
    "def _lookup_words(input_text):\n",
    "    x = []\n",
    "    new_words = [] \n",
    "    new_text= []\n",
    "    for word in input_text:\n",
    "        \n",
    "        x.append(word.split())            \n",
    "        if x in lookup_dict:\n",
    "            x = lookup_dict[word]\n",
    "        new_words.append(x)\n",
    "        new_text.append(\" \".join(new_words))\n",
    "    return new_text"
   ]
  },
  {
   "cell_type": "code",
   "execution_count": null,
   "metadata": {
    "collapsed": true
   },
   "outputs": [],
   "source": [
    "#_lookup_words(texts)"
   ]
  },
  {
   "cell_type": "code",
   "execution_count": null,
   "metadata": {
    "collapsed": true
   },
   "outputs": [],
   "source": []
  },
  {
   "cell_type": "code",
   "execution_count": 85,
   "metadata": {
    "collapsed": true
   },
   "outputs": [],
   "source": [
    "v =[]\n",
    "for i in texts:\n",
    "    \n",
    "    c = re.findall(r'[a-z]+',i)\n",
    "    v.append(' '.join(c))"
   ]
  },
  {
   "cell_type": "code",
   "execution_count": null,
   "metadata": {
    "collapsed": true
   },
   "outputs": [],
   "source": []
  },
  {
   "cell_type": "code",
   "execution_count": null,
   "metadata": {
    "collapsed": true
   },
   "outputs": [],
   "source": []
  },
  {
   "cell_type": "code",
   "execution_count": 86,
   "metadata": {
    "collapsed": true
   },
   "outputs": [],
   "source": [
    "h =[]\n",
    "for word in v:\n",
    "    h.append(word_tokenize(word))\n",
    "    \n",
    "   "
   ]
  },
  {
   "cell_type": "code",
   "execution_count": null,
   "metadata": {
    "collapsed": true
   },
   "outputs": [],
   "source": []
  },
  {
   "cell_type": "code",
   "execution_count": null,
   "metadata": {
    "collapsed": true
   },
   "outputs": [],
   "source": [
    "'''b = []\n",
    "for i in h:\n",
    "    b.append(nltk.FreqDist(i))'''"
   ]
  },
  {
   "cell_type": "code",
   "execution_count": null,
   "metadata": {
    "collapsed": true
   },
   "outputs": [],
   "source": [
    "#b = pd.DataFrame(b)"
   ]
  },
  {
   "cell_type": "code",
   "execution_count": 87,
   "metadata": {
    "collapsed": true
   },
   "outputs": [],
   "source": [
    "word =[]\n",
    "for x in h:\n",
    "    wr = []\n",
    "    \n",
    "    for i in x:\n",
    "        if i in lookup_dict:\n",
    "            i = lookup_dict[i]\n",
    "        wr.append(i)\n",
    "    word.append(wr)\n",
    "        "
   ]
  },
  {
   "cell_type": "code",
   "execution_count": null,
   "metadata": {
    "collapsed": true,
    "scrolled": false
   },
   "outputs": [],
   "source": []
  },
  {
   "cell_type": "code",
   "execution_count": null,
   "metadata": {
    "collapsed": true
   },
   "outputs": [],
   "source": []
  },
  {
   "cell_type": "code",
   "execution_count": 45,
   "metadata": {
    "collapsed": true
   },
   "outputs": [],
   "source": [
    "from nltk.stem import porter\n",
    "    \n",
    "        \n",
    "        "
   ]
  },
  {
   "cell_type": "code",
   "execution_count": 46,
   "metadata": {
    "collapsed": true
   },
   "outputs": [],
   "source": [
    "from nltk.stem.porter import PorterStemmer"
   ]
  },
  {
   "cell_type": "code",
   "execution_count": 47,
   "metadata": {
    "collapsed": true
   },
   "outputs": [],
   "source": [
    "stem = PorterStemmer()"
   ]
  },
  {
   "cell_type": "code",
   "execution_count": null,
   "metadata": {
    "collapsed": true
   },
   "outputs": [],
   "source": []
  },
  {
   "cell_type": "code",
   "execution_count": 88,
   "metadata": {
    "collapsed": true,
    "scrolled": false
   },
   "outputs": [],
   "source": [
    "filtered_sentence = []\n",
    "for w in word:\n",
    "    wr = []\n",
    "    \n",
    "    for i in w:\n",
    "        if (i not in unwanted) and (i not in stop_word) and (i.isalpha()) :\n",
    "            \n",
    "            wr.append(lem.lemmatize(i))\n",
    "    filtered_sentence.append(wr)\n",
    "            \n",
    "        \n",
    " "
   ]
  },
  {
   "cell_type": "code",
   "execution_count": null,
   "metadata": {
    "collapsed": true
   },
   "outputs": [],
   "source": [
    "filtered_sentence[20]"
   ]
  },
  {
   "cell_type": "code",
   "execution_count": 89,
   "metadata": {
    "collapsed": true
   },
   "outputs": [],
   "source": [
    "filtered = []\n",
    "\n",
    "for i in filtered_sentence:\n",
    "    f =[]\n",
    "    for x in i:\n",
    "        f.append(stem.stem(x))\n",
    "    filtered.append(f)"
   ]
  },
  {
   "cell_type": "code",
   "execution_count": null,
   "metadata": {
    "collapsed": true
   },
   "outputs": [],
   "source": [
    "k =[]"
   ]
  },
  {
   "cell_type": "code",
   "execution_count": null,
   "metadata": {
    "collapsed": true
   },
   "outputs": [],
   "source": [
    "for x in data_set['filtered']:\n",
    "    k.append(x.replace('zzolot','zoloft'))"
   ]
  },
  {
   "cell_type": "code",
   "execution_count": null,
   "metadata": {
    "collapsed": true
   },
   "outputs": [],
   "source": [
    "k == 'zololt'"
   ]
  },
  {
   "cell_type": "code",
   "execution_count": 90,
   "metadata": {
    "collapsed": true
   },
   "outputs": [],
   "source": [
    "data_set['filtered'] = filtered"
   ]
  },
  {
   "cell_type": "code",
   "execution_count": 91,
   "metadata": {
    "collapsed": true
   },
   "outputs": [],
   "source": [
    "data_set['filtered'] = data_set.filtered.apply(', '.join)"
   ]
  },
  {
   "cell_type": "code",
   "execution_count": 41,
   "metadata": {
    "collapsed": true
   },
   "outputs": [],
   "source": [
    "lookup_dict = {'sched':'scheduled','zololt':'zoloft','zzolot':'zoloft','appts':'appointment','aappt':'appointment','todaysappt':'appointment','apptontment':'appointment',\n",
    "              'theappt':'appointment','apptmt':'appointment','apptmts':'appointment','appmt':'appointment','appmts':'appointment','zrytec':'zyrtec','zyrtect':'zyrtec',\n",
    "              'zonisimide':'zonisamide','zonisomide':'zonisomide','zongran':'zonegran','zoneran':'zonegran','zonengran':'zonegran','zonegren':'zonegran','zonafram':'zonegran',\n",
    "              'zololt':'zoloft','zolmitirptan':'zolmitriptan','zolpidiem':'zolpidem','zolidem':'zolpidem','zoinsamide':'zonisamide','zofram':'zofran',\n",
    "              'zongeran':'zonegran','zonengran':'zonegran','zonegren':'zonegran','zonagram':'zonegran','zolmitirptan':'zolmitriptan',\n",
    "              'zolidem':'zolpidem','zoinsamide':'zonisamide','zofram':'zofran','zocira':'zocor','mgr':'mg','mgmt':'mgmnt','uncoomfortable':'uncomfortable',\n",
    "              'medi':'medicine','medicaitons':'medications','medicaton':'medications','mediction':'medication','medicaition':'medication',\n",
    "              'medicaitionto':'medication','medicaion':'medication','medicatin':'medication','medicaire':'medicare','medicallly':'medically',\n",
    "              'mediacation':'medication','medicatiion':'medication','medicationi':'medication','medicatons':'medication','med':'medicine',\n",
    "              'medicacictions':'medication','mediication':'medication','telemedicine':'medicine','eprescribed':'prescribing','eprescibe':'prescribing',\n",
    "              'eprescribing':'prescribing','presc':'prescribing','prescibing':'prescribing','prscrbed':'prescribing','prscirbed':'prescribing',\n",
    "              'electronicprescription':'prescription','prescribtion':'prescription','prescirbed':'prescribed',\n",
    "              'prescribption':'prescription','prescrib-tions':'prescription','prescrition':'prescription','appointm':'appointment',\n",
    "              'appoitmnet':'appintment','appoitnment':'appointment','appointemtn':'appointment','appointent':'appointment','app':\n",
    "              'appointment','allmedclinic':'clinic','clinicalmessaging':'clinic','cliniic':'clinic','cliniicals':'clinic','subclin':\n",
    "              'clinic','signture':'signature','hangsigned':'signature','signatue':'signature','signaurture':'signature','nee':'knee',\n",
    "              'neeed':'need','nees':'knee','neees':'knee','numbnees':'knee','emassage':'massage','messag':'message','messsage':'message',\n",
    "              'pharm':'pharmacy','pharmcy':'pharmacy','pahrmay':'pharmacy','pharmavii':'pharmacy','pahrmaacy':'pharmacy',\n",
    "              'ord':'order','recorer':'reorder','oordination':'coordination','orderes':'orders','stat':'state','andstates':'state',\n",
    "              'refil':'refill','refils':'refill','refiled':'refilled','prefil':'prefill','autorfilled':'refilled','rrefills':'refills','amri':'mri','amdmri':'mri',\n",
    "              'scedule':'schedule','schduling' : 'scheduleing','schedu':'schedule','schedul' : 'schedule','scheduld' : 'schedule','scheule' : 'schedule','scheuler' : 'schedule','schdeule' : 'schedule','schdeuled' : 'schedule','schdler':'schedule','schduler':'schedule',\n",
    "'schdulers':'schedule','schedculed':'scheduled','schediuled' : 'scheduled','schedle' : 'schedule','schedled' :'scheduled','schedueled' :'scheduled',\n",
    "'scheduer':'schedule','schedukler':'scheduler','schedulefd' :'schedule','scheduleing' :'scheduleing','schedulem' : 'schedule',\n",
    "'schedulet':'schedule','schedulimg':'schedule','schedulin':'schedule','schedulinh':'scheduleing','schell':'schedule','wschedule':'schedule',\n",
    "              'reschedled':'rescheduled','reschedueld':'reschedule','reschedled':'reschedule','reschedueld':'reschedule','reschedul':'reschedule',\n",
    "'reschedulle': 'reschedule','rescheudle': 'reschedule','rescheudled': 'rescheduled','rescheuled': 'rescheduled','reschuling': 'rescheduleing','rescusitated': 'reschedule','appt': 'appointment',\n",
    "              'hydrodone':'hydrocone','hydroco':'hydrocone','hydrocod':'hydrocone','headace':'headache','headaces':'headache','anyheadaches':'headache','heada':'headache','headahce':'headache','chronicdailyheadache':'headache','headach':'headache','headpressure':'headache','orally':'oral',\n",
    "              'migranal':'migraine','mirganal':'migraine','mirgraine':'migraine','mirganal':'migraine','woozy':'dizzy','wooziness':'dizzy',\n",
    "               'woozy':'dizzy','whoozy':'dizzy','whoozie':'dizzy','antidodie':'antibiotic','antibodi':'antibiotic','chiropracter':'chiropratic',\n",
    "               'yline':'sertraline','aeegs':'eeg','ineegs':'eeg','yogart':'yogurt','ymetazoline':'nasal','calleprescription':'prescription'}"
   ]
  },
  {
   "cell_type": "code",
   "execution_count": null,
   "metadata": {
    "collapsed": true
   },
   "outputs": [],
   "source": [
    "for key in lookup_dict:\n",
    "    for x in data_set['filtered']:\n",
    "        for i in x:\n",
    "        \n",
    "            k.append(i.replace(key,lookup_dict[key]))\n",
    "        \n",
    "        "
   ]
  },
  {
   "cell_type": "code",
   "execution_count": null,
   "metadata": {
    "collapsed": true
   },
   "outputs": [],
   "source": []
  },
  {
   "cell_type": "code",
   "execution_count": null,
   "metadata": {
    "collapsed": true
   },
   "outputs": [],
   "source": []
  },
  {
   "cell_type": "code",
   "execution_count": null,
   "metadata": {
    "collapsed": true
   },
   "outputs": [],
   "source": []
  },
  {
   "cell_type": "code",
   "execution_count": null,
   "metadata": {
    "collapsed": true
   },
   "outputs": [],
   "source": [
    "data_set['filtered_sentence'] = filtered_sentence"
   ]
  },
  {
   "cell_type": "code",
   "execution_count": null,
   "metadata": {
    "collapsed": true
   },
   "outputs": [],
   "source": [
    "data_set['DATA_words'] = data_set['DATA'].apply(lambda x: len(str(x).split()))"
   ]
  },
  {
   "cell_type": "code",
   "execution_count": null,
   "metadata": {
    "collapsed": true
   },
   "outputs": [],
   "source": [
    "data_set['DATA_unique'] = data_set['DATA'].apply(lambda x: len(set(str(x).split())))"
   ]
  },
  {
   "cell_type": "code",
   "execution_count": null,
   "metadata": {
    "collapsed": true
   },
   "outputs": [],
   "source": [
    "data_set['words'] = data_set['filtered_sentence'].apply(lambda x: len(str(x).split()))"
   ]
  },
  {
   "cell_type": "code",
   "execution_count": null,
   "metadata": {
    "collapsed": true
   },
   "outputs": [],
   "source": [
    "data_set['unique_words'] = data_set['filtered_sentence'].apply(lambda x: len(set(str(x).split())))"
   ]
  },
  {
   "cell_type": "code",
   "execution_count": null,
   "metadata": {
    "collapsed": true
   },
   "outputs": [],
   "source": [
    "data_set['cha'] = data_set['filtered_sentence'].apply(lambda x:len(str(x)))"
   ]
  },
  {
   "cell_type": "code",
   "execution_count": 57,
   "metadata": {
    "collapsed": true
   },
   "outputs": [],
   "source": [
    "data_set['z_time'] = data_set['z'].apply(lambda x:len(x))"
   ]
  },
  {
   "cell_type": "code",
   "execution_count": null,
   "metadata": {
    "collapsed": true
   },
   "outputs": [],
   "source": []
  },
  {
   "cell_type": "code",
   "execution_count": 50,
   "metadata": {
    "collapsed": true
   },
   "outputs": [],
   "source": [
    "data_set['summary'] = filtered\n",
    "        "
   ]
  },
  {
   "cell_type": "code",
   "execution_count": 51,
   "metadata": {
    "collapsed": true
   },
   "outputs": [],
   "source": [
    "data_set['summary'] = data_set.summary.apply(', '.join)"
   ]
  },
  {
   "cell_type": "code",
   "execution_count": null,
   "metadata": {
    "collapsed": true
   },
   "outputs": [],
   "source": [
    "#unwanted_words = ['appt','rn','po','l','r','june','q']"
   ]
  },
  {
   "cell_type": "code",
   "execution_count": null,
   "metadata": {
    "collapsed": true
   },
   "outputs": [],
   "source": [
    "    \n",
    "#df['Joined'] = data_set.summary_filtered.apply(', '.join)"
   ]
  },
  {
   "cell_type": "code",
   "execution_count": null,
   "metadata": {
    "collapsed": true
   },
   "outputs": [],
   "source": []
  },
  {
   "cell_type": "code",
   "execution_count": null,
   "metadata": {
    "collapsed": true
   },
   "outputs": [],
   "source": [
    "data_set.isnull().sum()"
   ]
  },
  {
   "cell_type": "code",
   "execution_count": null,
   "metadata": {
    "collapsed": true
   },
   "outputs": [],
   "source": [
    "data_set['previous_appointment'].value_counts()\n",
    "    \n",
    "        \n",
    "        "
   ]
  },
  {
   "cell_type": "code",
   "execution_count": 52,
   "metadata": {
    "collapsed": true
   },
   "outputs": [],
   "source": [
    "data_set['previous_appointment'].replace('NO','No',inplace = True)"
   ]
  },
  {
   "cell_type": "code",
   "execution_count": 53,
   "metadata": {
    "collapsed": true
   },
   "outputs": [],
   "source": [
    "data_set['previous_appointment'].replace('YES','Yes',inplace = True)"
   ]
  },
  {
   "cell_type": "code",
   "execution_count": 54,
   "metadata": {
    "collapsed": true
   },
   "outputs": [],
   "source": [
    "data_set['previous_appointment'].replace('yes','Yes',inplace = True)"
   ]
  },
  {
   "cell_type": "code",
   "execution_count": 55,
   "metadata": {
    "collapsed": true
   },
   "outputs": [],
   "source": [
    "data_set['previous_appointment'].fillna('No',inplace = True)"
   ]
  },
  {
   "cell_type": "code",
   "execution_count": null,
   "metadata": {
    "collapsed": true
   },
   "outputs": [],
   "source": [
    "f =[]"
   ]
  },
  {
   "cell_type": "code",
   "execution_count": null,
   "metadata": {
    "collapsed": true
   },
   "outputs": [],
   "source": [
    "for i in filtered_sentence:\n",
    "    for x in i:\n",
    "        f.append(x)"
   ]
  },
  {
   "cell_type": "code",
   "execution_count": null,
   "metadata": {
    "collapsed": true
   },
   "outputs": [],
   "source": [
    "p = nltk.FreqDist(f)"
   ]
  },
  {
   "cell_type": "code",
   "execution_count": null,
   "metadata": {
    "collapsed": true
   },
   "outputs": [],
   "source": [
    "p = pd.DataFrame(p,index=[1])"
   ]
  },
  {
   "cell_type": "code",
   "execution_count": null,
   "metadata": {
    "collapsed": true
   },
   "outputs": [],
   "source": [
    "p = p.transpose()"
   ]
  },
  {
   "cell_type": "code",
   "execution_count": null,
   "metadata": {
    "collapsed": true
   },
   "outputs": [],
   "source": [
    "p.to_csv('op.csv')"
   ]
  },
  {
   "cell_type": "code",
   "execution_count": null,
   "metadata": {
    "collapsed": true
   },
   "outputs": [],
   "source": []
  },
  {
   "cell_type": "code",
   "execution_count": null,
   "metadata": {
    "collapsed": true
   },
   "outputs": [],
   "source": [
    "data_set"
   ]
  },
  {
   "cell_type": "code",
   "execution_count": null,
   "metadata": {
    "collapsed": true
   },
   "outputs": [],
   "source": []
  },
  {
   "cell_type": "code",
   "execution_count": null,
   "metadata": {
    "collapsed": true
   },
   "outputs": [],
   "source": []
  },
  {
   "cell_type": "code",
   "execution_count": null,
   "metadata": {
    "collapsed": true
   },
   "outputs": [],
   "source": []
  },
  {
   "cell_type": "code",
   "execution_count": null,
   "metadata": {
    "collapsed": true
   },
   "outputs": [],
   "source": []
  },
  {
   "cell_type": "code",
   "execution_count": null,
   "metadata": {
    "collapsed": true
   },
   "outputs": [],
   "source": []
  },
  {
   "cell_type": "code",
   "execution_count": 62,
   "metadata": {
    "collapsed": true
   },
   "outputs": [],
   "source": [
    "from sklearn.preprocessing import LabelEncoder"
   ]
  },
  {
   "cell_type": "code",
   "execution_count": 63,
   "metadata": {
    "collapsed": true
   },
   "outputs": [],
   "source": [
    "l = LabelEncoder()"
   ]
  },
  {
   "cell_type": "code",
   "execution_count": 64,
   "metadata": {},
   "outputs": [
    {
     "data": {
      "text/plain": [
       "LabelEncoder()"
      ]
     },
     "execution_count": 64,
     "metadata": {},
     "output_type": "execute_result"
    }
   ],
   "source": [
    "l.fit(data_set['categories'])"
   ]
  },
  {
   "cell_type": "code",
   "execution_count": 65,
   "metadata": {},
   "outputs": [
    {
     "data": {
      "text/plain": [
       "LabelEncoder()"
      ]
     },
     "execution_count": 65,
     "metadata": {},
     "output_type": "execute_result"
    }
   ],
   "source": [
    "l.fit(data_set['previous_appointment'])"
   ]
  },
  {
   "cell_type": "code",
   "execution_count": 66,
   "metadata": {
    "collapsed": true
   },
   "outputs": [],
   "source": [
    "data_set['previous_appointment'] = l.fit_transform(data_set['previous_appointment'])"
   ]
  },
  {
   "cell_type": "code",
   "execution_count": 64,
   "metadata": {
    "collapsed": true
   },
   "outputs": [],
   "source": [
    "data_set['categories'] = l.fit_transform(data_set['categories'])"
   ]
  },
  {
   "cell_type": "code",
   "execution_count": null,
   "metadata": {
    "collapsed": true
   },
   "outputs": [],
   "source": [
    "l.fit(data_set['sub_categories'])"
   ]
  },
  {
   "cell_type": "code",
   "execution_count": null,
   "metadata": {
    "collapsed": true
   },
   "outputs": [],
   "source": [
    "data_set['sub_categories'] = l.transform(data_set['sub_categories'])"
   ]
  },
  {
   "cell_type": "code",
   "execution_count": null,
   "metadata": {
    "collapsed": true
   },
   "outputs": [],
   "source": [
    "def generate_ngrams(text, n):\n",
    "    #words = text.split()\n",
    "    output = []  \n",
    "    for i in range(len(text)-n+1):\n",
    "        output.append(text[i:i+n])\n",
    "    return output\n",
    "\n"
   ]
  },
  {
   "cell_type": "code",
   "execution_count": null,
   "metadata": {
    "collapsed": true
   },
   "outputs": [],
   "source": []
  },
  {
   "cell_type": "code",
   "execution_count": null,
   "metadata": {
    "collapsed": true
   },
   "outputs": [],
   "source": [
    "data['dat'] = dat"
   ]
  },
  {
   "cell_type": "code",
   "execution_count": 92,
   "metadata": {},
   "outputs": [
    {
     "name": "stderr",
     "output_type": "stream",
     "text": [
      "C:\\Users\\amogh\\Anaconda2\\lib\\site-packages\\sklearn\\cross_validation.py:41: DeprecationWarning: This module was deprecated in version 0.18 in favor of the model_selection module into which all the refactored classes and functions are moved. Also note that the interface of the new CV iterators are different from that of this module. This module will be removed in 0.20.\n",
      "  \"This module will be removed in 0.20.\", DeprecationWarning)\n"
     ]
    }
   ],
   "source": [
    "from sklearn.cross_validation import train_test_split"
   ]
  },
  {
   "cell_type": "code",
   "execution_count": null,
   "metadata": {
    "collapsed": true,
    "scrolled": true
   },
   "outputs": [],
   "source": [
    "x_train,x_test,y_train,y_test = train_test_split(train_x,data_set['categories'],train_size =0.8)"
   ]
  },
  {
   "cell_type": "code",
   "execution_count": 78,
   "metadata": {
    "collapsed": true
   },
   "outputs": [],
   "source": [
    "from sklearn.linear_model import LogisticRegression\n",
    "from sklearn.cross_validation import cross_val_score"
   ]
  },
  {
   "cell_type": "code",
   "execution_count": 79,
   "metadata": {
    "collapsed": true
   },
   "outputs": [],
   "source": [
    "log = LogisticRegression()"
   ]
  },
  {
   "cell_type": "code",
   "execution_count": null,
   "metadata": {
    "collapsed": true
   },
   "outputs": [],
   "source": [
    "#fold = cross_val_score(estimator=log,X = x_train,y =y_train,cv = 20,n_jobs=-1)"
   ]
  },
  {
   "cell_type": "code",
   "execution_count": null,
   "metadata": {
    "collapsed": true
   },
   "outputs": [],
   "source": [
    "fold = cross_val_score"
   ]
  },
  {
   "cell_type": "code",
   "execution_count": 80,
   "metadata": {},
   "outputs": [
    {
     "data": {
      "text/plain": [
       "LogisticRegression(C=1.0, class_weight=None, dual=False, fit_intercept=True,\n",
       "          intercept_scaling=1, max_iter=100, multi_class='ovr', n_jobs=1,\n",
       "          penalty='l2', random_state=None, solver='liblinear', tol=0.0001,\n",
       "          verbose=0, warm_start=False)"
      ]
     },
     "execution_count": 80,
     "metadata": {},
     "output_type": "execute_result"
    }
   ],
   "source": [
    "log.fit(x_train,y_train)"
   ]
  },
  {
   "cell_type": "code",
   "execution_count": 81,
   "metadata": {
    "collapsed": true
   },
   "outputs": [],
   "source": [
    "y_pred = log.predict(x_test)"
   ]
  },
  {
   "cell_type": "code",
   "execution_count": null,
   "metadata": {
    "collapsed": true
   },
   "outputs": [],
   "source": []
  },
  {
   "cell_type": "code",
   "execution_count": null,
   "metadata": {
    "collapsed": true
   },
   "outputs": [],
   "source": []
  },
  {
   "cell_type": "code",
   "execution_count": 82,
   "metadata": {
    "collapsed": true
   },
   "outputs": [],
   "source": [
    "from sklearn.metrics import confusion_matrix"
   ]
  },
  {
   "cell_type": "code",
   "execution_count": 83,
   "metadata": {
    "collapsed": true
   },
   "outputs": [],
   "source": [
    "cn = confusion_matrix(y_test,y_pred)"
   ]
  },
  {
   "cell_type": "code",
   "execution_count": null,
   "metadata": {
    "collapsed": true
   },
   "outputs": [],
   "source": []
  },
  {
   "cell_type": "code",
   "execution_count": null,
   "metadata": {
    "collapsed": true
   },
   "outputs": [],
   "source": [
    "from sklearn.metrics import roc_auc_score"
   ]
  },
  {
   "cell_type": "code",
   "execution_count": 84,
   "metadata": {},
   "outputs": [
    {
     "data": {
      "text/plain": [
       "0.82768854748603349"
      ]
     },
     "execution_count": 84,
     "metadata": {},
     "output_type": "execute_result"
    }
   ],
   "source": [
    "cn.diagonal().sum()/11456"
   ]
  },
  {
   "cell_type": "code",
   "execution_count": null,
   "metadata": {
    "collapsed": true
   },
   "outputs": [],
   "source": [
    "cn"
   ]
  },
  {
   "cell_type": "code",
   "execution_count": null,
   "metadata": {
    "collapsed": true
   },
   "outputs": [],
   "source": [
    "#roc_auc_score(y_test,y_pred)"
   ]
  },
  {
   "cell_type": "code",
   "execution_count": null,
   "metadata": {
    "collapsed": true
   },
   "outputs": [],
   "source": [
    "x_test.shape"
   ]
  },
  {
   "cell_type": "code",
   "execution_count": 93,
   "metadata": {
    "collapsed": true
   },
   "outputs": [],
   "source": [
    "from sklearn.feature_extraction.text import TfidfVectorizer"
   ]
  },
  {
   "cell_type": "code",
   "execution_count": 94,
   "metadata": {
    "collapsed": true
   },
   "outputs": [],
   "source": [
    "tf = TfidfVectorizer(min_df = 5,stop_words='english',sublinear_tf=True)"
   ]
  },
  {
   "cell_type": "code",
   "execution_count": null,
   "metadata": {
    "collapsed": true
   },
   "outputs": [],
   "source": []
  },
  {
   "cell_type": "code",
   "execution_count": 95,
   "metadata": {
    "collapsed": true
   },
   "outputs": [],
   "source": [
    "train_tf = tf.fit(data_set['filtered'])"
   ]
  },
  {
   "cell_type": "code",
   "execution_count": null,
   "metadata": {
    "collapsed": true
   },
   "outputs": [],
   "source": []
  },
  {
   "cell_type": "code",
   "execution_count": 96,
   "metadata": {
    "collapsed": true
   },
   "outputs": [],
   "source": [
    "train = pd.DataFrame(train_tf.transform(data_set['filtered']).todense(),columns = train_tf.get_feature_names())"
   ]
  },
  {
   "cell_type": "code",
   "execution_count": 97,
   "metadata": {
    "collapsed": true
   },
   "outputs": [],
   "source": [
    "train_tf = tf.fit(data_set['summary'])"
   ]
  },
  {
   "cell_type": "code",
   "execution_count": 98,
   "metadata": {
    "collapsed": true
   },
   "outputs": [],
   "source": [
    "train_ = pd.DataFrame(train_tf.transform(data_set['summary']).todense(),columns = train_tf.get_feature_names())"
   ]
  },
  {
   "cell_type": "code",
   "execution_count": 99,
   "metadata": {
    "collapsed": true
   },
   "outputs": [],
   "source": [
    "train_x = pd.concat([train,train_],axis=1)"
   ]
  },
  {
   "cell_type": "code",
   "execution_count": null,
   "metadata": {
    "collapsed": true
   },
   "outputs": [],
   "source": [
    "#train_x.drop(['word','unique_words'],axis=1,inplace =True)"
   ]
  },
  {
   "cell_type": "code",
   "execution_count": 91,
   "metadata": {
    "collapsed": true
   },
   "outputs": [],
   "source": [
    "train_x['z_word'] = data_set['z_time']"
   ]
  },
  {
   "cell_type": "code",
   "execution_count": 100,
   "metadata": {
    "collapsed": true
   },
   "outputs": [],
   "source": [
    "train_x['previous_appointment'] = data_set['previous_appointment']"
   ]
  },
  {
   "cell_type": "code",
   "execution_count": null,
   "metadata": {
    "collapsed": true
   },
   "outputs": [],
   "source": [
    "train_x = train_x.as_matrix()"
   ]
  },
  {
   "cell_type": "code",
   "execution_count": null,
   "metadata": {
    "collapsed": true
   },
   "outputs": [],
   "source": [
    "from sklearn.feature_selection import chi2,SelectKBest"
   ]
  },
  {
   "cell_type": "code",
   "execution_count": null,
   "metadata": {
    "collapsed": true
   },
   "outputs": [],
   "source": [
    "chi = SelectKBest(chi2,k = 10000)"
   ]
  },
  {
   "cell_type": "code",
   "execution_count": null,
   "metadata": {
    "collapsed": true
   },
   "outputs": [],
   "source": [
    "from sklearn.cross_validation import cross_val_score"
   ]
  },
  {
   "cell_type": "code",
   "execution_count": null,
   "metadata": {
    "collapsed": true
   },
   "outputs": [],
   "source": [
    "train=[]"
   ]
  },
  {
   "cell_type": "code",
   "execution_count": null,
   "metadata": {
    "collapsed": true
   },
   "outputs": [],
   "source": [
    "train_x.shape"
   ]
  },
  {
   "cell_type": "code",
   "execution_count": null,
   "metadata": {
    "collapsed": true
   },
   "outputs": [],
   "source": []
  },
  {
   "cell_type": "code",
   "execution_count": 1,
   "metadata": {
    "collapsed": true
   },
   "outputs": [],
   "source": [
    "from sklearn.naive_bayes import MultinomialNB"
   ]
  },
  {
   "cell_type": "code",
   "execution_count": 2,
   "metadata": {
    "collapsed": true
   },
   "outputs": [],
   "source": [
    "mu = MultinomialNB()"
   ]
  },
  {
   "cell_type": "code",
   "execution_count": null,
   "metadata": {
    "collapsed": true
   },
   "outputs": [],
   "source": [
    "mu.fit(x_train,y_train)"
   ]
  },
  {
   "cell_type": "code",
   "execution_count": null,
   "metadata": {
    "collapsed": true
   },
   "outputs": [],
   "source": [
    "y_pred = mu.predict(x_test)"
   ]
  },
  {
   "cell_type": "code",
   "execution_count": null,
   "metadata": {
    "collapsed": true
   },
   "outputs": [],
   "source": [
    "cn = confusion_matrix(y_test,y_pred)"
   ]
  },
  {
   "cell_type": "code",
   "execution_count": null,
   "metadata": {
    "collapsed": true
   },
   "outputs": [],
   "source": [
    "cn"
   ]
  },
  {
   "cell_type": "code",
   "execution_count": null,
   "metadata": {
    "collapsed": true
   },
   "outputs": [],
   "source": [
    "cn.diagonal().sum()/11456"
   ]
  },
  {
   "cell_type": "code",
   "execution_count": null,
   "metadata": {
    "collapsed": true
   },
   "outputs": [],
   "source": [
    "x_test.shape"
   ]
  },
  {
   "cell_type": "code",
   "execution_count": null,
   "metadata": {
    "collapsed": true
   },
   "outputs": [],
   "source": [
    "y = y_pred.tolist()"
   ]
  },
  {
   "cell_type": "code",
   "execution_count": null,
   "metadata": {
    "collapsed": true
   },
   "outputs": [],
   "source": [
    "y = pd.DataFrame(y)"
   ]
  },
  {
   "cell_type": "code",
   "execution_count": null,
   "metadata": {
    "collapsed": true
   },
   "outputs": [],
   "source": [
    "y.to_csv('y.csv')"
   ]
  },
  {
   "cell_type": "code",
   "execution_count": null,
   "metadata": {
    "collapsed": true
   },
   "outputs": [],
   "source": [
    "y_test.to_csv('y_test.csv')"
   ]
  },
  {
   "cell_type": "code",
   "execution_count": null,
   "metadata": {
    "collapsed": true
   },
   "outputs": [],
   "source": [
    "x_test.matrix().to_csv('y1.csv')"
   ]
  },
  {
   "cell_type": "code",
   "execution_count": null,
   "metadata": {
    "collapsed": true
   },
   "outputs": [],
   "source": [
    "#%reset_selective"
   ]
  },
  {
   "cell_type": "code",
   "execution_count": null,
   "metadata": {
    "collapsed": true
   },
   "outputs": [],
   "source": [
    "#from gensim.models import Word2Vec"
   ]
  },
  {
   "cell_type": "code",
   "execution_count": null,
   "metadata": {
    "collapsed": true
   },
   "outputs": [],
   "source": [
    "#word = Word2Vec()"
   ]
  },
  {
   "cell_type": "code",
   "execution_count": null,
   "metadata": {
    "collapsed": true
   },
   "outputs": [],
   "source": [
    "# SVM"
   ]
  },
  {
   "cell_type": "code",
   "execution_count": null,
   "metadata": {
    "collapsed": true
   },
   "outputs": [],
   "source": [
    "from sklearn.svm import LinearSVC"
   ]
  },
  {
   "cell_type": "code",
   "execution_count": null,
   "metadata": {
    "collapsed": true
   },
   "outputs": [],
   "source": [
    "\n",
    "linear =LinearSVC()"
   ]
  },
  {
   "cell_type": "code",
   "execution_count": null,
   "metadata": {
    "collapsed": true
   },
   "outputs": [],
   "source": [
    "linear.fit(x_train,y_train)"
   ]
  },
  {
   "cell_type": "code",
   "execution_count": null,
   "metadata": {
    "collapsed": true
   },
   "outputs": [],
   "source": [
    "y_pred = linear.predict(x_test)"
   ]
  },
  {
   "cell_type": "code",
   "execution_count": null,
   "metadata": {
    "collapsed": true
   },
   "outputs": [],
   "source": [
    "cn = confusion_matrix(y_test,y_pred)"
   ]
  },
  {
   "cell_type": "code",
   "execution_count": null,
   "metadata": {
    "collapsed": true
   },
   "outputs": [],
   "source": [
    "from sklearn.metrics import confusion_matrix"
   ]
  },
  {
   "cell_type": "code",
   "execution_count": null,
   "metadata": {
    "collapsed": true
   },
   "outputs": [],
   "source": [
    "cn.diagonal().sum()/11456"
   ]
  },
  {
   "cell_type": "code",
   "execution_count": null,
   "metadata": {
    "collapsed": true
   },
   "outputs": [],
   "source": [
    "train_['categories'] = data_set['categories']"
   ]
  },
  {
   "cell_type": "code",
   "execution_count": null,
   "metadata": {
    "collapsed": true
   },
   "outputs": [],
   "source": []
  },
  {
   "cell_type": "code",
   "execution_count": null,
   "metadata": {
    "collapsed": true
   },
   "outputs": [],
   "source": []
  },
  {
   "cell_type": "code",
   "execution_count": null,
   "metadata": {
    "collapsed": true
   },
   "outputs": [],
   "source": []
  },
  {
   "cell_type": "code",
   "execution_count": null,
   "metadata": {
    "collapsed": true
   },
   "outputs": [],
   "source": []
  },
  {
   "cell_type": "code",
   "execution_count": null,
   "metadata": {
    "collapsed": true
   },
   "outputs": [],
   "source": []
  },
  {
   "cell_type": "code",
   "execution_count": null,
   "metadata": {
    "collapsed": true
   },
   "outputs": [],
   "source": []
  },
  {
   "cell_type": "code",
   "execution_count": null,
   "metadata": {
    "collapsed": true
   },
   "outputs": [],
   "source": []
  },
  {
   "cell_type": "code",
   "execution_count": null,
   "metadata": {
    "collapsed": true
   },
   "outputs": [],
   "source": []
  },
  {
   "cell_type": "code",
   "execution_count": null,
   "metadata": {
    "collapsed": true
   },
   "outputs": [],
   "source": []
  }
 ],
 "metadata": {
  "kernelspec": {
   "display_name": "Python 3",
   "language": "python",
   "name": "python3"
  },
  "language_info": {
   "codemirror_mode": {
    "name": "ipython",
    "version": 3
   },
   "file_extension": ".py",
   "mimetype": "text/x-python",
   "name": "python",
   "nbconvert_exporter": "python",
   "pygments_lexer": "ipython3",
   "version": "3.6.1"
  }
 },
 "nbformat": 4,
 "nbformat_minor": 2
}
