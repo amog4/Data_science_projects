{
 "cells": [
  {
   "cell_type": "code",
   "execution_count": 1,
   "metadata": {
    "collapsed": true
   },
   "outputs": [],
   "source": [
    "import findspark"
   ]
  },
  {
   "cell_type": "code",
   "execution_count": 2,
   "metadata": {
    "collapsed": true
   },
   "outputs": [],
   "source": [
    "findspark.init('/home/ubuntu/spark-2.1.1-bin-hadoop2.7')"
   ]
  },
  {
   "cell_type": "code",
   "execution_count": 3,
   "metadata": {
    "collapsed": true
   },
   "outputs": [],
   "source": [
    "import pyspark"
   ]
  },
  {
   "cell_type": "code",
   "execution_count": 4,
   "metadata": {
    "collapsed": true
   },
   "outputs": [],
   "source": [
    "from pyspark.sql import SparkSession"
   ]
  },
  {
   "cell_type": "code",
   "execution_count": 5,
   "metadata": {
    "collapsed": true
   },
   "outputs": [],
   "source": [
    "spark = SparkSession.builder.appName('oo').getOrCreate()"
   ]
  },
  {
   "cell_type": "code",
   "execution_count": 6,
   "metadata": {
    "collapsed": true,
    "tags": [
     "getting",
     "the",
     "data"
    ]
   },
   "outputs": [],
   "source": [
    "# dataset beenused is taken from https://data.gov.in/catalog/state-wise-distribution-number-active-companies\n",
    "\n",
    "\n",
    "\"\"\"The data contains State wise Distribution of Number of Active Companies. \n",
    "It contains data of Authorized Capital (Private, Public and Total). \n",
    "Report has been published by The Ministry of Corporate Affairs, Government of India.\n",
    "Note:\n",
    "Authorized capital in Rs. Crore, Sikkim is not covered under the Companies Act, 1956.\"\"\"\n",
    "\n",
    "\n",
    "df = spark.read.csv('statement_5_2013_14_1.csv',inferSchema=True,header=True)\n"
   ]
  },
  {
   "cell_type": "code",
   "execution_count": 7,
   "metadata": {},
   "outputs": [
    {
     "name": "stdout",
     "output_type": "stream",
     "text": [
      "root\n",
      " |-- State/UT: string (nullable = true)\n",
      " |-- No. of Companies - Public: integer (nullable = true)\n",
      " |-- Authorized Capital - Public: double (nullable = true)\n",
      " |-- No. of Companies - Private: integer (nullable = true)\n",
      " |-- Authorized Capital - Private: double (nullable = true)\n",
      " |-- No. of Companies - Total: integer (nullable = true)\n",
      " |-- Authorized Capital - Total: double (nullable = true)\n",
      "\n"
     ]
    }
   ],
   "source": [
    "# print schema\n",
    "df.printSchema()\n",
    "\n"
   ]
  },
  {
   "cell_type": "code",
   "execution_count": 8,
   "metadata": {},
   "outputs": [
    {
     "data": {
      "text/plain": [
       "[Row(State/UT='Andhra Pradesh', No. of Companies - Public=3942, Authorized Capital - Public=199444.03, No. of Companies - Private=55721, Authorized Capital - Private=95290.49, No. of Companies - Total=59663, Authorized Capital - Total=294734.52),\n",
       " Row(State/UT='Arunachal Pradesh', No. of Companies - Public=16, Authorized Capital - Public=889.85, No. of Companies - Private=156, Authorized Capital - Private=208.74, No. of Companies - Total=172, Authorized Capital - Total=1098.59),\n",
       " Row(State/UT='Assam', No. of Companies - Public=498, Authorized Capital - Public=17108.29, No. of Companies - Private=4394, Authorized Capital - Private=4192.81, No. of Companies - Total=4892, Authorized Capital - Total=21301.1),\n",
       " Row(State/UT='Bihar', No. of Companies - Public=594, Authorized Capital - Public=5871.69, No. of Companies - Private=10469, Authorized Capital - Private=6118.87, No. of Companies - Total=11063, Authorized Capital - Total=11990.56),\n",
       " Row(State/UT='Chhatisgarh', No. of Companies - Public=468, Authorized Capital - Public=32154.54, No. of Companies - Private=5407, Authorized Capital - Private=5368.12, No. of Companies - Total=5875, Authorized Capital - Total=37522.66)]"
      ]
     },
     "execution_count": 8,
     "metadata": {},
     "output_type": "execute_result"
    }
   ],
   "source": [
    "df.head(5)\n"
   ]
  },
  {
   "cell_type": "code",
   "execution_count": 9,
   "metadata": {},
   "outputs": [
    {
     "name": "stdout",
     "output_type": "stream",
     "text": [
      "+-----------------+-------------------------+---------------------------+--------------------------+----------------------------+------------------------+--------------------------+\n",
      "|         State/UT|No. of Companies - Public|Authorized Capital - Public|No. of Companies - Private|Authorized Capital - Private|No. of Companies - Total|Authorized Capital - Total|\n",
      "+-----------------+-------------------------+---------------------------+--------------------------+----------------------------+------------------------+--------------------------+\n",
      "|   Andhra Pradesh|                     3942|                  199444.03|                     55721|                    95290.49|                   59663|                 294734.52|\n",
      "|Arunachal Pradesh|                       16|                     889.85|                       156|                      208.74|                     172|                   1098.59|\n",
      "|            Assam|                      498|                   17108.29|                      4394|                     4192.81|                    4892|                   21301.1|\n",
      "|            Bihar|                      594|                    5871.69|                     10469|                     6118.87|                   11063|                  11990.56|\n",
      "|      Chhatisgarh|                      468|                   32154.54|                      5407|                     5368.12|                    5875|                  37522.66|\n",
      "|              Goa|                      163|                    7150.71|                      4590|                      4869.6|                    4753|                  12020.31|\n",
      "|          Gujarat|                     3920|                  243099.36|                     46194|                    64097.31|                   50114|                 307196.67|\n",
      "|          Haryana|                      969|                   66102.49|                     17849|                    34586.05|                   18818|                 100688.54|\n",
      "| Himachal Pradesh|                      218|                   24681.37|                      2667|                     4542.08|                    2885|                  29223.45|\n",
      "|  Jammu & Kashmir|                      121|                     698.76|                      2027|                     6347.67|                    2148|                   7046.43|\n",
      "|        Jharkhand|                      427|                   17018.49|                      5360|                     7870.45|                    5787|                  24888.94|\n",
      "|        Karnataka|                     1978|                  132853.64|                     47389|                     78227.7|                   49367|                 211081.34|\n",
      "|           Kerala|                     1310|                   23782.14|                     22246|                     17262.7|                   23556|                  41044.84|\n",
      "|   Madhya Pradesh|                     1499|                    54007.1|                     18145|                    13553.35|                   19644|                  67560.45|\n",
      "|      Maharashtra|                    11870|                  713497.19|                    176898|                   355038.52|                  188768|                1068535.71|\n",
      "|          Manipur|                       13|                     329.35|                       130|                      121.35|                     143|                     450.7|\n",
      "|        Meghalaya|                      109|                    9193.27|                       405|                      763.15|                     514|                   9956.42|\n",
      "|          Mizoram|                        7|                       99.1|                        16|                       34.61|                      23|                    133.71|\n",
      "|         Nagaland|                       15|                     223.16|                       125|                      161.35|                     140|                    384.51|\n",
      "|           Odisha|                     1039|                   27918.31|                     10146|                     13218.4|                   11185|                  41136.71|\n",
      "+-----------------+-------------------------+---------------------------+--------------------------+----------------------------+------------------------+--------------------------+\n",
      "only showing top 20 rows\n",
      "\n"
     ]
    }
   ],
   "source": [
    "df.show()"
   ]
  },
  {
   "cell_type": "code",
   "execution_count": 10,
   "metadata": {},
   "outputs": [
    {
     "data": {
      "text/plain": [
       "<bound method DataFrame.describe of DataFrame[State/UT: string, No. of Companies - Public: int, Authorized Capital - Public: double, No. of Companies - Private: int, Authorized Capital - Private: double, No. of Companies - Total: int, Authorized Capital - Total: double]>"
      ]
     },
     "execution_count": 10,
     "metadata": {},
     "output_type": "execute_result"
    }
   ],
   "source": [
    "df.describe"
   ]
  },
  {
   "cell_type": "code",
   "execution_count": 11,
   "metadata": {
    "tags": [
     "Grabbing",
     "the",
     "data"
    ]
   },
   "outputs": [
    {
     "data": {
      "text/plain": [
       "Column<b'State/UT'>"
      ]
     },
     "execution_count": 11,
     "metadata": {},
     "output_type": "execute_result"
    }
   ],
   "source": [
    "df['State/UT']"
   ]
  },
  {
   "cell_type": "code",
   "execution_count": 12,
   "metadata": {},
   "outputs": [
    {
     "data": {
      "text/plain": [
       "pyspark.sql.column.Column"
      ]
     },
     "execution_count": 12,
     "metadata": {},
     "output_type": "execute_result"
    }
   ],
   "source": [
    "type(df['State/UT'])"
   ]
  },
  {
   "cell_type": "code",
   "execution_count": 13,
   "metadata": {},
   "outputs": [
    {
     "data": {
      "text/plain": [
       "DataFrame[State/UT: string]"
      ]
     },
     "execution_count": 13,
     "metadata": {},
     "output_type": "execute_result"
    }
   ],
   "source": [
    "df.select('State/UT')"
   ]
  },
  {
   "cell_type": "code",
   "execution_count": 14,
   "metadata": {},
   "outputs": [
    {
     "data": {
      "text/plain": [
       "pyspark.sql.dataframe.DataFrame"
      ]
     },
     "execution_count": 14,
     "metadata": {},
     "output_type": "execute_result"
    }
   ],
   "source": [
    "type(df.select('State/UT'))"
   ]
  },
  {
   "cell_type": "code",
   "execution_count": 15,
   "metadata": {},
   "outputs": [
    {
     "name": "stdout",
     "output_type": "stream",
     "text": [
      "+-----------------+\n",
      "|         State/UT|\n",
      "+-----------------+\n",
      "|   Andhra Pradesh|\n",
      "|Arunachal Pradesh|\n",
      "|            Assam|\n",
      "|            Bihar|\n",
      "|      Chhatisgarh|\n",
      "+-----------------+\n",
      "only showing top 5 rows\n",
      "\n"
     ]
    }
   ],
   "source": [
    "df.select('State/UT').show(5)"
   ]
  },
  {
   "cell_type": "code",
   "execution_count": 16,
   "metadata": {
    "tags": [
     "Creating",
     "a",
     "new",
     "column"
    ]
   },
   "outputs": [
    {
     "data": {
      "text/plain": [
       "DataFrame[State/UT: string, No. of Companies - Public: int, Authorized Capital - Public: double, No. of Companies - Private: int, Authorized Capital - Private: double, No. of Companies - Total: int, Authorized Capital - Total: double, States: string]"
      ]
     },
     "execution_count": 16,
     "metadata": {},
     "output_type": "execute_result"
    }
   ],
   "source": [
    "# Creating a new column\n",
    "# Adding a new column with a simple copy\n",
    "\n",
    "df.withColumn('States',df['State/Ut'])\n"
   ]
  },
  {
   "cell_type": "code",
   "execution_count": 17,
   "metadata": {},
   "outputs": [
    {
     "name": "stdout",
     "output_type": "stream",
     "text": [
      "+-----------------+-------------------------+---------------------------+--------------------------+----------------------------+------------------------+--------------------------+\n",
      "|         STATE/UT|No. of Companies - Public|Authorized Capital - Public|No. of Companies - Private|Authorized Capital - Private|No. of Companies - Total|Authorized Capital - Total|\n",
      "+-----------------+-------------------------+---------------------------+--------------------------+----------------------------+------------------------+--------------------------+\n",
      "|   Andhra Pradesh|                     3942|                  199444.03|                     55721|                    95290.49|                   59663|                 294734.52|\n",
      "|Arunachal Pradesh|                       16|                     889.85|                       156|                      208.74|                     172|                   1098.59|\n",
      "|            Assam|                      498|                   17108.29|                      4394|                     4192.81|                    4892|                   21301.1|\n",
      "|            Bihar|                      594|                    5871.69|                     10469|                     6118.87|                   11063|                  11990.56|\n",
      "|      Chhatisgarh|                      468|                   32154.54|                      5407|                     5368.12|                    5875|                  37522.66|\n",
      "|              Goa|                      163|                    7150.71|                      4590|                      4869.6|                    4753|                  12020.31|\n",
      "|          Gujarat|                     3920|                  243099.36|                     46194|                    64097.31|                   50114|                 307196.67|\n",
      "|          Haryana|                      969|                   66102.49|                     17849|                    34586.05|                   18818|                 100688.54|\n",
      "| Himachal Pradesh|                      218|                   24681.37|                      2667|                     4542.08|                    2885|                  29223.45|\n",
      "|  Jammu & Kashmir|                      121|                     698.76|                      2027|                     6347.67|                    2148|                   7046.43|\n",
      "|        Jharkhand|                      427|                   17018.49|                      5360|                     7870.45|                    5787|                  24888.94|\n",
      "|        Karnataka|                     1978|                  132853.64|                     47389|                     78227.7|                   49367|                 211081.34|\n",
      "|           Kerala|                     1310|                   23782.14|                     22246|                     17262.7|                   23556|                  41044.84|\n",
      "|   Madhya Pradesh|                     1499|                    54007.1|                     18145|                    13553.35|                   19644|                  67560.45|\n",
      "|      Maharashtra|                    11870|                  713497.19|                    176898|                   355038.52|                  188768|                1068535.71|\n",
      "|          Manipur|                       13|                     329.35|                       130|                      121.35|                     143|                     450.7|\n",
      "|        Meghalaya|                      109|                    9193.27|                       405|                      763.15|                     514|                   9956.42|\n",
      "|          Mizoram|                        7|                       99.1|                        16|                       34.61|                      23|                    133.71|\n",
      "|         Nagaland|                       15|                     223.16|                       125|                      161.35|                     140|                    384.51|\n",
      "|           Odisha|                     1039|                   27918.31|                     10146|                     13218.4|                   11185|                  41136.71|\n",
      "+-----------------+-------------------------+---------------------------+--------------------------+----------------------------+------------------------+--------------------------+\n",
      "only showing top 20 rows\n",
      "\n"
     ]
    }
   ],
   "source": [
    "# rename columns\n",
    "df.withColumnRenamed('State/UT','STATE/UT').show()"
   ]
  },
  {
   "cell_type": "code",
   "execution_count": 25,
   "metadata": {},
   "outputs": [
    {
     "name": "stdout",
     "output_type": "stream",
     "text": [
      "+-----------------+-------------------------+---------------------------+--------------------------+----------------------------+------------------------+--------------------------+---------------------+\n",
      "|         State/UT|No. of Companies - Public|Authorized Capital - Public|No. of Companies - Private|Authorized Capital - Private|No. of Companies - Total|Authorized Capital - Total|Double_public_capital|\n",
      "+-----------------+-------------------------+---------------------------+--------------------------+----------------------------+------------------------+--------------------------+---------------------+\n",
      "|   Andhra Pradesh|                     3942|                  199444.03|                     55721|                    95290.49|                   59663|                 294734.52|            398888.06|\n",
      "|Arunachal Pradesh|                       16|                     889.85|                       156|                      208.74|                     172|                   1098.59|               1779.7|\n",
      "|            Assam|                      498|                   17108.29|                      4394|                     4192.81|                    4892|                   21301.1|             34216.58|\n",
      "|            Bihar|                      594|                    5871.69|                     10469|                     6118.87|                   11063|                  11990.56|             11743.38|\n",
      "|      Chhatisgarh|                      468|                   32154.54|                      5407|                     5368.12|                    5875|                  37522.66|             64309.08|\n",
      "|              Goa|                      163|                    7150.71|                      4590|                      4869.6|                    4753|                  12020.31|             14301.42|\n",
      "|          Gujarat|                     3920|                  243099.36|                     46194|                    64097.31|                   50114|                 307196.67|            486198.72|\n",
      "|          Haryana|                      969|                   66102.49|                     17849|                    34586.05|                   18818|                 100688.54|            132204.98|\n",
      "| Himachal Pradesh|                      218|                   24681.37|                      2667|                     4542.08|                    2885|                  29223.45|             49362.74|\n",
      "|  Jammu & Kashmir|                      121|                     698.76|                      2027|                     6347.67|                    2148|                   7046.43|              1397.52|\n",
      "|        Jharkhand|                      427|                   17018.49|                      5360|                     7870.45|                    5787|                  24888.94|             34036.98|\n",
      "|        Karnataka|                     1978|                  132853.64|                     47389|                     78227.7|                   49367|                 211081.34|            265707.28|\n",
      "|           Kerala|                     1310|                   23782.14|                     22246|                     17262.7|                   23556|                  41044.84|             47564.28|\n",
      "|   Madhya Pradesh|                     1499|                    54007.1|                     18145|                    13553.35|                   19644|                  67560.45|             108014.2|\n",
      "|      Maharashtra|                    11870|                  713497.19|                    176898|                   355038.52|                  188768|                1068535.71|           1426994.38|\n",
      "|          Manipur|                       13|                     329.35|                       130|                      121.35|                     143|                     450.7|                658.7|\n",
      "|        Meghalaya|                      109|                    9193.27|                       405|                      763.15|                     514|                   9956.42|             18386.54|\n",
      "|          Mizoram|                        7|                       99.1|                        16|                       34.61|                      23|                    133.71|                198.2|\n",
      "|         Nagaland|                       15|                     223.16|                       125|                      161.35|                     140|                    384.51|               446.32|\n",
      "|           Odisha|                     1039|                   27918.31|                     10146|                     13218.4|                   11185|                  41136.71|             55836.62|\n",
      "+-----------------+-------------------------+---------------------------+--------------------------+----------------------------+------------------------+--------------------------+---------------------+\n",
      "only showing top 20 rows\n",
      "\n"
     ]
    }
   ],
   "source": [
    "#  complicated operations to create new column\n",
    "df.withColumn('Double_public_capital',df['Authorized Capital - public']*2).show()"
   ]
  },
  {
   "cell_type": "code",
   "execution_count": 27,
   "metadata": {
    "collapsed": true,
    "tags": [
     "Using",
     "Sql"
    ]
   },
   "outputs": [],
   "source": [
    "# Using sql\n",
    "# Register the DataFrame as a Sql temporary view\n",
    "df.createOrReplaceTempView('data')"
   ]
  },
  {
   "cell_type": "code",
   "execution_count": 28,
   "metadata": {
    "collapsed": true
   },
   "outputs": [],
   "source": [
    "sql_result = spark.sql(\"select * from data\")"
   ]
  },
  {
   "cell_type": "code",
   "execution_count": 29,
   "metadata": {},
   "outputs": [
    {
     "data": {
      "text/plain": [
       "DataFrame[State/UT: string, No. of Companies - Public: int, Authorized Capital - Public: double, No. of Companies - Private: int, Authorized Capital - Private: double, No. of Companies - Total: int, Authorized Capital - Total: double]"
      ]
     },
     "execution_count": 29,
     "metadata": {},
     "output_type": "execute_result"
    }
   ],
   "source": [
    "sql_result"
   ]
  },
  {
   "cell_type": "code",
   "execution_count": 45,
   "metadata": {},
   "outputs": [
    {
     "name": "stdout",
     "output_type": "stream",
     "text": [
      "+-----------------+-------------------------+---------------------------+--------------------------+----------------------------+------------------------+--------------------------+\n",
      "|         State/UT|No. of Companies - Public|Authorized Capital - Public|No. of Companies - Private|Authorized Capital - Private|No. of Companies - Total|Authorized Capital - Total|\n",
      "+-----------------+-------------------------+---------------------------+--------------------------+----------------------------+------------------------+--------------------------+\n",
      "|   Andhra Pradesh|                     3942|                  199444.03|                     55721|                    95290.49|                   59663|                 294734.52|\n",
      "|Arunachal Pradesh|                       16|                     889.85|                       156|                      208.74|                     172|                   1098.59|\n",
      "|            Assam|                      498|                   17108.29|                      4394|                     4192.81|                    4892|                   21301.1|\n",
      "|            Bihar|                      594|                    5871.69|                     10469|                     6118.87|                   11063|                  11990.56|\n",
      "|      Chhatisgarh|                      468|                   32154.54|                      5407|                     5368.12|                    5875|                  37522.66|\n",
      "+-----------------+-------------------------+---------------------------+--------------------------+----------------------------+------------------------+--------------------------+\n",
      "only showing top 5 rows\n",
      "\n"
     ]
    }
   ],
   "source": [
    "sql_result.show(5)"
   ]
  },
  {
   "cell_type": "code",
   "execution_count": null,
   "metadata": {
    "collapsed": true
   },
   "outputs": [],
   "source": []
  },
  {
   "cell_type": "code",
   "execution_count": null,
   "metadata": {
    "collapsed": true
   },
   "outputs": [],
   "source": []
  },
  {
   "cell_type": "code",
   "execution_count": null,
   "metadata": {
    "collapsed": true
   },
   "outputs": [],
   "source": []
  },
  {
   "cell_type": "code",
   "execution_count": null,
   "metadata": {
    "collapsed": true
   },
   "outputs": [],
   "source": []
  },
  {
   "cell_type": "code",
   "execution_count": null,
   "metadata": {
    "collapsed": true
   },
   "outputs": [],
   "source": []
  }
 ],
 "metadata": {
  "celltoolbar": "Tags",
  "kernelspec": {
   "display_name": "Python 3",
   "language": "python",
   "name": "python3"
  },
  "language_info": {
   "codemirror_mode": {
    "name": "ipython",
    "version": 3
   },
   "file_extension": ".py",
   "mimetype": "text/x-python",
   "name": "python",
   "nbconvert_exporter": "python",
   "pygments_lexer": "ipython3",
   "version": "3.6.1"
  },
  "widgets": {
   "application/vnd.jupyter.widget-state+json": {
    "state": {},
    "version_major": 1,
    "version_minor": 0
   }
  }
 },
 "nbformat": 4,
 "nbformat_minor": 2
}
