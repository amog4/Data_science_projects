{
 "cells": [
  {
   "cell_type": "markdown",
   "metadata": {},
   "source": [
    "This data set comes from a bike sharing service in US. This data set requires you to exercise your pro data munging skills. The data set is provided quarter wise from 2010 (Q4) onwards. Each file has 7 columns. It is a classification problem."
   ]
  },
  {
   "cell_type": "markdown",
   "metadata": {
    "collapsed": true
   },
   "source": [
    "Duration – Duration of trip\n",
    "Start Date – Includes start date and time\n",
    "End Date – Includes end date and time\n",
    "Start Station – Includes starting station name and number\n",
    "End Station – Includes ending station name and number\n",
    "Bike Number – Includes ID number of bike used for the trip\n",
    "Member Type – Indicates whether user was a \"registered\" member (Annual Member, 30-Day Member or Day Key Member) or a \"casual\" rider (Single Trip, 24-Hour Pass, 3-Day Pass or 5-Day Pass)"
   ]
  },
  {
   "cell_type": "code",
   "execution_count": 1,
   "metadata": {
    "collapsed": true
   },
   "outputs": [],
   "source": [
    "# road map \n",
    "# "
   ]
  },
  {
   "cell_type": "code",
   "execution_count": 2,
   "metadata": {
    "collapsed": true
   },
   "outputs": [],
   "source": [
    "# import packages and data"
   ]
  },
  {
   "cell_type": "code",
   "execution_count": 3,
   "metadata": {
    "collapsed": true
   },
   "outputs": [],
   "source": [
    "import numpy as np\n",
    "import pandas as pd\n",
    "import matplotlib.pyplot as plt\n",
    "import seaborn as sns"
   ]
  },
  {
   "cell_type": "code",
   "execution_count": 4,
   "metadata": {
    "collapsed": true
   },
   "outputs": [],
   "source": [
    "data = pd.read_csv('D:\\\\2017-Q1-cabi-trips-history-data\\\\2017-Q1-Trips-History-Data.csv',parse_dates=['Start date','End date'],infer_datetime_format=True)"
   ]
  },
  {
   "cell_type": "code",
   "execution_count": 5,
   "metadata": {
    "scrolled": true
   },
   "outputs": [
    {
     "data": {
      "text/html": [
       "<div>\n",
       "<table border=\"1\" class=\"dataframe\">\n",
       "  <thead>\n",
       "    <tr style=\"text-align: right;\">\n",
       "      <th></th>\n",
       "      <th>Duration</th>\n",
       "      <th>Start date</th>\n",
       "      <th>End date</th>\n",
       "      <th>Start station number</th>\n",
       "      <th>Start station</th>\n",
       "      <th>End station number</th>\n",
       "      <th>End station</th>\n",
       "      <th>Bike number</th>\n",
       "      <th>Member Type</th>\n",
       "    </tr>\n",
       "  </thead>\n",
       "  <tbody>\n",
       "    <tr>\n",
       "      <th>0</th>\n",
       "      <td>1048876</td>\n",
       "      <td>2017-03-31 23:59:00</td>\n",
       "      <td>2017-04-01 00:17:00</td>\n",
       "      <td>31213</td>\n",
       "      <td>17th &amp; K St NW</td>\n",
       "      <td>31606</td>\n",
       "      <td>Potomac &amp; Pennsylvania Ave SE</td>\n",
       "      <td>W20784</td>\n",
       "      <td>Registered</td>\n",
       "    </tr>\n",
       "    <tr>\n",
       "      <th>1</th>\n",
       "      <td>223449</td>\n",
       "      <td>2017-03-31 23:59:00</td>\n",
       "      <td>2017-04-01 00:03:00</td>\n",
       "      <td>31104</td>\n",
       "      <td>Adams Mill &amp; Columbia Rd NW</td>\n",
       "      <td>31103</td>\n",
       "      <td>16th &amp; Harvard St NW</td>\n",
       "      <td>W20825</td>\n",
       "      <td>Registered</td>\n",
       "    </tr>\n",
       "    <tr>\n",
       "      <th>2</th>\n",
       "      <td>423494</td>\n",
       "      <td>2017-03-31 23:58:00</td>\n",
       "      <td>2017-04-01 00:05:00</td>\n",
       "      <td>31627</td>\n",
       "      <td>M St &amp; Delaware Ave NE</td>\n",
       "      <td>31614</td>\n",
       "      <td>11th &amp; H St NE</td>\n",
       "      <td>W20773</td>\n",
       "      <td>Registered</td>\n",
       "    </tr>\n",
       "    <tr>\n",
       "      <th>3</th>\n",
       "      <td>687015</td>\n",
       "      <td>2017-03-31 23:57:00</td>\n",
       "      <td>2017-04-01 00:08:00</td>\n",
       "      <td>31404</td>\n",
       "      <td>9th &amp; Upshur St NW</td>\n",
       "      <td>31281</td>\n",
       "      <td>8th &amp; O St NW</td>\n",
       "      <td>W01307</td>\n",
       "      <td>Registered</td>\n",
       "    </tr>\n",
       "    <tr>\n",
       "      <th>4</th>\n",
       "      <td>257919</td>\n",
       "      <td>2017-03-31 23:57:00</td>\n",
       "      <td>2017-04-01 00:02:00</td>\n",
       "      <td>31602</td>\n",
       "      <td>Park Rd &amp; Holmead Pl NW</td>\n",
       "      <td>31400</td>\n",
       "      <td>Georgia &amp; New Hampshire Ave NW</td>\n",
       "      <td>W21760</td>\n",
       "      <td>Registered</td>\n",
       "    </tr>\n",
       "  </tbody>\n",
       "</table>\n",
       "</div>"
      ],
      "text/plain": [
       "   Duration          Start date            End date  Start station number  \\\n",
       "0   1048876 2017-03-31 23:59:00 2017-04-01 00:17:00                 31213   \n",
       "1    223449 2017-03-31 23:59:00 2017-04-01 00:03:00                 31104   \n",
       "2    423494 2017-03-31 23:58:00 2017-04-01 00:05:00                 31627   \n",
       "3    687015 2017-03-31 23:57:00 2017-04-01 00:08:00                 31404   \n",
       "4    257919 2017-03-31 23:57:00 2017-04-01 00:02:00                 31602   \n",
       "\n",
       "                 Start station  End station number  \\\n",
       "0               17th & K St NW               31606   \n",
       "1  Adams Mill & Columbia Rd NW               31103   \n",
       "2       M St & Delaware Ave NE               31614   \n",
       "3           9th & Upshur St NW               31281   \n",
       "4      Park Rd & Holmead Pl NW               31400   \n",
       "\n",
       "                      End station Bike number Member Type  \n",
       "0   Potomac & Pennsylvania Ave SE      W20784  Registered  \n",
       "1            16th & Harvard St NW      W20825  Registered  \n",
       "2                  11th & H St NE      W20773  Registered  \n",
       "3                   8th & O St NW      W01307  Registered  \n",
       "4  Georgia & New Hampshire Ave NW      W21760  Registered  "
      ]
     },
     "execution_count": 5,
     "metadata": {},
     "output_type": "execute_result"
    }
   ],
   "source": [
    "data.head()"
   ]
  },
  {
   "cell_type": "code",
   "execution_count": 249,
   "metadata": {},
   "outputs": [
    {
     "data": {
      "text/plain": [
       "Registered    528433\n",
       "Casual        118075\n",
       "Name: Member Type, dtype: int64"
      ]
     },
     "execution_count": 249,
     "metadata": {},
     "output_type": "execute_result"
    }
   ],
   "source": [
    "data['Member Type'].value_counts()"
   ]
  },
  {
   "cell_type": "code",
   "execution_count": 250,
   "metadata": {
    "scrolled": false
   },
   "outputs": [
    {
     "name": "stdout",
     "output_type": "stream",
     "text": [
      "<class 'pandas.core.frame.DataFrame'>\n",
      "RangeIndex: 646508 entries, 0 to 646507\n",
      "Data columns (total 9 columns):\n",
      "Duration                646508 non-null int64\n",
      "Start date              646508 non-null datetime64[ns]\n",
      "End date                646508 non-null datetime64[ns]\n",
      "Start station number    646508 non-null int64\n",
      "Start station           646508 non-null object\n",
      "End station number      646508 non-null int64\n",
      "End station             646508 non-null object\n",
      "Bike number             646508 non-null object\n",
      "Member Type             646508 non-null object\n",
      "dtypes: datetime64[ns](2), int64(3), object(4)\n",
      "memory usage: 44.4+ MB\n"
     ]
    }
   ],
   "source": [
    "data.info()"
   ]
  },
  {
   "cell_type": "code",
   "execution_count": 251,
   "metadata": {},
   "outputs": [
    {
     "data": {
      "text/plain": [
       "(646508, 9)"
      ]
     },
     "execution_count": 251,
     "metadata": {},
     "output_type": "execute_result"
    }
   ],
   "source": [
    "data.shape"
   ]
  },
  {
   "cell_type": "code",
   "execution_count": 7,
   "metadata": {
    "collapsed": true
   },
   "outputs": [],
   "source": [
    "# start date"
   ]
  },
  {
   "cell_type": "code",
   "execution_count": 252,
   "metadata": {
    "collapsed": true
   },
   "outputs": [],
   "source": [
    "start_date = pd.DatetimeIndex(data['Start date'])"
   ]
  },
  {
   "cell_type": "code",
   "execution_count": 253,
   "metadata": {},
   "outputs": [
    {
     "data": {
      "text/plain": [
       "pandas.tseries.index.DatetimeIndex"
      ]
     },
     "execution_count": 253,
     "metadata": {},
     "output_type": "execute_result"
    }
   ],
   "source": [
    "type(start_date)"
   ]
  },
  {
   "cell_type": "code",
   "execution_count": 254,
   "metadata": {
    "collapsed": true
   },
   "outputs": [],
   "source": [
    "data['date'] = start_date.date"
   ]
  },
  {
   "cell_type": "code",
   "execution_count": 255,
   "metadata": {
    "collapsed": true
   },
   "outputs": [],
   "source": [
    "data['hour'] = start_date.hour"
   ]
  },
  {
   "cell_type": "code",
   "execution_count": 256,
   "metadata": {
    "collapsed": true
   },
   "outputs": [],
   "source": [
    "data['date']=data['date'].astype('datetime64')"
   ]
  },
  {
   "cell_type": "code",
   "execution_count": 23,
   "metadata": {
    "collapsed": true
   },
   "outputs": [],
   "source": [
    "#data.info()"
   ]
  },
  {
   "cell_type": "code",
   "execution_count": null,
   "metadata": {
    "collapsed": true
   },
   "outputs": [],
   "source": []
  },
  {
   "cell_type": "code",
   "execution_count": null,
   "metadata": {
    "collapsed": true
   },
   "outputs": [],
   "source": [
    "index = data.index.values"
   ]
  },
  {
   "cell_type": "code",
   "execution_count": 36,
   "metadata": {
    "collapsed": true
   },
   "outputs": [],
   "source": [
    "data['index']=index"
   ]
  },
  {
   "cell_type": "code",
   "execution_count": null,
   "metadata": {
    "collapsed": true
   },
   "outputs": [],
   "source": []
  },
  {
   "cell_type": "code",
   "execution_count": 35,
   "metadata": {
    "collapsed": true
   },
   "outputs": [],
   "source": [
    "# count by date"
   ]
  },
  {
   "cell_type": "code",
   "execution_count": 47,
   "metadata": {
    "collapsed": true
   },
   "outputs": [],
   "source": [
    "date_count = data.pivot_table('index',aggfunc='count',index='date',columns='Member Type')"
   ]
  },
  {
   "cell_type": "code",
   "execution_count": 49,
   "metadata": {},
   "outputs": [
    {
     "data": {
      "text/html": [
       "<div>\n",
       "<table border=\"1\" class=\"dataframe\">\n",
       "  <thead>\n",
       "    <tr style=\"text-align: right;\">\n",
       "      <th>Member Type</th>\n",
       "      <th>Casual</th>\n",
       "      <th>Registered</th>\n",
       "    </tr>\n",
       "    <tr>\n",
       "      <th>date</th>\n",
       "      <th></th>\n",
       "      <th></th>\n",
       "    </tr>\n",
       "  </thead>\n",
       "  <tbody>\n",
       "    <tr>\n",
       "      <th>2017-01-01</th>\n",
       "      <td>1580</td>\n",
       "      <td>2483</td>\n",
       "    </tr>\n",
       "    <tr>\n",
       "      <th>2017-01-02</th>\n",
       "      <td>181</td>\n",
       "      <td>1457</td>\n",
       "    </tr>\n",
       "    <tr>\n",
       "      <th>2017-01-03</th>\n",
       "      <td>254</td>\n",
       "      <td>3517</td>\n",
       "    </tr>\n",
       "    <tr>\n",
       "      <th>2017-01-04</th>\n",
       "      <td>748</td>\n",
       "      <td>6437</td>\n",
       "    </tr>\n",
       "    <tr>\n",
       "      <th>2017-01-05</th>\n",
       "      <td>402</td>\n",
       "      <td>5812</td>\n",
       "    </tr>\n",
       "  </tbody>\n",
       "</table>\n",
       "</div>"
      ],
      "text/plain": [
       "Member Type  Casual  Registered\n",
       "date                           \n",
       "2017-01-01     1580        2483\n",
       "2017-01-02      181        1457\n",
       "2017-01-03      254        3517\n",
       "2017-01-04      748        6437\n",
       "2017-01-05      402        5812"
      ]
     },
     "execution_count": 49,
     "metadata": {},
     "output_type": "execute_result"
    }
   ],
   "source": [
    "date_count.head()"
   ]
  },
  {
   "cell_type": "code",
   "execution_count": 68,
   "metadata": {},
   "outputs": [
    {
     "data": {
      "text/plain": [
       "<matplotlib.axes._subplots.AxesSubplot at 0x1fc86257c50>"
      ]
     },
     "execution_count": 68,
     "metadata": {},
     "output_type": "execute_result"
    },
    {
     "data": {
      "image/png": "[encoded data removed]",
      "text/plain": [
       "<matplotlib.figure.Figure at 0x1fc87abc8d0>"
      ]
     },
     "metadata": {},
     "output_type": "display_data"
    }
   ],
   "source": [
    "#%matplotlib inline\n",
    "plt.figure(figsize=(10,5))\n",
    "\n",
    "date_count['Casual'].plot(title='Casual')\n"
   ]
  },
  {
   "cell_type": "code",
   "execution_count": 69,
   "metadata": {},
   "outputs": [
    {
     "data": {
      "text/plain": [
       "<matplotlib.axes._subplots.AxesSubplot at 0x1fc8564b1d0>"
      ]
     },
     "execution_count": 69,
     "metadata": {},
     "output_type": "execute_result"
    },
    {
     "data": {
      "image/png": "[encoded data removed]",
      "text/plain": [
       "<matplotlib.figure.Figure at 0x1fc8564b390>"
      ]
     },
     "metadata": {},
     "output_type": "display_data"
    }
   ],
   "source": [
    "plt.figure(figsize=(10,5))\n",
    "\n",
    "date_count['Registered'].plot(title='Registered')"
   ]
  },
  {
   "cell_type": "code",
   "execution_count": 70,
   "metadata": {
    "collapsed": true
   },
   "outputs": [],
   "source": [
    "# we can clearly see the pattern there is a spike in months of feb 15 to 20 and march 25 to 26 for casual riders\n",
    "# for registered riders its almost constant but there seams to to a dip for few days in feb and march"
   ]
  },
  {
   "cell_type": "code",
   "execution_count": 72,
   "metadata": {
    "collapsed": true
   },
   "outputs": [],
   "source": [
    "by_week = date_count.groupby(date_count.index.dayofweek).mean()"
   ]
  },
  {
   "cell_type": "code",
   "execution_count": 73,
   "metadata": {},
   "outputs": [
    {
     "data": {
      "text/html": [
       "<div>\n",
       "<table border=\"1\" class=\"dataframe\">\n",
       "  <thead>\n",
       "    <tr style=\"text-align: right;\">\n",
       "      <th>Member Type</th>\n",
       "      <th>Casual</th>\n",
       "      <th>Registered</th>\n",
       "    </tr>\n",
       "  </thead>\n",
       "  <tbody>\n",
       "    <tr>\n",
       "      <th>0</th>\n",
       "      <td>1106.384615</td>\n",
       "      <td>5653.076923</td>\n",
       "    </tr>\n",
       "    <tr>\n",
       "      <th>1</th>\n",
       "      <td>779.538462</td>\n",
       "      <td>6526.153846</td>\n",
       "    </tr>\n",
       "    <tr>\n",
       "      <th>2</th>\n",
       "      <td>1001.615385</td>\n",
       "      <td>7553.923077</td>\n",
       "    </tr>\n",
       "    <tr>\n",
       "      <th>3</th>\n",
       "      <td>965.076923</td>\n",
       "      <td>7233.076923</td>\n",
       "    </tr>\n",
       "    <tr>\n",
       "      <th>4</th>\n",
       "      <td>979.538462</td>\n",
       "      <td>6069.461538</td>\n",
       "    </tr>\n",
       "    <tr>\n",
       "      <th>5</th>\n",
       "      <td>2644.166667</td>\n",
       "      <td>4251.500000</td>\n",
       "    </tr>\n",
       "    <tr>\n",
       "      <th>6</th>\n",
       "      <td>1809.769231</td>\n",
       "      <td>3688.538462</td>\n",
       "    </tr>\n",
       "  </tbody>\n",
       "</table>\n",
       "</div>"
      ],
      "text/plain": [
       "Member Type       Casual   Registered\n",
       "0            1106.384615  5653.076923\n",
       "1             779.538462  6526.153846\n",
       "2            1001.615385  7553.923077\n",
       "3             965.076923  7233.076923\n",
       "4             979.538462  6069.461538\n",
       "5            2644.166667  4251.500000\n",
       "6            1809.769231  3688.538462"
      ]
     },
     "execution_count": 73,
     "metadata": {},
     "output_type": "execute_result"
    }
   ],
   "source": [
    "by_week"
   ]
  },
  {
   "cell_type": "code",
   "execution_count": 79,
   "metadata": {},
   "outputs": [
    {
     "data": {
      "text/plain": [
       "<matplotlib.axes._subplots.AxesSubplot at 0x1fc8a031c88>"
      ]
     },
     "execution_count": 79,
     "metadata": {},
     "output_type": "execute_result"
    },
    {
     "data": {
      "image/png": "[encoded data removed]",
      "text/plain": [
       "<matplotlib.figure.Figure at 0x1fc8c09ae10>"
      ]
     },
     "metadata": {},
     "output_type": "display_data"
    }
   ],
   "source": [
    "by_week.plot(title='Avgerage use by day')\n"
   ]
  },
  {
   "cell_type": "code",
   "execution_count": 80,
   "metadata": {
    "collapsed": true
   },
   "outputs": [],
   "source": [
    "# on saturdaya and sunday there are more casuales "
   ]
  },
  {
   "cell_type": "code",
   "execution_count": 81,
   "metadata": {
    "collapsed": true
   },
   "outputs": [],
   "source": [
    "# lests see by hour"
   ]
  },
  {
   "cell_type": "code",
   "execution_count": 82,
   "metadata": {
    "collapsed": true
   },
   "outputs": [],
   "source": [
    "by_hour = data.pivot_table?"
   ]
  },
  {
   "cell_type": "code",
   "execution_count": 123,
   "metadata": {
    "collapsed": true
   },
   "outputs": [],
   "source": [
    "by_hour = data.pivot_table('index',aggfunc='count',index=['date','hour'],columns='Member Type').reset_index('hour')"
   ]
  },
  {
   "cell_type": "code",
   "execution_count": 124,
   "metadata": {
    "collapsed": true
   },
   "outputs": [],
   "source": [
    "#by_hour"
   ]
  },
  {
   "cell_type": "code",
   "execution_count": 125,
   "metadata": {
    "collapsed": true
   },
   "outputs": [],
   "source": [
    "by_hour['Weekend'] = (by_hour.index.dayofweek>5)"
   ]
  },
  {
   "cell_type": "code",
   "execution_count": 120,
   "metadata": {
    "collapsed": true
   },
   "outputs": [],
   "source": [
    "by_hour['weekday'] = by_hour.index.dayofweek<=5"
   ]
  },
  {
   "cell_type": "code",
   "execution_count": 126,
   "metadata": {},
   "outputs": [
    {
     "data": {
      "text/html": [
       "<div>\n",
       "<table border=\"1\" class=\"dataframe\">\n",
       "  <thead>\n",
       "    <tr style=\"text-align: right;\">\n",
       "      <th>Member Type</th>\n",
       "      <th>hour</th>\n",
       "      <th>Casual</th>\n",
       "      <th>Registered</th>\n",
       "      <th>Weekend</th>\n",
       "    </tr>\n",
       "    <tr>\n",
       "      <th>date</th>\n",
       "      <th></th>\n",
       "      <th></th>\n",
       "      <th></th>\n",
       "      <th></th>\n",
       "    </tr>\n",
       "  </thead>\n",
       "  <tbody>\n",
       "    <tr>\n",
       "      <th>2017-01-01</th>\n",
       "      <td>0</td>\n",
       "      <td>23.0</td>\n",
       "      <td>54.0</td>\n",
       "      <td>True</td>\n",
       "    </tr>\n",
       "    <tr>\n",
       "      <th>2017-01-01</th>\n",
       "      <td>1</td>\n",
       "      <td>16.0</td>\n",
       "      <td>64.0</td>\n",
       "      <td>True</td>\n",
       "    </tr>\n",
       "    <tr>\n",
       "      <th>2017-01-01</th>\n",
       "      <td>2</td>\n",
       "      <td>5.0</td>\n",
       "      <td>57.0</td>\n",
       "      <td>True</td>\n",
       "    </tr>\n",
       "    <tr>\n",
       "      <th>2017-01-01</th>\n",
       "      <td>3</td>\n",
       "      <td>3.0</td>\n",
       "      <td>15.0</td>\n",
       "      <td>True</td>\n",
       "    </tr>\n",
       "    <tr>\n",
       "      <th>2017-01-01</th>\n",
       "      <td>4</td>\n",
       "      <td>NaN</td>\n",
       "      <td>5.0</td>\n",
       "      <td>True</td>\n",
       "    </tr>\n",
       "  </tbody>\n",
       "</table>\n",
       "</div>"
      ],
      "text/plain": [
       "Member Type  hour  Casual  Registered Weekend\n",
       "date                                         \n",
       "2017-01-01      0    23.0        54.0    True\n",
       "2017-01-01      1    16.0        64.0    True\n",
       "2017-01-01      2     5.0        57.0    True\n",
       "2017-01-01      3     3.0        15.0    True\n",
       "2017-01-01      4     NaN         5.0    True"
      ]
     },
     "execution_count": 126,
     "metadata": {},
     "output_type": "execute_result"
    }
   ],
   "source": [
    "by_hour.head()"
   ]
  },
  {
   "cell_type": "code",
   "execution_count": 127,
   "metadata": {
    "collapsed": true
   },
   "outputs": [],
   "source": [
    "week_hour = by_hour.groupby(['Weekend','hour']).mean()"
   ]
  },
  {
   "cell_type": "code",
   "execution_count": 135,
   "metadata": {},
   "outputs": [
    {
     "data": {
      "text/plain": [
       "<matplotlib.axes._subplots.AxesSubplot at 0x1fca5c11160>"
      ]
     },
     "execution_count": 135,
     "metadata": {},
     "output_type": "execute_result"
    },
    {
     "data": {
      "image/png": "[encoded data removed]",
      "text/plain": [
       "<matplotlib.figure.Figure at 0x1fca5fcdba8>"
      ]
     },
     "metadata": {},
     "output_type": "display_data"
    }
   ],
   "source": [
    "week_hour.plot(title ='Avg hourly use')"
   ]
  },
  {
   "cell_type": "code",
   "execution_count": 205,
   "metadata": {
    "collapsed": true
   },
   "outputs": [],
   "source": [
    "duration = data"
   ]
  },
  {
   "cell_type": "code",
   "execution_count": 140,
   "metadata": {
    "collapsed": true
   },
   "outputs": [],
   "source": [
    "duration['Duration'] = duration['Duration']/60"
   ]
  },
  {
   "cell_type": "code",
   "execution_count": 147,
   "metadata": {
    "collapsed": true
   },
   "outputs": [],
   "source": [
    "gop = duration.groupby(\"Member Type\")"
   ]
  },
  {
   "cell_type": "code",
   "execution_count": 154,
   "metadata": {
    "collapsed": true
   },
   "outputs": [],
   "source": [
    "gop['Duration'].hist?"
   ]
  },
  {
   "cell_type": "code",
   "execution_count": 158,
   "metadata": {},
   "outputs": [
    {
     "data": {
      "text/plain": [
       "Member Type\n",
       "Casual        AxesSubplot(0.125,0.125;0.775x0.755)\n",
       "Registered    AxesSubplot(0.125,0.125;0.775x0.755)\n",
       "Name: Duration, dtype: object"
      ]
     },
     "execution_count": 158,
     "metadata": {},
     "output_type": "execute_result"
    },
    {
     "data": {
      "image/png": "[encoded data removed]",
      "text/plain": [
       "<matplotlib.figure.Figure at 0x1fcac4a8a20>"
      ]
     },
     "metadata": {},
     "output_type": "display_data"
    }
   ],
   "source": [
    "\n",
    "gop['Duration'].hist(bins=60,normed=True)"
   ]
  },
  {
   "cell_type": "code",
   "execution_count": 4,
   "metadata": {
    "collapsed": true
   },
   "outputs": [],
   "source": [
    "from bs4 import BeautifulSoup"
   ]
  },
  {
   "cell_type": "code",
   "execution_count": 5,
   "metadata": {
    "collapsed": true
   },
   "outputs": [],
   "source": [
    "import requests\n"
   ]
  },
  {
   "cell_type": "code",
   "execution_count": 6,
   "metadata": {
    "collapsed": true
   },
   "outputs": [],
   "source": [
    "url = 'https://feeds.capitalbikeshare.com/stations/stations.xml'"
   ]
  },
  {
   "cell_type": "code",
   "execution_count": 7,
   "metadata": {
    "collapsed": true
   },
   "outputs": [],
   "source": [
    "data = requests.get(url)"
   ]
  },
  {
   "cell_type": "code",
   "execution_count": 8,
   "metadata": {
    "collapsed": true
   },
   "outputs": [],
   "source": [
    "soup = BeautifulSoup(data.text,'lxml')"
   ]
  },
  {
   "cell_type": "code",
   "execution_count": 76,
   "metadata": {
    "collapsed": true
   },
   "outputs": [],
   "source": [
    "trip_location = []\n",
    "for i in soup.find_all('terminalname'):\n",
    "    trip_location.append(i.text)"
   ]
  },
  {
   "cell_type": "code",
   "execution_count": 63,
   "metadata": {
    "collapsed": true
   },
   "outputs": [],
   "source": [
    "x = []\n",
    "y=[]\n",
    "for i in soup.find_all('lat'):\n",
    "    x.append(i.text)\n",
    "for p in soup.find_all('long'):\n",
    "    y.append(p.text)\n"
   ]
  },
  {
   "cell_type": "code",
   "execution_count": 68,
   "metadata": {
    "collapsed": true
   },
   "outputs": [],
   "source": [
    "location = pd.DataFrame({'x':x,'y':y})"
   ]
  },
  {
   "cell_type": "code",
   "execution_count": 71,
   "metadata": {},
   "outputs": [
    {
     "name": "stdout",
     "output_type": "stream",
     "text": [
      "<class 'pandas.core.frame.DataFrame'>\n",
      "RangeIndex: 485 entries, 0 to 484\n",
      "Data columns (total 2 columns):\n",
      "x    485 non-null object\n",
      "y    485 non-null object\n",
      "dtypes: object(2)\n",
      "memory usage: 7.7+ KB\n"
     ]
    }
   ],
   "source": [
    "location.info()"
   ]
  },
  {
   "cell_type": "code",
   "execution_count": 74,
   "metadata": {
    "collapsed": true
   },
   "outputs": [],
   "source": [
    "location['x'] = location['x'].astype('float')"
   ]
  },
  {
   "cell_type": "code",
   "execution_count": 75,
   "metadata": {
    "collapsed": true
   },
   "outputs": [],
   "source": [
    "location['y'] = location['y'].astype('float')"
   ]
  },
  {
   "cell_type": "code",
   "execution_count": 77,
   "metadata": {
    "collapsed": true
   },
   "outputs": [],
   "source": [
    "location['trip_number'] = trip_location"
   ]
  },
  {
   "cell_type": "code",
   "execution_count": 83,
   "metadata": {
    "collapsed": true
   },
   "outputs": [],
   "source": [
    "location['z'] = list(zip(location['x'],location['y']))"
   ]
  },
  {
   "cell_type": "code",
   "execution_count": 80,
   "metadata": {
    "collapsed": true
   },
   "outputs": [],
   "source": [
    "location['trip_number'] = location['trip_number'].astype('int')"
   ]
  },
  {
   "cell_type": "code",
   "execution_count": null,
   "metadata": {
    "collapsed": true
   },
   "outputs": [],
   "source": []
  },
  {
   "cell_type": "code",
   "execution_count": 16,
   "metadata": {
    "collapsed": true
   },
   "outputs": [],
   "source": [
    "# merge the data sets"
   ]
  },
  {
   "cell_type": "code",
   "execution_count": 17,
   "metadata": {
    "collapsed": true
   },
   "outputs": [],
   "source": [
    "data = data.merge?"
   ]
  },
  {
   "cell_type": "code",
   "execution_count": 89,
   "metadata": {
    "collapsed": true
   },
   "outputs": [],
   "source": [
    "data3 = data.merge(location,how='',left_on='Start station number',right_on='trip_number')"
   ]
  },
  {
   "cell_type": "code",
   "execution_count": 126,
   "metadata": {
    "collapsed": true
   },
   "outputs": [],
   "source": [
    "l = data3.isnull"
   ]
  },
  {
   "cell_type": "code",
   "execution_count": 106,
   "metadata": {
    "collapsed": true,
    "scrolled": true
   },
   "outputs": [],
   "source": [
    "data3 = data.merge(location,how='left',left_on ='End station number',right_on ='trip_number')"
   ]
  },
  {
   "cell_type": "code",
   "execution_count": 107,
   "metadata": {},
   "outputs": [
    {
     "data": {
      "text/plain": [
       "Duration                0\n",
       "Start date              0\n",
       "End date                0\n",
       "Start station number    0\n",
       "Start station           0\n",
       "End station number      0\n",
       "End station             0\n",
       "Bike number             0\n",
       "Member Type             0\n",
       "x                       9\n",
       "y                       9\n",
       "trip_number             9\n",
       "z                       9\n",
       "dtype: int64"
      ]
     },
     "execution_count": 107,
     "metadata": {},
     "output_type": "execute_result"
    }
   ],
   "source": [
    "data3.isnull().sum()"
   ]
  },
  {
   "cell_type": "code",
   "execution_count": 117,
   "metadata": {},
   "outputs": [
    {
     "name": "stderr",
     "output_type": "stream",
     "text": [
      "C:\\Users\\amogh\\Anaconda3\\lib\\site-packages\\pandas\\indexes\\base.py:1434: VisibleDeprecationWarning: boolean index did not match indexed array along dimension 0; dimension is 646508 but corresponding boolean dimension is 13\n",
      "  result = getitem(key)\n"
     ]
    },
    {
     "data": {
      "text/plain": [
       "Int64Index([], dtype='int64')"
      ]
     },
     "execution_count": 117,
     "metadata": {},
     "output_type": "execute_result"
    }
   ],
   "source": [
    "data3.index[data3.isnull().all(axis=0)]"
   ]
  },
  {
   "cell_type": "code",
   "execution_count": 144,
   "metadata": {},
   "outputs": [
    {
     "data": {
      "text/html": [
       "<div>\n",
       "<table border=\"1\" class=\"dataframe\">\n",
       "  <thead>\n",
       "    <tr style=\"text-align: right;\">\n",
       "      <th></th>\n",
       "      <th>Duration</th>\n",
       "      <th>Start date</th>\n",
       "      <th>End date</th>\n",
       "      <th>Start station number</th>\n",
       "      <th>Start station</th>\n",
       "      <th>End station number</th>\n",
       "      <th>End station</th>\n",
       "      <th>Bike number</th>\n",
       "      <th>Member Type</th>\n",
       "      <th>x</th>\n",
       "      <th>y</th>\n",
       "      <th>trip_number</th>\n",
       "      <th>z</th>\n",
       "    </tr>\n",
       "  </thead>\n",
       "  <tbody>\n",
       "    <tr>\n",
       "      <th>52284</th>\n",
       "      <td>843482</td>\n",
       "      <td>2017-03-26 13:37:00</td>\n",
       "      <td>2017-03-26 13:51:00</td>\n",
       "      <td>32208</td>\n",
       "      <td>Tysons West Transit Center</td>\n",
       "      <td>32202</td>\n",
       "      <td>Solutions &amp; Greensboro Dr</td>\n",
       "      <td>W21340</td>\n",
       "      <td>Registered</td>\n",
       "      <td>NaN</td>\n",
       "      <td>NaN</td>\n",
       "      <td>NaN</td>\n",
       "      <td>NaN</td>\n",
       "    </tr>\n",
       "    <tr>\n",
       "      <th>170938</th>\n",
       "      <td>546314</td>\n",
       "      <td>2017-03-09 23:50:00</td>\n",
       "      <td>2017-03-09 23:59:00</td>\n",
       "      <td>32203</td>\n",
       "      <td>Tysons One Pl &amp; Chain Bridge Rd</td>\n",
       "      <td>32202</td>\n",
       "      <td>Solutions &amp; Greensboro Dr</td>\n",
       "      <td>W21355</td>\n",
       "      <td>Casual</td>\n",
       "      <td>NaN</td>\n",
       "      <td>NaN</td>\n",
       "      <td>NaN</td>\n",
       "      <td>NaN</td>\n",
       "    </tr>\n",
       "    <tr>\n",
       "      <th>284894</th>\n",
       "      <td>1699258</td>\n",
       "      <td>2017-02-24 12:03:00</td>\n",
       "      <td>2017-02-24 12:31:00</td>\n",
       "      <td>32202</td>\n",
       "      <td>Solutions &amp; Greensboro Dr</td>\n",
       "      <td>32202</td>\n",
       "      <td>Solutions &amp; Greensboro Dr</td>\n",
       "      <td>W23103</td>\n",
       "      <td>Casual</td>\n",
       "      <td>NaN</td>\n",
       "      <td>NaN</td>\n",
       "      <td>NaN</td>\n",
       "      <td>NaN</td>\n",
       "    </tr>\n",
       "    <tr>\n",
       "      <th>435492</th>\n",
       "      <td>143213</td>\n",
       "      <td>2017-02-06 13:37:00</td>\n",
       "      <td>2017-02-06 13:40:00</td>\n",
       "      <td>32221</td>\n",
       "      <td>Greensboro &amp; International Dr</td>\n",
       "      <td>32202</td>\n",
       "      <td>Solutions &amp; Greensboro Dr</td>\n",
       "      <td>W23053</td>\n",
       "      <td>Registered</td>\n",
       "      <td>NaN</td>\n",
       "      <td>NaN</td>\n",
       "      <td>NaN</td>\n",
       "      <td>NaN</td>\n",
       "    </tr>\n",
       "    <tr>\n",
       "      <th>467806</th>\n",
       "      <td>117515</td>\n",
       "      <td>2017-02-01 14:34:00</td>\n",
       "      <td>2017-02-01 14:36:00</td>\n",
       "      <td>32221</td>\n",
       "      <td>Greensboro &amp; International Dr</td>\n",
       "      <td>32202</td>\n",
       "      <td>Solutions &amp; Greensboro Dr</td>\n",
       "      <td>W23046</td>\n",
       "      <td>Registered</td>\n",
       "      <td>NaN</td>\n",
       "      <td>NaN</td>\n",
       "      <td>NaN</td>\n",
       "      <td>NaN</td>\n",
       "    </tr>\n",
       "    <tr>\n",
       "      <th>504939</th>\n",
       "      <td>179690</td>\n",
       "      <td>2017-01-26 17:40:00</td>\n",
       "      <td>2017-01-26 17:43:00</td>\n",
       "      <td>32202</td>\n",
       "      <td>Solutions &amp; Greensboro Dr</td>\n",
       "      <td>32202</td>\n",
       "      <td>Solutions &amp; Greensboro Dr</td>\n",
       "      <td>W23174</td>\n",
       "      <td>Registered</td>\n",
       "      <td>NaN</td>\n",
       "      <td>NaN</td>\n",
       "      <td>NaN</td>\n",
       "      <td>NaN</td>\n",
       "    </tr>\n",
       "    <tr>\n",
       "      <th>531479</th>\n",
       "      <td>125455</td>\n",
       "      <td>2017-01-22 14:03:00</td>\n",
       "      <td>2017-01-22 14:05:00</td>\n",
       "      <td>32221</td>\n",
       "      <td>Greensboro &amp; International Dr</td>\n",
       "      <td>32202</td>\n",
       "      <td>Solutions &amp; Greensboro Dr</td>\n",
       "      <td>W23103</td>\n",
       "      <td>Registered</td>\n",
       "      <td>NaN</td>\n",
       "      <td>NaN</td>\n",
       "      <td>NaN</td>\n",
       "      <td>NaN</td>\n",
       "    </tr>\n",
       "    <tr>\n",
       "      <th>559665</th>\n",
       "      <td>170599</td>\n",
       "      <td>2017-01-18 12:10:00</td>\n",
       "      <td>2017-01-18 12:13:00</td>\n",
       "      <td>32201</td>\n",
       "      <td>Westpark Dr &amp; Leesburg Pike</td>\n",
       "      <td>32202</td>\n",
       "      <td>Solutions &amp; Greensboro Dr</td>\n",
       "      <td>W23007</td>\n",
       "      <td>Registered</td>\n",
       "      <td>NaN</td>\n",
       "      <td>NaN</td>\n",
       "      <td>NaN</td>\n",
       "      <td>NaN</td>\n",
       "    </tr>\n",
       "    <tr>\n",
       "      <th>595419</th>\n",
       "      <td>618172</td>\n",
       "      <td>2017-01-12 08:22:00</td>\n",
       "      <td>2017-01-12 08:33:00</td>\n",
       "      <td>32205</td>\n",
       "      <td>Westpark &amp; Jones Branch Dr</td>\n",
       "      <td>32202</td>\n",
       "      <td>Solutions &amp; Greensboro Dr</td>\n",
       "      <td>W23040</td>\n",
       "      <td>Casual</td>\n",
       "      <td>NaN</td>\n",
       "      <td>NaN</td>\n",
       "      <td>NaN</td>\n",
       "      <td>NaN</td>\n",
       "    </tr>\n",
       "  </tbody>\n",
       "</table>\n",
       "</div>"
      ],
      "text/plain": [
       "        Duration          Start date            End date  \\\n",
       "52284     843482 2017-03-26 13:37:00 2017-03-26 13:51:00   \n",
       "170938    546314 2017-03-09 23:50:00 2017-03-09 23:59:00   \n",
       "284894   1699258 2017-02-24 12:03:00 2017-02-24 12:31:00   \n",
       "435492    143213 2017-02-06 13:37:00 2017-02-06 13:40:00   \n",
       "467806    117515 2017-02-01 14:34:00 2017-02-01 14:36:00   \n",
       "504939    179690 2017-01-26 17:40:00 2017-01-26 17:43:00   \n",
       "531479    125455 2017-01-22 14:03:00 2017-01-22 14:05:00   \n",
       "559665    170599 2017-01-18 12:10:00 2017-01-18 12:13:00   \n",
       "595419    618172 2017-01-12 08:22:00 2017-01-12 08:33:00   \n",
       "\n",
       "        Start station number                    Start station  \\\n",
       "52284                  32208       Tysons West Transit Center   \n",
       "170938                 32203  Tysons One Pl & Chain Bridge Rd   \n",
       "284894                 32202        Solutions & Greensboro Dr   \n",
       "435492                 32221    Greensboro & International Dr   \n",
       "467806                 32221    Greensboro & International Dr   \n",
       "504939                 32202        Solutions & Greensboro Dr   \n",
       "531479                 32221    Greensboro & International Dr   \n",
       "559665                 32201      Westpark Dr & Leesburg Pike   \n",
       "595419                 32205       Westpark & Jones Branch Dr   \n",
       "\n",
       "        End station number                End station Bike number Member Type  \\\n",
       "52284                32202  Solutions & Greensboro Dr      W21340  Registered   \n",
       "170938               32202  Solutions & Greensboro Dr      W21355      Casual   \n",
       "284894               32202  Solutions & Greensboro Dr      W23103      Casual   \n",
       "435492               32202  Solutions & Greensboro Dr      W23053  Registered   \n",
       "467806               32202  Solutions & Greensboro Dr      W23046  Registered   \n",
       "504939               32202  Solutions & Greensboro Dr      W23174  Registered   \n",
       "531479               32202  Solutions & Greensboro Dr      W23103  Registered   \n",
       "559665               32202  Solutions & Greensboro Dr      W23007  Registered   \n",
       "595419               32202  Solutions & Greensboro Dr      W23040      Casual   \n",
       "\n",
       "         x   y  trip_number    z  \n",
       "52284  NaN NaN          NaN  NaN  \n",
       "170938 NaN NaN          NaN  NaN  \n",
       "284894 NaN NaN          NaN  NaN  \n",
       "435492 NaN NaN          NaN  NaN  \n",
       "467806 NaN NaN          NaN  NaN  \n",
       "504939 NaN NaN          NaN  NaN  \n",
       "531479 NaN NaN          NaN  NaN  \n",
       "559665 NaN NaN          NaN  NaN  \n",
       "595419 NaN NaN          NaN  NaN  "
      ]
     },
     "execution_count": 144,
     "metadata": {},
     "output_type": "execute_result"
    }
   ],
   "source": [
    "data3[pd.isnull(data3['z'])]"
   ]
  },
  {
   "cell_type": "code",
   "execution_count": 155,
   "metadata": {
    "collapsed": true
   },
   "outputs": [],
   "source": [
    "data3.dropna(how='all',inplace=True)"
   ]
  },
  {
   "cell_type": "code",
   "execution_count": null,
   "metadata": {
    "collapsed": true
   },
   "outputs": [],
   "source": []
  },
  {
   "cell_type": "code",
   "execution_count": 158,
   "metadata": {
    "collapsed": true
   },
   "outputs": [],
   "source": [
    "data3.drop(['x','y','trip_number'],inplace=True,axis=1)"
   ]
  },
  {
   "cell_type": "code",
   "execution_count": 159,
   "metadata": {},
   "outputs": [
    {
     "data": {
      "text/html": [
       "<div>\n",
       "<table border=\"1\" class=\"dataframe\">\n",
       "  <thead>\n",
       "    <tr style=\"text-align: right;\">\n",
       "      <th></th>\n",
       "      <th>Duration</th>\n",
       "      <th>Start date</th>\n",
       "      <th>End date</th>\n",
       "      <th>Start station number</th>\n",
       "      <th>Start station</th>\n",
       "      <th>End station number</th>\n",
       "      <th>End station</th>\n",
       "      <th>Bike number</th>\n",
       "      <th>Member Type</th>\n",
       "      <th>z</th>\n",
       "    </tr>\n",
       "  </thead>\n",
       "  <tbody>\n",
       "    <tr>\n",
       "      <th>0</th>\n",
       "      <td>1048876</td>\n",
       "      <td>2017-03-31 23:59:00</td>\n",
       "      <td>2017-04-01 00:17:00</td>\n",
       "      <td>31213</td>\n",
       "      <td>17th &amp; K St NW</td>\n",
       "      <td>31606</td>\n",
       "      <td>Potomac &amp; Pennsylvania Ave SE</td>\n",
       "      <td>W20784</td>\n",
       "      <td>Registered</td>\n",
       "      <td>(38.8803, -76.9862)</td>\n",
       "    </tr>\n",
       "    <tr>\n",
       "      <th>1</th>\n",
       "      <td>223449</td>\n",
       "      <td>2017-03-31 23:59:00</td>\n",
       "      <td>2017-04-01 00:03:00</td>\n",
       "      <td>31104</td>\n",
       "      <td>Adams Mill &amp; Columbia Rd NW</td>\n",
       "      <td>31103</td>\n",
       "      <td>16th &amp; Harvard St NW</td>\n",
       "      <td>W20825</td>\n",
       "      <td>Registered</td>\n",
       "      <td>(38.926088, -77.036536)</td>\n",
       "    </tr>\n",
       "    <tr>\n",
       "      <th>2</th>\n",
       "      <td>423494</td>\n",
       "      <td>2017-03-31 23:58:00</td>\n",
       "      <td>2017-04-01 00:05:00</td>\n",
       "      <td>31627</td>\n",
       "      <td>M St &amp; Delaware Ave NE</td>\n",
       "      <td>31614</td>\n",
       "      <td>11th &amp; H St NE</td>\n",
       "      <td>W20773</td>\n",
       "      <td>Registered</td>\n",
       "      <td>(38.899983, -76.991383)</td>\n",
       "    </tr>\n",
       "    <tr>\n",
       "      <th>3</th>\n",
       "      <td>687015</td>\n",
       "      <td>2017-03-31 23:57:00</td>\n",
       "      <td>2017-04-01 00:08:00</td>\n",
       "      <td>31404</td>\n",
       "      <td>9th &amp; Upshur St NW</td>\n",
       "      <td>31281</td>\n",
       "      <td>8th &amp; O St NW</td>\n",
       "      <td>W01307</td>\n",
       "      <td>Registered</td>\n",
       "      <td>(38.90864, -77.02277)</td>\n",
       "    </tr>\n",
       "    <tr>\n",
       "      <th>4</th>\n",
       "      <td>257919</td>\n",
       "      <td>2017-03-31 23:57:00</td>\n",
       "      <td>2017-04-01 00:02:00</td>\n",
       "      <td>31602</td>\n",
       "      <td>Park Rd &amp; Holmead Pl NW</td>\n",
       "      <td>31400</td>\n",
       "      <td>Georgia &amp; New Hampshire Ave NW</td>\n",
       "      <td>W21760</td>\n",
       "      <td>Registered</td>\n",
       "      <td>(38.936043, -77.024649)</td>\n",
       "    </tr>\n",
       "  </tbody>\n",
       "</table>\n",
       "</div>"
      ],
      "text/plain": [
       "   Duration          Start date            End date  Start station number  \\\n",
       "0   1048876 2017-03-31 23:59:00 2017-04-01 00:17:00                 31213   \n",
       "1    223449 2017-03-31 23:59:00 2017-04-01 00:03:00                 31104   \n",
       "2    423494 2017-03-31 23:58:00 2017-04-01 00:05:00                 31627   \n",
       "3    687015 2017-03-31 23:57:00 2017-04-01 00:08:00                 31404   \n",
       "4    257919 2017-03-31 23:57:00 2017-04-01 00:02:00                 31602   \n",
       "\n",
       "                 Start station  End station number  \\\n",
       "0               17th & K St NW               31606   \n",
       "1  Adams Mill & Columbia Rd NW               31103   \n",
       "2       M St & Delaware Ave NE               31614   \n",
       "3           9th & Upshur St NW               31281   \n",
       "4      Park Rd & Holmead Pl NW               31400   \n",
       "\n",
       "                      End station Bike number Member Type  \\\n",
       "0   Potomac & Pennsylvania Ave SE      W20784  Registered   \n",
       "1            16th & Harvard St NW      W20825  Registered   \n",
       "2                  11th & H St NE      W20773  Registered   \n",
       "3                   8th & O St NW      W01307  Registered   \n",
       "4  Georgia & New Hampshire Ave NW      W21760  Registered   \n",
       "\n",
       "                         z  \n",
       "0      (38.8803, -76.9862)  \n",
       "1  (38.926088, -77.036536)  \n",
       "2  (38.899983, -76.991383)  \n",
       "3    (38.90864, -77.02277)  \n",
       "4  (38.936043, -77.024649)  "
      ]
     },
     "execution_count": 159,
     "metadata": {},
     "output_type": "execute_result"
    }
   ],
   "source": [
    "data3.head()"
   ]
  },
  {
   "cell_type": "code",
   "execution_count": 167,
   "metadata": {
    "collapsed": true
   },
   "outputs": [],
   "source": [
    "from geopy.distance import distance"
   ]
  },
  {
   "cell_type": "code",
   "execution_count": 164,
   "metadata": {
    "scrolled": true
   },
   "outputs": [
    {
     "name": "stdout",
     "output_type": "stream",
     "text": [
      "Duration\n",
      "Start date\n",
      "End date\n",
      "Start station number\n",
      "Start station\n",
      "End station number\n",
      "End station\n",
      "Bike number\n",
      "Member Type\n"
     ]
    }
   ],
   "source": [
    "for w in data3.columns:\n",
    "    if w != 'z':\n",
    "        print(w)\n",
    "    else:\n",
    "        'Start station number'"
   ]
  },
  {
   "cell_type": "code",
   "execution_count": 174,
   "metadata": {
    "collapsed": true
   },
   "outputs": [],
   "source": [
    "data3['distance'] = data3.apply(lambda row: distance(row['Start station number'],row['End station number']).miles,axis=1)"
   ]
  },
  {
   "cell_type": "code",
   "execution_count": 182,
   "metadata": {
    "collapsed": true
   },
   "outputs": [],
   "source": [
    "data_dist_ca = data3[data3['Member Type'] == 'Casual']['distance']"
   ]
  },
  {
   "cell_type": "code",
   "execution_count": 183,
   "metadata": {
    "collapsed": true
   },
   "outputs": [],
   "source": [
    "data_dist_re = data3[data3['Member Type'] == 'Registered']['distance']"
   ]
  },
  {
   "cell_type": "code",
   "execution_count": 196,
   "metadata": {},
   "outputs": [
    {
     "data": {
      "text/plain": [
       "<matplotlib.axes._subplots.AxesSubplot at 0x1323a8d36d8>"
      ]
     },
     "execution_count": 196,
     "metadata": {},
     "output_type": "execute_result"
    },
    {
     "data": {
      "image/png": "[encoded data removed]",
      "text/plain": [
       "<matplotlib.figure.Figure at 0x1323a8965f8>"
      ]
     },
     "metadata": {},
     "output_type": "display_data"
    }
   ],
   "source": [
    "sns.distplot(data_dist_ca,kde=False)\n",
    "sns.distplot(data_dist_re,kde=False)"
   ]
  },
  {
   "cell_type": "code",
   "execution_count": 194,
   "metadata": {
    "collapsed": true
   },
   "outputs": [],
   "source": [
    "sns.distplot"
   ]
  },
  {
   "cell_type": "code",
   "execution_count": null,
   "metadata": {
    "collapsed": true
   },
   "outputs": [],
   "source": [
    "# speed \n",
    "#D = S * t"
   ]
  },
  {
   "cell_type": "code",
   "execution_count": 215,
   "metadata": {
    "collapsed": true
   },
   "outputs": [],
   "source": [
    "dist_speed_cas = (data_dist_ca*60*60)/p"
   ]
  },
  {
   "cell_type": "code",
   "execution_count": 212,
   "metadata": {
    "collapsed": true
   },
   "outputs": [],
   "source": [
    "p = data3[data3['Member Type'] == 'Casual']['Duration']"
   ]
  },
  {
   "cell_type": "code",
   "execution_count": 214,
   "metadata": {
    "collapsed": true
   },
   "outputs": [],
   "source": [
    "l = data3[data3['Member Type'] == 'Registered']['Duration']"
   ]
  },
  {
   "cell_type": "code",
   "execution_count": 217,
   "metadata": {
    "collapsed": true
   },
   "outputs": [],
   "source": [
    "dist_speed = (data_dist_re*60*60)/l"
   ]
  },
  {
   "cell_type": "code",
   "execution_count": 244,
   "metadata": {},
   "outputs": [
    {
     "data": {
      "text/plain": [
       "Text(0,0.5,'speed')"
      ]
     },
     "execution_count": 244,
     "metadata": {},
     "output_type": "execute_result"
    },
    {
     "data": {
      "image/png": "[encoded data removed]",
      "text/plain": [
       "<matplotlib.figure.Figure at 0x1324ccde828>"
      ]
     },
     "metadata": {},
     "output_type": "display_data"
    }
   ],
   "source": [
    "#plt.figure(figsize=(10,5))\n",
    "plt.scatter(data_dist_ca,dist_speed_cas)\n",
    "plt.xlabel('distance')\n",
    "plt.ylabel('speed')\n",
    "#sns.distplot(dist_speed,kde=False)"
   ]
  },
  {
   "cell_type": "code",
   "execution_count": 248,
   "metadata": {},
   "outputs": [
    {
     "data": {
      "text/plain": [
       "Text(0,0.5,'speed')"
      ]
     },
     "execution_count": 248,
     "metadata": {},
     "output_type": "execute_result"
    },
    {
     "data": {
      "image/png": "[encoded data removed]",
      "text/plain": [
       "<matplotlib.figure.Figure at 0x1324cd72240>"
      ]
     },
     "metadata": {},
     "output_type": "display_data"
    }
   ],
   "source": [
    "plt.scatter(data_dist_re,dist_speed)\n",
    "plt.xlabel('distance')\n",
    "plt.ylabel('speed')\n"
   ]
  },
  {
   "cell_type": "code",
   "execution_count": 302,
   "metadata": {},
   "outputs": [
    {
     "data": {
      "text/plain": [
       "452"
      ]
     },
     "execution_count": 302,
     "metadata": {},
     "output_type": "execute_result"
    }
   ],
   "source": [
    "len(data['Start station'].unique())"
   ]
  },
  {
   "cell_type": "code",
   "execution_count": 303,
   "metadata": {},
   "outputs": [
    {
     "data": {
      "text/plain": [
       "4298"
      ]
     },
     "execution_count": 303,
     "metadata": {},
     "output_type": "execute_result"
    }
   ],
   "source": [
    "len(data['Bike number'].unique())"
   ]
  },
  {
   "cell_type": "code",
   "execution_count": 304,
   "metadata": {},
   "outputs": [
    {
     "data": {
      "text/plain": [
       "452"
      ]
     },
     "execution_count": 304,
     "metadata": {},
     "output_type": "execute_result"
    }
   ],
   "source": [
    "len(data['Start station number'].unique())"
   ]
  },
  {
   "cell_type": "code",
   "execution_count": 7,
   "metadata": {},
   "outputs": [
    {
     "data": {
      "text/html": [
       "<div>\n",
       "<table border=\"1\" class=\"dataframe\">\n",
       "  <thead>\n",
       "    <tr style=\"text-align: right;\">\n",
       "      <th></th>\n",
       "      <th>Duration</th>\n",
       "      <th>Start date</th>\n",
       "      <th>End date</th>\n",
       "      <th>Start station number</th>\n",
       "      <th>Start station</th>\n",
       "      <th>End station number</th>\n",
       "      <th>End station</th>\n",
       "      <th>Bike number</th>\n",
       "      <th>Member Type</th>\n",
       "    </tr>\n",
       "  </thead>\n",
       "  <tbody>\n",
       "    <tr>\n",
       "      <th>0</th>\n",
       "      <td>1048876</td>\n",
       "      <td>2017-03-31 23:59:00</td>\n",
       "      <td>2017-04-01 00:17:00</td>\n",
       "      <td>31213</td>\n",
       "      <td>17th &amp; K St NW</td>\n",
       "      <td>31606</td>\n",
       "      <td>Potomac &amp; Pennsylvania Ave SE</td>\n",
       "      <td>W20784</td>\n",
       "      <td>Registered</td>\n",
       "    </tr>\n",
       "    <tr>\n",
       "      <th>1</th>\n",
       "      <td>223449</td>\n",
       "      <td>2017-03-31 23:59:00</td>\n",
       "      <td>2017-04-01 00:03:00</td>\n",
       "      <td>31104</td>\n",
       "      <td>Adams Mill &amp; Columbia Rd NW</td>\n",
       "      <td>31103</td>\n",
       "      <td>16th &amp; Harvard St NW</td>\n",
       "      <td>W20825</td>\n",
       "      <td>Registered</td>\n",
       "    </tr>\n",
       "  </tbody>\n",
       "</table>\n",
       "</div>"
      ],
      "text/plain": [
       "   Duration          Start date            End date  Start station number  \\\n",
       "0   1048876 2017-03-31 23:59:00 2017-04-01 00:17:00                 31213   \n",
       "1    223449 2017-03-31 23:59:00 2017-04-01 00:03:00                 31104   \n",
       "\n",
       "                 Start station  End station number  \\\n",
       "0               17th & K St NW               31606   \n",
       "1  Adams Mill & Columbia Rd NW               31103   \n",
       "\n",
       "                     End station Bike number Member Type  \n",
       "0  Potomac & Pennsylvania Ave SE      W20784  Registered  \n",
       "1           16th & Harvard St NW      W20825  Registered  "
      ]
     },
     "execution_count": 7,
     "metadata": {},
     "output_type": "execute_result"
    }
   ],
   "source": [
    "data.head(2)"
   ]
  },
  {
   "cell_type": "code",
   "execution_count": 8,
   "metadata": {
    "collapsed": true
   },
   "outputs": [],
   "source": [
    "from sklearn.preprocessing import Normalizer"
   ]
  },
  {
   "cell_type": "code",
   "execution_count": 9,
   "metadata": {
    "collapsed": true
   },
   "outputs": [],
   "source": [
    "N = Normalizer()"
   ]
  },
  {
   "cell_type": "code",
   "execution_count": 27,
   "metadata": {},
   "outputs": [
    {
     "data": {
      "text/plain": [
       "Index(['Duration', 'Start date', 'End date', 'Start station number',\n",
       "       'Start station', 'End station number', 'End station', 'Bike number',\n",
       "       'Member Type', 'start_hour', 'start_minutes', 'start_sec', 'end_hour',\n",
       "       'end_minutes', 'end_sec', 'day_week', 'day_week_end'],\n",
       "      dtype='object')"
      ]
     },
     "execution_count": 27,
     "metadata": {},
     "output_type": "execute_result"
    }
   ],
   "source": [
    "data.columns"
   ]
  },
  {
   "cell_type": "code",
   "execution_count": null,
   "metadata": {
    "collapsed": true
   },
   "outputs": [],
   "source": [
    "#features =['Duration', 'Start date', 'End date', 'Start station number',\n",
    "      # , 'End station number', 'Bike number']"
   ]
  },
  {
   "cell_type": "code",
   "execution_count": 13,
   "metadata": {
    "collapsed": true
   },
   "outputs": [],
   "source": [
    "date_start = pd.DatetimeIndex(data['Start date'])"
   ]
  },
  {
   "cell_type": "code",
   "execution_count": 14,
   "metadata": {
    "collapsed": true
   },
   "outputs": [],
   "source": [
    "date_end = pd.DatetimeIndex(data['End date'])"
   ]
  },
  {
   "cell_type": "code",
   "execution_count": 15,
   "metadata": {
    "collapsed": true
   },
   "outputs": [],
   "source": [
    "data['start_hour'] = date_start.hour"
   ]
  },
  {
   "cell_type": "code",
   "execution_count": 16,
   "metadata": {
    "collapsed": true
   },
   "outputs": [],
   "source": [
    "data['start_minutes'] = date_start.minute"
   ]
  },
  {
   "cell_type": "code",
   "execution_count": 19,
   "metadata": {
    "collapsed": true
   },
   "outputs": [],
   "source": [
    "data['start_sec'] = date_start.second"
   ]
  },
  {
   "cell_type": "code",
   "execution_count": 21,
   "metadata": {
    "collapsed": true
   },
   "outputs": [],
   "source": [
    "data['end_hour'] = date_end.hour"
   ]
  },
  {
   "cell_type": "code",
   "execution_count": 22,
   "metadata": {
    "collapsed": true
   },
   "outputs": [],
   "source": [
    "data['end_minutes'] = date_end.minute"
   ]
  },
  {
   "cell_type": "code",
   "execution_count": 23,
   "metadata": {
    "collapsed": true
   },
   "outputs": [],
   "source": [
    "data['end_sec'] = date_end.second"
   ]
  },
  {
   "cell_type": "code",
   "execution_count": 24,
   "metadata": {
    "collapsed": true
   },
   "outputs": [],
   "source": [
    "data['day_week']= date_start.dayofweek"
   ]
  },
  {
   "cell_type": "code",
   "execution_count": 25,
   "metadata": {
    "collapsed": true
   },
   "outputs": [],
   "source": [
    "data['day_week_end'] = date_end.dayofweek"
   ]
  },
  {
   "cell_type": "code",
   "execution_count": 26,
   "metadata": {},
   "outputs": [
    {
     "data": {
      "text/html": [
       "<div>\n",
       "<table border=\"1\" class=\"dataframe\">\n",
       "  <thead>\n",
       "    <tr style=\"text-align: right;\">\n",
       "      <th></th>\n",
       "      <th>Duration</th>\n",
       "      <th>Start date</th>\n",
       "      <th>End date</th>\n",
       "      <th>Start station number</th>\n",
       "      <th>Start station</th>\n",
       "      <th>End station number</th>\n",
       "      <th>End station</th>\n",
       "      <th>Bike number</th>\n",
       "      <th>Member Type</th>\n",
       "      <th>start_hour</th>\n",
       "      <th>start_minutes</th>\n",
       "      <th>start_sec</th>\n",
       "      <th>end_hour</th>\n",
       "      <th>end_minutes</th>\n",
       "      <th>end_sec</th>\n",
       "      <th>day_week</th>\n",
       "      <th>day_week_end</th>\n",
       "    </tr>\n",
       "  </thead>\n",
       "  <tbody>\n",
       "    <tr>\n",
       "      <th>0</th>\n",
       "      <td>1048876</td>\n",
       "      <td>2017-03-31 23:59:00</td>\n",
       "      <td>2017-04-01 00:17:00</td>\n",
       "      <td>31213</td>\n",
       "      <td>17th &amp; K St NW</td>\n",
       "      <td>31606</td>\n",
       "      <td>Potomac &amp; Pennsylvania Ave SE</td>\n",
       "      <td>W20784</td>\n",
       "      <td>Registered</td>\n",
       "      <td>23</td>\n",
       "      <td>59</td>\n",
       "      <td>0</td>\n",
       "      <td>0</td>\n",
       "      <td>17</td>\n",
       "      <td>0</td>\n",
       "      <td>4</td>\n",
       "      <td>5</td>\n",
       "    </tr>\n",
       "    <tr>\n",
       "      <th>1</th>\n",
       "      <td>223449</td>\n",
       "      <td>2017-03-31 23:59:00</td>\n",
       "      <td>2017-04-01 00:03:00</td>\n",
       "      <td>31104</td>\n",
       "      <td>Adams Mill &amp; Columbia Rd NW</td>\n",
       "      <td>31103</td>\n",
       "      <td>16th &amp; Harvard St NW</td>\n",
       "      <td>W20825</td>\n",
       "      <td>Registered</td>\n",
       "      <td>23</td>\n",
       "      <td>59</td>\n",
       "      <td>0</td>\n",
       "      <td>0</td>\n",
       "      <td>3</td>\n",
       "      <td>0</td>\n",
       "      <td>4</td>\n",
       "      <td>5</td>\n",
       "    </tr>\n",
       "    <tr>\n",
       "      <th>2</th>\n",
       "      <td>423494</td>\n",
       "      <td>2017-03-31 23:58:00</td>\n",
       "      <td>2017-04-01 00:05:00</td>\n",
       "      <td>31627</td>\n",
       "      <td>M St &amp; Delaware Ave NE</td>\n",
       "      <td>31614</td>\n",
       "      <td>11th &amp; H St NE</td>\n",
       "      <td>W20773</td>\n",
       "      <td>Registered</td>\n",
       "      <td>23</td>\n",
       "      <td>58</td>\n",
       "      <td>0</td>\n",
       "      <td>0</td>\n",
       "      <td>5</td>\n",
       "      <td>0</td>\n",
       "      <td>4</td>\n",
       "      <td>5</td>\n",
       "    </tr>\n",
       "    <tr>\n",
       "      <th>3</th>\n",
       "      <td>687015</td>\n",
       "      <td>2017-03-31 23:57:00</td>\n",
       "      <td>2017-04-01 00:08:00</td>\n",
       "      <td>31404</td>\n",
       "      <td>9th &amp; Upshur St NW</td>\n",
       "      <td>31281</td>\n",
       "      <td>8th &amp; O St NW</td>\n",
       "      <td>W01307</td>\n",
       "      <td>Registered</td>\n",
       "      <td>23</td>\n",
       "      <td>57</td>\n",
       "      <td>0</td>\n",
       "      <td>0</td>\n",
       "      <td>8</td>\n",
       "      <td>0</td>\n",
       "      <td>4</td>\n",
       "      <td>5</td>\n",
       "    </tr>\n",
       "    <tr>\n",
       "      <th>4</th>\n",
       "      <td>257919</td>\n",
       "      <td>2017-03-31 23:57:00</td>\n",
       "      <td>2017-04-01 00:02:00</td>\n",
       "      <td>31602</td>\n",
       "      <td>Park Rd &amp; Holmead Pl NW</td>\n",
       "      <td>31400</td>\n",
       "      <td>Georgia &amp; New Hampshire Ave NW</td>\n",
       "      <td>W21760</td>\n",
       "      <td>Registered</td>\n",
       "      <td>23</td>\n",
       "      <td>57</td>\n",
       "      <td>0</td>\n",
       "      <td>0</td>\n",
       "      <td>2</td>\n",
       "      <td>0</td>\n",
       "      <td>4</td>\n",
       "      <td>5</td>\n",
       "    </tr>\n",
       "  </tbody>\n",
       "</table>\n",
       "</div>"
      ],
      "text/plain": [
       "   Duration          Start date            End date  Start station number  \\\n",
       "0   1048876 2017-03-31 23:59:00 2017-04-01 00:17:00                 31213   \n",
       "1    223449 2017-03-31 23:59:00 2017-04-01 00:03:00                 31104   \n",
       "2    423494 2017-03-31 23:58:00 2017-04-01 00:05:00                 31627   \n",
       "3    687015 2017-03-31 23:57:00 2017-04-01 00:08:00                 31404   \n",
       "4    257919 2017-03-31 23:57:00 2017-04-01 00:02:00                 31602   \n",
       "\n",
       "                 Start station  End station number  \\\n",
       "0               17th & K St NW               31606   \n",
       "1  Adams Mill & Columbia Rd NW               31103   \n",
       "2       M St & Delaware Ave NE               31614   \n",
       "3           9th & Upshur St NW               31281   \n",
       "4      Park Rd & Holmead Pl NW               31400   \n",
       "\n",
       "                      End station Bike number Member Type  start_hour  \\\n",
       "0   Potomac & Pennsylvania Ave SE      W20784  Registered          23   \n",
       "1            16th & Harvard St NW      W20825  Registered          23   \n",
       "2                  11th & H St NE      W20773  Registered          23   \n",
       "3                   8th & O St NW      W01307  Registered          23   \n",
       "4  Georgia & New Hampshire Ave NW      W21760  Registered          23   \n",
       "\n",
       "   start_minutes  start_sec  end_hour  end_minutes  end_sec  day_week  \\\n",
       "0             59          0         0           17        0         4   \n",
       "1             59          0         0            3        0         4   \n",
       "2             58          0         0            5        0         4   \n",
       "3             57          0         0            8        0         4   \n",
       "4             57          0         0            2        0         4   \n",
       "\n",
       "   day_week_end  \n",
       "0             5  \n",
       "1             5  \n",
       "2             5  \n",
       "3             5  \n",
       "4             5  "
      ]
     },
     "execution_count": 26,
     "metadata": {},
     "output_type": "execute_result"
    }
   ],
   "source": [
    "data.head()"
   ]
  },
  {
   "cell_type": "code",
   "execution_count": 28,
   "metadata": {
    "collapsed": true
   },
   "outputs": [],
   "source": [
    "features = ['Duration', 'Start station number',\n",
    "        'End station number', 'Bike number',\n",
    "       'start_hour', 'start_minutes', 'start_sec', 'end_hour',\n",
    "       'end_minutes', 'end_sec', 'day_week', 'day_week_end']"
   ]
  },
  {
   "cell_type": "code",
   "execution_count": null,
   "metadata": {
    "collapsed": true
   },
   "outputs": [],
   "source": []
  },
  {
   "cell_type": "code",
   "execution_count": 32,
   "metadata": {
    "collapsed": true
   },
   "outputs": [],
   "source": [
    "from sklearn.preprocessing import LabelEncoder"
   ]
  },
  {
   "cell_type": "code",
   "execution_count": 33,
   "metadata": {
    "collapsed": true
   },
   "outputs": [],
   "source": [
    "L = LabelEncoder()"
   ]
  },
  {
   "cell_type": "code",
   "execution_count": 34,
   "metadata": {
    "collapsed": true
   },
   "outputs": [],
   "source": [
    "data['Bike number'] = L.fit_transform(data['Bike number'])"
   ]
  },
  {
   "cell_type": "code",
   "execution_count": 35,
   "metadata": {
    "collapsed": true
   },
   "outputs": [],
   "source": [
    "data[features] = N.fit_transform(data[features])"
   ]
  },
  {
   "cell_type": "code",
   "execution_count": 36,
   "metadata": {
    "collapsed": true
   },
   "outputs": [],
   "source": [
    "data['Member Type'] = L.fit_transform(data['Member Type'])"
   ]
  },
  {
   "cell_type": "code",
   "execution_count": null,
   "metadata": {
    "collapsed": true
   },
   "outputs": [],
   "source": []
  },
  {
   "cell_type": "code",
   "execution_count": null,
   "metadata": {
    "collapsed": true
   },
   "outputs": [],
   "source": []
  },
  {
   "cell_type": "code",
   "execution_count": null,
   "metadata": {
    "collapsed": true
   },
   "outputs": [],
   "source": []
  },
  {
   "cell_type": "code",
   "execution_count": 39,
   "metadata": {
    "collapsed": true
   },
   "outputs": [],
   "source": [
    "from sklearn.cross_validation import train_test_split"
   ]
  },
  {
   "cell_type": "code",
   "execution_count": 41,
   "metadata": {
    "collapsed": true
   },
   "outputs": [],
   "source": [
    "X_train,X_test,Y_train,Y_test = train_test_split(data[features],data['Member Type'],test_size=0.3)"
   ]
  },
  {
   "cell_type": "code",
   "execution_count": 40,
   "metadata": {
    "collapsed": true
   },
   "outputs": [],
   "source": []
  },
  {
   "cell_type": "code",
   "execution_count": null,
   "metadata": {
    "collapsed": true
   },
   "outputs": [],
   "source": []
  },
  {
   "cell_type": "code",
   "execution_count": null,
   "metadata": {
    "collapsed": true
   },
   "outputs": [],
   "source": []
  },
  {
   "cell_type": "code",
   "execution_count": null,
   "metadata": {
    "collapsed": true
   },
   "outputs": [],
   "source": []
  },
  {
   "cell_type": "code",
   "execution_count": null,
   "metadata": {
    "collapsed": true
   },
   "outputs": [],
   "source": []
  },
  {
   "cell_type": "code",
   "execution_count": null,
   "metadata": {
    "collapsed": true
   },
   "outputs": [],
   "source": []
  },
  {
   "cell_type": "code",
   "execution_count": 37,
   "metadata": {
    "collapsed": true
   },
   "outputs": [],
   "source": [
    "\n",
    "from sklearn.tree import DecisionTreeClassifier"
   ]
  },
  {
   "cell_type": "code",
   "execution_count": 38,
   "metadata": {
    "collapsed": true
   },
   "outputs": [],
   "source": [
    "classifier = DecisionTreeClassifier()"
   ]
  },
  {
   "cell_type": "code",
   "execution_count": 42,
   "metadata": {},
   "outputs": [
    {
     "data": {
      "text/plain": [
       "DecisionTreeClassifier(class_weight=None, criterion='gini', max_depth=None,\n",
       "            max_features=None, max_leaf_nodes=None,\n",
       "            min_impurity_decrease=0.0, min_impurity_split=None,\n",
       "            min_samples_leaf=1, min_samples_split=2,\n",
       "            min_weight_fraction_leaf=0.0, presort=False, random_state=None,\n",
       "            splitter='best')"
      ]
     },
     "execution_count": 42,
     "metadata": {},
     "output_type": "execute_result"
    }
   ],
   "source": [
    "classifier.fit(X_train,Y_train)"
   ]
  },
  {
   "cell_type": "code",
   "execution_count": 67,
   "metadata": {
    "collapsed": true
   },
   "outputs": [],
   "source": [
    "Y_pred = classifier.predict(X_test)"
   ]
  },
  {
   "cell_type": "code",
   "execution_count": 45,
   "metadata": {
    "collapsed": true
   },
   "outputs": [],
   "source": [
    "importance = classifier.feature_importances_"
   ]
  },
  {
   "cell_type": "code",
   "execution_count": 46,
   "metadata": {
    "collapsed": true
   },
   "outputs": [],
   "source": [
    "indices = np.argsort(importance)[::-1]"
   ]
  },
  {
   "cell_type": "code",
   "execution_count": 60,
   "metadata": {},
   "outputs": [
    {
     "name": "stdout",
     "output_type": "stream",
     "text": [
      "End station number.....0.38931576335517226\n",
      "Start station number.....0.12357450921047611\n",
      "Bike number.....0.11590044536543766\n",
      "start_minutes.....0.07549585701734648\n",
      "end_minutes.....0.07379888858994553\n",
      "Duration.....0.06548081294389893\n",
      "end_hour.....0.05406235480807373\n",
      "start_hour.....0.05276142728592311\n",
      "day_week.....0.03648481399987699\n",
      "day_week_end.....0.013125127423849246\n",
      "end_sec.....0.0\n",
      "start_sec.....0.0\n"
     ]
    }
   ],
   "source": [
    "for i in range(X_train.shape[1]):\n",
    "    print('{}.....{}'.format(features[indices[i]],importance[indices[i]]))"
   ]
  },
  {
   "cell_type": "code",
   "execution_count": 62,
   "metadata": {
    "collapsed": true
   },
   "outputs": [],
   "source": [
    "from sklearn.metrics import confusion_matrix"
   ]
  },
  {
   "cell_type": "code",
   "execution_count": 69,
   "metadata": {
    "collapsed": true
   },
   "outputs": [],
   "source": [
    "con=confusion_matrix(Y_test,y_pred=Y_pred)"
   ]
  },
  {
   "cell_type": "code",
   "execution_count": 70,
   "metadata": {},
   "outputs": [
    {
     "data": {
      "text/plain": [
       "array([[ 18339,  17209],\n",
       "       [ 18935, 139470]], dtype=int64)"
      ]
     },
     "execution_count": 70,
     "metadata": {},
     "output_type": "execute_result"
    }
   ],
   "source": [
    "con"
   ]
  },
  {
   "cell_type": "code",
   "execution_count": 73,
   "metadata": {},
   "outputs": [
    {
     "data": {
      "text/plain": [
       "157809"
      ]
     },
     "execution_count": 73,
     "metadata": {},
     "output_type": "execute_result"
    }
   ],
   "source": [
    "con.diagonal().sum()"
   ]
  },
  {
   "cell_type": "code",
   "execution_count": 74,
   "metadata": {},
   "outputs": [
    {
     "data": {
      "text/plain": [
       "36144"
      ]
     },
     "execution_count": 74,
     "metadata": {},
     "output_type": "execute_result"
    }
   ],
   "source": [
    "18935+17209"
   ]
  },
  {
   "cell_type": "code",
   "execution_count": 75,
   "metadata": {},
   "outputs": [
    {
     "data": {
      "text/plain": [
       "0.8136455739277041"
      ]
     },
     "execution_count": 75,
     "metadata": {},
     "output_type": "execute_result"
    }
   ],
   "source": [
    "157809/(157809+36144)"
   ]
  },
  {
   "cell_type": "code",
   "execution_count": null,
   "metadata": {
    "collapsed": true
   },
   "outputs": [],
   "source": []
  },
  {
   "cell_type": "code",
   "execution_count": null,
   "metadata": {
    "collapsed": true
   },
   "outputs": [],
   "source": []
  }
 ],
 "metadata": {
  "kernelspec": {
   "display_name": "Python 3",
   "language": "python",
   "name": "python3"
  },
  "language_info": {
   "codemirror_mode": {
    "name": "ipython",
    "version": 3
   },
   "file_extension": ".py",
   "mimetype": "text/x-python",
   "name": "python",
   "nbconvert_exporter": "python",
   "pygments_lexer": "ipython3",
   "version": "3.6.1"
  }
 },
 "nbformat": 4,
 "nbformat_minor": 2
}
