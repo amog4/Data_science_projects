{
 "cells": [
  {
   "cell_type": "markdown",
   "metadata": {},
   "source": [
    "This data set contains weighted census data extracted from the 1994 and 1995 current population surveys conducted by the U.S. Census Bureau. The data contains demographic and employment related variables"
   ]
  },
  {
   "cell_type": "markdown",
   "metadata": {},
   "source": [
    "Prediction task is to determine the income level for the person\n",
    "| represented by the record.  Incomes have been binned at the $50K\n",
    "| level to present a binary classification problem, much like the\n",
    "| original UCI/ADULT database.  The goal field of this data, however,\n",
    "| was drawn from the \"total person income\" field rather than the\n",
    "| \"adjusted gross income\" and may, therefore, behave differently than the\n",
    "| orginal ADULT goal field."
   ]
  },
  {
   "cell_type": "markdown",
   "metadata": {},
   "source": [
    "age\t\t\t\t\t\tAAGE\n",
    "class of worker\t\t\t\t\tACLSWKR\n",
    "industry code\t\t\t\t\tADTIND\n",
    "occupation code\t\t\t\t\tADTOCC\n",
    "adjusted gross income\t\t\t\tAGI\n",
    "education\t\t\t\t\tAHGA\n",
    "wage per hour\t\t\t\t\tAHRSPAY\n",
    "enrolled in edu inst last wk\t\t\tAHSCOL\n",
    "marital status\t\t\t\t\tAMARITL\n",
    "major industry code\t\t\t\tAMJIND\n",
    "major occupation code\t\t\t\tAMJOCC\n",
    "mace\t\t\t\t\t\tARACE\n",
    "hispanic Origin\t\t\t\t\tAREORGN\n",
    "sex\t\t\t\t\t\tASEX\n",
    "member of a labor union\t\t\t\tAUNMEM\n",
    "reason for unemployment\t\t\t\tAUNTYPE\n",
    "full or part time employment stat\t\tAWKSTAT\n",
    "capital gains\t\t\t\t\tCAPGAIN\n",
    "capital losses\t\t\t\t\tCAPLOSS\n",
    "divdends from stocks\t\t\t\tDIVVAL\n",
    "federal income tax liability\t\t\tFEDTAX\n",
    "tax filer status\t\t\t\tFILESTAT\n",
    "region of previous residence\t\t\tGRINREG\n",
    "state of previous residence\t\t\tGRINST\n",
    "detailed household and family stat\t\tHHDFMX\n",
    "detailed household summary in household\t\tHHDREL\n",
    "instance weight\t\t\t\t\tMARSUPWT\n",
    "migration code-change in msa\t\t\tMIGMTR1\n",
    "migration code-change in reg\t\t\tMIGMTR3\n",
    "migration code-move within reg\t\t\tMIGMTR4\n",
    "live in this house 1 year ago\t\t\tMIGSAME\n",
    "migration prev res in sunbelt\t\t\tMIGSUN\n",
    "num persons worked for employer\t\t\tNOEMP\n",
    "family members under 18\t\t\t\tPARENT\n",
    "total person earnings\t\t\t\tPEARNVAL\n",
    "country of birth father\t\t\t\tPEFNTVTY\n",
    "country of birth mother\t\t\t\tPEMNTVTY\n",
    "country of birth self\t\t\t\tPENATVTY\n",
    "citizenship\t\t\t\t\tPRCITSHP\n",
    "total person income\t\t\t\tPTOTVAL\n",
    "own business or self employed\t\t\tSEOTR\n",
    "taxable income amount\t\t\t\tTAXINC\n",
    "fill inc questionnaire for veteran's admin\tVETQVA\n",
    "veterans benefits\t\t\t\tVETYN\n",
    "weeks worked in year\t\t\t\tWKSWORK\n",
    "Note that Incomes have been binned at the $50K level to present a binary classification problem, much like the original UCI/ADULT database. The goal field of this data, however, was drawn from the \"total person income\" field rather than the \"adjusted gross income\" and may, therefore, behave differently than the orginal ADULT goal field.\n"
   ]
  },
  {
   "cell_type": "markdown",
   "metadata": {},
   "source": [
    "road map\n",
    "\n",
    "look in to the data\n",
    "make some hypothesis\n",
    "descriptive statistics\n",
    "visualization\n",
    "preprocessing the data\n",
    "hypothesis\n",
    "\n",
    "modeling: classification \n",
    "naive bayes\n",
    "svm\n",
    "tree based\n"
   ]
  },
  {
   "cell_type": "code",
   "execution_count": 1,
   "metadata": {
    "collapsed": true
   },
   "outputs": [],
   "source": [
    "# load the packages and data"
   ]
  },
  {
   "cell_type": "code",
   "execution_count": 1,
   "metadata": {
    "collapsed": true
   },
   "outputs": [],
   "source": [
    "import numpy as np\n",
    "import pandas as pd\n",
    "import matplotlib.pyplot as plt\n",
    "import seaborn as sns\n",
    "%matplotlib inline"
   ]
  },
  {
   "cell_type": "code",
   "execution_count": 2,
   "metadata": {
    "collapsed": true
   },
   "outputs": [],
   "source": [
    "path = 'D:\\\\census-income.test'"
   ]
  },
  {
   "cell_type": "code",
   "execution_count": 3,
   "metadata": {
    "collapsed": true
   },
   "outputs": [],
   "source": [
    "data_train = pd.read_csv(path+'\\\\train.csv')"
   ]
  },
  {
   "cell_type": "code",
   "execution_count": 4,
   "metadata": {
    "collapsed": true
   },
   "outputs": [],
   "source": [
    "data_test = pd.read_csv(path+'\\\\test.csv')"
   ]
  },
  {
   "cell_type": "code",
   "execution_count": 5,
   "metadata": {},
   "outputs": [
    {
     "data": {
      "text/html": [
       "<div>\n",
       "<table border=\"1\" class=\"dataframe\">\n",
       "  <thead>\n",
       "    <tr style=\"text-align: right;\">\n",
       "      <th></th>\n",
       "      <th>age</th>\n",
       "      <th>class_of_worker</th>\n",
       "      <th>industry_code</th>\n",
       "      <th>occupation_code</th>\n",
       "      <th>education</th>\n",
       "      <th>wage_per_hour</th>\n",
       "      <th>enrolled_in_edu_inst_lastwk</th>\n",
       "      <th>marital_status</th>\n",
       "      <th>major_industry_code</th>\n",
       "      <th>major_occupation_code</th>\n",
       "      <th>...</th>\n",
       "      <th>country_father</th>\n",
       "      <th>country_mother</th>\n",
       "      <th>country_self</th>\n",
       "      <th>citizenship</th>\n",
       "      <th>business_or_self_employed</th>\n",
       "      <th>fill_questionnaire_veteran_admin</th>\n",
       "      <th>veterans_benefits</th>\n",
       "      <th>weeks_worked_in_year</th>\n",
       "      <th>year</th>\n",
       "      <th>income_level</th>\n",
       "    </tr>\n",
       "  </thead>\n",
       "  <tbody>\n",
       "    <tr>\n",
       "      <th>0</th>\n",
       "      <td>73</td>\n",
       "      <td>Not in universe</td>\n",
       "      <td>0</td>\n",
       "      <td>0</td>\n",
       "      <td>High school graduate</td>\n",
       "      <td>0</td>\n",
       "      <td>Not in universe</td>\n",
       "      <td>Widowed</td>\n",
       "      <td>Not in universe or children</td>\n",
       "      <td>Not in universe</td>\n",
       "      <td>...</td>\n",
       "      <td>United-States</td>\n",
       "      <td>United-States</td>\n",
       "      <td>United-States</td>\n",
       "      <td>Native- Born in the United States</td>\n",
       "      <td>0</td>\n",
       "      <td>Not in universe</td>\n",
       "      <td>2</td>\n",
       "      <td>0</td>\n",
       "      <td>95</td>\n",
       "      <td>-50000</td>\n",
       "    </tr>\n",
       "    <tr>\n",
       "      <th>1</th>\n",
       "      <td>58</td>\n",
       "      <td>Self-employed-not incorporated</td>\n",
       "      <td>4</td>\n",
       "      <td>34</td>\n",
       "      <td>Some college but no degree</td>\n",
       "      <td>0</td>\n",
       "      <td>Not in universe</td>\n",
       "      <td>Divorced</td>\n",
       "      <td>Construction</td>\n",
       "      <td>Precision production craft &amp; repair</td>\n",
       "      <td>...</td>\n",
       "      <td>United-States</td>\n",
       "      <td>United-States</td>\n",
       "      <td>United-States</td>\n",
       "      <td>Native- Born in the United States</td>\n",
       "      <td>0</td>\n",
       "      <td>Not in universe</td>\n",
       "      <td>2</td>\n",
       "      <td>52</td>\n",
       "      <td>94</td>\n",
       "      <td>-50000</td>\n",
       "    </tr>\n",
       "    <tr>\n",
       "      <th>2</th>\n",
       "      <td>18</td>\n",
       "      <td>Not in universe</td>\n",
       "      <td>0</td>\n",
       "      <td>0</td>\n",
       "      <td>10th grade</td>\n",
       "      <td>0</td>\n",
       "      <td>High school</td>\n",
       "      <td>Never married</td>\n",
       "      <td>Not in universe or children</td>\n",
       "      <td>Not in universe</td>\n",
       "      <td>...</td>\n",
       "      <td>Vietnam</td>\n",
       "      <td>Vietnam</td>\n",
       "      <td>Vietnam</td>\n",
       "      <td>Foreign born- Not a citizen of U S</td>\n",
       "      <td>0</td>\n",
       "      <td>Not in universe</td>\n",
       "      <td>2</td>\n",
       "      <td>0</td>\n",
       "      <td>95</td>\n",
       "      <td>-50000</td>\n",
       "    </tr>\n",
       "  </tbody>\n",
       "</table>\n",
       "<p>3 rows × 41 columns</p>\n",
       "</div>"
      ],
      "text/plain": [
       "   age                 class_of_worker  industry_code  occupation_code  \\\n",
       "0   73                 Not in universe              0                0   \n",
       "1   58  Self-employed-not incorporated              4               34   \n",
       "2   18                 Not in universe              0                0   \n",
       "\n",
       "                    education  wage_per_hour enrolled_in_edu_inst_lastwk  \\\n",
       "0        High school graduate              0             Not in universe   \n",
       "1  Some college but no degree              0             Not in universe   \n",
       "2                  10th grade              0                 High school   \n",
       "\n",
       "  marital_status          major_industry_code  \\\n",
       "0        Widowed  Not in universe or children   \n",
       "1       Divorced                 Construction   \n",
       "2  Never married  Not in universe or children   \n",
       "\n",
       "                 major_occupation_code     ...      country_father  \\\n",
       "0                      Not in universe     ...       United-States   \n",
       "1  Precision production craft & repair     ...       United-States   \n",
       "2                      Not in universe     ...             Vietnam   \n",
       "\n",
       "  country_mother   country_self                         citizenship  \\\n",
       "0  United-States  United-States   Native- Born in the United States   \n",
       "1  United-States  United-States   Native- Born in the United States   \n",
       "2        Vietnam        Vietnam  Foreign born- Not a citizen of U S   \n",
       "\n",
       "  business_or_self_employed fill_questionnaire_veteran_admin  \\\n",
       "0                         0                  Not in universe   \n",
       "1                         0                  Not in universe   \n",
       "2                         0                  Not in universe   \n",
       "\n",
       "   veterans_benefits  weeks_worked_in_year  year income_level  \n",
       "0                  2                     0    95       -50000  \n",
       "1                  2                    52    94       -50000  \n",
       "2                  2                     0    95       -50000  \n",
       "\n",
       "[3 rows x 41 columns]"
      ]
     },
     "execution_count": 5,
     "metadata": {},
     "output_type": "execute_result"
    }
   ],
   "source": [
    "data_train.head(3)"
   ]
  },
  {
   "cell_type": "code",
   "execution_count": 49,
   "metadata": {},
   "outputs": [
    {
     "data": {
      "text/html": [
       "<div>\n",
       "<table border=\"1\" class=\"dataframe\">\n",
       "  <thead>\n",
       "    <tr style=\"text-align: right;\">\n",
       "      <th></th>\n",
       "      <th>age</th>\n",
       "      <th>class_of_worker</th>\n",
       "      <th>industry_code</th>\n",
       "      <th>occupation_code</th>\n",
       "      <th>education</th>\n",
       "      <th>wage_per_hour</th>\n",
       "      <th>enrolled_in_edu_inst_lastwk</th>\n",
       "      <th>marital_status</th>\n",
       "      <th>major_industry_code</th>\n",
       "      <th>major_occupation_code</th>\n",
       "      <th>...</th>\n",
       "      <th>country_father</th>\n",
       "      <th>country_mother</th>\n",
       "      <th>country_self</th>\n",
       "      <th>citizenship</th>\n",
       "      <th>business_or_self_employed</th>\n",
       "      <th>fill_questionnaire_veteran_admin</th>\n",
       "      <th>veterans_benefits</th>\n",
       "      <th>weeks_worked_in_year</th>\n",
       "      <th>year</th>\n",
       "      <th>income_level</th>\n",
       "    </tr>\n",
       "  </thead>\n",
       "  <tbody>\n",
       "    <tr>\n",
       "      <th>0</th>\n",
       "      <td>38</td>\n",
       "      <td>Private</td>\n",
       "      <td>6</td>\n",
       "      <td>36</td>\n",
       "      <td>1st 2nd 3rd or 4th grade</td>\n",
       "      <td>0</td>\n",
       "      <td>Not in universe</td>\n",
       "      <td>Married-civilian spouse present</td>\n",
       "      <td>Manufacturing-durable goods</td>\n",
       "      <td>Machine operators assmblrs &amp; inspctrs</td>\n",
       "      <td>...</td>\n",
       "      <td>Mexico</td>\n",
       "      <td>Mexico</td>\n",
       "      <td>Mexico</td>\n",
       "      <td>Foreign born- Not a citizen of U S</td>\n",
       "      <td>0</td>\n",
       "      <td>Not in universe</td>\n",
       "      <td>2</td>\n",
       "      <td>12</td>\n",
       "      <td>95</td>\n",
       "      <td>-50000</td>\n",
       "    </tr>\n",
       "    <tr>\n",
       "      <th>1</th>\n",
       "      <td>44</td>\n",
       "      <td>Self-employed-not incorporated</td>\n",
       "      <td>37</td>\n",
       "      <td>12</td>\n",
       "      <td>Associates degree-occup /vocational</td>\n",
       "      <td>0</td>\n",
       "      <td>Not in universe</td>\n",
       "      <td>Married-civilian spouse present</td>\n",
       "      <td>Business and repair services</td>\n",
       "      <td>Professional specialty</td>\n",
       "      <td>...</td>\n",
       "      <td>United-States</td>\n",
       "      <td>United-States</td>\n",
       "      <td>United-States</td>\n",
       "      <td>Native- Born in the United States</td>\n",
       "      <td>0</td>\n",
       "      <td>Not in universe</td>\n",
       "      <td>2</td>\n",
       "      <td>26</td>\n",
       "      <td>95</td>\n",
       "      <td>-50000</td>\n",
       "    </tr>\n",
       "  </tbody>\n",
       "</table>\n",
       "<p>2 rows × 41 columns</p>\n",
       "</div>"
      ],
      "text/plain": [
       "   age                  class_of_worker  industry_code  occupation_code  \\\n",
       "0   38                          Private              6               36   \n",
       "1   44   Self-employed-not incorporated             37               12   \n",
       "\n",
       "                              education  wage_per_hour  \\\n",
       "0              1st 2nd 3rd or 4th grade              0   \n",
       "1   Associates degree-occup /vocational              0   \n",
       "\n",
       "  enrolled_in_edu_inst_lastwk                    marital_status  \\\n",
       "0             Not in universe   Married-civilian spouse present   \n",
       "1             Not in universe   Married-civilian spouse present   \n",
       "\n",
       "             major_industry_code                   major_occupation_code  \\\n",
       "0    Manufacturing-durable goods   Machine operators assmblrs & inspctrs   \n",
       "1   Business and repair services                  Professional specialty   \n",
       "\n",
       "      ...       country_father  country_mother    country_self  \\\n",
       "0     ...               Mexico          Mexico          Mexico   \n",
       "1     ...        United-States   United-States   United-States   \n",
       "\n",
       "                            citizenship business_or_self_employed  \\\n",
       "0   Foreign born- Not a citizen of U S                          0   \n",
       "1     Native- Born in the United States                         0   \n",
       "\n",
       "  fill_questionnaire_veteran_admin  veterans_benefits  weeks_worked_in_year  \\\n",
       "0                  Not in universe                  2                    12   \n",
       "1                  Not in universe                  2                    26   \n",
       "\n",
       "   year income_level  \n",
       "0    95       -50000  \n",
       "1    95       -50000  \n",
       "\n",
       "[2 rows x 41 columns]"
      ]
     },
     "execution_count": 49,
     "metadata": {},
     "output_type": "execute_result"
    }
   ],
   "source": [
    "data_test.head(2)"
   ]
  },
  {
   "cell_type": "code",
   "execution_count": 137,
   "metadata": {
    "collapsed": true
   },
   "outputs": [],
   "source": [
    "# lets separate numarical and categorical"
   ]
  },
  {
   "cell_type": "code",
   "execution_count": 155,
   "metadata": {
    "collapsed": true
   },
   "outputs": [],
   "source": [
    "data_cat = {}\n",
    "def f(cat):\n",
    "    \n",
    "    for i in cat.columns:\n",
    "        if cat[i].dtype == np.object:\n",
    "            data_cat[i] = cat[i]\n",
    "    "
   ]
  },
  {
   "cell_type": "code",
   "execution_count": 156,
   "metadata": {
    "collapsed": true
   },
   "outputs": [],
   "source": [
    "f(data_train)\n"
   ]
  },
  {
   "cell_type": "code",
   "execution_count": 158,
   "metadata": {
    "collapsed": true
   },
   "outputs": [],
   "source": [
    "f(data_test)"
   ]
  },
  {
   "cell_type": "code",
   "execution_count": 159,
   "metadata": {
    "collapsed": true
   },
   "outputs": [],
   "source": [
    "data_cat2 = pd.DataFrame(data_cat)"
   ]
  },
  {
   "cell_type": "code",
   "execution_count": 105,
   "metadata": {
    "collapsed": true
   },
   "outputs": [],
   "source": [
    "f(data_test)"
   ]
  },
  {
   "cell_type": "code",
   "execution_count": 161,
   "metadata": {},
   "outputs": [
    {
     "data": {
      "text/plain": [
       "(199523, 28)"
      ]
     },
     "execution_count": 161,
     "metadata": {},
     "output_type": "execute_result"
    }
   ],
   "source": [
    "data_cat1.shape"
   ]
  },
  {
   "cell_type": "code",
   "execution_count": 162,
   "metadata": {},
   "outputs": [
    {
     "data": {
      "text/plain": [
       "(99762, 29)"
      ]
     },
     "execution_count": 162,
     "metadata": {},
     "output_type": "execute_result"
    }
   ],
   "source": [
    "data_cat2.shape"
   ]
  },
  {
   "cell_type": "code",
   "execution_count": null,
   "metadata": {
    "collapsed": true
   },
   "outputs": [],
   "source": []
  },
  {
   "cell_type": "code",
   "execution_count": null,
   "metadata": {
    "collapsed": true
   },
   "outputs": [],
   "source": []
  },
  {
   "cell_type": "code",
   "execution_count": 174,
   "metadata": {
    "collapsed": true
   },
   "outputs": [],
   "source": [
    "data_num = {} \n",
    "def f(num):\n",
    "    for i in num.columns:\n",
    "        if num[i].dtype != np.object:\n",
    "            data_num[i] = num[i]"
   ]
  },
  {
   "cell_type": "code",
   "execution_count": 164,
   "metadata": {
    "collapsed": true
   },
   "outputs": [],
   "source": [
    "f(data_train)"
   ]
  },
  {
   "cell_type": "code",
   "execution_count": 175,
   "metadata": {
    "collapsed": true
   },
   "outputs": [],
   "source": [
    "f(data_test)"
   ]
  },
  {
   "cell_type": "code",
   "execution_count": 176,
   "metadata": {
    "collapsed": true
   },
   "outputs": [],
   "source": [
    "data_num2 = pd.DataFrame(data_num)"
   ]
  },
  {
   "cell_type": "code",
   "execution_count": 168,
   "metadata": {},
   "outputs": [
    {
     "data": {
      "text/plain": [
       "(199523, 13)"
      ]
     },
     "execution_count": 168,
     "metadata": {},
     "output_type": "execute_result"
    }
   ],
   "source": [
    "data_num1.shape"
   ]
  },
  {
   "cell_type": "code",
   "execution_count": 177,
   "metadata": {},
   "outputs": [
    {
     "data": {
      "text/plain": [
       "(99762, 12)"
      ]
     },
     "execution_count": 177,
     "metadata": {},
     "output_type": "execute_result"
    }
   ],
   "source": [
    "data_num2.shape"
   ]
  },
  {
   "cell_type": "code",
   "execution_count": 178,
   "metadata": {
    "scrolled": true
   },
   "outputs": [
    {
     "name": "stdout",
     "output_type": "stream",
     "text": [
      "<class 'pandas.core.frame.DataFrame'>\n",
      "RangeIndex: 199523 entries, 0 to 199522\n",
      "Data columns (total 13 columns):\n",
      "age                           199523 non-null int64\n",
      "business_or_self_employed     199523 non-null int64\n",
      "capital_gains                 199523 non-null int64\n",
      "capital_losses                199523 non-null int64\n",
      "dividend_from_Stocks          199523 non-null int64\n",
      "income_level                  199523 non-null int64\n",
      "industry_code                 199523 non-null int64\n",
      "num_person_Worked_employer    199523 non-null int64\n",
      "occupation_code               199523 non-null int64\n",
      "veterans_benefits             199523 non-null int64\n",
      "wage_per_hour                 199523 non-null int64\n",
      "weeks_worked_in_year          199523 non-null int64\n",
      "year                          199523 non-null int64\n",
      "dtypes: int64(13)\n",
      "memory usage: 19.8 MB\n"
     ]
    }
   ],
   "source": [
    "data_num1.info()"
   ]
  },
  {
   "cell_type": "code",
   "execution_count": 32,
   "metadata": {},
   "outputs": [
    {
     "data": {
      "text/plain": [
       "-50000    187141\n",
       " 50000     12382\n",
       "Name: income_level, dtype: int64"
      ]
     },
     "execution_count": 32,
     "metadata": {},
     "output_type": "execute_result"
    }
   ],
   "source": [
    "data_num1['income_level'].value_counts()"
   ]
  },
  {
   "cell_type": "code",
   "execution_count": 35,
   "metadata": {
    "collapsed": true
   },
   "outputs": [],
   "source": [
    "#data_num1['wage_per_hour'].value_counts().sort"
   ]
  },
  {
   "cell_type": "code",
   "execution_count": 36,
   "metadata": {},
   "outputs": [
    {
     "data": {
      "text/plain": [
       "2    150130\n",
       "0     47409\n",
       "1      1984\n",
       "Name: veterans_benefits, dtype: int64"
      ]
     },
     "execution_count": 36,
     "metadata": {},
     "output_type": "execute_result"
    }
   ],
   "source": [
    "data_num1['veterans_benefits'].value_counts()"
   ]
  },
  {
   "cell_type": "code",
   "execution_count": null,
   "metadata": {
    "collapsed": true,
    "scrolled": true
   },
   "outputs": [],
   "source": []
  },
  {
   "cell_type": "code",
   "execution_count": 224,
   "metadata": {
    "collapsed": true
   },
   "outputs": [],
   "source": [
    "total_income = []\n",
    "for i in data_num1['income_level']:\n",
    "    if i == -50000:\n",
    "        i = 0\n",
    "        total_income.append(i)\n",
    "    else:\n",
    "        \n",
    "        i = 1\n",
    "        total_income.append(i)"
   ]
  },
  {
   "cell_type": "code",
   "execution_count": 225,
   "metadata": {
    "collapsed": true
   },
   "outputs": [],
   "source": [
    "data_num1['total_income'] = total_income"
   ]
  },
  {
   "cell_type": "code",
   "execution_count": 67,
   "metadata": {
    "collapsed": true
   },
   "outputs": [],
   "source": [
    "def f(a):\n",
    "    sns.distplot(a,kde=False)\n"
   ]
  },
  {
   "cell_type": "code",
   "execution_count": 69,
   "metadata": {},
   "outputs": [
    {
     "data": {
      "image/png": "[encoded data removed]",
      "text/plain": [
       "<matplotlib.figure.Figure at 0x26047978e80>"
      ]
     },
     "metadata": {},
     "output_type": "display_data"
    }
   ],
   "source": [
    "f(data_num1['age'])\n",
    "\n"
   ]
  },
  {
   "cell_type": "code",
   "execution_count": 71,
   "metadata": {},
   "outputs": [
    {
     "data": {
      "image/png": "[encoded data removed]",
      "text/plain": [
       "<matplotlib.figure.Figure at 0x26047daa630>"
      ]
     },
     "metadata": {},
     "output_type": "display_data"
    }
   ],
   "source": [
    "f(data_num1['capital_gains'])"
   ]
  },
  {
   "cell_type": "code",
   "execution_count": 165,
   "metadata": {},
   "outputs": [
    {
     "data": {
      "text/plain": [
       "<seaborn.axisgrid.FacetGrid at 0x1900aa21320>"
      ]
     },
     "execution_count": 165,
     "metadata": {},
     "output_type": "execute_result"
    },
    {
     "data": {
      "image/png": "[encoded data removed]",
      "text/plain": [
       "<matplotlib.figure.Figure at 0x1900aa1ccc0>"
      ]
     },
     "metadata": {},
     "output_type": "display_data"
    }
   ],
   "source": [
    "sns.lmplot(x='age',y='wage_per_hour',data=data_num1,hue='total_income')"
   ]
  },
  {
   "cell_type": "code",
   "execution_count": 167,
   "metadata": {
    "collapsed": true
   },
   "outputs": [],
   "source": [
    "# lets look at imbalance in data"
   ]
  },
  {
   "cell_type": "code",
   "execution_count": 168,
   "metadata": {},
   "outputs": [
    {
     "data": {
      "text/plain": [
       "-50000    18714100\n",
       " 50000     1238200\n",
       "Name: income_level, dtype: int64"
      ]
     },
     "execution_count": 168,
     "metadata": {},
     "output_type": "execute_result"
    }
   ],
   "source": [
    "(data_train['income_level'].value_counts()*100)"
   ]
  },
  {
   "cell_type": "code",
   "execution_count": 72,
   "metadata": {},
   "outputs": [
    {
     "data": {
      "text/plain": [
       "(199523, 41)"
      ]
     },
     "execution_count": 72,
     "metadata": {},
     "output_type": "execute_result"
    }
   ],
   "source": [
    "data_train.shape"
   ]
  },
  {
   "cell_type": "code",
   "execution_count": 73,
   "metadata": {},
   "outputs": [
    {
     "data": {
      "text/plain": [
       "93.79419916500855"
      ]
     },
     "execution_count": 73,
     "metadata": {},
     "output_type": "execute_result"
    }
   ],
   "source": [
    "18714100/199523"
   ]
  },
  {
   "cell_type": "code",
   "execution_count": 74,
   "metadata": {},
   "outputs": [
    {
     "data": {
      "text/plain": [
       "6.205800834991455"
      ]
     },
     "execution_count": 74,
     "metadata": {},
     "output_type": "execute_result"
    }
   ],
   "source": [
    "1238200/199523"
   ]
  },
  {
   "cell_type": "code",
   "execution_count": 175,
   "metadata": {
    "collapsed": true
   },
   "outputs": [],
   "source": [
    "# visualization of categorical"
   ]
  },
  {
   "cell_type": "code",
   "execution_count": 178,
   "metadata": {},
   "outputs": [
    {
     "data": {
      "text/plain": [
       "(array([0, 1, 2, 3, 4, 5, 6, 7, 8]), <a list of 9 Text xticklabel objects>)"
      ]
     },
     "execution_count": 178,
     "metadata": {},
     "output_type": "execute_result"
    },
    {
     "data": {
      "image/png": "[encoded data removed]",
      "text/plain": [
       "<matplotlib.figure.Figure at 0x1900ae95978>"
      ]
     },
     "metadata": {},
     "output_type": "display_data"
    }
   ],
   "source": [
    "sns.countplot(data_cat1['class_of_worker'],hue=data_num1['total_income'])\n",
    "plt.xticks( rotation='vertical')"
   ]
  },
  {
   "cell_type": "code",
   "execution_count": 184,
   "metadata": {},
   "outputs": [
    {
     "data": {
      "text/plain": [
       "(array([ 0,  1,  2,  3,  4,  5,  6,  7,  8,  9, 10, 11, 12, 13, 14, 15, 16]),\n",
       " <a list of 17 Text xticklabel objects>)"
      ]
     },
     "execution_count": 184,
     "metadata": {},
     "output_type": "execute_result"
    },
    {
     "data": {
      "image/png": "[encoded data removed]",
      "text/plain": [
       "<matplotlib.figure.Figure at 0x1907318a0b8>"
      ]
     },
     "metadata": {},
     "output_type": "display_data"
    }
   ],
   "source": [
    "sns.countplot(data_cat1['education'],hue=data_num1['total_income'])\n",
    "plt.xticks( rotation='vertical')"
   ]
  },
  {
   "cell_type": "code",
   "execution_count": 75,
   "metadata": {},
   "outputs": [
    {
     "data": {
      "text/plain": [
       "age                           0\n",
       "business_or_self_employed     0\n",
       "capital_gains                 0\n",
       "capital_losses                0\n",
       "dividend_from_Stocks          0\n",
       "income_level                  0\n",
       "industry_code                 0\n",
       "num_person_Worked_employer    0\n",
       "occupation_code               0\n",
       "veterans_benefits             0\n",
       "wage_per_hour                 0\n",
       "weeks_worked_in_year          0\n",
       "year                          0\n",
       "total_income                  0\n",
       "dtype: int64"
      ]
     },
     "execution_count": 75,
     "metadata": {},
     "output_type": "execute_result"
    }
   ],
   "source": [
    "data_num1.isnull().sum()"
   ]
  },
  {
   "cell_type": "code",
   "execution_count": null,
   "metadata": {
    "collapsed": true
   },
   "outputs": [],
   "source": []
  },
  {
   "cell_type": "code",
   "execution_count": 201,
   "metadata": {
    "collapsed": true
   },
   "outputs": [],
   "source": [
    "a = data_num1.corr()"
   ]
  },
  {
   "cell_type": "code",
   "execution_count": 202,
   "metadata": {},
   "outputs": [
    {
     "data": {
      "text/html": [
       "<div>\n",
       "<table border=\"1\" class=\"dataframe\">\n",
       "  <thead>\n",
       "    <tr style=\"text-align: right;\">\n",
       "      <th></th>\n",
       "      <th>age</th>\n",
       "      <th>business_or_self_employed</th>\n",
       "      <th>capital_gains</th>\n",
       "      <th>capital_losses</th>\n",
       "      <th>dividend_from_Stocks</th>\n",
       "      <th>income_level</th>\n",
       "      <th>industry_code</th>\n",
       "      <th>num_person_Worked_employer</th>\n",
       "      <th>occupation_code</th>\n",
       "      <th>veterans_benefits</th>\n",
       "      <th>wage_per_hour</th>\n",
       "      <th>weeks_worked_in_year</th>\n",
       "      <th>year</th>\n",
       "      <th>total_income</th>\n",
       "    </tr>\n",
       "  </thead>\n",
       "  <tbody>\n",
       "    <tr>\n",
       "      <th>age</th>\n",
       "      <td>1.000000</td>\n",
       "      <td>-0.002265</td>\n",
       "      <td>0.053590</td>\n",
       "      <td>0.063351</td>\n",
       "      <td>0.104976</td>\n",
       "      <td>0.135720</td>\n",
       "      <td>0.157822</td>\n",
       "      <td>0.140887</td>\n",
       "      <td>0.117414</td>\n",
       "      <td>0.674844</td>\n",
       "      <td>0.036938</td>\n",
       "      <td>0.206181</td>\n",
       "      <td>0.004413</td>\n",
       "      <td>0.135720</td>\n",
       "    </tr>\n",
       "    <tr>\n",
       "      <th>business_or_self_employed</th>\n",
       "      <td>-0.002265</td>\n",
       "      <td>1.000000</td>\n",
       "      <td>0.015048</td>\n",
       "      <td>0.024116</td>\n",
       "      <td>-0.004885</td>\n",
       "      <td>0.040473</td>\n",
       "      <td>0.252694</td>\n",
       "      <td>0.240553</td>\n",
       "      <td>0.228952</td>\n",
       "      <td>0.177448</td>\n",
       "      <td>0.054051</td>\n",
       "      <td>0.265872</td>\n",
       "      <td>0.007377</td>\n",
       "      <td>0.040473</td>\n",
       "    </tr>\n",
       "    <tr>\n",
       "      <th>capital_gains</th>\n",
       "      <td>0.053590</td>\n",
       "      <td>0.015048</td>\n",
       "      <td>1.000000</td>\n",
       "      <td>-0.012700</td>\n",
       "      <td>0.131476</td>\n",
       "      <td>0.240725</td>\n",
       "      <td>0.066017</td>\n",
       "      <td>0.058015</td>\n",
       "      <td>0.002534</td>\n",
       "      <td>0.051530</td>\n",
       "      <td>-0.001082</td>\n",
       "      <td>0.083549</td>\n",
       "      <td>0.005243</td>\n",
       "      <td>0.240725</td>\n",
       "    </tr>\n",
       "    <tr>\n",
       "      <th>capital_losses</th>\n",
       "      <td>0.063351</td>\n",
       "      <td>0.024116</td>\n",
       "      <td>-0.012700</td>\n",
       "      <td>1.000000</td>\n",
       "      <td>0.042427</td>\n",
       "      <td>0.147417</td>\n",
       "      <td>0.072586</td>\n",
       "      <td>0.084255</td>\n",
       "      <td>0.043680</td>\n",
       "      <td>0.075391</td>\n",
       "      <td>0.010993</td>\n",
       "      <td>0.100762</td>\n",
       "      <td>0.000096</td>\n",
       "      <td>0.147417</td>\n",
       "    </tr>\n",
       "    <tr>\n",
       "      <th>dividend_from_Stocks</th>\n",
       "      <td>0.104976</td>\n",
       "      <td>-0.004885</td>\n",
       "      <td>0.131476</td>\n",
       "      <td>0.042427</td>\n",
       "      <td>1.000000</td>\n",
       "      <td>0.175779</td>\n",
       "      <td>0.012774</td>\n",
       "      <td>0.007206</td>\n",
       "      <td>-0.026726</td>\n",
       "      <td>0.054585</td>\n",
       "      <td>-0.005731</td>\n",
       "      <td>0.013823</td>\n",
       "      <td>0.001913</td>\n",
       "      <td>0.175779</td>\n",
       "    </tr>\n",
       "    <tr>\n",
       "      <th>income_level</th>\n",
       "      <td>0.135720</td>\n",
       "      <td>0.040473</td>\n",
       "      <td>0.240725</td>\n",
       "      <td>0.147417</td>\n",
       "      <td>0.175779</td>\n",
       "      <td>1.000000</td>\n",
       "      <td>0.196190</td>\n",
       "      <td>0.222684</td>\n",
       "      <td>0.013414</td>\n",
       "      <td>0.140930</td>\n",
       "      <td>0.024528</td>\n",
       "      <td>0.262316</td>\n",
       "      <td>0.014794</td>\n",
       "      <td>1.000000</td>\n",
       "    </tr>\n",
       "    <tr>\n",
       "      <th>industry_code</th>\n",
       "      <td>0.157822</td>\n",
       "      <td>0.252694</td>\n",
       "      <td>0.066017</td>\n",
       "      <td>0.072586</td>\n",
       "      <td>0.012774</td>\n",
       "      <td>0.196190</td>\n",
       "      <td>1.000000</td>\n",
       "      <td>0.642096</td>\n",
       "      <td>0.563493</td>\n",
       "      <td>0.476475</td>\n",
       "      <td>0.165980</td>\n",
       "      <td>0.754472</td>\n",
       "      <td>0.003430</td>\n",
       "      <td>0.196190</td>\n",
       "    </tr>\n",
       "    <tr>\n",
       "      <th>num_person_Worked_employer</th>\n",
       "      <td>0.140887</td>\n",
       "      <td>0.240553</td>\n",
       "      <td>0.058015</td>\n",
       "      <td>0.084255</td>\n",
       "      <td>0.007206</td>\n",
       "      <td>0.222684</td>\n",
       "      <td>0.642096</td>\n",
       "      <td>1.000000</td>\n",
       "      <td>0.515554</td>\n",
       "      <td>0.463334</td>\n",
       "      <td>0.191543</td>\n",
       "      <td>0.747302</td>\n",
       "      <td>0.018774</td>\n",
       "      <td>0.222684</td>\n",
       "    </tr>\n",
       "    <tr>\n",
       "      <th>occupation_code</th>\n",
       "      <td>0.117414</td>\n",
       "      <td>0.228952</td>\n",
       "      <td>0.002534</td>\n",
       "      <td>0.043680</td>\n",
       "      <td>-0.026726</td>\n",
       "      <td>0.013414</td>\n",
       "      <td>0.563493</td>\n",
       "      <td>0.515554</td>\n",
       "      <td>1.000000</td>\n",
       "      <td>0.438680</td>\n",
       "      <td>0.194498</td>\n",
       "      <td>0.655613</td>\n",
       "      <td>-0.003140</td>\n",
       "      <td>0.013414</td>\n",
       "    </tr>\n",
       "    <tr>\n",
       "      <th>veterans_benefits</th>\n",
       "      <td>0.674844</td>\n",
       "      <td>0.177448</td>\n",
       "      <td>0.051530</td>\n",
       "      <td>0.075391</td>\n",
       "      <td>0.054585</td>\n",
       "      <td>0.140930</td>\n",
       "      <td>0.476475</td>\n",
       "      <td>0.463334</td>\n",
       "      <td>0.438680</td>\n",
       "      <td>1.000000</td>\n",
       "      <td>0.113094</td>\n",
       "      <td>0.532279</td>\n",
       "      <td>0.003122</td>\n",
       "      <td>0.140930</td>\n",
       "    </tr>\n",
       "    <tr>\n",
       "      <th>wage_per_hour</th>\n",
       "      <td>0.036938</td>\n",
       "      <td>0.054051</td>\n",
       "      <td>-0.001082</td>\n",
       "      <td>0.010993</td>\n",
       "      <td>-0.005731</td>\n",
       "      <td>0.024528</td>\n",
       "      <td>0.165980</td>\n",
       "      <td>0.191543</td>\n",
       "      <td>0.194498</td>\n",
       "      <td>0.113094</td>\n",
       "      <td>1.000000</td>\n",
       "      <td>0.195687</td>\n",
       "      <td>0.002283</td>\n",
       "      <td>0.024528</td>\n",
       "    </tr>\n",
       "    <tr>\n",
       "      <th>weeks_worked_in_year</th>\n",
       "      <td>0.206181</td>\n",
       "      <td>0.265872</td>\n",
       "      <td>0.083549</td>\n",
       "      <td>0.100762</td>\n",
       "      <td>0.013823</td>\n",
       "      <td>0.262316</td>\n",
       "      <td>0.754472</td>\n",
       "      <td>0.747302</td>\n",
       "      <td>0.655613</td>\n",
       "      <td>0.532279</td>\n",
       "      <td>0.195687</td>\n",
       "      <td>1.000000</td>\n",
       "      <td>0.005252</td>\n",
       "      <td>0.262316</td>\n",
       "    </tr>\n",
       "    <tr>\n",
       "      <th>year</th>\n",
       "      <td>0.004413</td>\n",
       "      <td>0.007377</td>\n",
       "      <td>0.005243</td>\n",
       "      <td>0.000096</td>\n",
       "      <td>0.001913</td>\n",
       "      <td>0.014794</td>\n",
       "      <td>0.003430</td>\n",
       "      <td>0.018774</td>\n",
       "      <td>-0.003140</td>\n",
       "      <td>0.003122</td>\n",
       "      <td>0.002283</td>\n",
       "      <td>0.005252</td>\n",
       "      <td>1.000000</td>\n",
       "      <td>0.014794</td>\n",
       "    </tr>\n",
       "    <tr>\n",
       "      <th>total_income</th>\n",
       "      <td>0.135720</td>\n",
       "      <td>0.040473</td>\n",
       "      <td>0.240725</td>\n",
       "      <td>0.147417</td>\n",
       "      <td>0.175779</td>\n",
       "      <td>1.000000</td>\n",
       "      <td>0.196190</td>\n",
       "      <td>0.222684</td>\n",
       "      <td>0.013414</td>\n",
       "      <td>0.140930</td>\n",
       "      <td>0.024528</td>\n",
       "      <td>0.262316</td>\n",
       "      <td>0.014794</td>\n",
       "      <td>1.000000</td>\n",
       "    </tr>\n",
       "  </tbody>\n",
       "</table>\n",
       "</div>"
      ],
      "text/plain": [
       "                                 age  business_or_self_employed  \\\n",
       "age                         1.000000                  -0.002265   \n",
       "business_or_self_employed  -0.002265                   1.000000   \n",
       "capital_gains               0.053590                   0.015048   \n",
       "capital_losses              0.063351                   0.024116   \n",
       "dividend_from_Stocks        0.104976                  -0.004885   \n",
       "income_level                0.135720                   0.040473   \n",
       "industry_code               0.157822                   0.252694   \n",
       "num_person_Worked_employer  0.140887                   0.240553   \n",
       "occupation_code             0.117414                   0.228952   \n",
       "veterans_benefits           0.674844                   0.177448   \n",
       "wage_per_hour               0.036938                   0.054051   \n",
       "weeks_worked_in_year        0.206181                   0.265872   \n",
       "year                        0.004413                   0.007377   \n",
       "total_income                0.135720                   0.040473   \n",
       "\n",
       "                            capital_gains  capital_losses  \\\n",
       "age                              0.053590        0.063351   \n",
       "business_or_self_employed        0.015048        0.024116   \n",
       "capital_gains                    1.000000       -0.012700   \n",
       "capital_losses                  -0.012700        1.000000   \n",
       "dividend_from_Stocks             0.131476        0.042427   \n",
       "income_level                     0.240725        0.147417   \n",
       "industry_code                    0.066017        0.072586   \n",
       "num_person_Worked_employer       0.058015        0.084255   \n",
       "occupation_code                  0.002534        0.043680   \n",
       "veterans_benefits                0.051530        0.075391   \n",
       "wage_per_hour                   -0.001082        0.010993   \n",
       "weeks_worked_in_year             0.083549        0.100762   \n",
       "year                             0.005243        0.000096   \n",
       "total_income                     0.240725        0.147417   \n",
       "\n",
       "                            dividend_from_Stocks  income_level  industry_code  \\\n",
       "age                                     0.104976      0.135720       0.157822   \n",
       "business_or_self_employed              -0.004885      0.040473       0.252694   \n",
       "capital_gains                           0.131476      0.240725       0.066017   \n",
       "capital_losses                          0.042427      0.147417       0.072586   \n",
       "dividend_from_Stocks                    1.000000      0.175779       0.012774   \n",
       "income_level                            0.175779      1.000000       0.196190   \n",
       "industry_code                           0.012774      0.196190       1.000000   \n",
       "num_person_Worked_employer              0.007206      0.222684       0.642096   \n",
       "occupation_code                        -0.026726      0.013414       0.563493   \n",
       "veterans_benefits                       0.054585      0.140930       0.476475   \n",
       "wage_per_hour                          -0.005731      0.024528       0.165980   \n",
       "weeks_worked_in_year                    0.013823      0.262316       0.754472   \n",
       "year                                    0.001913      0.014794       0.003430   \n",
       "total_income                            0.175779      1.000000       0.196190   \n",
       "\n",
       "                            num_person_Worked_employer  occupation_code  \\\n",
       "age                                           0.140887         0.117414   \n",
       "business_or_self_employed                     0.240553         0.228952   \n",
       "capital_gains                                 0.058015         0.002534   \n",
       "capital_losses                                0.084255         0.043680   \n",
       "dividend_from_Stocks                          0.007206        -0.026726   \n",
       "income_level                                  0.222684         0.013414   \n",
       "industry_code                                 0.642096         0.563493   \n",
       "num_person_Worked_employer                    1.000000         0.515554   \n",
       "occupation_code                               0.515554         1.000000   \n",
       "veterans_benefits                             0.463334         0.438680   \n",
       "wage_per_hour                                 0.191543         0.194498   \n",
       "weeks_worked_in_year                          0.747302         0.655613   \n",
       "year                                          0.018774        -0.003140   \n",
       "total_income                                  0.222684         0.013414   \n",
       "\n",
       "                            veterans_benefits  wage_per_hour  \\\n",
       "age                                  0.674844       0.036938   \n",
       "business_or_self_employed            0.177448       0.054051   \n",
       "capital_gains                        0.051530      -0.001082   \n",
       "capital_losses                       0.075391       0.010993   \n",
       "dividend_from_Stocks                 0.054585      -0.005731   \n",
       "income_level                         0.140930       0.024528   \n",
       "industry_code                        0.476475       0.165980   \n",
       "num_person_Worked_employer           0.463334       0.191543   \n",
       "occupation_code                      0.438680       0.194498   \n",
       "veterans_benefits                    1.000000       0.113094   \n",
       "wage_per_hour                        0.113094       1.000000   \n",
       "weeks_worked_in_year                 0.532279       0.195687   \n",
       "year                                 0.003122       0.002283   \n",
       "total_income                         0.140930       0.024528   \n",
       "\n",
       "                            weeks_worked_in_year      year  total_income  \n",
       "age                                     0.206181  0.004413      0.135720  \n",
       "business_or_self_employed               0.265872  0.007377      0.040473  \n",
       "capital_gains                           0.083549  0.005243      0.240725  \n",
       "capital_losses                          0.100762  0.000096      0.147417  \n",
       "dividend_from_Stocks                    0.013823  0.001913      0.175779  \n",
       "income_level                            0.262316  0.014794      1.000000  \n",
       "industry_code                           0.754472  0.003430      0.196190  \n",
       "num_person_Worked_employer              0.747302  0.018774      0.222684  \n",
       "occupation_code                         0.655613 -0.003140      0.013414  \n",
       "veterans_benefits                       0.532279  0.003122      0.140930  \n",
       "wage_per_hour                           0.195687  0.002283      0.024528  \n",
       "weeks_worked_in_year                    1.000000  0.005252      0.262316  \n",
       "year                                    0.005252  1.000000      0.014794  \n",
       "total_income                            0.262316  0.014794      1.000000  "
      ]
     },
     "execution_count": 202,
     "metadata": {},
     "output_type": "execute_result"
    }
   ],
   "source": [
    "a"
   ]
  },
  {
   "cell_type": "code",
   "execution_count": 182,
   "metadata": {
    "collapsed": true
   },
   "outputs": [],
   "source": [
    "data_num1.drop(['weeks_worked_in_year'],inplace=True,axis=1)"
   ]
  },
  {
   "cell_type": "code",
   "execution_count": 183,
   "metadata": {
    "collapsed": true
   },
   "outputs": [],
   "source": [
    "data_num2.drop(['weeks_worked_in_year'],inplace=True,axis=1)"
   ]
  },
  {
   "cell_type": "code",
   "execution_count": 77,
   "metadata": {
    "scrolled": true
   },
   "outputs": [
    {
     "data": {
      "text/html": [
       "<div>\n",
       "<table border=\"1\" class=\"dataframe\">\n",
       "  <thead>\n",
       "    <tr style=\"text-align: right;\">\n",
       "      <th></th>\n",
       "      <th>age</th>\n",
       "      <th>business_or_self_employed</th>\n",
       "      <th>capital_gains</th>\n",
       "      <th>capital_losses</th>\n",
       "      <th>dividend_from_Stocks</th>\n",
       "      <th>income_level</th>\n",
       "      <th>industry_code</th>\n",
       "      <th>num_person_Worked_employer</th>\n",
       "      <th>occupation_code</th>\n",
       "      <th>veterans_benefits</th>\n",
       "      <th>wage_per_hour</th>\n",
       "      <th>year</th>\n",
       "      <th>total_income</th>\n",
       "    </tr>\n",
       "  </thead>\n",
       "  <tbody>\n",
       "    <tr>\n",
       "      <th>count</th>\n",
       "      <td>199523.000000</td>\n",
       "      <td>199523.000000</td>\n",
       "      <td>199523.00000</td>\n",
       "      <td>199523.000000</td>\n",
       "      <td>199523.000000</td>\n",
       "      <td>199523.000000</td>\n",
       "      <td>199523.000000</td>\n",
       "      <td>199523.000000</td>\n",
       "      <td>199523.000000</td>\n",
       "      <td>199523.000000</td>\n",
       "      <td>199523.000000</td>\n",
       "      <td>199523.000000</td>\n",
       "      <td>199523.000000</td>\n",
       "    </tr>\n",
       "    <tr>\n",
       "      <th>mean</th>\n",
       "      <td>34.494199</td>\n",
       "      <td>0.175438</td>\n",
       "      <td>434.71899</td>\n",
       "      <td>37.313788</td>\n",
       "      <td>197.529533</td>\n",
       "      <td>-43794.199165</td>\n",
       "      <td>15.352320</td>\n",
       "      <td>1.956180</td>\n",
       "      <td>11.306556</td>\n",
       "      <td>1.514833</td>\n",
       "      <td>55.426908</td>\n",
       "      <td>94.499672</td>\n",
       "      <td>0.062058</td>\n",
       "    </tr>\n",
       "    <tr>\n",
       "      <th>std</th>\n",
       "      <td>22.310895</td>\n",
       "      <td>0.553694</td>\n",
       "      <td>4697.53128</td>\n",
       "      <td>271.896428</td>\n",
       "      <td>1984.163658</td>\n",
       "      <td>24126.148404</td>\n",
       "      <td>18.067129</td>\n",
       "      <td>2.365126</td>\n",
       "      <td>14.454204</td>\n",
       "      <td>0.851473</td>\n",
       "      <td>274.896454</td>\n",
       "      <td>0.500001</td>\n",
       "      <td>0.241261</td>\n",
       "    </tr>\n",
       "    <tr>\n",
       "      <th>min</th>\n",
       "      <td>0.000000</td>\n",
       "      <td>0.000000</td>\n",
       "      <td>0.00000</td>\n",
       "      <td>0.000000</td>\n",
       "      <td>0.000000</td>\n",
       "      <td>-50000.000000</td>\n",
       "      <td>0.000000</td>\n",
       "      <td>0.000000</td>\n",
       "      <td>0.000000</td>\n",
       "      <td>0.000000</td>\n",
       "      <td>0.000000</td>\n",
       "      <td>94.000000</td>\n",
       "      <td>0.000000</td>\n",
       "    </tr>\n",
       "    <tr>\n",
       "      <th>25%</th>\n",
       "      <td>15.000000</td>\n",
       "      <td>0.000000</td>\n",
       "      <td>0.00000</td>\n",
       "      <td>0.000000</td>\n",
       "      <td>0.000000</td>\n",
       "      <td>-50000.000000</td>\n",
       "      <td>0.000000</td>\n",
       "      <td>0.000000</td>\n",
       "      <td>0.000000</td>\n",
       "      <td>2.000000</td>\n",
       "      <td>0.000000</td>\n",
       "      <td>94.000000</td>\n",
       "      <td>0.000000</td>\n",
       "    </tr>\n",
       "    <tr>\n",
       "      <th>50%</th>\n",
       "      <td>33.000000</td>\n",
       "      <td>0.000000</td>\n",
       "      <td>0.00000</td>\n",
       "      <td>0.000000</td>\n",
       "      <td>0.000000</td>\n",
       "      <td>-50000.000000</td>\n",
       "      <td>0.000000</td>\n",
       "      <td>1.000000</td>\n",
       "      <td>0.000000</td>\n",
       "      <td>2.000000</td>\n",
       "      <td>0.000000</td>\n",
       "      <td>94.000000</td>\n",
       "      <td>0.000000</td>\n",
       "    </tr>\n",
       "    <tr>\n",
       "      <th>75%</th>\n",
       "      <td>50.000000</td>\n",
       "      <td>0.000000</td>\n",
       "      <td>0.00000</td>\n",
       "      <td>0.000000</td>\n",
       "      <td>0.000000</td>\n",
       "      <td>-50000.000000</td>\n",
       "      <td>33.000000</td>\n",
       "      <td>4.000000</td>\n",
       "      <td>26.000000</td>\n",
       "      <td>2.000000</td>\n",
       "      <td>0.000000</td>\n",
       "      <td>95.000000</td>\n",
       "      <td>0.000000</td>\n",
       "    </tr>\n",
       "    <tr>\n",
       "      <th>max</th>\n",
       "      <td>90.000000</td>\n",
       "      <td>2.000000</td>\n",
       "      <td>99999.00000</td>\n",
       "      <td>4608.000000</td>\n",
       "      <td>99999.000000</td>\n",
       "      <td>50000.000000</td>\n",
       "      <td>51.000000</td>\n",
       "      <td>6.000000</td>\n",
       "      <td>46.000000</td>\n",
       "      <td>2.000000</td>\n",
       "      <td>9999.000000</td>\n",
       "      <td>95.000000</td>\n",
       "      <td>1.000000</td>\n",
       "    </tr>\n",
       "  </tbody>\n",
       "</table>\n",
       "</div>"
      ],
      "text/plain": [
       "                 age  business_or_self_employed  capital_gains  \\\n",
       "count  199523.000000              199523.000000   199523.00000   \n",
       "mean       34.494199                   0.175438      434.71899   \n",
       "std        22.310895                   0.553694     4697.53128   \n",
       "min         0.000000                   0.000000        0.00000   \n",
       "25%        15.000000                   0.000000        0.00000   \n",
       "50%        33.000000                   0.000000        0.00000   \n",
       "75%        50.000000                   0.000000        0.00000   \n",
       "max        90.000000                   2.000000    99999.00000   \n",
       "\n",
       "       capital_losses  dividend_from_Stocks   income_level  industry_code  \\\n",
       "count   199523.000000         199523.000000  199523.000000  199523.000000   \n",
       "mean        37.313788            197.529533  -43794.199165      15.352320   \n",
       "std        271.896428           1984.163658   24126.148404      18.067129   \n",
       "min          0.000000              0.000000  -50000.000000       0.000000   \n",
       "25%          0.000000              0.000000  -50000.000000       0.000000   \n",
       "50%          0.000000              0.000000  -50000.000000       0.000000   \n",
       "75%          0.000000              0.000000  -50000.000000      33.000000   \n",
       "max       4608.000000          99999.000000   50000.000000      51.000000   \n",
       "\n",
       "       num_person_Worked_employer  occupation_code  veterans_benefits  \\\n",
       "count               199523.000000    199523.000000      199523.000000   \n",
       "mean                     1.956180        11.306556           1.514833   \n",
       "std                      2.365126        14.454204           0.851473   \n",
       "min                      0.000000         0.000000           0.000000   \n",
       "25%                      0.000000         0.000000           2.000000   \n",
       "50%                      1.000000         0.000000           2.000000   \n",
       "75%                      4.000000        26.000000           2.000000   \n",
       "max                      6.000000        46.000000           2.000000   \n",
       "\n",
       "       wage_per_hour           year   total_income  \n",
       "count  199523.000000  199523.000000  199523.000000  \n",
       "mean       55.426908      94.499672       0.062058  \n",
       "std       274.896454       0.500001       0.241261  \n",
       "min         0.000000      94.000000       0.000000  \n",
       "25%         0.000000      94.000000       0.000000  \n",
       "50%         0.000000      94.000000       0.000000  \n",
       "75%         0.000000      95.000000       0.000000  \n",
       "max      9999.000000      95.000000       1.000000  "
      ]
     },
     "execution_count": 77,
     "metadata": {},
     "output_type": "execute_result"
    }
   ],
   "source": [
    "data_num1.describe()"
   ]
  },
  {
   "cell_type": "code",
   "execution_count": 252,
   "metadata": {
    "collapsed": true
   },
   "outputs": [],
   "source": [
    "\n",
    "m = data_cat1.apply(lambda x : np.sum(pd.isnull(x))/len(x)*100)"
   ]
  },
  {
   "cell_type": "code",
   "execution_count": null,
   "metadata": {
    "collapsed": true
   },
   "outputs": [],
   "source": []
  },
  {
   "cell_type": "code",
   "execution_count": 184,
   "metadata": {
    "collapsed": true
   },
   "outputs": [],
   "source": [
    "data_cat1.drop(['migration_msa','migration_reg','migration_sunbelt','migration_within_reg'],inplace=True,axis=1)"
   ]
  },
  {
   "cell_type": "code",
   "execution_count": 185,
   "metadata": {
    "collapsed": true
   },
   "outputs": [],
   "source": [
    "data_cat2.drop(['migration_msa','migration_reg','migration_sunbelt','migration_within_reg'],inplace=True,axis=1)"
   ]
  },
  {
   "cell_type": "code",
   "execution_count": 190,
   "metadata": {
    "collapsed": true
   },
   "outputs": [],
   "source": [
    "data_cat1.fillna('?',inplace = True)"
   ]
  },
  {
   "cell_type": "code",
   "execution_count": 191,
   "metadata": {},
   "outputs": [
    {
     "data": {
      "text/plain": [
       "citizenship                         0\n",
       "class_of_worker                     0\n",
       "country_father                      0\n",
       "country_mother                      0\n",
       "country_self                        0\n",
       "d_household_family_stat             0\n",
       "d_household_summary                 0\n",
       "education                           0\n",
       "enrolled_in_edu_inst_lastwk         0\n",
       "family_members_under_18             0\n",
       "fill_questionnaire_veteran_admin    0\n",
       "full_parttime_employment_stat       0\n",
       "hispanic_origin                     0\n",
       "live_1_year_ago                     0\n",
       "major_industry_code                 0\n",
       "major_occupation_code               0\n",
       "marital_status                      0\n",
       "member_of_labor_union               0\n",
       "race                                0\n",
       "reason_for_unemployment             0\n",
       "region_of_previous_residence        0\n",
       "sex                                 0\n",
       "state_of_previous_residence         0\n",
       "tax_filer_status                    0\n",
       "dtype: int64"
      ]
     },
     "execution_count": 191,
     "metadata": {},
     "output_type": "execute_result"
    }
   ],
   "source": [
    "data_cat1.isnull().sum()"
   ]
  },
  {
   "cell_type": "code",
   "execution_count": 192,
   "metadata": {
    "collapsed": true
   },
   "outputs": [],
   "source": [
    "bins = [0,30,60,91]"
   ]
  },
  {
   "cell_type": "code",
   "execution_count": 193,
   "metadata": {
    "collapsed": true
   },
   "outputs": [],
   "source": [
    "data_num1['age2'] = pd.cut(data_num1['age'],bins,labels=['young','adult','old'])"
   ]
  },
  {
   "cell_type": "code",
   "execution_count": 194,
   "metadata": {
    "collapsed": true
   },
   "outputs": [],
   "source": [
    "data_num2['age2'] = pd.cut(data_num2['age'],bins,labels=['young','adult','old'])"
   ]
  },
  {
   "cell_type": "code",
   "execution_count": 197,
   "metadata": {
    "collapsed": true
   },
   "outputs": [],
   "source": [
    "wages_hour = []\n",
    "for i in data_num2['wage_per_hour']:\n",
    "    if i == 0:\n",
    "        i = \"Zero\"\n",
    "        wages_hour.append(i)\n",
    "    else:\n",
    "        i = \"Not Zero\"\n",
    "        wages_hour.append(i)"
   ]
  },
  {
   "cell_type": "code",
   "execution_count": 196,
   "metadata": {
    "collapsed": true
   },
   "outputs": [],
   "source": [
    "data_num1['wages_hour'] = wages_hour"
   ]
  },
  {
   "cell_type": "code",
   "execution_count": 198,
   "metadata": {
    "collapsed": true
   },
   "outputs": [],
   "source": [
    "data_num2['wages_hour'] = wages_hour"
   ]
  },
  {
   "cell_type": "code",
   "execution_count": 121,
   "metadata": {},
   "outputs": [
    {
     "data": {
      "text/html": [
       "<div>\n",
       "<table border=\"1\" class=\"dataframe\">\n",
       "  <thead>\n",
       "    <tr style=\"text-align: right;\">\n",
       "      <th></th>\n",
       "      <th>age</th>\n",
       "      <th>business_or_self_employed</th>\n",
       "      <th>capital_gains</th>\n",
       "      <th>capital_losses</th>\n",
       "      <th>dividend_from_Stocks</th>\n",
       "      <th>income_level</th>\n",
       "      <th>industry_code</th>\n",
       "      <th>num_person_Worked_employer</th>\n",
       "      <th>occupation_code</th>\n",
       "      <th>veterans_benefits</th>\n",
       "      <th>wage_per_hour</th>\n",
       "      <th>year</th>\n",
       "      <th>total_income</th>\n",
       "      <th>age2</th>\n",
       "      <th>wages_hour</th>\n",
       "    </tr>\n",
       "  </thead>\n",
       "  <tbody>\n",
       "    <tr>\n",
       "      <th>0</th>\n",
       "      <td>73</td>\n",
       "      <td>0</td>\n",
       "      <td>0</td>\n",
       "      <td>0</td>\n",
       "      <td>0</td>\n",
       "      <td>-50000</td>\n",
       "      <td>0</td>\n",
       "      <td>0</td>\n",
       "      <td>0</td>\n",
       "      <td>2</td>\n",
       "      <td>0</td>\n",
       "      <td>95</td>\n",
       "      <td>0</td>\n",
       "      <td>old</td>\n",
       "      <td>Zero</td>\n",
       "    </tr>\n",
       "    <tr>\n",
       "      <th>1</th>\n",
       "      <td>58</td>\n",
       "      <td>0</td>\n",
       "      <td>0</td>\n",
       "      <td>0</td>\n",
       "      <td>0</td>\n",
       "      <td>-50000</td>\n",
       "      <td>4</td>\n",
       "      <td>1</td>\n",
       "      <td>34</td>\n",
       "      <td>2</td>\n",
       "      <td>0</td>\n",
       "      <td>94</td>\n",
       "      <td>0</td>\n",
       "      <td>adult</td>\n",
       "      <td>Zero</td>\n",
       "    </tr>\n",
       "    <tr>\n",
       "      <th>2</th>\n",
       "      <td>18</td>\n",
       "      <td>0</td>\n",
       "      <td>0</td>\n",
       "      <td>0</td>\n",
       "      <td>0</td>\n",
       "      <td>-50000</td>\n",
       "      <td>0</td>\n",
       "      <td>0</td>\n",
       "      <td>0</td>\n",
       "      <td>2</td>\n",
       "      <td>0</td>\n",
       "      <td>95</td>\n",
       "      <td>0</td>\n",
       "      <td>young</td>\n",
       "      <td>Zero</td>\n",
       "    </tr>\n",
       "    <tr>\n",
       "      <th>3</th>\n",
       "      <td>9</td>\n",
       "      <td>0</td>\n",
       "      <td>0</td>\n",
       "      <td>0</td>\n",
       "      <td>0</td>\n",
       "      <td>-50000</td>\n",
       "      <td>0</td>\n",
       "      <td>0</td>\n",
       "      <td>0</td>\n",
       "      <td>0</td>\n",
       "      <td>0</td>\n",
       "      <td>94</td>\n",
       "      <td>0</td>\n",
       "      <td>young</td>\n",
       "      <td>Zero</td>\n",
       "    </tr>\n",
       "    <tr>\n",
       "      <th>4</th>\n",
       "      <td>10</td>\n",
       "      <td>0</td>\n",
       "      <td>0</td>\n",
       "      <td>0</td>\n",
       "      <td>0</td>\n",
       "      <td>-50000</td>\n",
       "      <td>0</td>\n",
       "      <td>0</td>\n",
       "      <td>0</td>\n",
       "      <td>0</td>\n",
       "      <td>0</td>\n",
       "      <td>94</td>\n",
       "      <td>0</td>\n",
       "      <td>young</td>\n",
       "      <td>Zero</td>\n",
       "    </tr>\n",
       "  </tbody>\n",
       "</table>\n",
       "</div>"
      ],
      "text/plain": [
       "   age  business_or_self_employed  capital_gains  capital_losses  \\\n",
       "0   73                          0              0               0   \n",
       "1   58                          0              0               0   \n",
       "2   18                          0              0               0   \n",
       "3    9                          0              0               0   \n",
       "4   10                          0              0               0   \n",
       "\n",
       "   dividend_from_Stocks  income_level  industry_code  \\\n",
       "0                     0        -50000              0   \n",
       "1                     0        -50000              4   \n",
       "2                     0        -50000              0   \n",
       "3                     0        -50000              0   \n",
       "4                     0        -50000              0   \n",
       "\n",
       "   num_person_Worked_employer  occupation_code  veterans_benefits  \\\n",
       "0                           0                0                  2   \n",
       "1                           1               34                  2   \n",
       "2                           0                0                  2   \n",
       "3                           0                0                  0   \n",
       "4                           0                0                  0   \n",
       "\n",
       "   wage_per_hour  year  total_income   age2 wages_hour  \n",
       "0              0    95             0    old       Zero  \n",
       "1              0    94             0  adult       Zero  \n",
       "2              0    95             0  young       Zero  \n",
       "3              0    94             0  young       Zero  \n",
       "4              0    94             0  young       Zero  "
      ]
     },
     "execution_count": 121,
     "metadata": {},
     "output_type": "execute_result"
    }
   ],
   "source": [
    "data_num1.head()"
   ]
  },
  {
   "cell_type": "code",
   "execution_count": 205,
   "metadata": {
    "collapsed": true
   },
   "outputs": [],
   "source": [
    "capital_gain = []\n",
    "for i in data_num1['capital_gains']:\n",
    "    if i == 0:\n",
    "        i = \"Zero\"\n",
    "        capital_gain.append(i)\n",
    "    else:\n",
    "        i = \"Not Zero\"\n",
    "        capital_gain.append(i)"
   ]
  },
  {
   "cell_type": "code",
   "execution_count": null,
   "metadata": {
    "collapsed": true
   },
   "outputs": [],
   "source": [
    "capital_loss = []\n",
    "for i in data_num1['capital_losses']:\n",
    "    if i == 0:\n",
    "        i = \"Zero\"\n",
    "        capital_loss.append(i)\n",
    "    else:\n",
    "        i = \"Not Zero\"\n",
    "        capital_loss.append(i)"
   ]
  },
  {
   "cell_type": "code",
   "execution_count": 207,
   "metadata": {
    "collapsed": true
   },
   "outputs": [],
   "source": [
    "divident = []\n",
    "for i in data_num1['dividend_from_Stocks']:\n",
    "    if i == 0:\n",
    "        i = \"Zero\"\n",
    "        divident.append(i)\n",
    "    else:\n",
    "        i = \"Not Zero\"\n",
    "        divident.append(i)"
   ]
  },
  {
   "cell_type": "code",
   "execution_count": 208,
   "metadata": {
    "collapsed": true
   },
   "outputs": [],
   "source": [
    "data_num1['capital_gain'] = capital_gain"
   ]
  },
  {
   "cell_type": "code",
   "execution_count": 209,
   "metadata": {
    "collapsed": true
   },
   "outputs": [],
   "source": [
    "data_num1['divident'] = divident"
   ]
  },
  {
   "cell_type": "code",
   "execution_count": null,
   "metadata": {
    "collapsed": true
   },
   "outputs": [],
   "source": [
    "data_num1['capital_loss'] = capital_loss"
   ]
  },
  {
   "cell_type": "code",
   "execution_count": 210,
   "metadata": {
    "collapsed": true
   },
   "outputs": [],
   "source": [
    "data_num1.drop(['age','capital_gains','capital_losses','dividend_from_Stocks'],inplace=True,axis = 1)"
   ]
  },
  {
   "cell_type": "code",
   "execution_count": 211,
   "metadata": {
    "collapsed": true
   },
   "outputs": [],
   "source": [
    "data_num2.drop(['age','capital_gains','capital_losses','dividend_from_Stocks'],inplace=True,axis = 1)"
   ]
  },
  {
   "cell_type": "code",
   "execution_count": 147,
   "metadata": {
    "collapsed": true
   },
   "outputs": [],
   "source": [
    "data_cat1.drop(['total_income','total_income1','total_income2','income_level'],inplace=True,axis=1)"
   ]
  },
  {
   "cell_type": "code",
   "execution_count": 217,
   "metadata": {},
   "outputs": [
    {
     "data": {
      "text/plain": [
       "Index(['citizenship', 'class_of_worker', 'country_father', 'country_mother',\n",
       "       'country_self', 'd_household_family_stat', 'd_household_summary',\n",
       "       'education', 'enrolled_in_edu_inst_lastwk', 'family_members_under_18',\n",
       "       'fill_questionnaire_veteran_admin', 'full_parttime_employment_stat',\n",
       "       'hispanic_origin', 'live_1_year_ago', 'major_industry_code',\n",
       "       'major_occupation_code', 'marital_status', 'member_of_labor_union',\n",
       "       'race', 'reason_for_unemployment', 'region_of_previous_residence',\n",
       "       'sex', 'state_of_previous_residence', 'tax_filer_status'],\n",
       "      dtype='object')"
      ]
     },
     "execution_count": 217,
     "metadata": {},
     "output_type": "execute_result"
    }
   ],
   "source": [
    "data_cat1.columns"
   ]
  },
  {
   "cell_type": "code",
   "execution_count": 232,
   "metadata": {},
   "outputs": [
    {
     "data": {
      "text/plain": [
       "Index(['citizenship', 'class_of_worker', 'country_father', 'country_mother',\n",
       "       'country_self', 'd_household_family_stat', 'd_household_summary',\n",
       "       'education', 'enrolled_in_edu_inst_lastwk', 'family_members_under_18',\n",
       "       'fill_questionnaire_veteran_admin', 'full_parttime_employment_stat',\n",
       "       'hispanic_origin', 'income_level', 'live_1_year_ago',\n",
       "       'major_industry_code', 'major_occupation_code', 'marital_status',\n",
       "       'member_of_labor_union', 'race', 'reason_for_unemployment',\n",
       "       'region_of_previous_residence', 'sex', 'state_of_previous_residence',\n",
       "       'tax_filer_status', 'total_income'],\n",
       "      dtype='object')"
      ]
     },
     "execution_count": 232,
     "metadata": {},
     "output_type": "execute_result"
    }
   ],
   "source": [
    "data_cat2.columns"
   ]
  },
  {
   "cell_type": "code",
   "execution_count": null,
   "metadata": {
    "collapsed": true
   },
   "outputs": [],
   "source": []
  },
  {
   "cell_type": "code",
   "execution_count": null,
   "metadata": {
    "collapsed": true
   },
   "outputs": [],
   "source": []
  },
  {
   "cell_type": "code",
   "execution_count": 219,
   "metadata": {
    "collapsed": true
   },
   "outputs": [],
   "source": [
    "\n",
    "total_income = []\n",
    "for i in data_cat2['income_level']:\n",
    "    if i == '-50000':\n",
    "        i = 0\n",
    "        total_income.append(i)\n",
    "    else:\n",
    "        \n",
    "        i = 1\n",
    "        total_income.append(i)"
   ]
  },
  {
   "cell_type": "code",
   "execution_count": 220,
   "metadata": {
    "collapsed": true
   },
   "outputs": [],
   "source": [
    "data_cat2['total_income'] = total_income"
   ]
  },
  {
   "cell_type": "code",
   "execution_count": 341,
   "metadata": {},
   "outputs": [
    {
     "data": {
      "text/plain": [
       "Index(['business_or_self_employed', 'industry_code',\n",
       "       'num_person_Worked_employer', 'occupation_code', 'veterans_benefits',\n",
       "       'wage_per_hour', 'year', 'age2', 'wages_hour', 'capital_gain',\n",
       "       'divident', 'total_income'],\n",
       "      dtype='object')"
      ]
     },
     "execution_count": 341,
     "metadata": {},
     "output_type": "execute_result"
    }
   ],
   "source": [
    "data_num1.columns"
   ]
  },
  {
   "cell_type": "code",
   "execution_count": 331,
   "metadata": {},
   "outputs": [
    {
     "data": {
      "text/plain": [
       "(99762, 25)"
      ]
     },
     "execution_count": 331,
     "metadata": {},
     "output_type": "execute_result"
    }
   ],
   "source": [
    "data_cat2.shape"
   ]
  },
  {
   "cell_type": "code",
   "execution_count": 344,
   "metadata": {
    "collapsed": true
   },
   "outputs": [],
   "source": [
    "data_num2.drop(['capital_loss'],inplace=True,axis=1)"
   ]
  },
  {
   "cell_type": "code",
   "execution_count": 235,
   "metadata": {},
   "outputs": [
    {
     "data": {
      "text/plain": [
       "(199523, 24)"
      ]
     },
     "execution_count": 235,
     "metadata": {},
     "output_type": "execute_result"
    }
   ],
   "source": [
    "data_cat1.shape"
   ]
  },
  {
   "cell_type": "code",
   "execution_count": 345,
   "metadata": {
    "collapsed": true
   },
   "outputs": [],
   "source": [
    "train_1 = pd.concat([data_num1,data_cat1],axis=1)"
   ]
  },
  {
   "cell_type": "code",
   "execution_count": 346,
   "metadata": {},
   "outputs": [
    {
     "data": {
      "text/plain": [
       "(199523, 36)"
      ]
     },
     "execution_count": 346,
     "metadata": {},
     "output_type": "execute_result"
    }
   ],
   "source": [
    "train_1.shape"
   ]
  },
  {
   "cell_type": "code",
   "execution_count": 474,
   "metadata": {
    "collapsed": true
   },
   "outputs": [],
   "source": [
    "test_3 = pd.concat([data_num2,data_cat2],axis=1)"
   ]
  },
  {
   "cell_type": "code",
   "execution_count": null,
   "metadata": {
    "collapsed": true
   },
   "outputs": [],
   "source": []
  },
  {
   "cell_type": "code",
   "execution_count": null,
   "metadata": {
    "collapsed": true
   },
   "outputs": [],
   "source": []
  },
  {
   "cell_type": "code",
   "execution_count": 349,
   "metadata": {
    "collapsed": true
   },
   "outputs": [],
   "source": [
    "train_Y = train_1['total_income']"
   ]
  },
  {
   "cell_type": "code",
   "execution_count": 476,
   "metadata": {
    "collapsed": true
   },
   "outputs": [],
   "source": [
    "test_p = test_3['total_income']"
   ]
  },
  {
   "cell_type": "code",
   "execution_count": 351,
   "metadata": {
    "collapsed": true
   },
   "outputs": [],
   "source": [
    "train_1.drop(['total_income'],inplace=True,axis = 1)"
   ]
  },
  {
   "cell_type": "code",
   "execution_count": 352,
   "metadata": {
    "collapsed": true
   },
   "outputs": [],
   "source": [
    "test_1.drop(['total_income'],inplace=True,axis=1)"
   ]
  },
  {
   "cell_type": "code",
   "execution_count": 458,
   "metadata": {
    "collapsed": true
   },
   "outputs": [],
   "source": [
    "from sklearn.preprocessing import LabelEncoder"
   ]
  },
  {
   "cell_type": "code",
   "execution_count": 459,
   "metadata": {
    "collapsed": true
   },
   "outputs": [],
   "source": [
    " k = LabelEncoder()"
   ]
  },
  {
   "cell_type": "code",
   "execution_count": 472,
   "metadata": {
    "collapsed": true
   },
   "outputs": [],
   "source": [
    "h = []\n",
    "\n",
    "def f(m):\n",
    "    \n",
    "    for x in m:\n",
    "        if m[x].dtype == np.object:\n",
    "            m[x] = k.fit_transform(m[x])\n",
    "            h.append(m[x])"
   ]
  },
  {
   "cell_type": "code",
   "execution_count": 457,
   "metadata": {},
   "outputs": [
    {
     "data": {
      "text/plain": [
       "(99762, 35)"
      ]
     },
     "execution_count": 457,
     "metadata": {},
     "output_type": "execute_result"
    }
   ],
   "source": [
    "test_2.shape"
   ]
  },
  {
   "cell_type": "code",
   "execution_count": 356,
   "metadata": {
    "collapsed": true
   },
   "outputs": [],
   "source": [
    "f(train_1)"
   ]
  },
  {
   "cell_type": "code",
   "execution_count": 360,
   "metadata": {
    "collapsed": true
   },
   "outputs": [],
   "source": [
    "train = pd.DataFrame(train_p)"
   ]
  },
  {
   "cell_type": "code",
   "execution_count": 363,
   "metadata": {},
   "outputs": [
    {
     "name": "stdout",
     "output_type": "stream",
     "text": [
      "<class 'pandas.core.frame.DataFrame'>\n",
      "Index: 27 entries, wages_hour to tax_filer_status\n",
      "Columns: 199523 entries, 0 to 199522\n",
      "dtypes: int64(199523)\n",
      "memory usage: 41.1+ MB\n"
     ]
    }
   ],
   "source": [
    "train.info()"
   ]
  },
  {
   "cell_type": "code",
   "execution_count": 477,
   "metadata": {
    "collapsed": true
   },
   "outputs": [],
   "source": [
    "f(test_3)"
   ]
  },
  {
   "cell_type": "code",
   "execution_count": 471,
   "metadata": {},
   "outputs": [
    {
     "data": {
      "text/plain": [
       "[]"
      ]
     },
     "execution_count": 471,
     "metadata": {},
     "output_type": "execute_result"
    }
   ],
   "source": []
  },
  {
   "cell_type": "code",
   "execution_count": 478,
   "metadata": {
    "collapsed": true
   },
   "outputs": [],
   "source": [
    "test_c = pd.DataFrame(h)"
   ]
  },
  {
   "cell_type": "code",
   "execution_count": 480,
   "metadata": {
    "collapsed": true
   },
   "outputs": [],
   "source": [
    "test_a = np.transpose(test_c)"
   ]
  },
  {
   "cell_type": "code",
   "execution_count": 481,
   "metadata": {},
   "outputs": [
    {
     "data": {
      "text/plain": [
       "(99762, 27)"
      ]
     },
     "execution_count": 481,
     "metadata": {},
     "output_type": "execute_result"
    }
   ],
   "source": [
    "test_a.shape"
   ]
  },
  {
   "cell_type": "code",
   "execution_count": 366,
   "metadata": {
    "collapsed": true
   },
   "outputs": [],
   "source": [
    "from sklearn.tree import DecisionTreeClassifier"
   ]
  },
  {
   "cell_type": "code",
   "execution_count": 367,
   "metadata": {
    "collapsed": true
   },
   "outputs": [],
   "source": [
    "tree = DecisionTreeClassifier()"
   ]
  },
  {
   "cell_type": "code",
   "execution_count": 377,
   "metadata": {},
   "outputs": [
    {
     "data": {
      "text/plain": [
       "DecisionTreeClassifier(class_weight=None, criterion='gini', max_depth=None,\n",
       "            max_features=None, max_leaf_nodes=None,\n",
       "            min_impurity_decrease=0.0, min_impurity_split=None,\n",
       "            min_samples_leaf=1, min_samples_split=2,\n",
       "            min_weight_fraction_leaf=0.0, presort=False, random_state=None,\n",
       "            splitter='best')"
      ]
     },
     "execution_count": 377,
     "metadata": {},
     "output_type": "execute_result"
    }
   ],
   "source": [
    "tree.fit(train,train_Y)"
   ]
  },
  {
   "cell_type": "code",
   "execution_count": 376,
   "metadata": {
    "collapsed": true
   },
   "outputs": [],
   "source": [
    "train = np.transpose(train)"
   ]
  },
  {
   "cell_type": "code",
   "execution_count": 482,
   "metadata": {
    "collapsed": true
   },
   "outputs": [],
   "source": [
    "y_pred = tree.predict(test_a)"
   ]
  },
  {
   "cell_type": "code",
   "execution_count": 385,
   "metadata": {
    "collapsed": true
   },
   "outputs": [],
   "source": [
    "from sklearn.metrics import confusion_matrix"
   ]
  },
  {
   "cell_type": "code",
   "execution_count": 484,
   "metadata": {
    "collapsed": true
   },
   "outputs": [],
   "source": [
    "m = confusion_matrix(test_p,y_pred)"
   ]
  },
  {
   "cell_type": "code",
   "execution_count": 485,
   "metadata": {},
   "outputs": [
    {
     "data": {
      "text/plain": [
       "array([[89427,  4149],\n",
       "       [ 3834,  2352]], dtype=int64)"
      ]
     },
     "execution_count": 485,
     "metadata": {},
     "output_type": "execute_result"
    }
   ],
   "source": [
    "m\n",
    "\n"
   ]
  },
  {
   "cell_type": "code",
   "execution_count": 488,
   "metadata": {},
   "outputs": [
    {
     "data": {
      "text/plain": [
       "91779"
      ]
     },
     "execution_count": 488,
     "metadata": {},
     "output_type": "execute_result"
    }
   ],
   "source": [
    "m.diagonal().sum()"
   ]
  },
  {
   "cell_type": "code",
   "execution_count": 489,
   "metadata": {},
   "outputs": [
    {
     "data": {
      "text/plain": [
       "7983"
      ]
     },
     "execution_count": 489,
     "metadata": {},
     "output_type": "execute_result"
    }
   ],
   "source": [
    "4149+3834"
   ]
  },
  {
   "cell_type": "code",
   "execution_count": 490,
   "metadata": {},
   "outputs": [
    {
     "data": {
      "text/plain": [
       "0.9199795513321706"
      ]
     },
     "execution_count": 490,
     "metadata": {},
     "output_type": "execute_result"
    }
   ],
   "source": [
    "91779/99762"
   ]
  },
  {
   "cell_type": "code",
   "execution_count": null,
   "metadata": {
    "collapsed": true
   },
   "outputs": [],
   "source": []
  }
 ],
 "metadata": {
  "kernelspec": {
   "display_name": "Python 3",
   "language": "python",
   "name": "python3"
  },
  "language_info": {
   "codemirror_mode": {
    "name": "ipython",
    "version": 3
   },
   "file_extension": ".py",
   "mimetype": "text/x-python",
   "name": "python",
   "nbconvert_exporter": "python",
   "pygments_lexer": "ipython3",
   "version": "3.6.1"
  }
 },
 "nbformat": 4,
 "nbformat_minor": 2
}
