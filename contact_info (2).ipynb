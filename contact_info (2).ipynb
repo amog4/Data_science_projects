{
 "cells": [
  {
   "cell_type": "code",
   "execution_count": 108,
   "metadata": {
    "collapsed": true
   },
   "outputs": [],
   "source": [
    "# for the first website"
   ]
  },
  {
   "cell_type": "code",
   "execution_count": null,
   "metadata": {
    "collapsed": true
   },
   "outputs": [],
   "source": [
    "# importing packages and url"
   ]
  },
  {
   "cell_type": "code",
   "execution_count": 2,
   "metadata": {
    "collapsed": true
   },
   "outputs": [],
   "source": [
    "\n",
    "from bs4 import BeautifulSoup"
   ]
  },
  {
   "cell_type": "code",
   "execution_count": 3,
   "metadata": {
    "collapsed": true
   },
   "outputs": [],
   "source": [
    "import requests"
   ]
  },
  {
   "cell_type": "code",
   "execution_count": 3,
   "metadata": {
    "collapsed": true
   },
   "outputs": [],
   "source": [
    "url = 'https://store.cherricopottery.com/pages.php?pageid=14'"
   ]
  },
  {
   "cell_type": "code",
   "execution_count": 4,
   "metadata": {
    "collapsed": true
   },
   "outputs": [],
   "source": [
    "responce = requests.get(url)"
   ]
  },
  {
   "cell_type": "code",
   "execution_count": 5,
   "metadata": {
    "collapsed": true
   },
   "outputs": [],
   "source": [
    "text = responce.text"
   ]
  },
  {
   "cell_type": "code",
   "execution_count": 9,
   "metadata": {
    "collapsed": true
   },
   "outputs": [],
   "source": [
    "soup = BeautifulSoup(text,\"html5lib\")"
   ]
  },
  {
   "cell_type": "code",
   "execution_count": 14,
   "metadata": {
    "collapsed": true
   },
   "outputs": [],
   "source": [
    "#soup"
   ]
  },
  {
   "cell_type": "code",
   "execution_count": 11,
   "metadata": {
    "collapsed": true
   },
   "outputs": [],
   "source": [
    "x = soup.find_all('div',attrs={'class':\"footer-column about-column\"})"
   ]
  },
  {
   "cell_type": "code",
   "execution_count": 18,
   "metadata": {},
   "outputs": [
    {
     "name": "stdout",
     "output_type": "stream",
     "text": [
      "\n",
      "    About Cherrico Pottery, LLC\n",
      "  \n",
      "Email us: contact@cherricopottery.com\n",
      "\n",
      "Cherrico Pottery\n",
      "PO Box 583\n",
      "St. Joseph, MN 56374\n",
      "United States\n"
     ]
    }
   ],
   "source": [
    "for i in x:\n",
    "    print(i.h1.text)\n",
    "    print(i.address.text)"
   ]
  },
  {
   "cell_type": "code",
   "execution_count": null,
   "metadata": {
    "collapsed": true
   },
   "outputs": [],
   "source": [
    "# for 2nd website "
   ]
  },
  {
   "cell_type": "code",
   "execution_count": 4,
   "metadata": {
    "collapsed": true
   },
   "outputs": [],
   "source": [
    "responce = requests.get('https://www.urbanindustry.co.uk/pages/contact')"
   ]
  },
  {
   "cell_type": "code",
   "execution_count": 5,
   "metadata": {
    "collapsed": true
   },
   "outputs": [],
   "source": [
    "texts = responce.text"
   ]
  },
  {
   "cell_type": "code",
   "execution_count": 6,
   "metadata": {
    "collapsed": true
   },
   "outputs": [],
   "source": [
    "soup = BeautifulSoup(texts,'html5lib')"
   ]
  },
  {
   "cell_type": "code",
   "execution_count": 7,
   "metadata": {
    "collapsed": true
   },
   "outputs": [],
   "source": [
    "#soup"
   ]
  },
  {
   "cell_type": "code",
   "execution_count": 8,
   "metadata": {
    "collapsed": true
   },
   "outputs": [],
   "source": [
    "x = soup.find('a',attrs={'href':\"tel:+44(0)1323 412444\"})"
   ]
  },
  {
   "cell_type": "code",
   "execution_count": 9,
   "metadata": {},
   "outputs": [
    {
     "name": "stdout",
     "output_type": "stream",
     "text": [
      "+44(0)1323 412444\n"
     ]
    }
   ],
   "source": [
    "for i in x:\n",
    "    print(i)"
   ]
  },
  {
   "cell_type": "code",
   "execution_count": 10,
   "metadata": {
    "collapsed": true
   },
   "outputs": [],
   "source": [
    "x = soup.find_all('a')"
   ]
  },
  {
   "cell_type": "code",
   "execution_count": 11,
   "metadata": {
    "collapsed": true
   },
   "outputs": [],
   "source": [
    "x = soup.find('a',attrs={'href':'mailto:mailorder@urbanindustry.co.uk?subject=Website Query'})"
   ]
  },
  {
   "cell_type": "code",
   "execution_count": 12,
   "metadata": {},
   "outputs": [
    {
     "name": "stdout",
     "output_type": "stream",
     "text": [
      "MAILORDER@URBANINDUSTRY.CO.UK\n"
     ]
    }
   ],
   "source": [
    "for i in x:\n",
    "    print(i)"
   ]
  },
  {
   "cell_type": "code",
   "execution_count": null,
   "metadata": {
    "collapsed": true
   },
   "outputs": [],
   "source": [
    "# 3rd website"
   ]
  },
  {
   "cell_type": "code",
   "execution_count": 13,
   "metadata": {
    "collapsed": true
   },
   "outputs": [],
   "source": [
    "responce = requests.get('http://www.allposters.com.au/help/aboutus.html')"
   ]
  },
  {
   "cell_type": "code",
   "execution_count": 14,
   "metadata": {
    "collapsed": true
   },
   "outputs": [],
   "source": [
    "soup = BeautifulSoup(responce.text,'html5lib')"
   ]
  },
  {
   "cell_type": "code",
   "execution_count": 15,
   "metadata": {
    "collapsed": true
   },
   "outputs": [],
   "source": [
    "#soup"
   ]
  },
  {
   "cell_type": "code",
   "execution_count": 16,
   "metadata": {
    "collapsed": true
   },
   "outputs": [],
   "source": [
    "x = soup.find_all('div',attrs={'class':'tpl-cb floatLeft'})"
   ]
  },
  {
   "cell_type": "code",
   "execution_count": null,
   "metadata": {
    "collapsed": true
   },
   "outputs": [],
   "source": []
  },
  {
   "cell_type": "code",
   "execution_count": 17,
   "metadata": {
    "collapsed": true
   },
   "outputs": [],
   "source": [
    "for i in x:\n",
    "    c = i.table.table.find_all('a')\n",
    "    "
   ]
  },
  {
   "cell_type": "code",
   "execution_count": 106,
   "metadata": {},
   "outputs": [],
   "source": [
    "for i in c:\n",
    "    v = i.text"
   ]
  },
  {
   "cell_type": "code",
   "execution_count": 107,
   "metadata": {},
   "outputs": [
    {
     "data": {
      "text/plain": [
       "\"\\n\\n\\nAll ROW shipping prices are calculated at checkout based on order\\n\\nCan't find your country? To see all the countries that we ship to, please select your country from shipping selector (desktop top navigation or mobile side menu). Applicable shipping, handling & tax rates will then be displayed during checkout.\\n\""
      ]
     },
     "execution_count": 107,
     "metadata": {},
     "output_type": "execute_result"
    }
   ],
   "source": [
    "v"
   ]
  },
  {
   "cell_type": "code",
   "execution_count": 169,
   "metadata": {},
   "outputs": [
    {
     "name": "stdout",
     "output_type": "stream",
     "text": [
      "\n",
      "\n",
      "\n",
      "\n",
      "\n",
      " Our Mission\n",
      "\n",
      "AllPosters.com is dedicated to bringing customers the best selection of posters and art prints in the world. Our range of hundreds of thousands of posters and art prints, combined with our\n",
      "framing and mounting services and 100% satisfaction guarantee, make it simple and safe for customers to find a selection that is perfect for their home, apartment, or office.\n",
      "\n",
      "\n",
      "\n",
      "\n",
      "< Back\n",
      "\n",
      "\n",
      "\n",
      "\n",
      "\n",
      "\n",
      "\n",
      "\n",
      "\n",
      "\n",
      "\n",
      "\n",
      "Watch our video to\n",
      "learn more about why our framing is the best choice for your print. WATCH\n",
      "NOW >\n",
      "\n",
      "\n",
      "\n",
      "\n",
      "\n",
      "\n",
      "\n",
      " Our Products & Services\n",
      "\n",
      "Our selection of posters and prints includes entertainment and specialty posters, decorative prints, and art reproductions. Whether you are looking for a Monet reproduction, a print of the\n",
      "Eiffel Tower, or a poster of Michael Jordan, you will find it at AllPosters.com. AllPosters.com's value-added services, including framing and mounting, provide customers\n",
      "with the option to enhance the appearance of their poster or art print. Our framing service allows customers to choose from a variety of high-quality frames, mats, and glass. Our unique\n",
      "mounting service permanently bonds prints to a durable hardboard backing. Both services produce high-quality, attractive finished products at a reasonable price.\n",
      "\n",
      "\n",
      "\n",
      "\n",
      "< Back\n",
      "\n",
      "\n",
      "\n",
      " Our History\n",
      "\n",
      "AllPosters.com was founded in 1998 in Berkeley, California. Since that time, AllPosters.com has helped customers worldwide decorate their homes, dorm rooms, apartments, and offices.\n",
      "\n",
      "\n",
      "\n",
      "\n",
      "< Back\n",
      "\n",
      "\n",
      "\n",
      " Customer Feedback\n",
      "\n",
      "\"I've just had such a great experience with your site, THANK YOU! It was quick and easy to find the poster that I was looking for. It was very reasonably priced and it arrived at my home\n",
      "even more expeditiously than promised! I am really pleased.\"  \"I have purchased posters (i.e. art prints mounted on wood) from your website in the past, and have been\n",
      "really pleased with the quality of the work and timeliness of delivery. You've got a great website, great service, and super product. Really impressive. Thanks again for you assistance.\" \n",
      "\"My teenage son and I both really enjoyed surfing the site and looking at a wide variety of posters. We found a lot more variety than any of the local stores here and the prices\n",
      "were very reasonable. We made an order. The boy spent $50 of his hard earned money on your 'tight' posters. We think it is a great site and will tell our friends about it!\" \n",
      "\"This is a great site-- I wish I'd found years earlier. I love finding prints that strike my fancy and having them framed as I decorate my home room by room. Usually though, the\n",
      "prints I find are in a store or sometimes in those big art books. This site is fantastic. This evening I saw two pictures I really liked in a local store. However, I didn't like how they\n",
      "were framed. I copied the artist's name and print names and came home to search the web. That's when I came across AllPosters.com. I'll definitely make note of this site and do my art\n",
      "shopping right here. Thanks much!\"  \"Just a quick note to say Thank You for being so user friendly. This is without a doubt one of the best web sites that I have ever\n",
      "visited. Ordering was so simple...I feel like I'm writing an ad for you guys.. but seriously.. you do have your act together. I look forward to doing more business with you soon.\" \n",
      "\"I ordered my print and received it in 3 days! The packaging was great, and the print is beautiful. Thank you for an enjoyable experience. I'll definitely be ordering again.\" \n",
      "\"This is a great website. It is complete, the photos are accurate, and it is easy to use. Have never encountered a glitch in it. After viewing several hundred websites for different\n",
      "products, this is by far one of the best and easiest to use. Good work, and great prints!\" \n",
      "\"Fantastic quality and selection! Absolutely would recommend AllPosters.com for Posters or Art Prints!\"\n",
      "\n",
      "\n",
      "\n",
      "\n",
      "< Back\n",
      "\n",
      "\n",
      "\n",
      " Employment\n",
      "\n",
      "Click here to view Employment Opportunities\n",
      "\n",
      "\n",
      "\n",
      "< Back\n",
      "\n",
      "\n",
      "\n",
      "\n",
      " Contact Us\n",
      "\n",
      "\n",
      "\n",
      "\n",
      "\n",
      "\n",
      "\n",
      "\n",
      "E-mail:\n",
      "\n",
      "\n",
      "\n",
      "\n",
      "\n",
      "\n",
      "\n",
      " \n",
      "\n",
      "\n",
      "\n",
      "Order & Customer Service Inquiries:\n",
      "Orders@allposters.com\n",
      "\n",
      "\n",
      "Use this contact if you are a customer who has questions about an order or about placing an order.\n",
      "\n",
      "\n",
      " \n",
      " \n",
      "\n",
      "\n",
      "Business Development:\n",
      "Business@allposters.com\n",
      "\n",
      "\n",
      "Use this contact if you are a customer who has questions about an order or about placing an order.\n",
      "\n",
      "\n",
      "\n",
      "\n",
      " \n",
      " \n",
      "\n",
      "\n",
      "Feedback/Suggestions:\n",
      "Suggestions@allposters.com\n",
      "\n",
      "\n",
      "Use this contact if you want to give us feedback about AllPosters.com. Suggestions are always welcome.\n",
      "\n",
      "\n",
      "\n",
      "\n",
      " \n",
      " \n",
      "\n",
      "\n",
      "Marketing:\n",
      "Marketing@allposters.com\n",
      "\n",
      "\n",
      "Use this contact if you wish to discuss a proposal regarding marketing or business development. Do not send confidential or proprietary\n",
      "information.\n",
      "\n",
      "\n",
      "\n",
      "\n",
      " \n",
      " \n",
      "\n",
      "\n",
      "Merchandising:\n",
      "Merchandising@allposters.com\n",
      "\n",
      "\n",
      "Use this contact if you are a product vendor who wishes to contact our merchandising team. If you are a new vendor, please send a catalog to the 'Merchandising\n",
      "Department' at our address below.\n",
      "\n",
      "\n",
      "\n",
      "\n",
      " \n",
      " \n",
      "\n",
      "\n",
      "Business & Trade Program:\n",
      "\n",
      "corpsales@allposters.com\n",
      "\n",
      "\n",
      "\n",
      "Use this contact if you are a business customer looking for one-stop shopping and competitive pricing.\n",
      "\n",
      "\n",
      "\n",
      "\n",
      "\n",
      "\n",
      "\n",
      "\n",
      "\n",
      "\n",
      "\n",
      "\n",
      "\n",
      " \n",
      "\n",
      "\n",
      "\n",
      "\n",
      "\n",
      "Mail:\n",
      "\n",
      "\n",
      "\n",
      "\n",
      "\n",
      "\n",
      " \n",
      "\n",
      "\n",
      "\n",
      "Check Payments:\n",
      "Order Processing AllPosters.comP.O. Box 742124Los Angeles, CA 90074-2124USA\n",
      "\n",
      "\n",
      "\n",
      " \n",
      " \n",
      "\n",
      "\n",
      "Returns:\n",
      "\n",
      "Returns AllPosters.com4000 Creekside Parkway, Unit CLockbourne, OH 43194USA\n",
      "\n",
      "\n",
      "\n",
      "\n",
      "\n",
      "\n",
      "\n",
      "\n",
      "\n",
      "\n",
      "\n",
      "\n",
      "\n",
      "\n",
      "Phone:\n",
      "\n",
      "\n",
      "\n",
      "\n",
      "\n",
      "\n",
      "\n",
      " \n",
      "\n",
      "\n",
      "\n",
      "Corporate Headquarters\n",
      "\n",
      "\n",
      "\n",
      "\n",
      "\n",
      "Corporate Phone\n",
      "+1 (510) 879-4700\n",
      "\n",
      "\n",
      "Corporate Fax\n",
      "(510) 588-3915\n",
      "\n",
      "\n",
      "\n",
      "\n",
      " \n",
      "\n",
      "\n",
      "\n",
      "\n",
      "\n",
      "\n",
      "Customer Service America\n",
      "\n",
      "\n",
      "\n",
      "\n",
      "\n",
      "In English\n",
      "\n",
      "\n",
      "U.S. Customers(Toll Free):\n",
      "+1(888)654-0143\n",
      "\n",
      "\n",
      "Other International Customers:\n",
      "+1(919)277-2172\n",
      "\n",
      "\n",
      "\n",
      "\n",
      "\n",
      "In Spanish\n",
      "\n",
      "\n",
      "U.S. Customers(Toll Free):\n",
      "+1(866)707-7709\n",
      "\n",
      "\n",
      "Other International Customers:\n",
      "+1(919)597-7014\n",
      "\n",
      "\n",
      "\n",
      "\n",
      "\n",
      "In French\n",
      "\n",
      "\n",
      "Customers in France:\n",
      "+1(919)277-2172\n",
      "\n",
      "\n",
      "Other French Speaking International Customers:\n",
      "+1(919)597-7015\n",
      "\n",
      "\n",
      "Other International Customers:\n",
      "+1(919)597-7015\n",
      "\n",
      "\n",
      "\n",
      "\n",
      " \n",
      "\n",
      "\n",
      "\n",
      "\n",
      "\n",
      "\n",
      "Customer Service Europe\n",
      "\n",
      "\n",
      "\n",
      "\n",
      "\n",
      "In English\n",
      "\n",
      "\n",
      "Customers in the UK:\n",
      "\n",
      "+44 (0) 20 8435 6555\n",
      "\n",
      "\n",
      "\n",
      "Customers outside the UK:\n",
      "+44 (0) 20 8435 6555\n",
      "\n",
      "\n",
      "\n",
      "\n",
      "\n",
      "In French\n",
      "\n",
      "\n",
      "French Speaking Customers In France (Toll Free) :\n",
      "\n",
      "01 70 70 96 61\n",
      "\n",
      "\n",
      "Other European French Speaking Customers:\n",
      "+33 1 70 70 96 61\n",
      "\n",
      "\n",
      "French Speaking Customers In Switzerland:\n",
      "+41 (44) 595 94 01\n",
      "\n",
      "\n",
      "French speaking customers in Belgium:\n",
      "+32 (9) 277 94 21\n",
      "\n",
      "\n",
      "\n",
      "\n",
      "\n",
      "In Spanish\n",
      "\n",
      "\n",
      "Spanish Customers:\n",
      "+34 (0) 931 790 659\n",
      "\n",
      "\n",
      "\n",
      "\n",
      "\n",
      "In German\n",
      "\n",
      "\n",
      "German Speaking Customers In Germany:\n",
      "089 1437 7605\n",
      "\n",
      "\n",
      "German Speaking Customers Outside of Germany:\n",
      "+49 (0) 89 1437 7605\n",
      "\n",
      "\n",
      "German Speaking Customers In Switzerland:\n",
      "+41 44 595 94 01\n",
      "\n",
      "\n",
      "\n",
      "\n",
      "\n",
      "In Italian\n",
      "\n",
      "\n",
      "Italian Customers:\n",
      "045 4750666\n",
      "\n",
      "\n",
      "Italian Speaking Customers In Switzerland:\n",
      "+41 44 595 94 01\n",
      "\n",
      "\n",
      "\n",
      "\n",
      "\n",
      "In Dutch\n",
      "\n",
      "\n",
      "Customers In Netherlands Phone:\n",
      "\n",
      "+31 (0) 20 262 3824\n",
      "\n",
      "\n",
      "\n",
      "Customers In Netherlands Fax:\n",
      "+31 478-511014\n",
      "\n",
      "\n",
      "Dutch speaking customers in Belgium:\n",
      "+32 9 277 94 21\n",
      "\n",
      "\n",
      "\n",
      "\n",
      " \n",
      "\n",
      "\n",
      "\n",
      "\n",
      "\n",
      "\n",
      "**Please note we are closed on the following holidays: \n",
      "\n",
      "New Year's Day Martin Luther King Jr. Day Memorial Day Independence Day Thanksgiving Day Christmas Day\n",
      "\n",
      "\n",
      "\n",
      "\n",
      "\n",
      "\n",
      "\n",
      "\n",
      "\n",
      " \n",
      "\n",
      "\n",
      "< Back\n",
      "\n",
      "\n",
      "\n",
      "\n",
      "\n",
      "\n",
      "\n",
      "\n",
      "\n",
      "\n",
      "\n",
      "\n"
     ]
    }
   ],
   "source": [
    "for i in x:\n",
    "    print(i.table.table.text)\n",
    "    "
   ]
  },
  {
   "cell_type": "code",
   "execution_count": null,
   "metadata": {
    "collapsed": true
   },
   "outputs": [],
   "source": [
    "# 4th website"
   ]
  },
  {
   "cell_type": "code",
   "execution_count": 171,
   "metadata": {
    "collapsed": true
   },
   "outputs": [],
   "source": [
    "respnce = requests.get('http://www.onlinegolf.co.uk/customer-services/contact-us.html')"
   ]
  },
  {
   "cell_type": "code",
   "execution_count": 172,
   "metadata": {
    "collapsed": true
   },
   "outputs": [],
   "source": [
    "soup = BeautifulSoup(respnce.text,'html5lib')"
   ]
  },
  {
   "cell_type": "code",
   "execution_count": 176,
   "metadata": {
    "collapsed": true
   },
   "outputs": [],
   "source": [
    "x =soup.find_all('div',attrs={'class':'emailBlock'})"
   ]
  },
  {
   "cell_type": "code",
   "execution_count": 178,
   "metadata": {},
   "outputs": [
    {
     "name": "stdout",
     "output_type": "stream",
     "text": [
      "\n",
      "Email Us\n",
      "General Sales:\n",
      "sales@onlinegolf.co.uk\n",
      "Professional Advice:\n",
      "sales@onlinegolf.co.uk\n",
      "Aftersales:\n",
      "aftersales@onlinegolf.co.uk\n",
      "Returns:\n",
      "aftersales@onlinegolf.co.uk\n",
      "Feedback:\n",
      "aftersales@onlinegolf.co.uk\n",
      "Marketing:\n",
      "marketing@onlinegolf.co.uk\n",
      "\n"
     ]
    }
   ],
   "source": [
    "for i in x:\n",
    "    print(i.text)"
   ]
  },
  {
   "cell_type": "code",
   "execution_count": 180,
   "metadata": {
    "collapsed": true
   },
   "outputs": [],
   "source": [
    "x = soup.find_all('div',attrs={'id':'contactforminfo'})"
   ]
  },
  {
   "cell_type": "code",
   "execution_count": 181,
   "metadata": {},
   "outputs": [
    {
     "name": "stdout",
     "output_type": "stream",
     "text": [
      "\n",
      "\n",
      "\n",
      "\n",
      "Opening hours over Christmas are (GMT):\n",
      "\n",
      "Friday 22nd December - 8.00am to 8.00pm\n",
      "Saturday 23rd December - 9.00am to 4.00pm\n",
      "Sunday 24th December - 10.00am to 4.00pm\n",
      "Monday 25th December - Closed\n",
      "Tuesday 26th December - Closed\n",
      "Wednesday 27th December - 8.00am to 8.00pm \n",
      "Thursday 28th December - 8.00am to 8.00pm\n",
      "Friday 29th December - 8.00am to 8.00pm\n",
      "Saturday 30th December - 9.00am to 1.00pm\n",
      "Sunday 31st January - Closed\n",
      "Monday 1st January - Closed\n",
      "Tuesday 2nd January - 8.00am to 8.00pm\n",
      "Our office opening times are (GMT):\n",
      "\n",
      "8.00am to 6.00pm Monday to Friday\n",
      "9.00am to 1.00pm Saturday\n",
      "Sundays and Bank Holidays CLOSED\n",
      "\n",
      "\n",
      "Call Us\n",
      "On +44(0)1512247141\n",
      "\n",
      "Write To Us At\n",
      "SW Golf LimitedPO Box 2007LiverpoolL69 3FXUnited Kingdom\n",
      "\n",
      "\n",
      "\n",
      "\n",
      "Email Us\n",
      "General Sales:\n",
      "sales@onlinegolf.co.uk\n",
      "Professional Advice:\n",
      "sales@onlinegolf.co.uk\n",
      "Aftersales:\n",
      "aftersales@onlinegolf.co.uk\n",
      "Returns:\n",
      "aftersales@onlinegolf.co.uk\n",
      "Feedback:\n",
      "aftersales@onlinegolf.co.uk\n",
      "Marketing:\n",
      "marketing@onlinegolf.co.uk\n",
      "\n",
      "\n",
      "\n"
     ]
    }
   ],
   "source": [
    "for contact in x:\n",
    "    print(contact.text)"
   ]
  },
  {
   "cell_type": "code",
   "execution_count": null,
   "metadata": {
    "collapsed": true
   },
   "outputs": [],
   "source": [
    "# 5th website"
   ]
  },
  {
   "cell_type": "code",
   "execution_count": 182,
   "metadata": {
    "collapsed": true
   },
   "outputs": [],
   "source": [
    "responce = requests.get('https://www.bharatplaza.com/contacts/')"
   ]
  },
  {
   "cell_type": "code",
   "execution_count": 183,
   "metadata": {
    "collapsed": true
   },
   "outputs": [],
   "source": [
    "soup = BeautifulSoup(responce.text,'html5lib')"
   ]
  },
  {
   "cell_type": "code",
   "execution_count": 186,
   "metadata": {
    "collapsed": true
   },
   "outputs": [],
   "source": [
    "x = soup.find_all('div',attrs ={'class':'grid12-12 mgtop30'})"
   ]
  },
  {
   "cell_type": "code",
   "execution_count": 194,
   "metadata": {},
   "outputs": [
    {
     "name": "stdout",
     "output_type": "stream",
     "text": [
      " Call UsWORLWIDE +91-9001335555, +91-9001345555Available: Mon To Sat8.00 am to 9.00 pm ADDRESSShri Bharat Worldwide Pvt. Ltd. 112, Sector-E, Near Kalpatru Cinema,  Shastri Nagar, Jodhpur - 342 003  Rajasthan (INDIA) Need Help?Phone : +91-900-133-5555 Email : cs[at]bharatplaza.comAvailable: Mon To Sat8.00 am to 9.00 pm Support CenterFor Product Queries, Order & Shipping Payments Mode Pls Send Enquiry\n"
     ]
    }
   ],
   "source": [
    "for div in x:\n",
    "    print(div.text)"
   ]
  },
  {
   "cell_type": "code",
   "execution_count": null,
   "metadata": {
    "collapsed": true
   },
   "outputs": [],
   "source": [
    "# bonus for the 2nd website"
   ]
  },
  {
   "cell_type": "code",
   "execution_count": 70,
   "metadata": {
    "collapsed": true
   },
   "outputs": [],
   "source": [
    "responce = requests.get('https://www.urbanindustry.co.uk/pages/worldwide_shipping_1')"
   ]
  },
  {
   "cell_type": "code",
   "execution_count": 71,
   "metadata": {
    "collapsed": true
   },
   "outputs": [],
   "source": [
    "soup = BeautifulSoup(responce.text,'html5lib')"
   ]
  },
  {
   "cell_type": "code",
   "execution_count": 98,
   "metadata": {},
   "outputs": [],
   "source": [
    "x = soup.find_all('div',attrs={'class': 'shogun-panel'})"
   ]
  },
  {
   "cell_type": "code",
   "execution_count": 99,
   "metadata": {},
   "outputs": [],
   "source": [
    "for i in x:\n",
    "    c = i.find_all('div',attrs={'class' : 'shg-c'})"
   ]
  },
  {
   "cell_type": "code",
   "execution_count": 100,
   "metadata": {},
   "outputs": [],
   "source": [
    "for i in x:\n",
    "    v = i.find_all('p')\n",
    "    "
   ]
  },
  {
   "cell_type": "code",
   "execution_count": 101,
   "metadata": {},
   "outputs": [
    {
     "name": "stdout",
     "output_type": "stream",
     "text": [
      "\n",
      "Top Countries\n",
      "Australia\n",
      "Canada\n",
      "China\n",
      "Hong Kong\n",
      "Iceland\n",
      "Japan\n",
      "Macau\n",
      "New Zealand\n",
      "Russia\n",
      "Singapore\n",
      "South Korea\n",
      "Taiwan\n",
      "United States\n",
      "Vietnam\n",
      "\n",
      "Delivery Courier\n",
      "DHL Express\n",
      "DHL Express\n",
      "DHL Express\n",
      "Skynet\n",
      "DHL Express\n",
      "DHL Express\n",
      "DHL Express\n",
      "DHL Express\n",
      "TrakPak\n",
      "Skynet\n",
      "DHL Express\n",
      "DHL Express\n",
      "DHL Express\n",
      "DHL Express\n",
      "\n",
      "Transit Time\n",
      "2 - 3 Days\n",
      "2 - 3 Days\n",
      "2 - 3 Days\n",
      "3 - 4 Days\n",
      "1 - 2 Days\n",
      "2 Days\n",
      "2 Days\n",
      "3 Days\n",
      "5 - 7 Days\n",
      "2 Days\n",
      "2 Days\n",
      "2 - 3 Days\n",
      "2 -3 Days\n",
      "3 Days\n",
      "\n",
      "\n",
      "All ROW shipping prices are calculated at checkout based on order\n",
      "\n",
      "Can't find your country? To see all the countries that we ship to, please select your country from shipping selector (desktop top navigation or mobile side menu). Applicable shipping, handling & tax rates will then be displayed during checkout.\n"
     ]
    }
   ],
   "source": [
    "for i in v:\n",
    "    print(i.text)"
   ]
  },
  {
   "cell_type": "code",
   "execution_count": null,
   "metadata": {
    "collapsed": true
   },
   "outputs": [],
   "source": []
  },
  {
   "cell_type": "code",
   "execution_count": null,
   "metadata": {
    "collapsed": true
   },
   "outputs": [],
   "source": []
  },
  {
   "cell_type": "code",
   "execution_count": null,
   "metadata": {
    "collapsed": true
   },
   "outputs": [],
   "source": []
  },
  {
   "cell_type": "code",
   "execution_count": null,
   "metadata": {
    "collapsed": true
   },
   "outputs": [],
   "source": []
  },
  {
   "cell_type": "code",
   "execution_count": null,
   "metadata": {
    "collapsed": true
   },
   "outputs": [],
   "source": []
  }
 ],
 "metadata": {
  "kernelspec": {
   "display_name": "Python 3",
   "language": "python",
   "name": "python3"
  },
  "language_info": {
   "codemirror_mode": {
    "name": "ipython",
    "version": 3
   },
   "file_extension": ".py",
   "mimetype": "text/x-python",
   "name": "python",
   "nbconvert_exporter": "python",
   "pygments_lexer": "ipython3",
   "version": "3.6.1"
  }
 },
 "nbformat": 4,
 "nbformat_minor": 2
}
